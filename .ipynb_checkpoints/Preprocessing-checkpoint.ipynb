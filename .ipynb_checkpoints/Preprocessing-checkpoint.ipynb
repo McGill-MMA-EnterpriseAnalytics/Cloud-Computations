{
 "cells": [
  {
   "cell_type": "code",
   "execution_count": 5,
   "id": "aboriginal-prospect",
   "metadata": {},
   "outputs": [],
   "source": [
    "import pandas as pd\n",
    "import numpy as np\n",
    "import os"
   ]
  },
  {
   "cell_type": "code",
   "execution_count": 6,
   "id": "painful-collar",
   "metadata": {},
   "outputs": [
    {
     "data": {
      "text/html": [
       "<div>\n",
       "<style scoped>\n",
       "    .dataframe tbody tr th:only-of-type {\n",
       "        vertical-align: middle;\n",
       "    }\n",
       "\n",
       "    .dataframe tbody tr th {\n",
       "        vertical-align: top;\n",
       "    }\n",
       "\n",
       "    .dataframe thead th {\n",
       "        text-align: right;\n",
       "    }\n",
       "</style>\n",
       "<table border=\"1\" class=\"dataframe\">\n",
       "  <thead>\n",
       "    <tr style=\"text-align: right;\">\n",
       "      <th></th>\n",
       "      <th>datetime</th>\n",
       "      <th>Description</th>\n",
       "      <th>Humidity</th>\n",
       "      <th>Wind Direction</th>\n",
       "      <th>Temperature</th>\n",
       "      <th>Pressure</th>\n",
       "      <th>Wind Speed</th>\n",
       "    </tr>\n",
       "  </thead>\n",
       "  <tbody>\n",
       "    <tr>\n",
       "      <th>0</th>\n",
       "      <td>2012-10-01 12:00:00</td>\n",
       "      <td>NaN</td>\n",
       "      <td>NaN</td>\n",
       "      <td>NaN</td>\n",
       "      <td>NaN</td>\n",
       "      <td>NaN</td>\n",
       "      <td>NaN</td>\n",
       "    </tr>\n",
       "    <tr>\n",
       "      <th>1</th>\n",
       "      <td>2012-10-01 13:00:00</td>\n",
       "      <td>overcast clouds</td>\n",
       "      <td>93.0</td>\n",
       "      <td>230.0</td>\n",
       "      <td>285.830000</td>\n",
       "      <td>1001.0</td>\n",
       "      <td>4.0</td>\n",
       "    </tr>\n",
       "    <tr>\n",
       "      <th>2</th>\n",
       "      <td>2012-10-01 14:00:00</td>\n",
       "      <td>sky is clear</td>\n",
       "      <td>91.0</td>\n",
       "      <td>230.0</td>\n",
       "      <td>285.834650</td>\n",
       "      <td>986.0</td>\n",
       "      <td>4.0</td>\n",
       "    </tr>\n",
       "    <tr>\n",
       "      <th>3</th>\n",
       "      <td>2012-10-01 15:00:00</td>\n",
       "      <td>sky is clear</td>\n",
       "      <td>87.0</td>\n",
       "      <td>231.0</td>\n",
       "      <td>285.847790</td>\n",
       "      <td>945.0</td>\n",
       "      <td>4.0</td>\n",
       "    </tr>\n",
       "    <tr>\n",
       "      <th>4</th>\n",
       "      <td>2012-10-01 16:00:00</td>\n",
       "      <td>sky is clear</td>\n",
       "      <td>84.0</td>\n",
       "      <td>233.0</td>\n",
       "      <td>285.860929</td>\n",
       "      <td>904.0</td>\n",
       "      <td>4.0</td>\n",
       "    </tr>\n",
       "  </tbody>\n",
       "</table>\n",
       "</div>"
      ],
      "text/plain": [
       "              datetime      Description  Humidity  Wind Direction  \\\n",
       "0  2012-10-01 12:00:00              NaN       NaN             NaN   \n",
       "1  2012-10-01 13:00:00  overcast clouds      93.0           230.0   \n",
       "2  2012-10-01 14:00:00     sky is clear      91.0           230.0   \n",
       "3  2012-10-01 15:00:00     sky is clear      87.0           231.0   \n",
       "4  2012-10-01 16:00:00     sky is clear      84.0           233.0   \n",
       "\n",
       "   Temperature  Pressure  Wind Speed  \n",
       "0          NaN       NaN         NaN  \n",
       "1   285.830000    1001.0         4.0  \n",
       "2   285.834650     986.0         4.0  \n",
       "3   285.847790     945.0         4.0  \n",
       "4   285.860929     904.0         4.0  "
      ]
     },
     "execution_count": 6,
     "metadata": {},
     "output_type": "execute_result"
    }
   ],
   "source": [
    "filepath = os.getcwd()\n",
    "montreal_path = os.path.join(filepath, 'weather-data/montreal.csv')\n",
    "\n",
    "df = pd.read_csv(montreal_path)\n",
    "df.head()"
   ]
  },
  {
   "cell_type": "markdown",
   "id": "numerical-embassy",
   "metadata": {},
   "source": [
    "**Units:**<br>\n",
    "- Humidity: %\n",
    "- Pressure: hPa\n",
    "- Temperature: K\n",
    "- Wind Direction: Meteorological Degrees\n",
    "- Wind Speed: m/s"
   ]
  },
  {
   "cell_type": "code",
   "execution_count": 7,
   "id": "successful-tribune",
   "metadata": {},
   "outputs": [
    {
     "data": {
      "text/plain": [
       "<AxesSubplot:>"
      ]
     },
     "execution_count": 7,
     "metadata": {},
     "output_type": "execute_result"
    },
    {
     "data": {
      "image/png": "[encoded data removed]",
      "text/plain": [
       "<Figure size 432x288 with 1 Axes>"
      ]
     },
     "metadata": {
      "needs_background": "light"
     },
     "output_type": "display_data"
    }
   ],
   "source": [
    "df['Humidity'].hist()"
   ]
  },
  {
   "cell_type": "code",
   "execution_count": 8,
   "id": "based-reservation",
   "metadata": {},
   "outputs": [
    {
     "data": {
      "text/plain": [
       "<AxesSubplot:>"
      ]
     },
     "execution_count": 8,
     "metadata": {},
     "output_type": "execute_result"
    },
    {
     "data": {
      "image/png": "[encoded data removed]",
      "text/plain": [
       "<Figure size 432x288 with 1 Axes>"
      ]
     },
     "metadata": {
      "needs_background": "light"
     },
     "output_type": "display_data"
    }
   ],
   "source": [
    "df['Wind Direction'].hist()"
   ]
  },
  {
   "cell_type": "code",
   "execution_count": 9,
   "id": "indie-border",
   "metadata": {},
   "outputs": [
    {
     "data": {
      "text/plain": [
       "<AxesSubplot:>"
      ]
     },
     "execution_count": 9,
     "metadata": {},
     "output_type": "execute_result"
    },
    {
     "data": {
      "image/png": "[encoded data removed]",
      "text/plain": [
       "<Figure size 432x288 with 1 Axes>"
      ]
     },
     "metadata": {
      "needs_background": "light"
     },
     "output_type": "display_data"
    }
   ],
   "source": [
    "df['Temperature'].hist()"
   ]
  },
  {
   "cell_type": "code",
   "execution_count": 10,
   "id": "exciting-undergraduate",
   "metadata": {},
   "outputs": [
    {
     "data": {
      "text/plain": [
       "<AxesSubplot:>"
      ]
     },
     "execution_count": 10,
     "metadata": {},
     "output_type": "execute_result"
    },
    {
     "data": {
      "image/png": "[encoded data removed]",
      "text/plain": [
       "<Figure size 432x288 with 1 Axes>"
      ]
     },
     "metadata": {
      "needs_background": "light"
     },
     "output_type": "display_data"
    }
   ],
   "source": [
    "df['Pressure'].hist()"
   ]
  },
  {
   "cell_type": "code",
   "execution_count": 11,
   "id": "acting-light",
   "metadata": {},
   "outputs": [
    {
     "data": {
      "text/plain": [
       "<AxesSubplot:>"
      ]
     },
     "execution_count": 11,
     "metadata": {},
     "output_type": "execute_result"
    },
    {
     "data": {
      "image/png": "[encoded data removed]",
      "text/plain": [
       "<Figure size 432x288 with 1 Axes>"
      ]
     },
     "metadata": {
      "needs_background": "light"
     },
     "output_type": "display_data"
    }
   ],
   "source": [
    "df['Wind Speed'].hist()"
   ]
  },
  {
   "cell_type": "code",
   "execution_count": 12,
   "id": "supported-wrapping",
   "metadata": {},
   "outputs": [
    {
     "data": {
      "text/plain": [
       "datetime             0\n",
       "Description          1\n",
       "Humidity          1696\n",
       "Wind Direction       1\n",
       "Temperature          3\n",
       "Pressure           994\n",
       "Wind Speed           1\n",
       "dtype: int64"
      ]
     },
     "execution_count": 12,
     "metadata": {},
     "output_type": "execute_result"
    }
   ],
   "source": [
    "df.isna().sum()"
   ]
  },
  {
   "cell_type": "code",
   "execution_count": 24,
   "id": "regional-speech",
   "metadata": {},
   "outputs": [
    {
     "data": {
      "text/html": [
       "<div>\n",
       "<style scoped>\n",
       "    .dataframe tbody tr th:only-of-type {\n",
       "        vertical-align: middle;\n",
       "    }\n",
       "\n",
       "    .dataframe tbody tr th {\n",
       "        vertical-align: top;\n",
       "    }\n",
       "\n",
       "    .dataframe thead th {\n",
       "        text-align: right;\n",
       "    }\n",
       "</style>\n",
       "<table border=\"1\" class=\"dataframe\">\n",
       "  <thead>\n",
       "    <tr style=\"text-align: right;\">\n",
       "      <th></th>\n",
       "      <th>datetime</th>\n",
       "      <th>Description</th>\n",
       "      <th>Humidity</th>\n",
       "      <th>Wind Direction</th>\n",
       "      <th>Temperature</th>\n",
       "      <th>Pressure</th>\n",
       "      <th>Wind Speed</th>\n",
       "    </tr>\n",
       "  </thead>\n",
       "  <tbody>\n",
       "    <tr>\n",
       "      <th>0</th>\n",
       "      <td>2012-10-01 12:00:00</td>\n",
       "      <td>NULL</td>\n",
       "      <td>NULL</td>\n",
       "      <td>NULL</td>\n",
       "      <td>NULL</td>\n",
       "      <td>NULL</td>\n",
       "      <td>NULL</td>\n",
       "    </tr>\n",
       "    <tr>\n",
       "      <th>1</th>\n",
       "      <td>2012-10-01 13:00:00</td>\n",
       "      <td>overcast clouds</td>\n",
       "      <td>93</td>\n",
       "      <td>230</td>\n",
       "      <td>285.83</td>\n",
       "      <td>1001</td>\n",
       "      <td>4</td>\n",
       "    </tr>\n",
       "    <tr>\n",
       "      <th>2</th>\n",
       "      <td>2012-10-01 14:00:00</td>\n",
       "      <td>sky is clear</td>\n",
       "      <td>91</td>\n",
       "      <td>230</td>\n",
       "      <td>285.835</td>\n",
       "      <td>986</td>\n",
       "      <td>4</td>\n",
       "    </tr>\n",
       "    <tr>\n",
       "      <th>3</th>\n",
       "      <td>2012-10-01 15:00:00</td>\n",
       "      <td>sky is clear</td>\n",
       "      <td>87</td>\n",
       "      <td>231</td>\n",
       "      <td>285.848</td>\n",
       "      <td>945</td>\n",
       "      <td>4</td>\n",
       "    </tr>\n",
       "    <tr>\n",
       "      <th>4</th>\n",
       "      <td>2012-10-01 16:00:00</td>\n",
       "      <td>sky is clear</td>\n",
       "      <td>84</td>\n",
       "      <td>233</td>\n",
       "      <td>285.861</td>\n",
       "      <td>904</td>\n",
       "      <td>4</td>\n",
       "    </tr>\n",
       "    <tr>\n",
       "      <th>...</th>\n",
       "      <td>...</td>\n",
       "      <td>...</td>\n",
       "      <td>...</td>\n",
       "      <td>...</td>\n",
       "      <td>...</td>\n",
       "      <td>...</td>\n",
       "      <td>...</td>\n",
       "    </tr>\n",
       "    <tr>\n",
       "      <th>45248</th>\n",
       "      <td>2017-11-29 20:00:00</td>\n",
       "      <td>broken clouds</td>\n",
       "      <td>64</td>\n",
       "      <td>300</td>\n",
       "      <td>275.13</td>\n",
       "      <td>1021</td>\n",
       "      <td>10</td>\n",
       "    </tr>\n",
       "    <tr>\n",
       "      <th>45249</th>\n",
       "      <td>2017-11-29 21:00:00</td>\n",
       "      <td>scattered clouds</td>\n",
       "      <td>59</td>\n",
       "      <td>300</td>\n",
       "      <td>274.13</td>\n",
       "      <td>1023</td>\n",
       "      <td>7</td>\n",
       "    </tr>\n",
       "    <tr>\n",
       "      <th>45250</th>\n",
       "      <td>2017-11-29 22:00:00</td>\n",
       "      <td>few clouds</td>\n",
       "      <td>66</td>\n",
       "      <td>290</td>\n",
       "      <td>273.48</td>\n",
       "      <td>1024</td>\n",
       "      <td>7</td>\n",
       "    </tr>\n",
       "    <tr>\n",
       "      <th>45251</th>\n",
       "      <td>2017-11-29 23:00:00</td>\n",
       "      <td>few clouds</td>\n",
       "      <td>58</td>\n",
       "      <td>290</td>\n",
       "      <td>272.48</td>\n",
       "      <td>1026</td>\n",
       "      <td>4</td>\n",
       "    </tr>\n",
       "    <tr>\n",
       "      <th>45252</th>\n",
       "      <td>2017-11-30 00:00:00</td>\n",
       "      <td>few clouds</td>\n",
       "      <td>58</td>\n",
       "      <td>300</td>\n",
       "      <td>271.8</td>\n",
       "      <td>1027</td>\n",
       "      <td>4</td>\n",
       "    </tr>\n",
       "  </tbody>\n",
       "</table>\n",
       "<p>45253 rows × 7 columns</p>\n",
       "</div>"
      ],
      "text/plain": [
       "                  datetime       Description Humidity Wind Direction  \\\n",
       "0      2012-10-01 12:00:00              NULL     NULL           NULL   \n",
       "1      2012-10-01 13:00:00   overcast clouds       93            230   \n",
       "2      2012-10-01 14:00:00      sky is clear       91            230   \n",
       "3      2012-10-01 15:00:00      sky is clear       87            231   \n",
       "4      2012-10-01 16:00:00      sky is clear       84            233   \n",
       "...                    ...               ...      ...            ...   \n",
       "45248  2017-11-29 20:00:00     broken clouds       64            300   \n",
       "45249  2017-11-29 21:00:00  scattered clouds       59            300   \n",
       "45250  2017-11-29 22:00:00        few clouds       66            290   \n",
       "45251  2017-11-29 23:00:00        few clouds       58            290   \n",
       "45252  2017-11-30 00:00:00        few clouds       58            300   \n",
       "\n",
       "      Temperature Pressure Wind Speed  \n",
       "0            NULL     NULL       NULL  \n",
       "1          285.83     1001          4  \n",
       "2         285.835      986          4  \n",
       "3         285.848      945          4  \n",
       "4         285.861      904          4  \n",
       "...           ...      ...        ...  \n",
       "45248      275.13     1021         10  \n",
       "45249      274.13     1023          7  \n",
       "45250      273.48     1024          7  \n",
       "45251      272.48     1026          4  \n",
       "45252       271.8     1027          4  \n",
       "\n",
       "[45253 rows x 7 columns]"
      ]
     },
     "execution_count": 24,
     "metadata": {},
     "output_type": "execute_result"
    }
   ],
   "source": [
    "df = df.fillna('NULL')\n",
    "df"
   ]
  },
  {
   "cell_type": "code",
   "execution_count": 21,
   "id": "related-glucose",
   "metadata": {},
   "outputs": [
    {
     "data": {
      "text/html": [
       "<div>\n",
       "<style scoped>\n",
       "    .dataframe tbody tr th:only-of-type {\n",
       "        vertical-align: middle;\n",
       "    }\n",
       "\n",
       "    .dataframe tbody tr th {\n",
       "        vertical-align: top;\n",
       "    }\n",
       "\n",
       "    .dataframe thead th {\n",
       "        text-align: right;\n",
       "    }\n",
       "</style>\n",
       "<table border=\"1\" class=\"dataframe\">\n",
       "  <thead>\n",
       "    <tr style=\"text-align: right;\">\n",
       "      <th></th>\n",
       "      <th>Humidity</th>\n",
       "      <th>Wind Direction</th>\n",
       "      <th>Temperature</th>\n",
       "      <th>Pressure</th>\n",
       "      <th>Wind Speed</th>\n",
       "    </tr>\n",
       "  </thead>\n",
       "  <tbody>\n",
       "    <tr>\n",
       "      <th>count</th>\n",
       "      <td>43557.000000</td>\n",
       "      <td>45252.000000</td>\n",
       "      <td>45250.000000</td>\n",
       "      <td>44259.000000</td>\n",
       "      <td>45252.000000</td>\n",
       "    </tr>\n",
       "    <tr>\n",
       "      <th>mean</th>\n",
       "      <td>71.861538</td>\n",
       "      <td>190.133541</td>\n",
       "      <td>280.343010</td>\n",
       "      <td>1016.424953</td>\n",
       "      <td>3.831897</td>\n",
       "    </tr>\n",
       "    <tr>\n",
       "      <th>std</th>\n",
       "      <td>16.825027</td>\n",
       "      <td>99.033739</td>\n",
       "      <td>11.953626</td>\n",
       "      <td>9.534390</td>\n",
       "      <td>2.483430</td>\n",
       "    </tr>\n",
       "    <tr>\n",
       "      <th>min</th>\n",
       "      <td>7.000000</td>\n",
       "      <td>0.000000</td>\n",
       "      <td>243.300000</td>\n",
       "      <td>822.000000</td>\n",
       "      <td>0.000000</td>\n",
       "    </tr>\n",
       "    <tr>\n",
       "      <th>25%</th>\n",
       "      <td>60.000000</td>\n",
       "      <td>111.000000</td>\n",
       "      <td>271.971750</td>\n",
       "      <td>1011.000000</td>\n",
       "      <td>2.000000</td>\n",
       "    </tr>\n",
       "    <tr>\n",
       "      <th>50%</th>\n",
       "      <td>74.000000</td>\n",
       "      <td>220.000000</td>\n",
       "      <td>281.109000</td>\n",
       "      <td>1016.000000</td>\n",
       "      <td>3.000000</td>\n",
       "    </tr>\n",
       "    <tr>\n",
       "      <th>75%</th>\n",
       "      <td>86.000000</td>\n",
       "      <td>260.000000</td>\n",
       "      <td>290.369583</td>\n",
       "      <td>1022.000000</td>\n",
       "      <td>5.000000</td>\n",
       "    </tr>\n",
       "    <tr>\n",
       "      <th>max</th>\n",
       "      <td>100.000000</td>\n",
       "      <td>360.000000</td>\n",
       "      <td>307.880000</td>\n",
       "      <td>1054.000000</td>\n",
       "      <td>24.000000</td>\n",
       "    </tr>\n",
       "  </tbody>\n",
       "</table>\n",
       "</div>"
      ],
      "text/plain": [
       "           Humidity  Wind Direction   Temperature      Pressure    Wind Speed\n",
       "count  43557.000000    45252.000000  45250.000000  44259.000000  45252.000000\n",
       "mean      71.861538      190.133541    280.343010   1016.424953      3.831897\n",
       "std       16.825027       99.033739     11.953626      9.534390      2.483430\n",
       "min        7.000000        0.000000    243.300000    822.000000      0.000000\n",
       "25%       60.000000      111.000000    271.971750   1011.000000      2.000000\n",
       "50%       74.000000      220.000000    281.109000   1016.000000      3.000000\n",
       "75%       86.000000      260.000000    290.369583   1022.000000      5.000000\n",
       "max      100.000000      360.000000    307.880000   1054.000000     24.000000"
      ]
     },
     "execution_count": 21,
     "metadata": {},
     "output_type": "execute_result"
    }
   ],
   "source": [
    "df.describe()"
   ]
  },
  {
   "cell_type": "markdown",
   "id": "entitled-fault",
   "metadata": {},
   "source": [
    "It looks like 874 of the 994 nulls in the pressure column coincide with humidity nulls"
   ]
  },
  {
   "cell_type": "code",
   "execution_count": 26,
   "id": "young-interim",
   "metadata": {},
   "outputs": [
    {
     "data": {
      "text/html": [
       "<div>\n",
       "<style scoped>\n",
       "    .dataframe tbody tr th:only-of-type {\n",
       "        vertical-align: middle;\n",
       "    }\n",
       "\n",
       "    .dataframe tbody tr th {\n",
       "        vertical-align: top;\n",
       "    }\n",
       "\n",
       "    .dataframe thead th {\n",
       "        text-align: right;\n",
       "    }\n",
       "</style>\n",
       "<table border=\"1\" class=\"dataframe\">\n",
       "  <thead>\n",
       "    <tr style=\"text-align: right;\">\n",
       "      <th></th>\n",
       "      <th>datetime</th>\n",
       "      <th>Description</th>\n",
       "      <th>Humidity</th>\n",
       "      <th>Wind Direction</th>\n",
       "      <th>Temperature</th>\n",
       "      <th>Pressure</th>\n",
       "      <th>Wind Speed</th>\n",
       "    </tr>\n",
       "  </thead>\n",
       "  <tbody>\n",
       "    <tr>\n",
       "      <th>count</th>\n",
       "      <td>1696</td>\n",
       "      <td>1696</td>\n",
       "      <td>1696</td>\n",
       "      <td>1696.0</td>\n",
       "      <td>1696.00</td>\n",
       "      <td>1696</td>\n",
       "      <td>1696.0</td>\n",
       "    </tr>\n",
       "    <tr>\n",
       "      <th>unique</th>\n",
       "      <td>1696</td>\n",
       "      <td>22</td>\n",
       "      <td>1</td>\n",
       "      <td>311.0</td>\n",
       "      <td>1119.00</td>\n",
       "      <td>53</td>\n",
       "      <td>22.0</td>\n",
       "    </tr>\n",
       "    <tr>\n",
       "      <th>top</th>\n",
       "      <td>2012-12-14 17:00:00</td>\n",
       "      <td>sky is clear</td>\n",
       "      <td>NULL</td>\n",
       "      <td>30.0</td>\n",
       "      <td>273.89</td>\n",
       "      <td>NULL</td>\n",
       "      <td>0.0</td>\n",
       "    </tr>\n",
       "    <tr>\n",
       "      <th>freq</th>\n",
       "      <td>1</td>\n",
       "      <td>654</td>\n",
       "      <td>1696</td>\n",
       "      <td>62.0</td>\n",
       "      <td>10.00</td>\n",
       "      <td>874</td>\n",
       "      <td>528.0</td>\n",
       "    </tr>\n",
       "  </tbody>\n",
       "</table>\n",
       "</div>"
      ],
      "text/plain": [
       "                   datetime   Description Humidity  Wind Direction  \\\n",
       "count                  1696          1696     1696          1696.0   \n",
       "unique                 1696            22        1           311.0   \n",
       "top     2012-12-14 17:00:00  sky is clear     NULL            30.0   \n",
       "freq                      1           654     1696            62.0   \n",
       "\n",
       "        Temperature Pressure  Wind Speed  \n",
       "count       1696.00     1696      1696.0  \n",
       "unique      1119.00       53        22.0  \n",
       "top          273.89     NULL         0.0  \n",
       "freq          10.00      874       528.0  "
      ]
     },
     "execution_count": 26,
     "metadata": {},
     "output_type": "execute_result"
    }
   ],
   "source": [
    "df[df['Humidity'] == 'NULL'].describe()"
   ]
  },
  {
   "cell_type": "markdown",
   "id": "flexible-quantum",
   "metadata": {},
   "source": [
    "Iterative imputer may be worth looking at here - other methods could disrupt the data stream"
   ]
  },
  {
   "cell_type": "code",
   "execution_count": 29,
   "id": "dying-reply",
   "metadata": {},
   "outputs": [],
   "source": [
    "df = pd.read_csv(montreal_path)"
   ]
  },
  {
   "cell_type": "code",
   "execution_count": 32,
   "id": "agreed-string",
   "metadata": {},
   "outputs": [],
   "source": [
    "from sklearn.experimental import enable_iterative_imputer\n",
    "from sklearn.impute import IterativeImputer\n",
    "imp = IterativeImputer(random_state = 6)\n",
    "df[['Humidity']] = imp.fit_transform(df[['Humidity']])"
   ]
  },
  {
   "cell_type": "code",
   "execution_count": 34,
   "id": "diagnostic-voluntary",
   "metadata": {},
   "outputs": [],
   "source": [
    "imp = IterativeImputer(random_state = 6)\n",
    "df[['Pressure']] = imp.fit_transform(df[['Pressure']])"
   ]
  },
  {
   "cell_type": "code",
   "execution_count": 35,
   "id": "magnetic-secret",
   "metadata": {},
   "outputs": [
    {
     "data": {
      "text/plain": [
       "datetime          0\n",
       "Description       1\n",
       "Humidity          0\n",
       "Wind Direction    1\n",
       "Temperature       3\n",
       "Pressure          0\n",
       "Wind Speed        1\n",
       "dtype: int64"
      ]
     },
     "execution_count": 35,
     "metadata": {},
     "output_type": "execute_result"
    }
   ],
   "source": [
    "df.isna().sum()"
   ]
  },
  {
   "cell_type": "code",
   "execution_count": 39,
   "id": "surrounded-collapse",
   "metadata": {},
   "outputs": [
    {
     "data": {
      "text/html": [
       "<div>\n",
       "<style scoped>\n",
       "    .dataframe tbody tr th:only-of-type {\n",
       "        vertical-align: middle;\n",
       "    }\n",
       "\n",
       "    .dataframe tbody tr th {\n",
       "        vertical-align: top;\n",
       "    }\n",
       "\n",
       "    .dataframe thead th {\n",
       "        text-align: right;\n",
       "    }\n",
       "</style>\n",
       "<table border=\"1\" class=\"dataframe\">\n",
       "  <thead>\n",
       "    <tr style=\"text-align: right;\">\n",
       "      <th></th>\n",
       "      <th>datetime</th>\n",
       "      <th>Description</th>\n",
       "      <th>Humidity</th>\n",
       "      <th>Wind Direction</th>\n",
       "      <th>Temperature</th>\n",
       "      <th>Pressure</th>\n",
       "      <th>Wind Speed</th>\n",
       "    </tr>\n",
       "  </thead>\n",
       "  <tbody>\n",
       "    <tr>\n",
       "      <th>6967</th>\n",
       "      <td>2013-07-18 19:00:00</td>\n",
       "      <td>broken clouds</td>\n",
       "      <td>50.000000</td>\n",
       "      <td>238.0</td>\n",
       "      <td>307.880</td>\n",
       "      <td>1013.000000</td>\n",
       "      <td>4.0</td>\n",
       "    </tr>\n",
       "    <tr>\n",
       "      <th>6966</th>\n",
       "      <td>2013-07-18 18:00:00</td>\n",
       "      <td>scattered clouds</td>\n",
       "      <td>54.000000</td>\n",
       "      <td>235.0</td>\n",
       "      <td>307.215</td>\n",
       "      <td>1014.000000</td>\n",
       "      <td>3.0</td>\n",
       "    </tr>\n",
       "    <tr>\n",
       "      <th>6965</th>\n",
       "      <td>2013-07-18 17:00:00</td>\n",
       "      <td>sky is clear</td>\n",
       "      <td>59.000000</td>\n",
       "      <td>233.0</td>\n",
       "      <td>306.550</td>\n",
       "      <td>1016.000000</td>\n",
       "      <td>3.0</td>\n",
       "    </tr>\n",
       "    <tr>\n",
       "      <th>7016</th>\n",
       "      <td>2013-07-20 20:00:00</td>\n",
       "      <td>light intensity shower rain</td>\n",
       "      <td>45.000000</td>\n",
       "      <td>300.0</td>\n",
       "      <td>306.090</td>\n",
       "      <td>1003.000000</td>\n",
       "      <td>19.0</td>\n",
       "    </tr>\n",
       "    <tr>\n",
       "      <th>6921</th>\n",
       "      <td>2013-07-16 21:00:00</td>\n",
       "      <td>sky is clear</td>\n",
       "      <td>53.000000</td>\n",
       "      <td>246.0</td>\n",
       "      <td>305.560</td>\n",
       "      <td>1018.000000</td>\n",
       "      <td>2.0</td>\n",
       "    </tr>\n",
       "    <tr>\n",
       "      <th>...</th>\n",
       "      <td>...</td>\n",
       "      <td>...</td>\n",
       "      <td>...</td>\n",
       "      <td>...</td>\n",
       "      <td>...</td>\n",
       "      <td>...</td>\n",
       "      <td>...</td>\n",
       "    </tr>\n",
       "    <tr>\n",
       "      <th>3117</th>\n",
       "      <td>2013-02-08 09:00:00</td>\n",
       "      <td>sky is clear</td>\n",
       "      <td>87.000000</td>\n",
       "      <td>28.0</td>\n",
       "      <td>243.300</td>\n",
       "      <td>1047.000000</td>\n",
       "      <td>1.0</td>\n",
       "    </tr>\n",
       "    <tr>\n",
       "      <th>3118</th>\n",
       "      <td>2013-02-08 10:00:00</td>\n",
       "      <td>sky is clear</td>\n",
       "      <td>87.000000</td>\n",
       "      <td>28.0</td>\n",
       "      <td>243.300</td>\n",
       "      <td>1047.000000</td>\n",
       "      <td>1.0</td>\n",
       "    </tr>\n",
       "    <tr>\n",
       "      <th>0</th>\n",
       "      <td>2012-10-01 12:00:00</td>\n",
       "      <td>NaN</td>\n",
       "      <td>71.861538</td>\n",
       "      <td>NaN</td>\n",
       "      <td>NaN</td>\n",
       "      <td>1016.424953</td>\n",
       "      <td>NaN</td>\n",
       "    </tr>\n",
       "    <tr>\n",
       "      <th>3859</th>\n",
       "      <td>2013-03-11 07:00:00</td>\n",
       "      <td>sky is clear</td>\n",
       "      <td>28.000000</td>\n",
       "      <td>51.0</td>\n",
       "      <td>NaN</td>\n",
       "      <td>1031.000000</td>\n",
       "      <td>0.0</td>\n",
       "    </tr>\n",
       "    <tr>\n",
       "      <th>3860</th>\n",
       "      <td>2013-03-11 08:00:00</td>\n",
       "      <td>sky is clear</td>\n",
       "      <td>56.000000</td>\n",
       "      <td>103.0</td>\n",
       "      <td>NaN</td>\n",
       "      <td>1031.000000</td>\n",
       "      <td>0.0</td>\n",
       "    </tr>\n",
       "  </tbody>\n",
       "</table>\n",
       "<p>45253 rows × 7 columns</p>\n",
       "</div>"
      ],
      "text/plain": [
       "                 datetime                  Description   Humidity  \\\n",
       "6967  2013-07-18 19:00:00                broken clouds  50.000000   \n",
       "6966  2013-07-18 18:00:00             scattered clouds  54.000000   \n",
       "6965  2013-07-18 17:00:00                 sky is clear  59.000000   \n",
       "7016  2013-07-20 20:00:00  light intensity shower rain  45.000000   \n",
       "6921  2013-07-16 21:00:00                 sky is clear  53.000000   \n",
       "...                   ...                          ...        ...   \n",
       "3117  2013-02-08 09:00:00                 sky is clear  87.000000   \n",
       "3118  2013-02-08 10:00:00                 sky is clear  87.000000   \n",
       "0     2012-10-01 12:00:00                          NaN  71.861538   \n",
       "3859  2013-03-11 07:00:00                 sky is clear  28.000000   \n",
       "3860  2013-03-11 08:00:00                 sky is clear  56.000000   \n",
       "\n",
       "      Wind Direction  Temperature     Pressure  Wind Speed  \n",
       "6967           238.0      307.880  1013.000000         4.0  \n",
       "6966           235.0      307.215  1014.000000         3.0  \n",
       "6965           233.0      306.550  1016.000000         3.0  \n",
       "7016           300.0      306.090  1003.000000        19.0  \n",
       "6921           246.0      305.560  1018.000000         2.0  \n",
       "...              ...          ...          ...         ...  \n",
       "3117            28.0      243.300  1047.000000         1.0  \n",
       "3118            28.0      243.300  1047.000000         1.0  \n",
       "0                NaN          NaN  1016.424953         NaN  \n",
       "3859            51.0          NaN  1031.000000         0.0  \n",
       "3860           103.0          NaN  1031.000000         0.0  \n",
       "\n",
       "[45253 rows x 7 columns]"
      ]
     },
     "execution_count": 39,
     "metadata": {},
     "output_type": "execute_result"
    }
   ],
   "source": [
    "df.sort_values(by = 'Temperature', ascending = False)"
   ]
  },
  {
   "cell_type": "code",
   "execution_count": 40,
   "id": "removed-anchor",
   "metadata": {},
   "outputs": [
    {
     "data": {
      "text/html": [
       "<div>\n",
       "<style scoped>\n",
       "    .dataframe tbody tr th:only-of-type {\n",
       "        vertical-align: middle;\n",
       "    }\n",
       "\n",
       "    .dataframe tbody tr th {\n",
       "        vertical-align: top;\n",
       "    }\n",
       "\n",
       "    .dataframe thead th {\n",
       "        text-align: right;\n",
       "    }\n",
       "</style>\n",
       "<table border=\"1\" class=\"dataframe\">\n",
       "  <thead>\n",
       "    <tr style=\"text-align: right;\">\n",
       "      <th></th>\n",
       "      <th>datetime</th>\n",
       "      <th>Description</th>\n",
       "      <th>Humidity</th>\n",
       "      <th>Wind Direction</th>\n",
       "      <th>Temperature</th>\n",
       "      <th>Pressure</th>\n",
       "      <th>Wind Speed</th>\n",
       "    </tr>\n",
       "  </thead>\n",
       "  <tbody>\n",
       "    <tr>\n",
       "      <th>3857</th>\n",
       "      <td>2013-03-11 05:00:00</td>\n",
       "      <td>overcast clouds</td>\n",
       "      <td>71.861538</td>\n",
       "      <td>256.0</td>\n",
       "      <td>271.43</td>\n",
       "      <td>1027.0</td>\n",
       "      <td>0.0</td>\n",
       "    </tr>\n",
       "    <tr>\n",
       "      <th>3858</th>\n",
       "      <td>2013-03-11 06:00:00</td>\n",
       "      <td>overcast clouds</td>\n",
       "      <td>71.861538</td>\n",
       "      <td>233.0</td>\n",
       "      <td>270.89</td>\n",
       "      <td>1026.0</td>\n",
       "      <td>0.0</td>\n",
       "    </tr>\n",
       "    <tr>\n",
       "      <th>3859</th>\n",
       "      <td>2013-03-11 07:00:00</td>\n",
       "      <td>sky is clear</td>\n",
       "      <td>28.000000</td>\n",
       "      <td>51.0</td>\n",
       "      <td>NaN</td>\n",
       "      <td>1031.0</td>\n",
       "      <td>0.0</td>\n",
       "    </tr>\n",
       "    <tr>\n",
       "      <th>3860</th>\n",
       "      <td>2013-03-11 08:00:00</td>\n",
       "      <td>sky is clear</td>\n",
       "      <td>56.000000</td>\n",
       "      <td>103.0</td>\n",
       "      <td>NaN</td>\n",
       "      <td>1031.0</td>\n",
       "      <td>0.0</td>\n",
       "    </tr>\n",
       "    <tr>\n",
       "      <th>3861</th>\n",
       "      <td>2013-03-11 09:00:00</td>\n",
       "      <td>overcast clouds</td>\n",
       "      <td>71.000000</td>\n",
       "      <td>52.0</td>\n",
       "      <td>271.59</td>\n",
       "      <td>1027.0</td>\n",
       "      <td>0.0</td>\n",
       "    </tr>\n",
       "  </tbody>\n",
       "</table>\n",
       "</div>"
      ],
      "text/plain": [
       "                 datetime      Description   Humidity  Wind Direction  \\\n",
       "3857  2013-03-11 05:00:00  overcast clouds  71.861538           256.0   \n",
       "3858  2013-03-11 06:00:00  overcast clouds  71.861538           233.0   \n",
       "3859  2013-03-11 07:00:00     sky is clear  28.000000            51.0   \n",
       "3860  2013-03-11 08:00:00     sky is clear  56.000000           103.0   \n",
       "3861  2013-03-11 09:00:00  overcast clouds  71.000000            52.0   \n",
       "\n",
       "      Temperature  Pressure  Wind Speed  \n",
       "3857       271.43    1027.0         0.0  \n",
       "3858       270.89    1026.0         0.0  \n",
       "3859          NaN    1031.0         0.0  \n",
       "3860          NaN    1031.0         0.0  \n",
       "3861       271.59    1027.0         0.0  "
      ]
     },
     "execution_count": 40,
     "metadata": {},
     "output_type": "execute_result"
    }
   ],
   "source": [
    "df.iloc[3857:3862,]"
   ]
  },
  {
   "cell_type": "code",
   "execution_count": 41,
   "id": "strange-baseball",
   "metadata": {},
   "outputs": [],
   "source": [
    "imp = IterativeImputer(random_state = 6)\n",
    "df[['Temperature']] = imp.fit_transform(df[['Temperature']])"
   ]
  },
  {
   "cell_type": "code",
   "execution_count": 42,
   "id": "obvious-standing",
   "metadata": {},
   "outputs": [
    {
     "data": {
      "text/html": [
       "<div>\n",
       "<style scoped>\n",
       "    .dataframe tbody tr th:only-of-type {\n",
       "        vertical-align: middle;\n",
       "    }\n",
       "\n",
       "    .dataframe tbody tr th {\n",
       "        vertical-align: top;\n",
       "    }\n",
       "\n",
       "    .dataframe thead th {\n",
       "        text-align: right;\n",
       "    }\n",
       "</style>\n",
       "<table border=\"1\" class=\"dataframe\">\n",
       "  <thead>\n",
       "    <tr style=\"text-align: right;\">\n",
       "      <th></th>\n",
       "      <th>datetime</th>\n",
       "      <th>Description</th>\n",
       "      <th>Humidity</th>\n",
       "      <th>Wind Direction</th>\n",
       "      <th>Temperature</th>\n",
       "      <th>Pressure</th>\n",
       "      <th>Wind Speed</th>\n",
       "    </tr>\n",
       "  </thead>\n",
       "  <tbody>\n",
       "    <tr>\n",
       "      <th>3857</th>\n",
       "      <td>2013-03-11 05:00:00</td>\n",
       "      <td>overcast clouds</td>\n",
       "      <td>71.861538</td>\n",
       "      <td>256.0</td>\n",
       "      <td>271.43000</td>\n",
       "      <td>1027.0</td>\n",
       "      <td>0.0</td>\n",
       "    </tr>\n",
       "    <tr>\n",
       "      <th>3858</th>\n",
       "      <td>2013-03-11 06:00:00</td>\n",
       "      <td>overcast clouds</td>\n",
       "      <td>71.861538</td>\n",
       "      <td>233.0</td>\n",
       "      <td>270.89000</td>\n",
       "      <td>1026.0</td>\n",
       "      <td>0.0</td>\n",
       "    </tr>\n",
       "    <tr>\n",
       "      <th>3859</th>\n",
       "      <td>2013-03-11 07:00:00</td>\n",
       "      <td>sky is clear</td>\n",
       "      <td>28.000000</td>\n",
       "      <td>51.0</td>\n",
       "      <td>280.34301</td>\n",
       "      <td>1031.0</td>\n",
       "      <td>0.0</td>\n",
       "    </tr>\n",
       "    <tr>\n",
       "      <th>3860</th>\n",
       "      <td>2013-03-11 08:00:00</td>\n",
       "      <td>sky is clear</td>\n",
       "      <td>56.000000</td>\n",
       "      <td>103.0</td>\n",
       "      <td>280.34301</td>\n",
       "      <td>1031.0</td>\n",
       "      <td>0.0</td>\n",
       "    </tr>\n",
       "    <tr>\n",
       "      <th>3861</th>\n",
       "      <td>2013-03-11 09:00:00</td>\n",
       "      <td>overcast clouds</td>\n",
       "      <td>71.000000</td>\n",
       "      <td>52.0</td>\n",
       "      <td>271.59000</td>\n",
       "      <td>1027.0</td>\n",
       "      <td>0.0</td>\n",
       "    </tr>\n",
       "  </tbody>\n",
       "</table>\n",
       "</div>"
      ],
      "text/plain": [
       "                 datetime      Description   Humidity  Wind Direction  \\\n",
       "3857  2013-03-11 05:00:00  overcast clouds  71.861538           256.0   \n",
       "3858  2013-03-11 06:00:00  overcast clouds  71.861538           233.0   \n",
       "3859  2013-03-11 07:00:00     sky is clear  28.000000            51.0   \n",
       "3860  2013-03-11 08:00:00     sky is clear  56.000000           103.0   \n",
       "3861  2013-03-11 09:00:00  overcast clouds  71.000000            52.0   \n",
       "\n",
       "      Temperature  Pressure  Wind Speed  \n",
       "3857    271.43000    1027.0         0.0  \n",
       "3858    270.89000    1026.0         0.0  \n",
       "3859    280.34301    1031.0         0.0  \n",
       "3860    280.34301    1031.0         0.0  \n",
       "3861    271.59000    1027.0         0.0  "
      ]
     },
     "execution_count": 42,
     "metadata": {},
     "output_type": "execute_result"
    }
   ],
   "source": [
    "df.iloc[3857:3862,] #not fantastic, but the IterativeImputer keeps things consistent"
   ]
  },
  {
   "cell_type": "code",
   "execution_count": 46,
   "id": "simplified-hollywood",
   "metadata": {},
   "outputs": [
    {
     "data": {
      "text/plain": [
       "datetime          0\n",
       "Description       0\n",
       "Humidity          0\n",
       "Wind Direction    0\n",
       "Temperature       0\n",
       "Pressure          0\n",
       "Wind Speed        0\n",
       "dtype: int64"
      ]
     },
     "execution_count": 46,
     "metadata": {},
     "output_type": "execute_result"
    }
   ],
   "source": [
    "df = df.drop(0).reset_index(drop=True) #dropping the first row with nulls\n",
    "df.isna().sum()"
   ]
  },
  {
   "cell_type": "code",
   "execution_count": 47,
   "id": "complimentary-connectivity",
   "metadata": {},
   "outputs": [],
   "source": [
    "df.to_csv(montreal_path, index = False)"
   ]
  },
  {
   "cell_type": "code",
   "execution_count": null,
   "id": "statutory-voice",
   "metadata": {},
   "outputs": [],
   "source": []
  }
 ],
 "metadata": {
  "kernelspec": {
   "display_name": "Python 3",
   "language": "python",
   "name": "python3"
  },
  "language_info": {
   "codemirror_mode": {
    "name": "ipython",
    "version": 3
   },
   "file_extension": ".py",
   "mimetype": "text/x-python",
   "name": "python",
   "nbconvert_exporter": "python",
   "pygments_lexer": "ipython3",
   "version": "3.7.7"
  }
 },
 "nbformat": 4,
 "nbformat_minor": 5
}
