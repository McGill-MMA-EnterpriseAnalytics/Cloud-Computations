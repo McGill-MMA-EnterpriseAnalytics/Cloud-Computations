{
 "cells": [
  {
   "cell_type": "markdown",
   "metadata": {},
   "source": [
    "# INSY 695 - Base Models + Exogenous Variables"
   ]
  },
  {
   "cell_type": "code",
   "execution_count": 41,
   "metadata": {
    "execution": {
     "iopub.execute_input": "2021-04-09T02:54:27.494597Z",
     "iopub.status.busy": "2021-04-09T02:54:27.494177Z",
     "iopub.status.idle": "2021-04-09T02:54:27.930996Z",
     "shell.execute_reply": "2021-04-09T02:54:27.930037Z",
     "shell.execute_reply.started": "2021-04-09T02:54:27.494552Z"
    }
   },
   "outputs": [],
   "source": [
    "import pandas as pd\n",
    "import numpy as np\n",
    "import os\n",
    "import platform as pf\n",
    "from IPython.display import display # Display data\n",
    "pd.options.mode.chained_assignment = None  # default='warn'\n",
    "\n",
    "#comment\n",
    "#packages for time series\n",
    "import warnings\n",
    "import itertools    \n",
    "import statsmodels.api as sm\n",
    "\n",
    "#Richard was here\n",
    "from datetime import timedelta\n",
    "from dateutil.relativedelta import relativedelta\n",
    "import matplotlib.pyplot as plt\n",
    "import math\n",
    "from scipy import stats\n",
    "\n",
    "plt.style.use('fivethirtyeight')"
   ]
  },
  {
   "cell_type": "markdown",
   "metadata": {},
   "source": [
    "## 1. Load Data "
   ]
  },
  {
   "cell_type": "code",
   "execution_count": 3,
   "metadata": {
    "execution": {
     "iopub.execute_input": "2021-04-08T20:10:57.311366Z",
     "iopub.status.busy": "2021-04-08T20:10:57.311072Z",
     "iopub.status.idle": "2021-04-08T20:11:19.836156Z",
     "shell.execute_reply": "2021-04-08T20:11:19.835314Z",
     "shell.execute_reply.started": "2021-04-08T20:10:57.311330Z"
    }
   },
   "outputs": [
    {
     "data": {
      "text/html": [
       "<div>\n",
       "<style scoped>\n",
       "    .dataframe tbody tr th:only-of-type {\n",
       "        vertical-align: middle;\n",
       "    }\n",
       "\n",
       "    .dataframe tbody tr th {\n",
       "        vertical-align: top;\n",
       "    }\n",
       "\n",
       "    .dataframe thead th {\n",
       "        text-align: right;\n",
       "    }\n",
       "</style>\n",
       "<table border=\"1\" class=\"dataframe\">\n",
       "  <thead>\n",
       "    <tr style=\"text-align: right;\">\n",
       "      <th></th>\n",
       "      <th>datetime</th>\n",
       "      <th>Description</th>\n",
       "      <th>Humidity</th>\n",
       "      <th>Wind Direction</th>\n",
       "      <th>Temperature</th>\n",
       "      <th>Pressure</th>\n",
       "      <th>Wind Speed</th>\n",
       "      <th>clouds</th>\n",
       "      <th>rain</th>\n",
       "      <th>mist</th>\n",
       "      <th>snow</th>\n",
       "      <th>shower</th>\n",
       "      <th>thunderstorm</th>\n",
       "      <th>fog</th>\n",
       "      <th>other</th>\n",
       "      <th>Intensity</th>\n",
       "    </tr>\n",
       "  </thead>\n",
       "  <tbody>\n",
       "    <tr>\n",
       "      <th>1</th>\n",
       "      <td>2012-10-01 13:00:00</td>\n",
       "      <td>heavy clouds</td>\n",
       "      <td>93.0</td>\n",
       "      <td>1001.0</td>\n",
       "      <td>285.83000</td>\n",
       "      <td>230.0</td>\n",
       "      <td>4.0</td>\n",
       "      <td>1</td>\n",
       "      <td>0</td>\n",
       "      <td>0</td>\n",
       "      <td>0</td>\n",
       "      <td>0</td>\n",
       "      <td>0</td>\n",
       "      <td>0</td>\n",
       "      <td>0</td>\n",
       "      <td>3.0</td>\n",
       "    </tr>\n",
       "    <tr>\n",
       "      <th>2</th>\n",
       "      <td>2012-10-01 14:00:00</td>\n",
       "      <td>sky is clear</td>\n",
       "      <td>91.0</td>\n",
       "      <td>986.0</td>\n",
       "      <td>285.83465</td>\n",
       "      <td>230.0</td>\n",
       "      <td>4.0</td>\n",
       "      <td>0</td>\n",
       "      <td>0</td>\n",
       "      <td>0</td>\n",
       "      <td>0</td>\n",
       "      <td>0</td>\n",
       "      <td>0</td>\n",
       "      <td>0</td>\n",
       "      <td>0</td>\n",
       "      <td>0.0</td>\n",
       "    </tr>\n",
       "    <tr>\n",
       "      <th>3</th>\n",
       "      <td>2012-10-01 15:00:00</td>\n",
       "      <td>sky is clear</td>\n",
       "      <td>87.0</td>\n",
       "      <td>945.0</td>\n",
       "      <td>285.84779</td>\n",
       "      <td>231.0</td>\n",
       "      <td>4.0</td>\n",
       "      <td>0</td>\n",
       "      <td>0</td>\n",
       "      <td>0</td>\n",
       "      <td>0</td>\n",
       "      <td>0</td>\n",
       "      <td>0</td>\n",
       "      <td>0</td>\n",
       "      <td>0</td>\n",
       "      <td>0.0</td>\n",
       "    </tr>\n",
       "  </tbody>\n",
       "</table>\n",
       "</div>"
      ],
      "text/plain": [
       "              datetime   Description  Humidity  Wind Direction  Temperature  \\\n",
       "1  2012-10-01 13:00:00  heavy clouds      93.0          1001.0    285.83000   \n",
       "2  2012-10-01 14:00:00  sky is clear      91.0           986.0    285.83465   \n",
       "3  2012-10-01 15:00:00  sky is clear      87.0           945.0    285.84779   \n",
       "\n",
       "   Pressure  Wind Speed  clouds  rain  mist  snow  shower  thunderstorm  fog  \\\n",
       "1     230.0         4.0       1     0     0     0       0             0    0   \n",
       "2     230.0         4.0       0     0     0     0       0             0    0   \n",
       "3     231.0         4.0       0     0     0     0       0             0    0   \n",
       "\n",
       "   other  Intensity  \n",
       "1      0        3.0  \n",
       "2      0        0.0  \n",
       "3      0        0.0  "
      ]
     },
     "execution_count": 3,
     "metadata": {},
     "output_type": "execute_result"
    }
   ],
   "source": [
    "import helper\n",
    "from helper import *\n",
    "\n",
    "df = load_and_preprocess()\n",
    "df.head(3)"
   ]
  },
  {
   "cell_type": "code",
   "execution_count": 13,
   "metadata": {
    "execution": {
     "iopub.execute_input": "2021-04-09T02:53:16.117946Z",
     "iopub.status.busy": "2021-04-09T02:53:16.113877Z",
     "iopub.status.idle": "2021-04-09T02:53:16.312103Z",
     "shell.execute_reply": "2021-04-09T02:53:16.310618Z",
     "shell.execute_reply.started": "2021-04-09T02:53:16.117852Z"
    }
   },
   "outputs": [],
   "source": [
    "#need to specify datetime[ns] or else the rest will not run \n",
    "df['datetime'] = df['datetime'].astype('datetime64[ns]')\n",
    "weather_df = df.set_index('datetime')\n",
    "#transform from Kelvin to Celcius\n",
    "weather_df['Temperature'] = weather_df['Temperature'] - 273.15 "
   ]
  },
  {
   "cell_type": "code",
   "execution_count": 14,
   "metadata": {
    "execution": {
     "iopub.execute_input": "2021-04-09T02:53:17.088601Z",
     "iopub.status.busy": "2021-04-09T02:53:17.087638Z",
     "iopub.status.idle": "2021-04-09T02:53:17.446850Z",
     "shell.execute_reply": "2021-04-09T02:53:17.445525Z",
     "shell.execute_reply.started": "2021-04-09T02:53:17.088552Z"
    }
   },
   "outputs": [
    {
     "data": {
      "text/plain": [
       "<AxesSubplot:xlabel='datetime'>"
      ]
     },
     "execution_count": 14,
     "metadata": {},
     "output_type": "execute_result"
    },
    {
     "data": {
      "image/png": "[encoded data removed]",
      "text/plain": [
       "<Figure size 432x288 with 1 Axes>"
      ]
     },
     "metadata": {
      "needs_background": "light"
     },
     "output_type": "display_data"
    }
   ],
   "source": [
    "weather_df['Temperature'][100:200].plot()"
   ]
  },
  {
   "cell_type": "code",
   "execution_count": 15,
   "metadata": {
    "execution": {
     "iopub.execute_input": "2021-04-09T02:53:18.399475Z",
     "iopub.status.busy": "2021-04-09T02:53:18.399116Z",
     "iopub.status.idle": "2021-04-09T02:53:18.714695Z",
     "shell.execute_reply": "2021-04-09T02:53:18.713908Z",
     "shell.execute_reply.started": "2021-04-09T02:53:18.399432Z"
    }
   },
   "outputs": [
    {
     "data": {
      "text/plain": [
       "<AxesSubplot:xlabel='datetime'>"
      ]
     },
     "execution_count": 15,
     "metadata": {},
     "output_type": "execute_result"
    },
    {
     "data": {
      "image/png": "[encoded data removed]",
      "text/plain": [
       "<Figure size 432x288 with 1 Axes>"
      ]
     },
     "metadata": {
      "needs_background": "light"
     },
     "output_type": "display_data"
    }
   ],
   "source": [
    "weather_df['Humidity'][100:200].plot()"
   ]
  },
  {
   "cell_type": "code",
   "execution_count": 16,
   "metadata": {
    "execution": {
     "iopub.execute_input": "2021-04-09T02:53:19.186058Z",
     "iopub.status.busy": "2021-04-09T02:53:19.185799Z",
     "iopub.status.idle": "2021-04-09T02:53:19.334227Z",
     "shell.execute_reply": "2021-04-09T02:53:19.333288Z",
     "shell.execute_reply.started": "2021-04-09T02:53:19.186030Z"
    }
   },
   "outputs": [
    {
     "data": {
      "text/plain": [
       "<AxesSubplot:xlabel='datetime'>"
      ]
     },
     "execution_count": 16,
     "metadata": {},
     "output_type": "execute_result"
    },
    {
     "data": {
      "image/png": "[encoded data removed]",
      "text/plain": [
       "<Figure size 432x288 with 1 Axes>"
      ]
     },
     "metadata": {
      "needs_background": "light"
     },
     "output_type": "display_data"
    }
   ],
   "source": [
    "weather_df['Wind Direction'][100:200].plot()"
   ]
  },
  {
   "cell_type": "code",
   "execution_count": 17,
   "metadata": {
    "execution": {
     "iopub.execute_input": "2021-04-09T02:53:19.777655Z",
     "iopub.status.busy": "2021-04-09T02:53:19.777346Z",
     "iopub.status.idle": "2021-04-09T02:53:19.908874Z",
     "shell.execute_reply": "2021-04-09T02:53:19.907925Z",
     "shell.execute_reply.started": "2021-04-09T02:53:19.777618Z"
    }
   },
   "outputs": [
    {
     "data": {
      "text/plain": [
       "<AxesSubplot:xlabel='datetime'>"
      ]
     },
     "execution_count": 17,
     "metadata": {},
     "output_type": "execute_result"
    },
    {
     "data": {
      "image/png": "[encoded data removed]",
      "text/plain": [
       "<Figure size 432x288 with 1 Axes>"
      ]
     },
     "metadata": {
      "needs_background": "light"
     },
     "output_type": "display_data"
    }
   ],
   "source": [
    "weather_df['Pressure'][100:200].plot()"
   ]
  },
  {
   "cell_type": "code",
   "execution_count": 18,
   "metadata": {
    "execution": {
     "iopub.execute_input": "2021-04-09T02:53:20.397983Z",
     "iopub.status.busy": "2021-04-09T02:53:20.397721Z",
     "iopub.status.idle": "2021-04-09T02:53:20.461312Z",
     "shell.execute_reply": "2021-04-09T02:53:20.460716Z",
     "shell.execute_reply.started": "2021-04-09T02:53:20.397950Z"
    }
   },
   "outputs": [],
   "source": [
    "#CREATE LAGGED ATTRIBUTES \n",
    "ml_df = weather_df.copy()\n",
    "ml_df['date'] = ml_df.index\n",
    "ml_df['month'] = ml_df['date'].dt.day\n",
    "ml_df['month'] = ml_df['date'].dt.month\n",
    "ml_df['year'] = ml_df['date'].dt.year\n",
    "\n",
    "ml_df['Temp_lag1'] = ml_df['Temperature'].shift(periods = 1, fill_value = 0)\n",
    "ml_df['Temp_lag2'] = ml_df['Temperature'].shift(periods = 2, fill_value = 0)\n",
    "ml_df['Temp_lag12'] = ml_df['Temperature'].shift(periods = 12, fill_value = 0)\n",
    "ml_df['Temp_lag24'] = ml_df['Temperature'].shift(periods = 24, fill_value = 0)\n",
    "\n",
    "ml_df['Humidity_lag1'] = ml_df['Humidity'].shift(periods = 1, fill_value = 0)\n",
    "ml_df['Humidity_lag2'] = ml_df['Humidity'].shift(periods = 2, fill_value = 0)\n",
    "ml_df['Humidity_lag12'] = ml_df['Humidity'].shift(periods = 12, fill_value = 0)\n",
    "ml_df['Humidity_lag24'] = ml_df['Humidity'].shift(periods = 24, fill_value = 0)\n",
    "\n",
    "ml_df['Wind_Direction_lag1'] = ml_df['Wind Direction'].shift(periods = 1, fill_value = 0)\n",
    "ml_df['Pressure_lag1'] = ml_df['Pressure'].shift(periods = 1, fill_value = 0)\n",
    "ml_df['Wind_Speed_lag1'] = ml_df['Wind Speed'].shift(periods = 1, fill_value = 0)\n",
    "ml_df['clouds_lag1'] = ml_df['clouds'].shift(periods = 1, fill_value = 0)\n",
    "ml_df['rain_lag1'] = ml_df['rain'].shift(periods = 1, fill_value = 0)\n",
    "ml_df['mist_lag1'] = ml_df['mist'].shift(periods = 1, fill_value = 0)\n",
    "ml_df['snow_lag1'] = ml_df['snow'].shift(periods = 1, fill_value = 0)\n",
    "ml_df['shower_lag1'] = ml_df['shower'].shift(periods = 1, fill_value = 0)\n",
    "ml_df['thunderstorm_lag1'] = ml_df['thunderstorm'].shift(periods = 1, fill_value = 0)\n",
    "ml_df['fog_lag1'] = ml_df['fog'].shift(periods = 1, fill_value = 0)\n",
    "ml_df['other_lag1'] = ml_df['other'].shift(periods = 1, fill_value = 0)\n",
    "ml_df['intensity_lag1'] = ml_df['Intensity'].shift(periods = 1, fill_value = 0)"
   ]
  },
  {
   "cell_type": "code",
   "execution_count": 19,
   "metadata": {
    "execution": {
     "iopub.execute_input": "2021-04-09T02:53:21.249546Z",
     "iopub.status.busy": "2021-04-09T02:53:21.249271Z",
     "iopub.status.idle": "2021-04-09T02:53:49.575150Z",
     "shell.execute_reply": "2021-04-09T02:53:49.573824Z",
     "shell.execute_reply.started": "2021-04-09T02:53:21.249513Z"
    }
   },
   "outputs": [
    {
     "name": "stderr",
     "output_type": "stream",
     "text": [
      "/opt/anaconda3/lib/python3.7/site-packages/ipykernel_launcher.py:3: SettingWithCopyWarning: \n",
      "A value is trying to be set on a copy of a slice from a DataFrame\n",
      "\n",
      "See the caveats in the documentation: https://pandas.pydata.org/pandas-docs/stable/user_guide/indexing.html#returning-a-view-versus-a-copy\n",
      "  This is separate from the ipykernel package so we can avoid doing imports until\n"
     ]
    }
   ],
   "source": [
    "ml_df['avg_temp'] = 0 \n",
    "for i in range(1, len(ml_df)):\n",
    "    ml_df['avg_temp'][i] = ml_df['Temp_lag1'][:i+1].mean()\n",
    "    \n",
    "#we have to eliminate all those with 0s\n",
    "ml_df = ml_df[ml_df['Temp_lag24'] != 0]"
   ]
  },
  {
   "cell_type": "code",
   "execution_count": 20,
   "metadata": {
    "execution": {
     "iopub.execute_input": "2021-04-09T02:53:49.578244Z",
     "iopub.status.busy": "2021-04-09T02:53:49.577857Z",
     "iopub.status.idle": "2021-04-09T02:53:49.603357Z",
     "shell.execute_reply": "2021-04-09T02:53:49.602506Z",
     "shell.execute_reply.started": "2021-04-09T02:53:49.578193Z"
    }
   },
   "outputs": [],
   "source": [
    "ml_df.drop(['Description','Humidity','Pressure','Wind Direction','Wind Speed','clouds','rain','mist','snow','shower','thunderstorm','fog','other','Intensity','date'], axis = 1, inplace = True)"
   ]
  },
  {
   "cell_type": "code",
   "execution_count": 21,
   "metadata": {
    "execution": {
     "iopub.execute_input": "2021-04-09T02:53:49.606034Z",
     "iopub.status.busy": "2021-04-09T02:53:49.605828Z",
     "iopub.status.idle": "2021-04-09T02:53:49.685160Z",
     "shell.execute_reply": "2021-04-09T02:53:49.684449Z",
     "shell.execute_reply.started": "2021-04-09T02:53:49.606011Z"
    }
   },
   "outputs": [
    {
     "data": {
      "text/html": [
       "<div>\n",
       "<style scoped>\n",
       "    .dataframe tbody tr th:only-of-type {\n",
       "        vertical-align: middle;\n",
       "    }\n",
       "\n",
       "    .dataframe tbody tr th {\n",
       "        vertical-align: top;\n",
       "    }\n",
       "\n",
       "    .dataframe thead th {\n",
       "        text-align: right;\n",
       "    }\n",
       "</style>\n",
       "<table border=\"1\" class=\"dataframe\">\n",
       "  <thead>\n",
       "    <tr style=\"text-align: right;\">\n",
       "      <th></th>\n",
       "      <th>Temperature</th>\n",
       "      <th>month</th>\n",
       "      <th>year</th>\n",
       "      <th>Temp_lag1</th>\n",
       "      <th>Temp_lag2</th>\n",
       "      <th>Temp_lag12</th>\n",
       "      <th>Temp_lag24</th>\n",
       "      <th>Humidity_lag1</th>\n",
       "      <th>Humidity_lag2</th>\n",
       "      <th>Humidity_lag12</th>\n",
       "      <th>...</th>\n",
       "      <th>clouds_lag1</th>\n",
       "      <th>rain_lag1</th>\n",
       "      <th>mist_lag1</th>\n",
       "      <th>snow_lag1</th>\n",
       "      <th>shower_lag1</th>\n",
       "      <th>thunderstorm_lag1</th>\n",
       "      <th>fog_lag1</th>\n",
       "      <th>other_lag1</th>\n",
       "      <th>intensity_lag1</th>\n",
       "      <th>avg_temp</th>\n",
       "    </tr>\n",
       "    <tr>\n",
       "      <th>datetime</th>\n",
       "      <th></th>\n",
       "      <th></th>\n",
       "      <th></th>\n",
       "      <th></th>\n",
       "      <th></th>\n",
       "      <th></th>\n",
       "      <th></th>\n",
       "      <th></th>\n",
       "      <th></th>\n",
       "      <th></th>\n",
       "      <th></th>\n",
       "      <th></th>\n",
       "      <th></th>\n",
       "      <th></th>\n",
       "      <th></th>\n",
       "      <th></th>\n",
       "      <th></th>\n",
       "      <th></th>\n",
       "      <th></th>\n",
       "      <th></th>\n",
       "      <th></th>\n",
       "    </tr>\n",
       "  </thead>\n",
       "  <tbody>\n",
       "    <tr>\n",
       "      <th>2012-10-02 13:00:00</th>\n",
       "      <td>12.98686</td>\n",
       "      <td>10</td>\n",
       "      <td>2012</td>\n",
       "      <td>12.973721</td>\n",
       "      <td>12.960581</td>\n",
       "      <td>12.829185</td>\n",
       "      <td>12.680000</td>\n",
       "      <td>7.000000</td>\n",
       "      <td>11.000000</td>\n",
       "      <td>49.0</td>\n",
       "      <td>...</td>\n",
       "      <td>0</td>\n",
       "      <td>0</td>\n",
       "      <td>0</td>\n",
       "      <td>0</td>\n",
       "      <td>0</td>\n",
       "      <td>0</td>\n",
       "      <td>0</td>\n",
       "      <td>0</td>\n",
       "      <td>0.0</td>\n",
       "      <td>12</td>\n",
       "    </tr>\n",
       "    <tr>\n",
       "      <th>2012-10-02 14:00:00</th>\n",
       "      <td>13.00000</td>\n",
       "      <td>10</td>\n",
       "      <td>2012</td>\n",
       "      <td>12.986860</td>\n",
       "      <td>12.973721</td>\n",
       "      <td>12.842325</td>\n",
       "      <td>12.684650</td>\n",
       "      <td>71.861538</td>\n",
       "      <td>7.000000</td>\n",
       "      <td>45.0</td>\n",
       "      <td>...</td>\n",
       "      <td>0</td>\n",
       "      <td>0</td>\n",
       "      <td>0</td>\n",
       "      <td>0</td>\n",
       "      <td>0</td>\n",
       "      <td>0</td>\n",
       "      <td>0</td>\n",
       "      <td>0</td>\n",
       "      <td>0.0</td>\n",
       "      <td>12</td>\n",
       "    </tr>\n",
       "    <tr>\n",
       "      <th>2012-10-02 15:00:00</th>\n",
       "      <td>14.40000</td>\n",
       "      <td>10</td>\n",
       "      <td>2012</td>\n",
       "      <td>13.000000</td>\n",
       "      <td>12.986860</td>\n",
       "      <td>12.855465</td>\n",
       "      <td>12.697790</td>\n",
       "      <td>71.861538</td>\n",
       "      <td>71.861538</td>\n",
       "      <td>42.0</td>\n",
       "      <td>...</td>\n",
       "      <td>0</td>\n",
       "      <td>0</td>\n",
       "      <td>0</td>\n",
       "      <td>0</td>\n",
       "      <td>0</td>\n",
       "      <td>0</td>\n",
       "      <td>0</td>\n",
       "      <td>0</td>\n",
       "      <td>0.0</td>\n",
       "      <td>12</td>\n",
       "    </tr>\n",
       "    <tr>\n",
       "      <th>2012-10-02 16:00:00</th>\n",
       "      <td>14.99000</td>\n",
       "      <td>10</td>\n",
       "      <td>2012</td>\n",
       "      <td>14.400000</td>\n",
       "      <td>13.000000</td>\n",
       "      <td>12.868604</td>\n",
       "      <td>12.710929</td>\n",
       "      <td>82.000000</td>\n",
       "      <td>71.861538</td>\n",
       "      <td>38.0</td>\n",
       "      <td>...</td>\n",
       "      <td>1</td>\n",
       "      <td>0</td>\n",
       "      <td>0</td>\n",
       "      <td>0</td>\n",
       "      <td>0</td>\n",
       "      <td>0</td>\n",
       "      <td>0</td>\n",
       "      <td>0</td>\n",
       "      <td>3.0</td>\n",
       "      <td>12</td>\n",
       "    </tr>\n",
       "    <tr>\n",
       "      <th>2012-10-02 17:00:00</th>\n",
       "      <td>15.54000</td>\n",
       "      <td>10</td>\n",
       "      <td>2012</td>\n",
       "      <td>14.990000</td>\n",
       "      <td>14.400000</td>\n",
       "      <td>12.881744</td>\n",
       "      <td>12.724069</td>\n",
       "      <td>71.861538</td>\n",
       "      <td>82.000000</td>\n",
       "      <td>34.0</td>\n",
       "      <td>...</td>\n",
       "      <td>0</td>\n",
       "      <td>0</td>\n",
       "      <td>0</td>\n",
       "      <td>0</td>\n",
       "      <td>0</td>\n",
       "      <td>0</td>\n",
       "      <td>0</td>\n",
       "      <td>0</td>\n",
       "      <td>0.0</td>\n",
       "      <td>12</td>\n",
       "    </tr>\n",
       "    <tr>\n",
       "      <th>...</th>\n",
       "      <td>...</td>\n",
       "      <td>...</td>\n",
       "      <td>...</td>\n",
       "      <td>...</td>\n",
       "      <td>...</td>\n",
       "      <td>...</td>\n",
       "      <td>...</td>\n",
       "      <td>...</td>\n",
       "      <td>...</td>\n",
       "      <td>...</td>\n",
       "      <td>...</td>\n",
       "      <td>...</td>\n",
       "      <td>...</td>\n",
       "      <td>...</td>\n",
       "      <td>...</td>\n",
       "      <td>...</td>\n",
       "      <td>...</td>\n",
       "      <td>...</td>\n",
       "      <td>...</td>\n",
       "      <td>...</td>\n",
       "      <td>...</td>\n",
       "    </tr>\n",
       "    <tr>\n",
       "      <th>2017-11-29 20:00:00</th>\n",
       "      <td>1.98000</td>\n",
       "      <td>11</td>\n",
       "      <td>2017</td>\n",
       "      <td>3.300000</td>\n",
       "      <td>3.000000</td>\n",
       "      <td>2.230000</td>\n",
       "      <td>0.600000</td>\n",
       "      <td>73.000000</td>\n",
       "      <td>73.000000</td>\n",
       "      <td>80.0</td>\n",
       "      <td>...</td>\n",
       "      <td>1</td>\n",
       "      <td>0</td>\n",
       "      <td>0</td>\n",
       "      <td>0</td>\n",
       "      <td>0</td>\n",
       "      <td>0</td>\n",
       "      <td>0</td>\n",
       "      <td>0</td>\n",
       "      <td>2.0</td>\n",
       "      <td>7</td>\n",
       "    </tr>\n",
       "    <tr>\n",
       "      <th>2017-11-29 21:00:00</th>\n",
       "      <td>0.98000</td>\n",
       "      <td>11</td>\n",
       "      <td>2017</td>\n",
       "      <td>1.980000</td>\n",
       "      <td>3.300000</td>\n",
       "      <td>4.300000</td>\n",
       "      <td>0.900000</td>\n",
       "      <td>64.000000</td>\n",
       "      <td>73.000000</td>\n",
       "      <td>93.0</td>\n",
       "      <td>...</td>\n",
       "      <td>1</td>\n",
       "      <td>0</td>\n",
       "      <td>0</td>\n",
       "      <td>0</td>\n",
       "      <td>0</td>\n",
       "      <td>0</td>\n",
       "      <td>0</td>\n",
       "      <td>0</td>\n",
       "      <td>2.0</td>\n",
       "      <td>7</td>\n",
       "    </tr>\n",
       "    <tr>\n",
       "      <th>2017-11-29 22:00:00</th>\n",
       "      <td>0.33000</td>\n",
       "      <td>11</td>\n",
       "      <td>2017</td>\n",
       "      <td>0.980000</td>\n",
       "      <td>1.980000</td>\n",
       "      <td>5.620000</td>\n",
       "      <td>0.900000</td>\n",
       "      <td>59.000000</td>\n",
       "      <td>64.000000</td>\n",
       "      <td>87.0</td>\n",
       "      <td>...</td>\n",
       "      <td>1</td>\n",
       "      <td>0</td>\n",
       "      <td>0</td>\n",
       "      <td>0</td>\n",
       "      <td>0</td>\n",
       "      <td>0</td>\n",
       "      <td>0</td>\n",
       "      <td>0</td>\n",
       "      <td>2.0</td>\n",
       "      <td>7</td>\n",
       "    </tr>\n",
       "    <tr>\n",
       "      <th>2017-11-29 23:00:00</th>\n",
       "      <td>-0.67000</td>\n",
       "      <td>11</td>\n",
       "      <td>2017</td>\n",
       "      <td>0.330000</td>\n",
       "      <td>0.980000</td>\n",
       "      <td>5.330000</td>\n",
       "      <td>5.907000</td>\n",
       "      <td>66.000000</td>\n",
       "      <td>59.000000</td>\n",
       "      <td>87.0</td>\n",
       "      <td>...</td>\n",
       "      <td>1</td>\n",
       "      <td>0</td>\n",
       "      <td>0</td>\n",
       "      <td>0</td>\n",
       "      <td>0</td>\n",
       "      <td>0</td>\n",
       "      <td>0</td>\n",
       "      <td>0</td>\n",
       "      <td>1.0</td>\n",
       "      <td>7</td>\n",
       "    </tr>\n",
       "    <tr>\n",
       "      <th>2017-11-30 00:00:00</th>\n",
       "      <td>-1.35000</td>\n",
       "      <td>11</td>\n",
       "      <td>2017</td>\n",
       "      <td>-0.670000</td>\n",
       "      <td>0.330000</td>\n",
       "      <td>4.300000</td>\n",
       "      <td>1.580000</td>\n",
       "      <td>58.000000</td>\n",
       "      <td>66.000000</td>\n",
       "      <td>86.0</td>\n",
       "      <td>...</td>\n",
       "      <td>1</td>\n",
       "      <td>0</td>\n",
       "      <td>0</td>\n",
       "      <td>0</td>\n",
       "      <td>0</td>\n",
       "      <td>0</td>\n",
       "      <td>0</td>\n",
       "      <td>0</td>\n",
       "      <td>1.0</td>\n",
       "      <td>7</td>\n",
       "    </tr>\n",
       "  </tbody>\n",
       "</table>\n",
       "<p>45162 rows × 24 columns</p>\n",
       "</div>"
      ],
      "text/plain": [
       "                     Temperature  month  year  Temp_lag1  Temp_lag2  \\\n",
       "datetime                                                              \n",
       "2012-10-02 13:00:00     12.98686     10  2012  12.973721  12.960581   \n",
       "2012-10-02 14:00:00     13.00000     10  2012  12.986860  12.973721   \n",
       "2012-10-02 15:00:00     14.40000     10  2012  13.000000  12.986860   \n",
       "2012-10-02 16:00:00     14.99000     10  2012  14.400000  13.000000   \n",
       "2012-10-02 17:00:00     15.54000     10  2012  14.990000  14.400000   \n",
       "...                          ...    ...   ...        ...        ...   \n",
       "2017-11-29 20:00:00      1.98000     11  2017   3.300000   3.000000   \n",
       "2017-11-29 21:00:00      0.98000     11  2017   1.980000   3.300000   \n",
       "2017-11-29 22:00:00      0.33000     11  2017   0.980000   1.980000   \n",
       "2017-11-29 23:00:00     -0.67000     11  2017   0.330000   0.980000   \n",
       "2017-11-30 00:00:00     -1.35000     11  2017  -0.670000   0.330000   \n",
       "\n",
       "                     Temp_lag12  Temp_lag24  Humidity_lag1  Humidity_lag2  \\\n",
       "datetime                                                                    \n",
       "2012-10-02 13:00:00   12.829185   12.680000       7.000000      11.000000   \n",
       "2012-10-02 14:00:00   12.842325   12.684650      71.861538       7.000000   \n",
       "2012-10-02 15:00:00   12.855465   12.697790      71.861538      71.861538   \n",
       "2012-10-02 16:00:00   12.868604   12.710929      82.000000      71.861538   \n",
       "2012-10-02 17:00:00   12.881744   12.724069      71.861538      82.000000   \n",
       "...                         ...         ...            ...            ...   \n",
       "2017-11-29 20:00:00    2.230000    0.600000      73.000000      73.000000   \n",
       "2017-11-29 21:00:00    4.300000    0.900000      64.000000      73.000000   \n",
       "2017-11-29 22:00:00    5.620000    0.900000      59.000000      64.000000   \n",
       "2017-11-29 23:00:00    5.330000    5.907000      66.000000      59.000000   \n",
       "2017-11-30 00:00:00    4.300000    1.580000      58.000000      66.000000   \n",
       "\n",
       "                     Humidity_lag12  ...  clouds_lag1  rain_lag1  mist_lag1  \\\n",
       "datetime                             ...                                      \n",
       "2012-10-02 13:00:00            49.0  ...            0          0          0   \n",
       "2012-10-02 14:00:00            45.0  ...            0          0          0   \n",
       "2012-10-02 15:00:00            42.0  ...            0          0          0   \n",
       "2012-10-02 16:00:00            38.0  ...            1          0          0   \n",
       "2012-10-02 17:00:00            34.0  ...            0          0          0   \n",
       "...                             ...  ...          ...        ...        ...   \n",
       "2017-11-29 20:00:00            80.0  ...            1          0          0   \n",
       "2017-11-29 21:00:00            93.0  ...            1          0          0   \n",
       "2017-11-29 22:00:00            87.0  ...            1          0          0   \n",
       "2017-11-29 23:00:00            87.0  ...            1          0          0   \n",
       "2017-11-30 00:00:00            86.0  ...            1          0          0   \n",
       "\n",
       "                     snow_lag1  shower_lag1  thunderstorm_lag1  fog_lag1  \\\n",
       "datetime                                                                   \n",
       "2012-10-02 13:00:00          0            0                  0         0   \n",
       "2012-10-02 14:00:00          0            0                  0         0   \n",
       "2012-10-02 15:00:00          0            0                  0         0   \n",
       "2012-10-02 16:00:00          0            0                  0         0   \n",
       "2012-10-02 17:00:00          0            0                  0         0   \n",
       "...                        ...          ...                ...       ...   \n",
       "2017-11-29 20:00:00          0            0                  0         0   \n",
       "2017-11-29 21:00:00          0            0                  0         0   \n",
       "2017-11-29 22:00:00          0            0                  0         0   \n",
       "2017-11-29 23:00:00          0            0                  0         0   \n",
       "2017-11-30 00:00:00          0            0                  0         0   \n",
       "\n",
       "                     other_lag1  intensity_lag1  avg_temp  \n",
       "datetime                                                   \n",
       "2012-10-02 13:00:00           0             0.0        12  \n",
       "2012-10-02 14:00:00           0             0.0        12  \n",
       "2012-10-02 15:00:00           0             0.0        12  \n",
       "2012-10-02 16:00:00           0             3.0        12  \n",
       "2012-10-02 17:00:00           0             0.0        12  \n",
       "...                         ...             ...       ...  \n",
       "2017-11-29 20:00:00           0             2.0         7  \n",
       "2017-11-29 21:00:00           0             2.0         7  \n",
       "2017-11-29 22:00:00           0             2.0         7  \n",
       "2017-11-29 23:00:00           0             1.0         7  \n",
       "2017-11-30 00:00:00           0             1.0         7  \n",
       "\n",
       "[45162 rows x 24 columns]"
      ]
     },
     "execution_count": 21,
     "metadata": {},
     "output_type": "execute_result"
    }
   ],
   "source": [
    "ml_df"
   ]
  },
  {
   "cell_type": "markdown",
   "metadata": {},
   "source": [
    "## Model 1. XGB With Exogenous Variables"
   ]
  },
  {
   "cell_type": "code",
   "execution_count": 35,
   "metadata": {
    "execution": {
     "iopub.execute_input": "2021-04-09T02:54:17.930436Z",
     "iopub.status.busy": "2021-04-09T02:54:17.930206Z",
     "iopub.status.idle": "2021-04-09T02:54:17.940520Z",
     "shell.execute_reply": "2021-04-09T02:54:17.939528Z",
     "shell.execute_reply.started": "2021-04-09T02:54:17.930409Z"
    }
   },
   "outputs": [],
   "source": [
    "y = ml_df[['Temperature']]\n",
    "X = ml_df.drop('Temperature', axis =1)"
   ]
  },
  {
   "cell_type": "code",
   "execution_count": 36,
   "metadata": {
    "execution": {
     "iopub.execute_input": "2021-04-09T02:54:18.452796Z",
     "iopub.status.busy": "2021-04-09T02:54:18.452446Z",
     "iopub.status.idle": "2021-04-09T02:54:18.458486Z",
     "shell.execute_reply": "2021-04-09T02:54:18.457660Z",
     "shell.execute_reply.started": "2021-04-09T02:54:18.452753Z"
    }
   },
   "outputs": [],
   "source": [
    "def train_test_split(data, n_test):\n",
    "    return data[:n_test], data[n_test:]\n",
    "\n",
    "split_len = int(len(ml_df)*0.80)\n",
    "\n",
    "X_train, X_test = train_test_split(X, split_len)\n",
    "y_train, y_test = train_test_split(y, split_len)"
   ]
  },
  {
   "cell_type": "code",
   "execution_count": 37,
   "metadata": {
    "execution": {
     "iopub.execute_input": "2021-04-09T02:54:18.860446Z",
     "iopub.status.busy": "2021-04-09T02:54:18.860186Z",
     "iopub.status.idle": "2021-04-09T02:54:18.888840Z",
     "shell.execute_reply": "2021-04-09T02:54:18.888293Z",
     "shell.execute_reply.started": "2021-04-09T02:54:18.860416Z"
    }
   },
   "outputs": [],
   "source": [
    "from sklearn.preprocessing import StandardScaler\n",
    "\n",
    "scaler = StandardScaler()\n",
    "X_train_scaled = scaler.fit_transform(X_train)\n",
    "X_train = pd.DataFrame(X_train_scaled)\n",
    "X_train.columns = X.columns\n",
    "\n",
    "X_test_scaled = scaler.transform(X_test)\n",
    "X_test = pd.DataFrame(X_test_scaled)\n",
    "X_test.columns = X.columns"
   ]
  },
  {
   "cell_type": "code",
   "execution_count": 38,
   "metadata": {
    "execution": {
     "iopub.execute_input": "2021-04-09T02:54:19.361075Z",
     "iopub.status.busy": "2021-04-09T02:54:19.360815Z",
     "iopub.status.idle": "2021-04-09T02:54:20.756965Z",
     "shell.execute_reply": "2021-04-09T02:54:20.756292Z",
     "shell.execute_reply.started": "2021-04-09T02:54:19.361045Z"
    }
   },
   "outputs": [],
   "source": [
    "import xgboost as xgb\n",
    "\n",
    "xgb_model = xgb.XGBRegressor(n_estimators=100)\n",
    "xgb_model.fit(X_train, y_train,\n",
    "        eval_set=[(X_train, y_train), (X_test, y_test)],\n",
    "        eval_metric = 'rmse',\n",
    "        early_stopping_rounds=50,\n",
    "       verbose=False) \n",
    "\n",
    "pred = xgb_model.predict(X_test)"
   ]
  },
  {
   "cell_type": "code",
   "execution_count": 39,
   "metadata": {
    "execution": {
     "iopub.execute_input": "2021-04-09T02:54:20.758861Z",
     "iopub.status.busy": "2021-04-09T02:54:20.758604Z",
     "iopub.status.idle": "2021-04-09T02:54:20.767941Z",
     "shell.execute_reply": "2021-04-09T02:54:20.767199Z",
     "shell.execute_reply.started": "2021-04-09T02:54:20.758825Z"
    }
   },
   "outputs": [
    {
     "data": {
      "text/plain": [
       "0.6040974358753155"
      ]
     },
     "execution_count": 39,
     "metadata": {},
     "output_type": "execute_result"
    }
   ],
   "source": [
    "ts_results = pd.DataFrame({'Predicted': pred, 'Observed': y_test['Temperature']})\n",
    "ts_results['RMSE'] = np.sqrt((ts_results['Predicted']-ts_results['Observed'])**2)\n",
    "ts_results['RMSE'].mean()"
   ]
  },
  {
   "cell_type": "code",
   "execution_count": 42,
   "metadata": {
    "execution": {
     "iopub.execute_input": "2021-04-09T02:54:35.334613Z",
     "iopub.status.busy": "2021-04-09T02:54:35.334381Z",
     "iopub.status.idle": "2021-04-09T02:54:35.795705Z",
     "shell.execute_reply": "2021-04-09T02:54:35.795046Z",
     "shell.execute_reply.started": "2021-04-09T02:54:35.334587Z"
    }
   },
   "outputs": [
    {
     "data": {
      "image/png": "[encoded data removed]",
      "text/plain": [
       "<Figure size 720x360 with 1 Axes>"
      ]
     },
     "metadata": {},
     "output_type": "display_data"
    }
   ],
   "source": [
    "#plot real against predicted values\n",
    "ax = weather_df['Temperature'].plot(label='observed')\n",
    "ts_results['Predicted'].plot(ax=ax, label='One-step ahead Forecast', alpha=.7, figsize=(10, 5))\n",
    "\n",
    "ax.set_xlabel('Date')\n",
    "ax.set_ylabel('Temperature')\n",
    "plt.legend()\n",
    "plt.show()"
   ]
  },
  {
   "cell_type": "code",
   "execution_count": 43,
   "metadata": {
    "execution": {
     "iopub.execute_input": "2021-04-09T02:54:36.929583Z",
     "iopub.status.busy": "2021-04-09T02:54:36.929268Z",
     "iopub.status.idle": "2021-04-09T02:54:37.348210Z",
     "shell.execute_reply": "2021-04-09T02:54:37.347411Z",
     "shell.execute_reply.started": "2021-04-09T02:54:36.929545Z"
    }
   },
   "outputs": [
    {
     "data": {
      "text/plain": [
       "<AxesSubplot:title={'center':'Feature importance'}, xlabel='F score', ylabel='Features'>"
      ]
     },
     "execution_count": 43,
     "metadata": {},
     "output_type": "execute_result"
    },
    {
     "data": {
      "image/png": "[encoded data removed]",
      "text/plain": [
       "<Figure size 720x360 with 1 Axes>"
      ]
     },
     "metadata": {},
     "output_type": "display_data"
    }
   ],
   "source": [
    "plt.figure(figsize=(10,5))\n",
    "xgb.plot_importance(xgb_model, ax=plt.gca())"
   ]
  },
  {
   "cell_type": "markdown",
   "metadata": {},
   "source": [
    "## Drop some features and run again\n",
    "\n",
    "Seems like RMSE is reduced a bit by dropping features that were not identified to be important in the first round of iterations."
   ]
  },
  {
   "cell_type": "code",
   "execution_count": 44,
   "metadata": {
    "execution": {
     "iopub.execute_input": "2021-04-09T02:54:41.630119Z",
     "iopub.status.busy": "2021-04-09T02:54:41.629776Z",
     "iopub.status.idle": "2021-04-09T02:54:41.644024Z",
     "shell.execute_reply": "2021-04-09T02:54:41.643329Z",
     "shell.execute_reply.started": "2021-04-09T02:54:41.630077Z"
    }
   },
   "outputs": [],
   "source": [
    "ml_df2 = ml_df.copy()\n",
    "ml_df2.drop(['other_lag1','fog_lag1','shower_lag1','snow_lag1','thunderstorm_lag1','mist_lag1','rain_lag1','clouds_lag1'], axis = 1, inplace = True)"
   ]
  },
  {
   "cell_type": "code",
   "execution_count": 45,
   "metadata": {
    "execution": {
     "iopub.execute_input": "2021-04-09T02:54:42.213690Z",
     "iopub.status.busy": "2021-04-09T02:54:42.213373Z",
     "iopub.status.idle": "2021-04-09T02:54:42.254355Z",
     "shell.execute_reply": "2021-04-09T02:54:42.253775Z",
     "shell.execute_reply.started": "2021-04-09T02:54:42.213651Z"
    }
   },
   "outputs": [],
   "source": [
    "y = ml_df[['Temperature']]\n",
    "X = ml_df.drop('Temperature', axis =1)\n",
    "\n",
    "def train_test_split(data, n_test):\n",
    "    return data[:n_test], data[n_test:]\n",
    "\n",
    "split_len = int(len(ml_df)*0.80)\n",
    "\n",
    "X_train, X_test = train_test_split(X, split_len)\n",
    "y_train, y_test = train_test_split(y, split_len)\n",
    "\n",
    "from sklearn.preprocessing import StandardScaler\n",
    "\n",
    "scaler = StandardScaler()\n",
    "X_train_scaled = scaler.fit_transform(X_train)\n",
    "X_train = pd.DataFrame(X_train_scaled)\n",
    "X_train.columns = X.columns\n",
    "\n",
    "X_test_scaled = scaler.transform(X_test)\n",
    "X_test = pd.DataFrame(X_test_scaled)\n",
    "X_test.columns = X.columns"
   ]
  },
  {
   "cell_type": "code",
   "execution_count": 46,
   "metadata": {
    "execution": {
     "iopub.execute_input": "2021-04-09T02:54:42.660981Z",
     "iopub.status.busy": "2021-04-09T02:54:42.660656Z",
     "iopub.status.idle": "2021-04-09T02:54:43.972769Z",
     "shell.execute_reply": "2021-04-09T02:54:43.972097Z",
     "shell.execute_reply.started": "2021-04-09T02:54:42.660946Z"
    }
   },
   "outputs": [],
   "source": [
    "import xgboost as xgb\n",
    "\n",
    "xgb_model = xgb.XGBRegressor(n_estimators=1000)\n",
    "xgb_model.fit(X_train, y_train,\n",
    "        eval_set=[(X_train, y_train), (X_test, y_test)],\n",
    "        eval_metric = 'rmse',\n",
    "        early_stopping_rounds=50,\n",
    "       verbose=False) \n",
    "\n",
    "pred = xgb_model.predict(X_test)"
   ]
  },
  {
   "cell_type": "code",
   "execution_count": 47,
   "metadata": {
    "execution": {
     "iopub.execute_input": "2021-04-09T02:54:43.974531Z",
     "iopub.status.busy": "2021-04-09T02:54:43.974299Z",
     "iopub.status.idle": "2021-04-09T02:54:43.985905Z",
     "shell.execute_reply": "2021-04-09T02:54:43.984930Z",
     "shell.execute_reply.started": "2021-04-09T02:54:43.974499Z"
    }
   },
   "outputs": [
    {
     "data": {
      "text/plain": [
       "0.43872588467617707"
      ]
     },
     "execution_count": 47,
     "metadata": {},
     "output_type": "execute_result"
    }
   ],
   "source": [
    "ts_results = pd.DataFrame({'Predicted': pred, 'Observed': y_test['Temperature']})\n",
    "ts_results[ts_results['Predicted'] <= 0] = 0\n",
    "ts_results['RMSE'] = np.sqrt((ts_results['Predicted']-ts_results['Observed'])**2)\n",
    "ts_results['RMSE'].mean()"
   ]
  },
  {
   "cell_type": "markdown",
   "metadata": {},
   "source": [
    "## Hyperparameter Tuning - HYPEROPT\n",
    "\n",
    "We perform Bayesian optimization for finding the best hyperparameters using HYPEROPT, which searches through the hyperparameter space of values and finds the best possible values that minimizes the loss function."
   ]
  },
  {
   "cell_type": "code",
   "execution_count": 48,
   "metadata": {
    "execution": {
     "iopub.execute_input": "2021-04-09T02:54:48.840429Z",
     "iopub.status.busy": "2021-04-09T02:54:48.840071Z",
     "iopub.status.idle": "2021-04-09T02:54:48.844655Z",
     "shell.execute_reply": "2021-04-09T02:54:48.843332Z",
     "shell.execute_reply.started": "2021-04-09T02:54:48.840373Z"
    }
   },
   "outputs": [],
   "source": [
    "from xgboost.sklearn import XGBClassifier\n",
    "from sklearn.model_selection import cross_validate, GridSearchCV\n",
    "from sklearn import metrics"
   ]
  },
  {
   "cell_type": "code",
   "execution_count": 49,
   "metadata": {
    "execution": {
     "iopub.execute_input": "2021-04-09T02:54:49.550972Z",
     "iopub.status.busy": "2021-04-09T02:54:49.550598Z",
     "iopub.status.idle": "2021-04-09T02:54:49.556665Z",
     "shell.execute_reply": "2021-04-09T02:54:49.555717Z",
     "shell.execute_reply.started": "2021-04-09T02:54:49.550934Z"
    }
   },
   "outputs": [],
   "source": [
    "# import packages for hyperparameters tuning\n",
    "from hyperopt import STATUS_OK, Trials, fmin, hp, tpe\n",
    "\n",
    "space={'max_depth': hp.quniform(\"max_depth\", 3, 18, 1),\n",
    "        'gamma': hp.uniform ('gamma', 1,9),\n",
    "        'reg_alpha' : hp.quniform('reg_alpha', 40,180,1),\n",
    "        'reg_lambda' : hp.uniform('reg_lambda', 0,1),\n",
    "        'colsample_bytree' : hp.uniform('colsample_bytree', 0.5,1),\n",
    "        'min_child_weight' : hp.quniform('min_child_weight', 0, 10, 1),\n",
    "        'n_estimators': 180,\n",
    "        'seed': 0\n",
    "    }"
   ]
  },
  {
   "cell_type": "code",
   "execution_count": 50,
   "metadata": {
    "execution": {
     "iopub.execute_input": "2021-04-09T02:54:50.202158Z",
     "iopub.status.busy": "2021-04-09T02:54:50.201865Z",
     "iopub.status.idle": "2021-04-09T02:54:50.207921Z",
     "shell.execute_reply": "2021-04-09T02:54:50.207144Z",
     "shell.execute_reply.started": "2021-04-09T02:54:50.202123Z"
    }
   },
   "outputs": [],
   "source": [
    "def tune_model(space): \n",
    "    xgb_model = xgb.XGBRegressor(n_estimators =space['n_estimators'], \n",
    "                                 max_depth = int(space['max_depth']), \n",
    "                                 gamma = space['gamma'],\n",
    "                                 reg_alpha = int(space['reg_alpha']),\n",
    "                                 min_child_weight=int(space['min_child_weight']),\n",
    "                                colsample_bytree=int(space['colsample_bytree']))\n",
    "        \n",
    "    xgb_model.fit(X_train, y_train,\n",
    "            eval_set=[(X_train, y_train), (X_test, y_test)],\n",
    "            eval_metric = 'rmse',\n",
    "            early_stopping_rounds=50,\n",
    "            verbose=False) \n",
    "\n",
    "    pred = xgb_model.predict(X_test)\n",
    "    #pred = pred.reshape(len(pred),1)\n",
    "    MSE = metrics.mean_squared_error(y_test, pred)\n",
    "    print('MSE', MSE)\n",
    "    return {'loss': MSE, 'status': STATUS_OK}"
   ]
  },
  {
   "cell_type": "code",
   "execution_count": 51,
   "metadata": {
    "execution": {
     "iopub.execute_input": "2021-04-09T02:54:50.976288Z",
     "iopub.status.busy": "2021-04-09T02:54:50.976039Z",
     "iopub.status.idle": "2021-04-09T02:56:54.086010Z",
     "shell.execute_reply": "2021-04-09T02:56:54.085071Z",
     "shell.execute_reply.started": "2021-04-09T02:54:50.976259Z"
    }
   },
   "outputs": [
    {
     "name": "stdout",
     "output_type": "stream",
     "text": [
      "MSE                                                    \n",
      "7.49290064506055                                       \n",
      "MSE                                                                            \n",
      "7.49250849872438                                                               \n",
      "MSE                                                                            \n",
      "7.478162419311504                                                              \n",
      "MSE                                                                             \n",
      "7.478156241117433                                                               \n",
      "MSE                                                                             \n",
      "7.5498194008594055                                                              \n",
      "MSE                                                                             \n",
      "7.49090566419551                                                                \n",
      "MSE                                                                             \n",
      "7.504229594561343                                                               \n",
      "MSE                                                                             \n",
      "7.4867350060398445                                                              \n",
      "MSE                                                                             \n",
      "7.486532713031757                                                               \n",
      "MSE                                                                             \n",
      "7.494329999293579                                                               \n",
      "MSE                                                                              \n",
      "7.544410406574119                                                                \n",
      "MSE                                                                              \n",
      "7.504627693501033                                                                \n",
      "MSE                                                                              \n",
      "7.548092979183501                                                                \n",
      "MSE                                                                              \n",
      "7.5093224958686                                                                  \n",
      "MSE                                                                              \n",
      "7.627465179205669                                                                \n",
      "MSE                                                                              \n",
      "7.482531711433425                                                                \n",
      "MSE                                                                              \n",
      "7.531306715538362                                                                \n",
      "MSE                                                                              \n",
      "7.497833166074711                                                                \n",
      "MSE                                                                              \n",
      "7.497323694323388                                                                \n",
      "MSE                                                                              \n",
      "7.499582884200334                                                                \n",
      "MSE                                                                              \n",
      "7.493128443507248                                                                \n",
      "MSE                                                                              \n",
      "7.470419905496598                                                                \n",
      "MSE                                                                              \n",
      "7.496330490214226                                                                \n",
      "MSE                                                                              \n",
      "7.517195088021539                                                                \n",
      "MSE                                                                              \n",
      "7.471144075848081                                                                \n",
      "MSE                                                                              \n",
      "7.47888958786782                                                                 \n",
      "MSE                                                                              \n",
      "7.472714962702791                                                                \n",
      "MSE                                                                              \n",
      "7.497948571273055                                                                \n",
      "MSE                                                                              \n",
      "7.509013785047708                                                                \n",
      "MSE                                                                              \n",
      "7.491229057114144                                                                \n",
      "MSE                                                                              \n",
      "7.493519695399558                                                                \n",
      "MSE                                                                              \n",
      "7.505053057498896                                                                \n",
      "MSE                                                                              \n",
      "7.487262767671377                                                                \n",
      "MSE                                                                              \n",
      "7.490981873306455                                                                \n",
      "MSE                                                                              \n",
      "7.521270950555099                                                                \n",
      "MSE                                                                              \n",
      "7.597143148245915                                                                \n",
      "MSE                                                                              \n",
      "7.49490371259844                                                                 \n",
      "MSE                                                                              \n",
      "7.549645777736455                                                                \n",
      "MSE                                                                              \n",
      "7.620441559797476                                                                \n",
      "MSE                                                                              \n",
      "7.490128733837197                                                                \n",
      "MSE                                                                              \n",
      "7.5111358244469875                                                               \n",
      "MSE                                                                              \n",
      "7.491295190302652                                                                \n",
      "MSE                                                                              \n",
      "7.480457579869728                                                                \n",
      "MSE                                                                              \n",
      "7.5525766899034235                                                               \n",
      "MSE                                                                              \n",
      "7.484649241784428                                                                \n",
      "MSE                                                                              \n",
      "7.50398295560253                                                                 \n",
      "MSE                                                                              \n",
      "7.501368112774209                                                                \n",
      "MSE                                                                              \n",
      "7.593199347837793                                                                \n",
      "MSE                                                                              \n",
      "7.505512485811872                                                                \n",
      "MSE                                                                              \n",
      "7.483840071111905                                                                \n",
      "MSE                                                                              \n",
      "7.545177124646367                                                                \n",
      "MSE                                                                              \n",
      "7.49640186602403                                                                 \n",
      "MSE                                                                              \n",
      "7.537866075407253                                                                \n",
      "MSE                                                                              \n",
      "7.481851987986829                                                                \n",
      "MSE                                                                              \n",
      "7.502522839244646                                                                \n",
      "MSE                                                                              \n",
      "7.512649606616203                                                                \n",
      "MSE                                                                              \n",
      "7.479260448601525                                                                \n",
      "MSE                                                                              \n",
      "7.4785504949669575                                                               \n",
      "MSE                                                                              \n",
      "7.541668602206762                                                                \n",
      "MSE                                                                              \n",
      "7.493669337310308                                                                \n",
      "MSE                                                                              \n",
      "7.489571609397059                                                                \n",
      "MSE                                                                              \n",
      "7.468898280949127                                                                \n",
      "MSE                                                                              \n",
      "7.496757628067226                                                                \n",
      "MSE                                                                              \n",
      "7.542102101329969                                                                \n",
      "MSE                                                                              \n",
      "7.484157378001655                                                                \n",
      "MSE                                                                              \n",
      "7.4792587171817555                                                               \n",
      "MSE                                                                              \n",
      "7.461441422766344                                                                \n",
      "MSE                                                                              \n",
      "7.4610375037703145                                                               \n",
      "MSE                                                                               \n",
      "7.4561007423787835                                                                \n",
      "MSE                                                                               \n",
      "7.482721766232795                                                                 \n",
      "MSE                                                                               \n",
      "7.481356132085882                                                                 \n",
      "MSE                                                                               \n",
      "7.4811791256231785                                                                \n",
      "MSE                                                                               \n",
      "7.48482239281685                                                                  \n",
      "MSE                                                                               \n",
      "7.494234213006296                                                                 \n",
      "MSE                                                                               \n",
      "7.454925030746464                                                                 \n",
      "MSE                                                                               \n",
      "7.479663875667066                                                                \n",
      "MSE                                                                              \n",
      "7.463528070492001                                                                \n",
      "MSE                                                                              \n",
      "7.491383924648683                                                                \n",
      "MSE                                                                              \n",
      "7.497610995626709                                                                \n",
      "MSE                                                                              \n",
      "7.5106833778511914                                                               \n",
      "MSE                                                                              \n",
      "7.49804950789685                                                                 \n",
      "MSE                                                                              \n",
      "7.481247745657318                                                                \n",
      "MSE                                                                              \n",
      "7.485833682473142                                                                \n",
      "MSE                                                                              \n",
      "7.514131866810216                                                                \n",
      "MSE                                                                              \n",
      "7.483048638435294                                                                \n",
      "MSE                                                                              \n",
      "7.515967532601265                                                                \n",
      "MSE                                                                              \n",
      "7.497577716341936                                                                \n",
      "MSE                                                                              \n",
      "7.49136443826314                                                                 \n",
      "MSE                                                                              \n",
      "7.458993838751824                                                                \n",
      "MSE                                                                              \n",
      "7.503794418085943                                                                \n",
      "MSE                                                                              \n",
      "7.470517393040241                                                                \n",
      "MSE                                                                              \n",
      "7.539681176633285                                                                \n",
      "MSE                                                                              \n",
      "7.535054978679432                                                                \n",
      "MSE                                                                              \n",
      "7.505282779023127                                                                \n",
      "MSE                                                                              \n",
      "7.501505506764598                                                                \n",
      "MSE                                                                              \n",
      "7.496321827243441                                                                \n",
      "MSE                                                                              \n",
      "7.501703867945964                                                                \n",
      "MSE                                                                              \n",
      "7.47805471209063                                                                 \n",
      "MSE                                                                              \n",
      "7.488013782807822                                                                \n",
      "MSE                                                                              \n",
      "7.45683778048678                                                                 \n",
      "100%|██████████| 100/100 [02:03<00:00,  1.23s/trial, best loss: 7.454925030746464]\n"
     ]
    }
   ],
   "source": [
    "trials = Trials()\n",
    "\n",
    "best_hyperparams = fmin(fn = tune_model,\n",
    "                        space = space,\n",
    "                        algo = tpe.suggest,\n",
    "                        max_evals = 100,\n",
    "                        trials = trials)"
   ]
  },
  {
   "cell_type": "code",
   "execution_count": 52,
   "metadata": {
    "execution": {
     "iopub.execute_input": "2021-04-09T02:56:54.088297Z",
     "iopub.status.busy": "2021-04-09T02:56:54.087962Z",
     "iopub.status.idle": "2021-04-09T02:56:54.092697Z",
     "shell.execute_reply": "2021-04-09T02:56:54.091688Z",
     "shell.execute_reply.started": "2021-04-09T02:56:54.088260Z"
    }
   },
   "outputs": [
    {
     "name": "stdout",
     "output_type": "stream",
     "text": [
      "The best hyperparameters are :  \n",
      "\n",
      "{'colsample_bytree': 0.6823522102531592, 'gamma': 2.61544545268388, 'max_depth': 8.0, 'min_child_weight': 10.0, 'reg_alpha': 121.0, 'reg_lambda': 0.12246411205403185}\n"
     ]
    }
   ],
   "source": [
    "print(\"The best hyperparameters are : \",\"\\n\")\n",
    "print(best_hyperparams)"
   ]
  },
  {
   "cell_type": "code",
   "execution_count": null,
   "metadata": {
    "execution": {
     "iopub.status.busy": "2021-04-09T02:53:56.040401Z",
     "iopub.status.idle": "2021-04-09T02:53:56.040870Z",
     "shell.execute_reply": "2021-04-09T02:53:56.040677Z"
    }
   },
   "outputs": [],
   "source": [
    "best_hyperparams"
   ]
  },
  {
   "cell_type": "code",
   "execution_count": 54,
   "metadata": {
    "execution": {
     "iopub.execute_input": "2021-04-09T02:57:36.095393Z",
     "iopub.status.busy": "2021-04-09T02:57:36.095141Z",
     "iopub.status.idle": "2021-04-09T02:57:41.200208Z",
     "shell.execute_reply": "2021-04-09T02:57:41.199470Z",
     "shell.execute_reply.started": "2021-04-09T02:57:36.095366Z"
    }
   },
   "outputs": [],
   "source": [
    "xgb_model = xgb.XGBRegressor(n_estimators=1000,\n",
    "                             colsample_bytree = 0.68235,\n",
    "                             gamma = 2.61544,\n",
    "                             max_depth = 8,\n",
    "                             min_child_weight = 10.0,\n",
    "                             reg_alpha = 121.0,\n",
    "                             reg_lambda = 0.12246)\n",
    "\n",
    "xgb_model.fit(X_train, y_train,\n",
    "        eval_set=[(X_train, y_train), (X_test, y_test)],\n",
    "        eval_metric = 'rmse',\n",
    "        early_stopping_rounds=50,\n",
    "       verbose=False) \n",
    "\n",
    "pred = xgb_model.predict(X_test)"
   ]
  },
  {
   "cell_type": "code",
   "execution_count": 56,
   "metadata": {
    "execution": {
     "iopub.execute_input": "2021-04-09T02:57:56.188563Z",
     "iopub.status.busy": "2021-04-09T02:57:56.188299Z",
     "iopub.status.idle": "2021-04-09T02:57:56.197363Z",
     "shell.execute_reply": "2021-04-09T02:57:56.196738Z",
     "shell.execute_reply.started": "2021-04-09T02:57:56.188535Z"
    }
   },
   "outputs": [
    {
     "data": {
      "text/plain": [
       "0.457595804210169"
      ]
     },
     "execution_count": 56,
     "metadata": {},
     "output_type": "execute_result"
    }
   ],
   "source": [
    "ts_results = pd.DataFrame({'Predicted': pred, 'Observed': y_test['Temperature']})\n",
    "ts_results[ts_results['Predicted'] <= 0] = 0\n",
    "ts_results['RMSE'] = np.sqrt((ts_results['Predicted']-ts_results['Observed'])**2)\n",
    "ts_results['RMSE'].mean()"
   ]
  },
  {
   "cell_type": "markdown",
   "metadata": {},
   "source": [
    "## Hyperparameter Tuning on Base Model"
   ]
  },
  {
   "cell_type": "code",
   "execution_count": 57,
   "metadata": {
    "execution": {
     "iopub.execute_input": "2021-04-09T02:57:57.037777Z",
     "iopub.status.busy": "2021-04-09T02:57:57.037550Z",
     "iopub.status.idle": "2021-04-09T02:57:57.043700Z",
     "shell.execute_reply": "2021-04-09T02:57:57.042987Z",
     "shell.execute_reply.started": "2021-04-09T02:57:57.037751Z"
    }
   },
   "outputs": [],
   "source": [
    "X_train = X_train[['month','year','Temp_lag1','Temp_lag2','Temp_lag12','Temp_lag24']]\n",
    "X_test = X_test[['month','year','Temp_lag1','Temp_lag2','Temp_lag12','Temp_lag24']]"
   ]
  },
  {
   "cell_type": "code",
   "execution_count": 59,
   "metadata": {
    "execution": {
     "iopub.execute_input": "2021-04-09T02:59:39.284408Z",
     "iopub.status.busy": "2021-04-09T02:59:39.284111Z",
     "iopub.status.idle": "2021-04-09T03:00:31.999036Z",
     "shell.execute_reply": "2021-04-09T03:00:31.998143Z",
     "shell.execute_reply.started": "2021-04-09T02:59:39.284374Z"
    }
   },
   "outputs": [
    {
     "name": "stdout",
     "output_type": "stream",
     "text": [
      "MSE                                                   \n",
      "2.1045218654337248                                    \n",
      "MSE                                                                             \n",
      "2.0979085739222887                                                              \n",
      "MSE                                                                             \n",
      "2.0879843195315653                                                              \n",
      "MSE                                                                             \n",
      "2.09929859449076                                                                \n",
      "MSE                                                                             \n",
      "2.1526951844347755                                                              \n",
      "MSE                                                                             \n",
      "2.112161404306662                                                               \n",
      "MSE                                                                             \n",
      "2.1416494420973424                                                              \n",
      "MSE                                                                             \n",
      "2.1097077103563286                                                              \n",
      "MSE                                                                             \n",
      "2.0976700519981244                                                              \n",
      "MSE                                                                             \n",
      "2.1101488977732825                                                              \n",
      "MSE                                                                              \n",
      "2.1147897503508615                                                               \n",
      "MSE                                                                              \n",
      "2.11011670396377                                                                 \n",
      "MSE                                                                              \n",
      "2.1683798998510957                                                               \n",
      "MSE                                                                              \n",
      "2.12874349804966                                                                 \n",
      "MSE                                                                              \n",
      "2.118155683727805                                                                \n",
      "MSE                                                                              \n",
      "2.1328801986096315                                                               \n",
      "MSE                                                                              \n",
      "2.1291403932829556                                                               \n",
      "MSE                                                                              \n",
      "2.124595225304387                                                                \n",
      "MSE                                                                              \n",
      "2.118631292583834                                                                \n",
      "MSE                                                                              \n",
      "2.1746406757779617                                                               \n",
      "MSE                                                                              \n",
      "2.1767501313555386                                                               \n",
      "MSE                                                                              \n",
      "2.1479892684177972                                                               \n",
      "MSE                                                                              \n",
      "2.1468064980019173                                                               \n",
      "MSE                                                                              \n",
      "2.118716882891519                                                                \n",
      "MSE                                                                              \n",
      "2.09062247144962                                                                 \n",
      "MSE                                                                              \n",
      "2.0708497878555336                                                               \n",
      "MSE                                                                              \n",
      "2.069346367974072                                                                \n",
      "MSE                                                                              \n",
      "2.0654985153934575                                                              \n",
      "MSE                                                                              \n",
      "2.092427800845038                                                                \n",
      "MSE                                                                              \n",
      "2.0607557440250988                                                               \n",
      "MSE                                                                              \n",
      "2.089519494582596                                                                \n",
      "MSE                                                                              \n",
      "2.1274412113981267                                                               \n",
      "MSE                                                                              \n",
      "2.078947705777607                                                                \n",
      "MSE                                                                              \n",
      "2.095163347328031                                                                \n",
      "MSE                                                                              \n",
      "2.1590101325446827                                                               \n",
      "MSE                                                                              \n",
      "2.11641174471107                                                                 \n",
      "MSE                                                                              \n",
      "2.1126424171903073                                                               \n",
      "MSE                                                                              \n",
      "2.0878592712954567                                                               \n",
      "MSE                                                                              \n",
      "2.128087553723424                                                                \n",
      "MSE                                                                              \n",
      "2.115572011900675                                                                \n",
      "MSE                                                                              \n",
      "2.057739201129241                                                                \n",
      "MSE                                                                              \n",
      "2.0677630099578104                                                              \n",
      "MSE                                                                             \n",
      "2.1649154738529206                                                              \n",
      "MSE                                                                             \n",
      "2.1158746755920625                                                              \n",
      "MSE                                                                             \n",
      "2.0987794117217446                                                              \n",
      "MSE                                                                             \n",
      "2.176622009484299                                                               \n",
      "MSE                                                                             \n",
      "2.1334049962058215                                                              \n",
      "MSE                                                                             \n",
      "2.128489393298173                                                               \n",
      "MSE                                                                             \n",
      "2.1201512174200916                                                              \n",
      "MSE                                                                             \n",
      "2.120266155964404                                                               \n",
      "100%|██████████| 50/50 [00:52<00:00,  1.05s/trial, best loss: 2.057739201129241]\n"
     ]
    }
   ],
   "source": [
    "trials = Trials()\n",
    "\n",
    "best_hyperparams = fmin(fn = tune_model,\n",
    "                        space = space,\n",
    "                        algo = tpe.suggest,\n",
    "                        max_evals = 50,\n",
    "                        trials = trials)"
   ]
  },
  {
   "cell_type": "code",
   "execution_count": 60,
   "metadata": {
    "execution": {
     "iopub.execute_input": "2021-04-09T03:00:32.001754Z",
     "iopub.status.busy": "2021-04-09T03:00:32.001362Z",
     "iopub.status.idle": "2021-04-09T03:00:32.006832Z",
     "shell.execute_reply": "2021-04-09T03:00:32.005901Z",
     "shell.execute_reply.started": "2021-04-09T03:00:32.001713Z"
    }
   },
   "outputs": [
    {
     "name": "stdout",
     "output_type": "stream",
     "text": [
      "The best hyperparameters are :  \n",
      "\n",
      "{'colsample_bytree': 0.8289227856546328, 'gamma': 5.355524140427441, 'max_depth': 4.0, 'min_child_weight': 0.0, 'reg_alpha': 41.0, 'reg_lambda': 0.07545255022512376}\n"
     ]
    }
   ],
   "source": [
    "print(\"The best hyperparameters are : \",\"\\n\")\n",
    "print(best_hyperparams)"
   ]
  },
  {
   "cell_type": "code",
   "execution_count": 62,
   "metadata": {
    "execution": {
     "iopub.execute_input": "2021-04-09T03:00:52.786555Z",
     "iopub.status.busy": "2021-04-09T03:00:52.786229Z",
     "iopub.status.idle": "2021-04-09T03:00:54.819574Z",
     "shell.execute_reply": "2021-04-09T03:00:54.818909Z",
     "shell.execute_reply.started": "2021-04-09T03:00:52.786519Z"
    }
   },
   "outputs": [],
   "source": [
    "xgb_model = xgb.XGBRegressor(n_estimators=1000,\n",
    "                             colsample_bytree = 0.8289,\n",
    "                             gamma = 5.355,\n",
    "                             max_depth = 4,\n",
    "                             min_child_weight = 0,\n",
    "                             reg_alpha = 41.0,\n",
    "                             reg_lambda = 0.075)\n",
    "\n",
    "xgb_model.fit(X_train, y_train,\n",
    "        eval_set=[(X_train, y_train), (X_test, y_test)],\n",
    "        eval_metric = 'rmse',\n",
    "        early_stopping_rounds=50,\n",
    "       verbose=False) \n",
    "\n",
    "pred = xgb_model.predict(X_test)"
   ]
  },
  {
   "cell_type": "code",
   "execution_count": 63,
   "metadata": {
    "execution": {
     "iopub.execute_input": "2021-04-09T03:00:55.360904Z",
     "iopub.status.busy": "2021-04-09T03:00:55.360560Z",
     "iopub.status.idle": "2021-04-09T03:00:55.372720Z",
     "shell.execute_reply": "2021-04-09T03:00:55.372053Z",
     "shell.execute_reply.started": "2021-04-09T03:00:55.360858Z"
    }
   },
   "outputs": [
    {
     "data": {
      "text/plain": [
       "0.4569760627291274"
      ]
     },
     "execution_count": 63,
     "metadata": {},
     "output_type": "execute_result"
    }
   ],
   "source": [
    "ts_results = pd.DataFrame({'Predicted': pred, 'Observed': y_test['Temperature']})\n",
    "ts_results[ts_results['Predicted'] <= 0] = 0\n",
    "ts_results['RMSE'] = np.sqrt((ts_results['Predicted']-ts_results['Observed'])**2)\n",
    "ts_results['RMSE'].mean()"
   ]
  },
  {
   "cell_type": "code",
   "execution_count": null,
   "metadata": {},
   "outputs": [],
   "source": []
  },
  {
   "cell_type": "code",
   "execution_count": null,
   "metadata": {},
   "outputs": [],
   "source": []
  },
  {
   "cell_type": "code",
   "execution_count": null,
   "metadata": {},
   "outputs": [],
   "source": []
  }
 ],
 "metadata": {
  "kernelspec": {
   "display_name": "Python 3",
   "language": "python",
   "name": "python3"
  },
  "language_info": {
   "codemirror_mode": {
    "name": "ipython",
    "version": 3
   },
   "file_extension": ".py",
   "mimetype": "text/x-python",
   "name": "python",
   "nbconvert_exporter": "python",
   "pygments_lexer": "ipython3",
   "version": "3.7.7"
  }
 },
 "nbformat": 4,
 "nbformat_minor": 4
}
