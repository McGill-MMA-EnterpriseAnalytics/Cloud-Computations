{
 "cells": [
  {
   "cell_type": "code",
   "execution_count": 1,
   "id": "continued-scene",
   "metadata": {},
   "outputs": [],
   "source": [
    "import pandas as pd\n",
    "import numpy as np\n",
    "import tensorflow as tf\n",
    "from tensorflow import keras\n",
    "import datetime as dt\n",
    "import math\n",
    "from sklearn.preprocessing import StandardScaler\n",
    "from sklearn.metrics import mean_squared_error, r2_score\n",
    "import attention\n",
    "\n",
    "import helper\n",
    "from helper import *"
   ]
  },
  {
   "cell_type": "code",
   "execution_count": null,
   "id": "conservative-departure",
   "metadata": {},
   "outputs": [],
   "source": [
    "df = load_and_preprocess()\n",
    "df = df.reset_index(drop = True)"
   ]
  },
  {
   "cell_type": "code",
   "execution_count": null,
   "id": "potential-farmer",
   "metadata": {},
   "outputs": [],
   "source": [
    "cutoff = math.floor(0.75*len(df)) #train/test cutoff"
   ]
  },
  {
   "cell_type": "markdown",
   "id": "silent-action",
   "metadata": {},
   "source": [
    "#### Just Using Date/Previous Hour Temp."
   ]
  },
  {
   "cell_type": "code",
   "execution_count": null,
   "id": "leading-college",
   "metadata": {},
   "outputs": [],
   "source": [
    "df.head()"
   ]
  },
  {
   "cell_type": "code",
   "execution_count": null,
   "id": "certain-encoding",
   "metadata": {},
   "outputs": [],
   "source": [
    "train = df[:cutoff].reset_index(drop = True)\n",
    "train = train.iloc[:, 4:5].values\n",
    "test = df[cutoff:]\n",
    "test = test.iloc[:, 4:5].values"
   ]
  },
  {
   "cell_type": "code",
   "execution_count": null,
   "id": "optional-contract",
   "metadata": {},
   "outputs": [],
   "source": [
    "sc = StandardScaler()\n",
    "train_std = sc.fit_transform(train)\n",
    "test_std = sc.transform(test)"
   ]
  },
  {
   "cell_type": "code",
   "execution_count": null,
   "id": "russian-police",
   "metadata": {},
   "outputs": [],
   "source": [
    "def split(sequence, n_timestamp):\n",
    "    X, y = [], []\n",
    "    \n",
    "    for i in range(len(sequence)):\n",
    "        end = i + n_timestamp\n",
    "        if end > len(sequence)-1:\n",
    "            break\n",
    "        sequence_x, sequence_y = sequence[i:end], sequence[end]\n",
    "        X.append(sequence_x)\n",
    "        y.append(sequence_y)\n",
    "    return np.array(X), np.array(y)"
   ]
  },
  {
   "cell_type": "code",
   "execution_count": null,
   "id": "needed-gibson",
   "metadata": {},
   "outputs": [],
   "source": [
    "X_train, y_train = split(sequence = train_std, n_timestamp = 10)\n",
    "X_test, y_test = split(sequence = test_std, n_timestamp = 10)"
   ]
  },
  {
   "cell_type": "code",
   "execution_count": null,
   "id": "streaming-victor",
   "metadata": {},
   "outputs": [],
   "source": [
    "print(X_train.shape)\n",
    "print(X_test.shape)"
   ]
  },
  {
   "cell_type": "code",
   "execution_count": null,
   "id": "missing-spell",
   "metadata": {},
   "outputs": [],
   "source": [
    "print(y_train.shape)\n",
    "print(y_test.shape)"
   ]
  },
  {
   "cell_type": "code",
   "execution_count": null,
   "id": "musical-london",
   "metadata": {},
   "outputs": [],
   "source": [
    "model = keras.models.Sequential()\n",
    "\n",
    "model.add(keras.layers.LSTM(units = 50, return_sequences = True, input_shape = X_train.shape[1:]))\n",
    "model.add(keras.layers.LSTM(units = 50))\n",
    "model.add(keras.layers.Dense(1))"
   ]
  },
  {
   "cell_type": "code",
   "execution_count": null,
   "id": "physical-homework",
   "metadata": {},
   "outputs": [],
   "source": [
    "model.compile(loss = 'mse', optimizer = 'adam')"
   ]
  },
  {
   "cell_type": "code",
   "execution_count": null,
   "id": "interpreted-covering",
   "metadata": {
    "scrolled": true
   },
   "outputs": [],
   "source": [
    "history = model.fit(X_train, y_train, epochs = 3)"
   ]
  },
  {
   "cell_type": "code",
   "execution_count": null,
   "id": "hybrid-walker",
   "metadata": {},
   "outputs": [],
   "source": [
    "y_pred = model.predict(X_test)"
   ]
  },
  {
   "cell_type": "code",
   "execution_count": null,
   "id": "about-convert",
   "metadata": {},
   "outputs": [],
   "source": [
    "y_test_inv = sc.inverse_transform(y_test)\n",
    "y_pred_inv = sc.inverse_transform(y_pred)"
   ]
  },
  {
   "cell_type": "code",
   "execution_count": null,
   "id": "sonic-tongue",
   "metadata": {},
   "outputs": [],
   "source": [
    "from matplotlib import pyplot as plt\n",
    "plt.figure(figsize = (20, 10))\n",
    "plt.plot(y_test_inv, label = 'Actual')\n",
    "plt.plot(y_pred_inv, label = 'Predicted')\n",
    "plt.ylabel('Temperature')\n",
    "plt.xlabel('Day')\n",
    "plt.xlim([0, 365])\n",
    "plt.ylim([278, 305])\n",
    "plt.legend()\n",
    "plt.show()"
   ]
  },
  {
   "cell_type": "code",
   "execution_count": null,
   "id": "chicken-insider",
   "metadata": {},
   "outputs": [],
   "source": [
    "print('MSE:', mean_squared_error(y_test_inv, y_pred_inv))\n",
    "print('R-Squared:', r2_score(y_test_inv, y_pred_inv))"
   ]
  },
  {
   "cell_type": "code",
   "execution_count": null,
   "id": "sophisticated-guide",
   "metadata": {},
   "outputs": [],
   "source": [
    "math.sqrt(mean_squared_error(y_test_inv, y_pred_inv))"
   ]
  },
  {
   "cell_type": "markdown",
   "id": "artistic-confidence",
   "metadata": {},
   "source": [
    "#### Trying with multiple predictors"
   ]
  },
  {
   "cell_type": "code",
   "execution_count": null,
   "id": "manual-merit",
   "metadata": {},
   "outputs": [],
   "source": [
    "def split_multiple(sequence, n_timestamp, target):\n",
    "    X, y = [], []\n",
    "    \n",
    "    for i in range(len(sequence)):\n",
    "        end = i + n_timestamp\n",
    "        if end > len(sequence)-1:\n",
    "            break\n",
    "        sequence_x, sequence_y = sequence[i:end], target[end]\n",
    "        X.append(sequence_x)\n",
    "        y.append(sequence_y)\n",
    "    return np.array(X), np.array(y)"
   ]
  },
  {
   "cell_type": "code",
   "execution_count": null,
   "id": "worst-sphere",
   "metadata": {},
   "outputs": [],
   "source": [
    "train = df[:cutoff].reset_index(drop = True)\n",
    "target_train = train[['Temperature']].values\n",
    "train = train.drop(['datetime', 'Description'], axis = 1).values\n",
    "\n",
    "test = df[:cutoff].reset_index(drop = True)\n",
    "target_test = test[['Temperature']].values\n",
    "test = test.drop(['datetime', 'Description'], axis = 1).values"
   ]
  },
  {
   "cell_type": "code",
   "execution_count": null,
   "id": "professional-expansion",
   "metadata": {},
   "outputs": [],
   "source": [
    "sc = StandardScaler()\n",
    "sc2 = StandardScaler()\n",
    "train_std = sc.fit_transform(train)\n",
    "target_train_std = sc2.fit_transform(target_train)\n",
    "test_std = sc.transform(test)\n",
    "target_test_std = sc2.transform(target_test)"
   ]
  },
  {
   "cell_type": "code",
   "execution_count": null,
   "id": "empty-behalf",
   "metadata": {},
   "outputs": [],
   "source": [
    "X_train, y_train = split_multiple(train_std, 10, target_train_std)"
   ]
  },
  {
   "cell_type": "code",
   "execution_count": null,
   "id": "connected-classification",
   "metadata": {},
   "outputs": [],
   "source": [
    "X_train.shape"
   ]
  },
  {
   "cell_type": "code",
   "execution_count": null,
   "id": "addressed-psychology",
   "metadata": {},
   "outputs": [],
   "source": [
    "y_train.shape"
   ]
  },
  {
   "cell_type": "code",
   "execution_count": null,
   "id": "classified-document",
   "metadata": {},
   "outputs": [],
   "source": [
    "model = keras.models.Sequential()\n",
    "\n",
    "model.add(keras.layers.LSTM(units = 50, return_sequences = True, input_shape = X_train.shape[1:]))\n",
    "model.add(keras.layers.LSTM(units = 50))\n",
    "model.add(keras.layers.Dense(1))"
   ]
  },
  {
   "cell_type": "code",
   "execution_count": null,
   "id": "presidential-experience",
   "metadata": {},
   "outputs": [],
   "source": [
    "model.compile(loss = 'mse', optimizer = 'adam')"
   ]
  },
  {
   "cell_type": "code",
   "execution_count": null,
   "id": "limited-occasions",
   "metadata": {},
   "outputs": [],
   "source": [
    "history = model.fit(X_train, y_train, epochs = 3)"
   ]
  },
  {
   "cell_type": "code",
   "execution_count": null,
   "id": "fatty-mustang",
   "metadata": {},
   "outputs": [],
   "source": [
    "X_test, y_test = split_multiple(test_std, 10, target_test_std)"
   ]
  },
  {
   "cell_type": "code",
   "execution_count": null,
   "id": "italic-volunteer",
   "metadata": {},
   "outputs": [],
   "source": [
    "y_pred = model.predict(X_test)\n",
    "\n",
    "y_test_inv = sc2.inverse_transform(y_test)\n",
    "y_pred_inv = sc2.inverse_transform(y_pred)"
   ]
  },
  {
   "cell_type": "code",
   "execution_count": null,
   "id": "inclusive-newspaper",
   "metadata": {},
   "outputs": [],
   "source": [
    "from matplotlib import pyplot as plt\n",
    "plt.figure(figsize = (20, 10))\n",
    "plt.plot(y_test_inv, label = 'Actual')\n",
    "plt.plot(y_pred_inv, label = 'Predicted')\n",
    "plt.ylabel('Temperature')\n",
    "plt.xlabel('Day')\n",
    "plt.xlim([0, 365])\n",
    "plt.ylim([270, 295])\n",
    "plt.legend()\n",
    "plt.show()"
   ]
  },
  {
   "cell_type": "code",
   "execution_count": null,
   "id": "urban-attraction",
   "metadata": {},
   "outputs": [],
   "source": [
    "print('MSE:', mean_squared_error(y_test_inv, y_pred_inv))\n",
    "print('R-Squared:', r2_score(y_test_inv, y_pred_inv))"
   ]
  },
  {
   "cell_type": "code",
   "execution_count": null,
   "id": "maritime-neutral",
   "metadata": {},
   "outputs": [],
   "source": [
    "math.sqrt(mean_squared_error(y_test_inv, y_pred_inv))"
   ]
  },
  {
   "cell_type": "markdown",
   "id": "white-scope",
   "metadata": {},
   "source": [
    "### Incorporating Engineered Features"
   ]
  },
  {
   "cell_type": "code",
   "execution_count": null,
   "id": "adjusted-smell",
   "metadata": {},
   "outputs": [],
   "source": [
    "df = feature_engineer_important(load_and_preprocess())"
   ]
  },
  {
   "cell_type": "code",
   "execution_count": null,
   "id": "orange-banks",
   "metadata": {},
   "outputs": [],
   "source": [
    "df.iloc[167:170, ] #looks like due to the shifts we should drop the first week of observations (which is fine)"
   ]
  },
  {
   "cell_type": "code",
   "execution_count": null,
   "id": "blessed-premises",
   "metadata": {},
   "outputs": [],
   "source": [
    "df = df.dropna()"
   ]
  },
  {
   "cell_type": "markdown",
   "id": "rubber-salad",
   "metadata": {},
   "source": [
    "#### RNN with New Features"
   ]
  },
  {
   "cell_type": "code",
   "execution_count": null,
   "id": "rocky-david",
   "metadata": {},
   "outputs": [],
   "source": [
    "train = df[:cutoff].reset_index(drop = True)\n",
    "target_train = train[['Temperature']].values\n",
    "train = train.values\n",
    "\n",
    "test = df[:cutoff].reset_index(drop = True)\n",
    "target_test = test[['Temperature']].values\n",
    "test = test.values"
   ]
  },
  {
   "cell_type": "code",
   "execution_count": null,
   "id": "mobile-software",
   "metadata": {},
   "outputs": [],
   "source": [
    "sc = StandardScaler()\n",
    "sc2 = StandardScaler()\n",
    "train_std = sc.fit_transform(train)\n",
    "target_train_std = sc2.fit_transform(target_train)\n",
    "test_std = sc.transform(test)\n",
    "target_test_std = sc2.transform(target_test)"
   ]
  },
  {
   "cell_type": "code",
   "execution_count": null,
   "id": "recovered-poker",
   "metadata": {},
   "outputs": [],
   "source": [
    "X_train, y_train = split_multiple(train_std, 10, target_train_std)"
   ]
  },
  {
   "cell_type": "code",
   "execution_count": null,
   "id": "private-briefing",
   "metadata": {},
   "outputs": [],
   "source": [
    "X_train.shape"
   ]
  },
  {
   "cell_type": "code",
   "execution_count": null,
   "id": "advised-potential",
   "metadata": {},
   "outputs": [],
   "source": [
    "model = keras.models.Sequential()\n",
    "\n",
    "model.add(keras.layers.LSTM(units = 50, return_sequences = True, input_shape = X_train.shape[1:]))\n",
    "model.add(keras.layers.LSTM(units = 50))\n",
    "model.add(keras.layers.Dense(1))\n",
    "\n",
    "model.compile(optimizer='adam', loss='mse')"
   ]
  },
  {
   "cell_type": "code",
   "execution_count": null,
   "id": "figured-invasion",
   "metadata": {},
   "outputs": [],
   "source": [
    "history = model.fit(X_train, y_train, epochs=3)"
   ]
  },
  {
   "cell_type": "code",
   "execution_count": null,
   "id": "permanent-applicant",
   "metadata": {},
   "outputs": [],
   "source": [
    "X_test, y_test = split_multiple(test_std, 10, target_test_std)"
   ]
  },
  {
   "cell_type": "code",
   "execution_count": null,
   "id": "incorporated-apache",
   "metadata": {},
   "outputs": [],
   "source": [
    "y_pred = model.predict(X_test)\n",
    "\n",
    "y_pred_inv = sc2.inverse_transform(y_pred)\n",
    "y_test_inv = sc2.inverse_transform(y_test)"
   ]
  },
  {
   "cell_type": "code",
   "execution_count": null,
   "id": "single-bones",
   "metadata": {},
   "outputs": [],
   "source": [
    "from matplotlib import pyplot as plt\n",
    "plt.figure(figsize = (20, 10))\n",
    "plt.plot(y_test_inv, label = 'Actual')\n",
    "plt.plot(y_pred_inv, label = 'Predicted')\n",
    "plt.ylabel('Temperature')\n",
    "plt.xlabel('Day')\n",
    "plt.xlim([0, 365])\n",
    "plt.ylim([270, 295])\n",
    "plt.legend()\n",
    "plt.show()"
   ]
  },
  {
   "cell_type": "code",
   "execution_count": null,
   "id": "cardiovascular-google",
   "metadata": {},
   "outputs": [],
   "source": [
    "print('MSE:', mean_squared_error(y_test_inv, y_pred_inv))\n",
    "print('R-Squared:', r2_score(y_test_inv, y_pred_inv))\n",
    "print('RMSE:', math.sqrt(mean_squared_error(y_test_inv, y_pred_inv)))"
   ]
  },
  {
   "cell_type": "markdown",
   "id": "packed-toddler",
   "metadata": {},
   "source": [
    "### Transformers"
   ]
  },
  {
   "cell_type": "markdown",
   "id": "accomplished-trial",
   "metadata": {},
   "source": [
    "Encoder-Decoder model. These take a sequence as input and generate the most probable next item/sequence as output."
   ]
  },
  {
   "cell_type": "code",
   "execution_count": 2,
   "id": "substantial-devon",
   "metadata": {},
   "outputs": [
    {
     "name": "stderr",
     "output_type": "stream",
     "text": [
      "/Users/jakehogan/Desktop/MMA Courses/INSY 695/Assignments/Group Project/Cloud-Computations/helper.py:139: FutureWarning: Series.dt.weekofyear and Series.dt.week have been deprecated.  Please use Series.dt.isocalendar().week instead.\n",
      "  df['week'] = df['datetime'].dt.weekofyear\n"
     ]
    }
   ],
   "source": [
    "df = feature_engineer_important(load_and_preprocess())\n",
    "df = df.dropna()"
   ]
  },
  {
   "cell_type": "code",
   "execution_count": 3,
   "id": "minus-banana",
   "metadata": {},
   "outputs": [
    {
     "data": {
      "text/html": [
       "<div>\n",
       "<style scoped>\n",
       "    .dataframe tbody tr th:only-of-type {\n",
       "        vertical-align: middle;\n",
       "    }\n",
       "\n",
       "    .dataframe tbody tr th {\n",
       "        vertical-align: top;\n",
       "    }\n",
       "\n",
       "    .dataframe thead th {\n",
       "        text-align: right;\n",
       "    }\n",
       "</style>\n",
       "<table border=\"1\" class=\"dataframe\">\n",
       "  <thead>\n",
       "    <tr style=\"text-align: right;\">\n",
       "      <th></th>\n",
       "      <th>Humidity</th>\n",
       "      <th>Wind Direction</th>\n",
       "      <th>Pressure</th>\n",
       "      <th>Wind Speed</th>\n",
       "      <th>hour</th>\n",
       "      <th>lag1</th>\n",
       "      <th>lag2</th>\n",
       "      <th>lag12</th>\n",
       "      <th>lag30</th>\n",
       "      <th>max daily temp</th>\n",
       "      <th>...</th>\n",
       "      <th>min daily pressure</th>\n",
       "      <th>min weekly temp</th>\n",
       "      <th>mean weekly hum</th>\n",
       "      <th>mean weekly wind direction</th>\n",
       "      <th>rolling_mean_temp</th>\n",
       "      <th>rolling_mean_pressure</th>\n",
       "      <th>rolling_mean_wind_dir</th>\n",
       "      <th>rolling_mean_wind_speed</th>\n",
       "      <th>rolling_mean_humidity</th>\n",
       "      <th>Temperature</th>\n",
       "    </tr>\n",
       "    <tr>\n",
       "      <th>datetime</th>\n",
       "      <th></th>\n",
       "      <th></th>\n",
       "      <th></th>\n",
       "      <th></th>\n",
       "      <th></th>\n",
       "      <th></th>\n",
       "      <th></th>\n",
       "      <th></th>\n",
       "      <th></th>\n",
       "      <th></th>\n",
       "      <th></th>\n",
       "      <th></th>\n",
       "      <th></th>\n",
       "      <th></th>\n",
       "      <th></th>\n",
       "      <th></th>\n",
       "      <th></th>\n",
       "      <th></th>\n",
       "      <th></th>\n",
       "      <th></th>\n",
       "      <th></th>\n",
       "    </tr>\n",
       "  </thead>\n",
       "  <tbody>\n",
       "    <tr>\n",
       "      <th>2012-10-09 19:00:00</th>\n",
       "      <td>71.861538</td>\n",
       "      <td>1016.424953</td>\n",
       "      <td>203.0</td>\n",
       "      <td>4.0</td>\n",
       "      <td>19</td>\n",
       "      <td>284.82</td>\n",
       "      <td>283.56</td>\n",
       "      <td>278.42</td>\n",
       "      <td>278.63</td>\n",
       "      <td>283.52</td>\n",
       "      <td>...</td>\n",
       "      <td>282.16</td>\n",
       "      <td>282.16</td>\n",
       "      <td>78.779569</td>\n",
       "      <td>1015.584173</td>\n",
       "      <td>285.599704</td>\n",
       "      <td>198.071006</td>\n",
       "      <td>1015.863284</td>\n",
       "      <td>1.656805</td>\n",
       "      <td>77.294310</td>\n",
       "      <td>284.97</td>\n",
       "    </tr>\n",
       "    <tr>\n",
       "      <th>2012-10-09 20:00:00</th>\n",
       "      <td>71.861538</td>\n",
       "      <td>1016.424953</td>\n",
       "      <td>242.0</td>\n",
       "      <td>2.0</td>\n",
       "      <td>20</td>\n",
       "      <td>284.97</td>\n",
       "      <td>284.82</td>\n",
       "      <td>277.22</td>\n",
       "      <td>279.57</td>\n",
       "      <td>283.52</td>\n",
       "      <td>...</td>\n",
       "      <td>282.16</td>\n",
       "      <td>282.16</td>\n",
       "      <td>78.779569</td>\n",
       "      <td>1015.584173</td>\n",
       "      <td>285.599588</td>\n",
       "      <td>198.329412</td>\n",
       "      <td>1015.866588</td>\n",
       "      <td>1.658824</td>\n",
       "      <td>77.262353</td>\n",
       "      <td>285.58</td>\n",
       "    </tr>\n",
       "    <tr>\n",
       "      <th>2012-10-09 21:00:00</th>\n",
       "      <td>71.861538</td>\n",
       "      <td>1016.424953</td>\n",
       "      <td>205.0</td>\n",
       "      <td>0.0</td>\n",
       "      <td>21</td>\n",
       "      <td>285.58</td>\n",
       "      <td>284.97</td>\n",
       "      <td>276.02</td>\n",
       "      <td>280.78</td>\n",
       "      <td>283.52</td>\n",
       "      <td>...</td>\n",
       "      <td>282.16</td>\n",
       "      <td>282.16</td>\n",
       "      <td>78.779569</td>\n",
       "      <td>1015.584173</td>\n",
       "      <td>285.600468</td>\n",
       "      <td>198.368421</td>\n",
       "      <td>1015.869853</td>\n",
       "      <td>1.649123</td>\n",
       "      <td>77.230769</td>\n",
       "      <td>285.75</td>\n",
       "    </tr>\n",
       "    <tr>\n",
       "      <th>2012-10-09 22:00:00</th>\n",
       "      <td>71.861538</td>\n",
       "      <td>1016.424953</td>\n",
       "      <td>217.0</td>\n",
       "      <td>0.0</td>\n",
       "      <td>22</td>\n",
       "      <td>285.75</td>\n",
       "      <td>285.58</td>\n",
       "      <td>274.95</td>\n",
       "      <td>282.35</td>\n",
       "      <td>283.52</td>\n",
       "      <td>...</td>\n",
       "      <td>282.16</td>\n",
       "      <td>282.16</td>\n",
       "      <td>78.779569</td>\n",
       "      <td>1015.584173</td>\n",
       "      <td>285.597209</td>\n",
       "      <td>198.476744</td>\n",
       "      <td>1015.873080</td>\n",
       "      <td>1.639535</td>\n",
       "      <td>77.199552</td>\n",
       "      <td>285.04</td>\n",
       "    </tr>\n",
       "    <tr>\n",
       "      <th>2012-10-09 23:00:00</th>\n",
       "      <td>43.000000</td>\n",
       "      <td>1024.000000</td>\n",
       "      <td>190.0</td>\n",
       "      <td>2.0</td>\n",
       "      <td>23</td>\n",
       "      <td>285.04</td>\n",
       "      <td>285.75</td>\n",
       "      <td>274.61</td>\n",
       "      <td>282.37</td>\n",
       "      <td>283.52</td>\n",
       "      <td>...</td>\n",
       "      <td>282.16</td>\n",
       "      <td>282.16</td>\n",
       "      <td>78.779569</td>\n",
       "      <td>1015.584173</td>\n",
       "      <td>285.574855</td>\n",
       "      <td>198.427746</td>\n",
       "      <td>1015.920057</td>\n",
       "      <td>1.641618</td>\n",
       "      <td>77.001867</td>\n",
       "      <td>281.73</td>\n",
       "    </tr>\n",
       "  </tbody>\n",
       "</table>\n",
       "<p>5 rows × 21 columns</p>\n",
       "</div>"
      ],
      "text/plain": [
       "                      Humidity  Wind Direction  Pressure  Wind Speed  hour  \\\n",
       "datetime                                                                     \n",
       "2012-10-09 19:00:00  71.861538     1016.424953     203.0         4.0    19   \n",
       "2012-10-09 20:00:00  71.861538     1016.424953     242.0         2.0    20   \n",
       "2012-10-09 21:00:00  71.861538     1016.424953     205.0         0.0    21   \n",
       "2012-10-09 22:00:00  71.861538     1016.424953     217.0         0.0    22   \n",
       "2012-10-09 23:00:00  43.000000     1024.000000     190.0         2.0    23   \n",
       "\n",
       "                       lag1    lag2   lag12   lag30  max daily temp  ...  \\\n",
       "datetime                                                             ...   \n",
       "2012-10-09 19:00:00  284.82  283.56  278.42  278.63          283.52  ...   \n",
       "2012-10-09 20:00:00  284.97  284.82  277.22  279.57          283.52  ...   \n",
       "2012-10-09 21:00:00  285.58  284.97  276.02  280.78          283.52  ...   \n",
       "2012-10-09 22:00:00  285.75  285.58  274.95  282.35          283.52  ...   \n",
       "2012-10-09 23:00:00  285.04  285.75  274.61  282.37          283.52  ...   \n",
       "\n",
       "                     min daily pressure  min weekly temp  mean weekly hum  \\\n",
       "datetime                                                                    \n",
       "2012-10-09 19:00:00              282.16           282.16        78.779569   \n",
       "2012-10-09 20:00:00              282.16           282.16        78.779569   \n",
       "2012-10-09 21:00:00              282.16           282.16        78.779569   \n",
       "2012-10-09 22:00:00              282.16           282.16        78.779569   \n",
       "2012-10-09 23:00:00              282.16           282.16        78.779569   \n",
       "\n",
       "                     mean weekly wind direction  rolling_mean_temp  \\\n",
       "datetime                                                             \n",
       "2012-10-09 19:00:00                 1015.584173         285.599704   \n",
       "2012-10-09 20:00:00                 1015.584173         285.599588   \n",
       "2012-10-09 21:00:00                 1015.584173         285.600468   \n",
       "2012-10-09 22:00:00                 1015.584173         285.597209   \n",
       "2012-10-09 23:00:00                 1015.584173         285.574855   \n",
       "\n",
       "                     rolling_mean_pressure  rolling_mean_wind_dir  \\\n",
       "datetime                                                            \n",
       "2012-10-09 19:00:00             198.071006            1015.863284   \n",
       "2012-10-09 20:00:00             198.329412            1015.866588   \n",
       "2012-10-09 21:00:00             198.368421            1015.869853   \n",
       "2012-10-09 22:00:00             198.476744            1015.873080   \n",
       "2012-10-09 23:00:00             198.427746            1015.920057   \n",
       "\n",
       "                     rolling_mean_wind_speed  rolling_mean_humidity  \\\n",
       "datetime                                                              \n",
       "2012-10-09 19:00:00                 1.656805              77.294310   \n",
       "2012-10-09 20:00:00                 1.658824              77.262353   \n",
       "2012-10-09 21:00:00                 1.649123              77.230769   \n",
       "2012-10-09 22:00:00                 1.639535              77.199552   \n",
       "2012-10-09 23:00:00                 1.641618              77.001867   \n",
       "\n",
       "                     Temperature  \n",
       "datetime                          \n",
       "2012-10-09 19:00:00       284.97  \n",
       "2012-10-09 20:00:00       285.58  \n",
       "2012-10-09 21:00:00       285.75  \n",
       "2012-10-09 22:00:00       285.04  \n",
       "2012-10-09 23:00:00       281.73  \n",
       "\n",
       "[5 rows x 21 columns]"
      ]
     },
     "execution_count": 3,
     "metadata": {},
     "output_type": "execute_result"
    }
   ],
   "source": [
    "cutoff = math.floor(0.75*len(df)) #train/test cutoff\n",
    "df.head()"
   ]
  },
  {
   "cell_type": "code",
   "execution_count": 4,
   "id": "warming-housing",
   "metadata": {},
   "outputs": [],
   "source": [
    "train = df[:cutoff].reset_index(drop = True)\n",
    "target_train = train[['Temperature']].values\n",
    "train = train.values\n",
    "\n",
    "test = df[:cutoff].reset_index(drop = True)\n",
    "target_test = test[['Temperature']].values\n",
    "test = test.values"
   ]
  },
  {
   "cell_type": "code",
   "execution_count": 5,
   "id": "specialized-genealogy",
   "metadata": {},
   "outputs": [],
   "source": [
    "sc = StandardScaler()\n",
    "sc2 = StandardScaler()\n",
    "train_std = sc.fit_transform(train)\n",
    "target_train_std = sc2.fit_transform(target_train)\n",
    "test_std = sc.transform(test)\n",
    "target_test_std = sc2.transform(target_test)"
   ]
  },
  {
   "cell_type": "code",
   "execution_count": 6,
   "id": "interior-suite",
   "metadata": {},
   "outputs": [
    {
     "data": {
      "text/plain": [
       "(33766, 24, 21)"
      ]
     },
     "execution_count": 6,
     "metadata": {},
     "output_type": "execute_result"
    }
   ],
   "source": [
    "X_train, y_train = split_multiple(train_std, 24, target_train_std)\n",
    "X_test, y_test = split_multiple(test_std, 24, target_test_std)\n",
    "X_train.shape"
   ]
  },
  {
   "cell_type": "code",
   "execution_count": 14,
   "id": "atmospheric-resistance",
   "metadata": {},
   "outputs": [
    {
     "name": "stdout",
     "output_type": "stream",
     "text": [
      "Model: \"model_1\"\n",
      "__________________________________________________________________________________________________\n",
      "Layer (type)                    Output Shape         Param #     Connected to                     \n",
      "==================================================================================================\n",
      "input_4 (InputLayer)            [(None, 24, 21)]     0                                            \n",
      "__________________________________________________________________________________________________\n",
      "lstm_4 (LSTM)                   (None, 24, 50)       14400       input_4[0][0]                    \n",
      "__________________________________________________________________________________________________\n",
      "lstm_5 (LSTM)                   (None, 24, 50)       20200       lstm_4[0][0]                     \n",
      "__________________________________________________________________________________________________\n",
      "last_hidden_state (Lambda)      (None, 50)           0           lstm_5[0][0]                     \n",
      "__________________________________________________________________________________________________\n",
      "attention_score_vec (Dense)     (None, 24, 50)       2500        lstm_5[0][0]                     \n",
      "__________________________________________________________________________________________________\n",
      "attention_score (Dot)           (None, 24)           0           last_hidden_state[0][0]          \n",
      "                                                                 attention_score_vec[0][0]        \n",
      "__________________________________________________________________________________________________\n",
      "attention_weight (Activation)   (None, 24)           0           attention_score[0][0]            \n",
      "__________________________________________________________________________________________________\n",
      "context_vector (Dot)            (None, 50)           0           lstm_5[0][0]                     \n",
      "                                                                 attention_weight[0][0]           \n",
      "__________________________________________________________________________________________________\n",
      "attention_output (Concatenate)  (None, 100)          0           context_vector[0][0]             \n",
      "                                                                 last_hidden_state[0][0]          \n",
      "__________________________________________________________________________________________________\n",
      "attention_vector (Dense)        (None, 128)          12800       attention_output[0][0]           \n",
      "__________________________________________________________________________________________________\n",
      "dense_1 (Dense)                 (None, 1)            129         attention_vector[0][0]           \n",
      "==================================================================================================\n",
      "Total params: 50,029\n",
      "Trainable params: 50,029\n",
      "Non-trainable params: 0\n",
      "__________________________________________________________________________________________________\n"
     ]
    }
   ],
   "source": [
    "model_input = keras.Input(shape = X_train.shape[1:])\n",
    "x = keras.layers.LSTM(50, return_sequences = True)(model_input)\n",
    "x = keras.layers.LSTM(50, return_sequences = True)(x)\n",
    "x = attention.Attention()(x)\n",
    "model_output = keras.layers.Dense(1)(x)\n",
    "model = keras.models.Model(model_input, model_output)\n",
    "\n",
    "model.compile(optimizer='adam', loss='mse')\n",
    "model.summary()"
   ]
  },
  {
   "cell_type": "code",
   "execution_count": 15,
   "id": "fossil-gnome",
   "metadata": {},
   "outputs": [
    {
     "name": "stdout",
     "output_type": "stream",
     "text": [
      "Epoch 1/3\n",
      "1056/1056 [==============================] - 15s 12ms/step - loss: 0.0647\n",
      "Epoch 2/3\n",
      "1056/1056 [==============================] - 12s 11ms/step - loss: 0.0116\n",
      "Epoch 3/3\n",
      "1056/1056 [==============================] - 11s 11ms/step - loss: 0.0089\n"
     ]
    }
   ],
   "source": [
    "history = model.fit(X_train, y_train, epochs = 3)"
   ]
  },
  {
   "cell_type": "code",
   "execution_count": 16,
   "id": "suffering-return",
   "metadata": {},
   "outputs": [],
   "source": [
    "y_pred = model.predict(X_test)\n",
    "\n",
    "y_pred_inv = sc2.inverse_transform(y_pred)\n",
    "y_test_inv = sc2.inverse_transform(y_test)"
   ]
  },
  {
   "cell_type": "code",
   "execution_count": 17,
   "id": "encouraging-aquarium",
   "metadata": {},
   "outputs": [
    {
     "data": {
      "image/png": "[encoded data removed]",
      "text/plain": [
       "<Figure size 1440x720 with 1 Axes>"
      ]
     },
     "metadata": {
      "needs_background": "light"
     },
     "output_type": "display_data"
    }
   ],
   "source": [
    "from matplotlib import pyplot as plt\n",
    "plt.figure(figsize = (20, 10))\n",
    "plt.plot(y_test_inv, label = 'Actual')\n",
    "plt.plot(y_pred_inv, label = 'Predicted')\n",
    "plt.ylabel('Temperature')\n",
    "plt.xlabel('Day')\n",
    "plt.xlim([0, 365])\n",
    "plt.ylim([270, 295])\n",
    "plt.legend()\n",
    "plt.show()"
   ]
  },
  {
   "cell_type": "code",
   "execution_count": 19,
   "id": "delayed-intranet",
   "metadata": {},
   "outputs": [
    {
     "data": {
      "image/png": "[encoded data removed]",
      "text/plain": [
       "<Figure size 1440x720 with 1 Axes>"
      ]
     },
     "metadata": {
      "needs_background": "light"
     },
     "output_type": "display_data"
    }
   ],
   "source": [
    "plt.figure(figsize = (20, 10))\n",
    "plt.plot(history.history['loss'])\n",
    "plt.show()"
   ]
  },
  {
   "cell_type": "code",
   "execution_count": 18,
   "id": "whole-concern",
   "metadata": {},
   "outputs": [
    {
     "name": "stdout",
     "output_type": "stream",
     "text": [
      "MSE: 1.651484897076956\n",
      "R-Squared: 0.9890336822704596\n",
      "RMSE: 1.2851011232883411\n"
     ]
    }
   ],
   "source": [
    "print('MSE:', mean_squared_error(y_test_inv, y_pred_inv))\n",
    "print('R-Squared:', r2_score(y_test_inv, y_pred_inv))\n",
    "print('RMSE:', math.sqrt(mean_squared_error(y_test_inv, y_pred_inv)))"
   ]
  },
  {
   "cell_type": "code",
   "execution_count": null,
   "id": "coral-briefing",
   "metadata": {},
   "outputs": [],
   "source": []
  }
 ],
 "metadata": {
  "kernelspec": {
   "display_name": "Python 3",
   "language": "python",
   "name": "python3"
  },
  "language_info": {
   "codemirror_mode": {
    "name": "ipython",
    "version": 3
   },
   "file_extension": ".py",
   "mimetype": "text/x-python",
   "name": "python",
   "nbconvert_exporter": "python",
   "pygments_lexer": "ipython3",
   "version": "3.7.7"
  }
 },
 "nbformat": 4,
 "nbformat_minor": 5
}
