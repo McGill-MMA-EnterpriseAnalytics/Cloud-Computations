{
 "cells": [
  {
   "cell_type": "markdown",
   "metadata": {},
   "source": [
    "# INSY 695 - Machine Learning Models\n",
    "\n",
    "### Contents\n",
    "**1. XGBoost**\n",
    "\n",
    "**2. Comparison with Other ML Models**\n",
    "\n",
    "**3. XGBoost with New Features**\n",
    "\n",
    "\n",
    "**4. XGBoost with Hyperparameter Tuning**"
   ]
  },
  {
   "cell_type": "code",
   "execution_count": 2,
   "metadata": {
    "execution": {
     "iopub.execute_input": "2021-04-09T18:37:13.343482Z",
     "iopub.status.busy": "2021-04-09T18:37:13.336966Z",
     "iopub.status.idle": "2021-04-09T18:37:13.461094Z",
     "shell.execute_reply": "2021-04-09T18:37:13.460222Z",
     "shell.execute_reply.started": "2021-04-09T18:37:13.342872Z"
    }
   },
   "outputs": [],
   "source": [
    "import pandas as pd\n",
    "import numpy as np\n",
    "import os\n",
    "import platform as pf\n",
    "from IPython.display import display # Display data\n",
    "pd.options.mode.chained_assignment = None  # default='warn'\n",
    "\n",
    "import shap\n",
    "\n",
    "import warnings\n",
    "import itertools    \n",
    "import statsmodels.api as sm\n",
    "\n",
    "from datetime import timedelta\n",
    "from dateutil.relativedelta import relativedelta\n",
    "import matplotlib.pyplot as plt\n",
    "import math\n",
    "from scipy import stats\n",
    "\n",
    "plt.style.use('fivethirtyeight')"
   ]
  },
  {
   "cell_type": "markdown",
   "metadata": {},
   "source": [
    "## 1. Load Data "
   ]
  },
  {
   "cell_type": "code",
   "execution_count": 3,
   "metadata": {
    "execution": {
     "iopub.execute_input": "2021-04-09T18:37:14.064054Z",
     "iopub.status.busy": "2021-04-09T18:37:14.063787Z",
     "iopub.status.idle": "2021-04-09T18:37:47.729690Z",
     "shell.execute_reply": "2021-04-09T18:37:47.728941Z",
     "shell.execute_reply.started": "2021-04-09T18:37:14.064026Z"
    }
   },
   "outputs": [
    {
     "data": {
      "text/html": [
       "<div>\n",
       "<style scoped>\n",
       "    .dataframe tbody tr th:only-of-type {\n",
       "        vertical-align: middle;\n",
       "    }\n",
       "\n",
       "    .dataframe tbody tr th {\n",
       "        vertical-align: top;\n",
       "    }\n",
       "\n",
       "    .dataframe thead th {\n",
       "        text-align: right;\n",
       "    }\n",
       "</style>\n",
       "<table border=\"1\" class=\"dataframe\">\n",
       "  <thead>\n",
       "    <tr style=\"text-align: right;\">\n",
       "      <th></th>\n",
       "      <th>datetime</th>\n",
       "      <th>Description</th>\n",
       "      <th>Humidity</th>\n",
       "      <th>Wind Direction</th>\n",
       "      <th>Temperature</th>\n",
       "      <th>Pressure</th>\n",
       "      <th>Wind Speed</th>\n",
       "      <th>clouds</th>\n",
       "      <th>rain</th>\n",
       "      <th>mist</th>\n",
       "      <th>snow</th>\n",
       "      <th>shower</th>\n",
       "      <th>thunderstorm</th>\n",
       "      <th>fog</th>\n",
       "      <th>other</th>\n",
       "      <th>Intensity</th>\n",
       "    </tr>\n",
       "  </thead>\n",
       "  <tbody>\n",
       "    <tr>\n",
       "      <th>1</th>\n",
       "      <td>2012-10-01 13:00:00</td>\n",
       "      <td>heavy clouds</td>\n",
       "      <td>93.0</td>\n",
       "      <td>1001.0</td>\n",
       "      <td>285.83000</td>\n",
       "      <td>230.0</td>\n",
       "      <td>4.0</td>\n",
       "      <td>1</td>\n",
       "      <td>0</td>\n",
       "      <td>0</td>\n",
       "      <td>0</td>\n",
       "      <td>0</td>\n",
       "      <td>0</td>\n",
       "      <td>0</td>\n",
       "      <td>0</td>\n",
       "      <td>3.0</td>\n",
       "    </tr>\n",
       "    <tr>\n",
       "      <th>2</th>\n",
       "      <td>2012-10-01 14:00:00</td>\n",
       "      <td>sky is clear</td>\n",
       "      <td>91.0</td>\n",
       "      <td>986.0</td>\n",
       "      <td>285.83465</td>\n",
       "      <td>230.0</td>\n",
       "      <td>4.0</td>\n",
       "      <td>0</td>\n",
       "      <td>0</td>\n",
       "      <td>0</td>\n",
       "      <td>0</td>\n",
       "      <td>0</td>\n",
       "      <td>0</td>\n",
       "      <td>0</td>\n",
       "      <td>0</td>\n",
       "      <td>0.0</td>\n",
       "    </tr>\n",
       "    <tr>\n",
       "      <th>3</th>\n",
       "      <td>2012-10-01 15:00:00</td>\n",
       "      <td>sky is clear</td>\n",
       "      <td>87.0</td>\n",
       "      <td>945.0</td>\n",
       "      <td>285.84779</td>\n",
       "      <td>231.0</td>\n",
       "      <td>4.0</td>\n",
       "      <td>0</td>\n",
       "      <td>0</td>\n",
       "      <td>0</td>\n",
       "      <td>0</td>\n",
       "      <td>0</td>\n",
       "      <td>0</td>\n",
       "      <td>0</td>\n",
       "      <td>0</td>\n",
       "      <td>0.0</td>\n",
       "    </tr>\n",
       "  </tbody>\n",
       "</table>\n",
       "</div>"
      ],
      "text/plain": [
       "              datetime   Description  Humidity  Wind Direction  Temperature  \\\n",
       "1  2012-10-01 13:00:00  heavy clouds      93.0          1001.0    285.83000   \n",
       "2  2012-10-01 14:00:00  sky is clear      91.0           986.0    285.83465   \n",
       "3  2012-10-01 15:00:00  sky is clear      87.0           945.0    285.84779   \n",
       "\n",
       "   Pressure  Wind Speed  clouds  rain  mist  snow  shower  thunderstorm  fog  \\\n",
       "1     230.0         4.0       1     0     0     0       0             0    0   \n",
       "2     230.0         4.0       0     0     0     0       0             0    0   \n",
       "3     231.0         4.0       0     0     0     0       0             0    0   \n",
       "\n",
       "   other  Intensity  \n",
       "1      0        3.0  \n",
       "2      0        0.0  \n",
       "3      0        0.0  "
      ]
     },
     "execution_count": 3,
     "metadata": {},
     "output_type": "execute_result"
    }
   ],
   "source": [
    "import helper\n",
    "from helper import *\n",
    "\n",
    "df = load_and_preprocess()\n",
    "df.head(3)"
   ]
  },
  {
   "cell_type": "code",
   "execution_count": 4,
   "metadata": {
    "execution": {
     "iopub.execute_input": "2021-04-09T18:37:47.731764Z",
     "iopub.status.busy": "2021-04-09T18:37:47.731507Z",
     "iopub.status.idle": "2021-04-09T18:37:47.778217Z",
     "shell.execute_reply": "2021-04-09T18:37:47.777647Z",
     "shell.execute_reply.started": "2021-04-09T18:37:47.731735Z"
    }
   },
   "outputs": [
    {
     "data": {
      "text/html": [
       "<div>\n",
       "<style scoped>\n",
       "    .dataframe tbody tr th:only-of-type {\n",
       "        vertical-align: middle;\n",
       "    }\n",
       "\n",
       "    .dataframe tbody tr th {\n",
       "        vertical-align: top;\n",
       "    }\n",
       "\n",
       "    .dataframe thead th {\n",
       "        text-align: right;\n",
       "    }\n",
       "</style>\n",
       "<table border=\"1\" class=\"dataframe\">\n",
       "  <thead>\n",
       "    <tr style=\"text-align: right;\">\n",
       "      <th></th>\n",
       "      <th>Description</th>\n",
       "      <th>Humidity</th>\n",
       "      <th>Wind Direction</th>\n",
       "      <th>Temperature</th>\n",
       "      <th>Pressure</th>\n",
       "      <th>Wind Speed</th>\n",
       "      <th>clouds</th>\n",
       "      <th>rain</th>\n",
       "      <th>mist</th>\n",
       "      <th>snow</th>\n",
       "      <th>shower</th>\n",
       "      <th>thunderstorm</th>\n",
       "      <th>fog</th>\n",
       "      <th>other</th>\n",
       "      <th>Intensity</th>\n",
       "    </tr>\n",
       "    <tr>\n",
       "      <th>datetime</th>\n",
       "      <th></th>\n",
       "      <th></th>\n",
       "      <th></th>\n",
       "      <th></th>\n",
       "      <th></th>\n",
       "      <th></th>\n",
       "      <th></th>\n",
       "      <th></th>\n",
       "      <th></th>\n",
       "      <th></th>\n",
       "      <th></th>\n",
       "      <th></th>\n",
       "      <th></th>\n",
       "      <th></th>\n",
       "      <th></th>\n",
       "    </tr>\n",
       "  </thead>\n",
       "  <tbody>\n",
       "    <tr>\n",
       "      <th>2012-10-01 13:00:00</th>\n",
       "      <td>heavy clouds</td>\n",
       "      <td>93.0</td>\n",
       "      <td>1001.0</td>\n",
       "      <td>285.830000</td>\n",
       "      <td>230.0</td>\n",
       "      <td>4.0</td>\n",
       "      <td>1</td>\n",
       "      <td>0</td>\n",
       "      <td>0</td>\n",
       "      <td>0</td>\n",
       "      <td>0</td>\n",
       "      <td>0</td>\n",
       "      <td>0</td>\n",
       "      <td>0</td>\n",
       "      <td>3.0</td>\n",
       "    </tr>\n",
       "    <tr>\n",
       "      <th>2012-10-01 14:00:00</th>\n",
       "      <td>sky is clear</td>\n",
       "      <td>91.0</td>\n",
       "      <td>986.0</td>\n",
       "      <td>285.834650</td>\n",
       "      <td>230.0</td>\n",
       "      <td>4.0</td>\n",
       "      <td>0</td>\n",
       "      <td>0</td>\n",
       "      <td>0</td>\n",
       "      <td>0</td>\n",
       "      <td>0</td>\n",
       "      <td>0</td>\n",
       "      <td>0</td>\n",
       "      <td>0</td>\n",
       "      <td>0.0</td>\n",
       "    </tr>\n",
       "    <tr>\n",
       "      <th>2012-10-01 15:00:00</th>\n",
       "      <td>sky is clear</td>\n",
       "      <td>87.0</td>\n",
       "      <td>945.0</td>\n",
       "      <td>285.847790</td>\n",
       "      <td>231.0</td>\n",
       "      <td>4.0</td>\n",
       "      <td>0</td>\n",
       "      <td>0</td>\n",
       "      <td>0</td>\n",
       "      <td>0</td>\n",
       "      <td>0</td>\n",
       "      <td>0</td>\n",
       "      <td>0</td>\n",
       "      <td>0</td>\n",
       "      <td>0.0</td>\n",
       "    </tr>\n",
       "    <tr>\n",
       "      <th>2012-10-01 16:00:00</th>\n",
       "      <td>sky is clear</td>\n",
       "      <td>84.0</td>\n",
       "      <td>904.0</td>\n",
       "      <td>285.860929</td>\n",
       "      <td>233.0</td>\n",
       "      <td>4.0</td>\n",
       "      <td>0</td>\n",
       "      <td>0</td>\n",
       "      <td>0</td>\n",
       "      <td>0</td>\n",
       "      <td>0</td>\n",
       "      <td>0</td>\n",
       "      <td>0</td>\n",
       "      <td>0</td>\n",
       "      <td>0.0</td>\n",
       "    </tr>\n",
       "    <tr>\n",
       "      <th>2012-10-01 17:00:00</th>\n",
       "      <td>sky is clear</td>\n",
       "      <td>80.0</td>\n",
       "      <td>863.0</td>\n",
       "      <td>285.874069</td>\n",
       "      <td>234.0</td>\n",
       "      <td>3.0</td>\n",
       "      <td>0</td>\n",
       "      <td>0</td>\n",
       "      <td>0</td>\n",
       "      <td>0</td>\n",
       "      <td>0</td>\n",
       "      <td>0</td>\n",
       "      <td>0</td>\n",
       "      <td>0</td>\n",
       "      <td>0.0</td>\n",
       "    </tr>\n",
       "    <tr>\n",
       "      <th>...</th>\n",
       "      <td>...</td>\n",
       "      <td>...</td>\n",
       "      <td>...</td>\n",
       "      <td>...</td>\n",
       "      <td>...</td>\n",
       "      <td>...</td>\n",
       "      <td>...</td>\n",
       "      <td>...</td>\n",
       "      <td>...</td>\n",
       "      <td>...</td>\n",
       "      <td>...</td>\n",
       "      <td>...</td>\n",
       "      <td>...</td>\n",
       "      <td>...</td>\n",
       "      <td>...</td>\n",
       "    </tr>\n",
       "    <tr>\n",
       "      <th>2017-11-29 20:00:00</th>\n",
       "      <td>moderate  clouds</td>\n",
       "      <td>64.0</td>\n",
       "      <td>1021.0</td>\n",
       "      <td>275.130000</td>\n",
       "      <td>300.0</td>\n",
       "      <td>10.0</td>\n",
       "      <td>1</td>\n",
       "      <td>0</td>\n",
       "      <td>0</td>\n",
       "      <td>0</td>\n",
       "      <td>0</td>\n",
       "      <td>0</td>\n",
       "      <td>0</td>\n",
       "      <td>0</td>\n",
       "      <td>2.0</td>\n",
       "    </tr>\n",
       "    <tr>\n",
       "      <th>2017-11-29 21:00:00</th>\n",
       "      <td>moderate  clouds</td>\n",
       "      <td>59.0</td>\n",
       "      <td>1023.0</td>\n",
       "      <td>274.130000</td>\n",
       "      <td>300.0</td>\n",
       "      <td>7.0</td>\n",
       "      <td>1</td>\n",
       "      <td>0</td>\n",
       "      <td>0</td>\n",
       "      <td>0</td>\n",
       "      <td>0</td>\n",
       "      <td>0</td>\n",
       "      <td>0</td>\n",
       "      <td>0</td>\n",
       "      <td>2.0</td>\n",
       "    </tr>\n",
       "    <tr>\n",
       "      <th>2017-11-29 22:00:00</th>\n",
       "      <td>light  clouds</td>\n",
       "      <td>66.0</td>\n",
       "      <td>1024.0</td>\n",
       "      <td>273.480000</td>\n",
       "      <td>290.0</td>\n",
       "      <td>7.0</td>\n",
       "      <td>1</td>\n",
       "      <td>0</td>\n",
       "      <td>0</td>\n",
       "      <td>0</td>\n",
       "      <td>0</td>\n",
       "      <td>0</td>\n",
       "      <td>0</td>\n",
       "      <td>0</td>\n",
       "      <td>1.0</td>\n",
       "    </tr>\n",
       "    <tr>\n",
       "      <th>2017-11-29 23:00:00</th>\n",
       "      <td>light  clouds</td>\n",
       "      <td>58.0</td>\n",
       "      <td>1026.0</td>\n",
       "      <td>272.480000</td>\n",
       "      <td>290.0</td>\n",
       "      <td>4.0</td>\n",
       "      <td>1</td>\n",
       "      <td>0</td>\n",
       "      <td>0</td>\n",
       "      <td>0</td>\n",
       "      <td>0</td>\n",
       "      <td>0</td>\n",
       "      <td>0</td>\n",
       "      <td>0</td>\n",
       "      <td>1.0</td>\n",
       "    </tr>\n",
       "    <tr>\n",
       "      <th>2017-11-30 00:00:00</th>\n",
       "      <td>light  clouds</td>\n",
       "      <td>58.0</td>\n",
       "      <td>1027.0</td>\n",
       "      <td>271.800000</td>\n",
       "      <td>300.0</td>\n",
       "      <td>4.0</td>\n",
       "      <td>1</td>\n",
       "      <td>0</td>\n",
       "      <td>0</td>\n",
       "      <td>0</td>\n",
       "      <td>0</td>\n",
       "      <td>0</td>\n",
       "      <td>0</td>\n",
       "      <td>0</td>\n",
       "      <td>1.0</td>\n",
       "    </tr>\n",
       "  </tbody>\n",
       "</table>\n",
       "<p>45252 rows × 15 columns</p>\n",
       "</div>"
      ],
      "text/plain": [
       "                          Description  Humidity  Wind Direction  Temperature  \\\n",
       "datetime                                                                       \n",
       "2012-10-01 13:00:00      heavy clouds      93.0          1001.0   285.830000   \n",
       "2012-10-01 14:00:00      sky is clear      91.0           986.0   285.834650   \n",
       "2012-10-01 15:00:00      sky is clear      87.0           945.0   285.847790   \n",
       "2012-10-01 16:00:00      sky is clear      84.0           904.0   285.860929   \n",
       "2012-10-01 17:00:00      sky is clear      80.0           863.0   285.874069   \n",
       "...                               ...       ...             ...          ...   \n",
       "2017-11-29 20:00:00  moderate  clouds      64.0          1021.0   275.130000   \n",
       "2017-11-29 21:00:00  moderate  clouds      59.0          1023.0   274.130000   \n",
       "2017-11-29 22:00:00     light  clouds      66.0          1024.0   273.480000   \n",
       "2017-11-29 23:00:00     light  clouds      58.0          1026.0   272.480000   \n",
       "2017-11-30 00:00:00     light  clouds      58.0          1027.0   271.800000   \n",
       "\n",
       "                     Pressure  Wind Speed  clouds  rain  mist  snow  shower  \\\n",
       "datetime                                                                      \n",
       "2012-10-01 13:00:00     230.0         4.0       1     0     0     0       0   \n",
       "2012-10-01 14:00:00     230.0         4.0       0     0     0     0       0   \n",
       "2012-10-01 15:00:00     231.0         4.0       0     0     0     0       0   \n",
       "2012-10-01 16:00:00     233.0         4.0       0     0     0     0       0   \n",
       "2012-10-01 17:00:00     234.0         3.0       0     0     0     0       0   \n",
       "...                       ...         ...     ...   ...   ...   ...     ...   \n",
       "2017-11-29 20:00:00     300.0        10.0       1     0     0     0       0   \n",
       "2017-11-29 21:00:00     300.0         7.0       1     0     0     0       0   \n",
       "2017-11-29 22:00:00     290.0         7.0       1     0     0     0       0   \n",
       "2017-11-29 23:00:00     290.0         4.0       1     0     0     0       0   \n",
       "2017-11-30 00:00:00     300.0         4.0       1     0     0     0       0   \n",
       "\n",
       "                     thunderstorm  fog  other  Intensity  \n",
       "datetime                                                  \n",
       "2012-10-01 13:00:00             0    0      0        3.0  \n",
       "2012-10-01 14:00:00             0    0      0        0.0  \n",
       "2012-10-01 15:00:00             0    0      0        0.0  \n",
       "2012-10-01 16:00:00             0    0      0        0.0  \n",
       "2012-10-01 17:00:00             0    0      0        0.0  \n",
       "...                           ...  ...    ...        ...  \n",
       "2017-11-29 20:00:00             0    0      0        2.0  \n",
       "2017-11-29 21:00:00             0    0      0        2.0  \n",
       "2017-11-29 22:00:00             0    0      0        1.0  \n",
       "2017-11-29 23:00:00             0    0      0        1.0  \n",
       "2017-11-30 00:00:00             0    0      0        1.0  \n",
       "\n",
       "[45252 rows x 15 columns]"
      ]
     },
     "execution_count": 4,
     "metadata": {},
     "output_type": "execute_result"
    }
   ],
   "source": [
    "#need to specify datetime[ns] or else the rest will not run \n",
    "df['datetime'] = df['datetime'].astype('datetime64[ns]')\n",
    "weather_df = df.set_index('datetime')\n",
    "weather_df"
   ]
  },
  {
   "cell_type": "code",
   "execution_count": 4,
   "metadata": {
    "execution": {
     "iopub.execute_input": "2021-04-09T18:37:47.780435Z",
     "iopub.status.busy": "2021-04-09T18:37:47.780147Z",
     "iopub.status.idle": "2021-04-09T18:37:47.982998Z",
     "shell.execute_reply": "2021-04-09T18:37:47.982388Z",
     "shell.execute_reply.started": "2021-04-09T18:37:47.780408Z"
    }
   },
   "outputs": [
    {
     "data": {
      "text/plain": [
       "<AxesSubplot:xlabel='datetime'>"
      ]
     },
     "execution_count": 4,
     "metadata": {},
     "output_type": "execute_result"
    },
    {
     "data": {
      "image/png": "[encoded data removed]",
      "text/plain": [
       "<Figure size 432x288 with 1 Axes>"
      ]
     },
     "metadata": {},
     "output_type": "display_data"
    }
   ],
   "source": [
    "weather_df['Temperature'][100:200].plot()"
   ]
  },
  {
   "cell_type": "code",
   "execution_count": 5,
   "metadata": {
    "execution": {
     "iopub.execute_input": "2021-04-09T18:37:47.985027Z",
     "iopub.status.busy": "2021-04-09T18:37:47.984826Z",
     "iopub.status.idle": "2021-04-09T18:37:48.105832Z",
     "shell.execute_reply": "2021-04-09T18:37:48.105228Z",
     "shell.execute_reply.started": "2021-04-09T18:37:47.985002Z"
    }
   },
   "outputs": [
    {
     "data": {
      "text/plain": [
       "<AxesSubplot:xlabel='datetime'>"
      ]
     },
     "execution_count": 5,
     "metadata": {},
     "output_type": "execute_result"
    },
    {
     "data": {
      "image/png": "[encoded data removed]",
      "text/plain": [
       "<Figure size 432x288 with 1 Axes>"
      ]
     },
     "metadata": {},
     "output_type": "display_data"
    }
   ],
   "source": [
    "weather_df['Humidity'][100:200].plot()"
   ]
  },
  {
   "cell_type": "code",
   "execution_count": 6,
   "metadata": {
    "execution": {
     "iopub.execute_input": "2021-04-09T18:37:48.107109Z",
     "iopub.status.busy": "2021-04-09T18:37:48.106925Z",
     "iopub.status.idle": "2021-04-09T18:37:48.237876Z",
     "shell.execute_reply": "2021-04-09T18:37:48.237020Z",
     "shell.execute_reply.started": "2021-04-09T18:37:48.107086Z"
    }
   },
   "outputs": [
    {
     "data": {
      "text/plain": [
       "<AxesSubplot:xlabel='datetime'>"
      ]
     },
     "execution_count": 6,
     "metadata": {},
     "output_type": "execute_result"
    },
    {
     "data": {
      "image/png": "[encoded data removed]",
      "text/plain": [
       "<Figure size 432x288 with 1 Axes>"
      ]
     },
     "metadata": {},
     "output_type": "display_data"
    }
   ],
   "source": [
    "weather_df['Wind Direction'][100:200].plot()"
   ]
  },
  {
   "cell_type": "code",
   "execution_count": 7,
   "metadata": {
    "execution": {
     "iopub.execute_input": "2021-04-09T18:37:48.239579Z",
     "iopub.status.busy": "2021-04-09T18:37:48.239376Z",
     "iopub.status.idle": "2021-04-09T18:37:48.367598Z",
     "shell.execute_reply": "2021-04-09T18:37:48.367000Z",
     "shell.execute_reply.started": "2021-04-09T18:37:48.239554Z"
    }
   },
   "outputs": [
    {
     "data": {
      "text/plain": [
       "<AxesSubplot:xlabel='datetime'>"
      ]
     },
     "execution_count": 7,
     "metadata": {},
     "output_type": "execute_result"
    },
    {
     "data": {
      "image/png": "[encoded data removed]",
      "text/plain": [
       "<Figure size 432x288 with 1 Axes>"
      ]
     },
     "metadata": {},
     "output_type": "display_data"
    }
   ],
   "source": [
    "weather_df['Pressure'][100:200].plot()"
   ]
  },
  {
   "cell_type": "markdown",
   "metadata": {},
   "source": [
    "## Model 1: XGBoost\n",
    "\n",
    "We first create a base XGBoost model to benchmark other models against. The model will take simply the temperature and date columns as input."
   ]
  },
  {
   "cell_type": "code",
   "execution_count": 8,
   "metadata": {
    "execution": {
     "iopub.execute_input": "2021-04-09T18:58:33.170246Z",
     "iopub.status.busy": "2021-04-09T18:58:33.168895Z",
     "iopub.status.idle": "2021-04-09T18:58:33.207972Z",
     "shell.execute_reply": "2021-04-09T18:58:33.206803Z",
     "shell.execute_reply.started": "2021-04-09T18:58:33.170164Z"
    }
   },
   "outputs": [
    {
     "data": {
      "text/html": [
       "<div>\n",
       "<style scoped>\n",
       "    .dataframe tbody tr th:only-of-type {\n",
       "        vertical-align: middle;\n",
       "    }\n",
       "\n",
       "    .dataframe tbody tr th {\n",
       "        vertical-align: top;\n",
       "    }\n",
       "\n",
       "    .dataframe thead th {\n",
       "        text-align: right;\n",
       "    }\n",
       "</style>\n",
       "<table border=\"1\" class=\"dataframe\">\n",
       "  <thead>\n",
       "    <tr style=\"text-align: right;\">\n",
       "      <th></th>\n",
       "      <th>Temperature</th>\n",
       "    </tr>\n",
       "    <tr>\n",
       "      <th>datetime</th>\n",
       "      <th></th>\n",
       "    </tr>\n",
       "  </thead>\n",
       "  <tbody>\n",
       "    <tr>\n",
       "      <th>2012-10-01 13:00:00</th>\n",
       "      <td>285.830000</td>\n",
       "    </tr>\n",
       "    <tr>\n",
       "      <th>2012-10-01 14:00:00</th>\n",
       "      <td>285.834650</td>\n",
       "    </tr>\n",
       "    <tr>\n",
       "      <th>2012-10-01 15:00:00</th>\n",
       "      <td>285.847790</td>\n",
       "    </tr>\n",
       "    <tr>\n",
       "      <th>2012-10-01 16:00:00</th>\n",
       "      <td>285.860929</td>\n",
       "    </tr>\n",
       "    <tr>\n",
       "      <th>2012-10-01 17:00:00</th>\n",
       "      <td>285.874069</td>\n",
       "    </tr>\n",
       "    <tr>\n",
       "      <th>...</th>\n",
       "      <td>...</td>\n",
       "    </tr>\n",
       "    <tr>\n",
       "      <th>2017-11-29 20:00:00</th>\n",
       "      <td>275.130000</td>\n",
       "    </tr>\n",
       "    <tr>\n",
       "      <th>2017-11-29 21:00:00</th>\n",
       "      <td>274.130000</td>\n",
       "    </tr>\n",
       "    <tr>\n",
       "      <th>2017-11-29 22:00:00</th>\n",
       "      <td>273.480000</td>\n",
       "    </tr>\n",
       "    <tr>\n",
       "      <th>2017-11-29 23:00:00</th>\n",
       "      <td>272.480000</td>\n",
       "    </tr>\n",
       "    <tr>\n",
       "      <th>2017-11-30 00:00:00</th>\n",
       "      <td>271.800000</td>\n",
       "    </tr>\n",
       "  </tbody>\n",
       "</table>\n",
       "<p>45252 rows × 1 columns</p>\n",
       "</div>"
      ],
      "text/plain": [
       "                     Temperature\n",
       "datetime                        \n",
       "2012-10-01 13:00:00   285.830000\n",
       "2012-10-01 14:00:00   285.834650\n",
       "2012-10-01 15:00:00   285.847790\n",
       "2012-10-01 16:00:00   285.860929\n",
       "2012-10-01 17:00:00   285.874069\n",
       "...                          ...\n",
       "2017-11-29 20:00:00   275.130000\n",
       "2017-11-29 21:00:00   274.130000\n",
       "2017-11-29 22:00:00   273.480000\n",
       "2017-11-29 23:00:00   272.480000\n",
       "2017-11-30 00:00:00   271.800000\n",
       "\n",
       "[45252 rows x 1 columns]"
      ]
     },
     "execution_count": 8,
     "metadata": {},
     "output_type": "execute_result"
    }
   ],
   "source": [
    "ml_df = pd.DataFrame({'Temperature': weather_df['Temperature']}, index = weather_df.index)\n",
    "ml_df"
   ]
  },
  {
   "cell_type": "markdown",
   "metadata": {},
   "source": [
    "**Create lagged attributes**\n",
    "\n",
    "From this limited amount of information, we can create new variables such as the date, month, and year, which can give a sense of the cyclical nature of the time series. Then, we create lagged versions of the data -- i.e. the temperature from 1 hour, 2 hours, 12 hours, or 24 hours before."
   ]
  },
  {
   "cell_type": "code",
   "execution_count": 9,
   "metadata": {
    "execution": {
     "iopub.execute_input": "2021-04-09T19:02:25.425824Z",
     "iopub.status.busy": "2021-04-09T19:02:25.425631Z",
     "iopub.status.idle": "2021-04-09T19:02:51.539092Z",
     "shell.execute_reply": "2021-04-09T19:02:51.538338Z",
     "shell.execute_reply.started": "2021-04-09T19:02:25.425800Z"
    }
   },
   "outputs": [],
   "source": [
    "#CREATE LAGGED ATTRIBUTES \n",
    "\n",
    "ml_df['date'] = ml_df.index\n",
    "ml_df['month'] = ml_df['date'].dt.day\n",
    "ml_df['month'] = ml_df['date'].dt.month\n",
    "ml_df['year'] = ml_df['date'].dt.year\n",
    "\n",
    "ml_df['lag1'] = ml_df['Temperature'].shift(periods = 1, fill_value = 0)\n",
    "ml_df['lag2'] = ml_df['Temperature'].shift(periods = 2, fill_value = 0)\n",
    "ml_df['lag12'] = ml_df['Temperature'].shift(periods = 12, fill_value = 0)\n",
    "ml_df['lag24'] = ml_df['Temperature'].shift(periods = 24, fill_value = 0)\n",
    "\n",
    "ml_df['avg_temp'] = 0 \n",
    "for i in range(1, len(ml_df)):\n",
    "    ml_df['avg_temp'][i] = ml_df['lag1'][:i+1].mean()\n",
    "    \n",
    "\n",
    "ml_df.drop('date', axis = 1, inplace = True)\n",
    "\n",
    "#we have to eliminate all those with 0s\n",
    "ml_df = ml_df[ml_df['lag24'] != 0]"
   ]
  },
  {
   "cell_type": "code",
   "execution_count": 10,
   "metadata": {
    "execution": {
     "iopub.execute_input": "2021-04-09T19:02:51.541503Z",
     "iopub.status.busy": "2021-04-09T19:02:51.541160Z",
     "iopub.status.idle": "2021-04-09T19:02:51.547000Z",
     "shell.execute_reply": "2021-04-09T19:02:51.546205Z",
     "shell.execute_reply.started": "2021-04-09T19:02:51.541478Z"
    }
   },
   "outputs": [],
   "source": [
    "X = ml_df.iloc[:,1:]\n",
    "y = ml_df[['Temperature']]"
   ]
  },
  {
   "cell_type": "code",
   "execution_count": 11,
   "metadata": {
    "execution": {
     "iopub.execute_input": "2021-04-09T19:02:51.548805Z",
     "iopub.status.busy": "2021-04-09T19:02:51.548384Z",
     "iopub.status.idle": "2021-04-09T19:02:51.567450Z",
     "shell.execute_reply": "2021-04-09T19:02:51.566600Z",
     "shell.execute_reply.started": "2021-04-09T19:02:51.548773Z"
    }
   },
   "outputs": [
    {
     "data": {
      "text/html": [
       "<div>\n",
       "<style scoped>\n",
       "    .dataframe tbody tr th:only-of-type {\n",
       "        vertical-align: middle;\n",
       "    }\n",
       "\n",
       "    .dataframe tbody tr th {\n",
       "        vertical-align: top;\n",
       "    }\n",
       "\n",
       "    .dataframe thead th {\n",
       "        text-align: right;\n",
       "    }\n",
       "</style>\n",
       "<table border=\"1\" class=\"dataframe\">\n",
       "  <thead>\n",
       "    <tr style=\"text-align: right;\">\n",
       "      <th></th>\n",
       "      <th>month</th>\n",
       "      <th>year</th>\n",
       "      <th>lag1</th>\n",
       "      <th>lag2</th>\n",
       "      <th>lag12</th>\n",
       "      <th>lag24</th>\n",
       "      <th>avg_temp</th>\n",
       "    </tr>\n",
       "    <tr>\n",
       "      <th>datetime</th>\n",
       "      <th></th>\n",
       "      <th></th>\n",
       "      <th></th>\n",
       "      <th></th>\n",
       "      <th></th>\n",
       "      <th></th>\n",
       "      <th></th>\n",
       "    </tr>\n",
       "  </thead>\n",
       "  <tbody>\n",
       "    <tr>\n",
       "      <th>2012-10-02 13:00:00</th>\n",
       "      <td>10</td>\n",
       "      <td>2012</td>\n",
       "      <td>286.123721</td>\n",
       "      <td>286.110581</td>\n",
       "      <td>285.979185</td>\n",
       "      <td>285.830000</td>\n",
       "      <td>274</td>\n",
       "    </tr>\n",
       "    <tr>\n",
       "      <th>2012-10-02 14:00:00</th>\n",
       "      <td>10</td>\n",
       "      <td>2012</td>\n",
       "      <td>286.136860</td>\n",
       "      <td>286.123721</td>\n",
       "      <td>285.992325</td>\n",
       "      <td>285.834650</td>\n",
       "      <td>274</td>\n",
       "    </tr>\n",
       "    <tr>\n",
       "      <th>2012-10-02 15:00:00</th>\n",
       "      <td>10</td>\n",
       "      <td>2012</td>\n",
       "      <td>286.150000</td>\n",
       "      <td>286.136860</td>\n",
       "      <td>286.005465</td>\n",
       "      <td>285.847790</td>\n",
       "      <td>275</td>\n",
       "    </tr>\n",
       "    <tr>\n",
       "      <th>2012-10-02 16:00:00</th>\n",
       "      <td>10</td>\n",
       "      <td>2012</td>\n",
       "      <td>287.550000</td>\n",
       "      <td>286.150000</td>\n",
       "      <td>286.018604</td>\n",
       "      <td>285.860929</td>\n",
       "      <td>275</td>\n",
       "    </tr>\n",
       "    <tr>\n",
       "      <th>2012-10-02 17:00:00</th>\n",
       "      <td>10</td>\n",
       "      <td>2012</td>\n",
       "      <td>288.140000</td>\n",
       "      <td>287.550000</td>\n",
       "      <td>286.031744</td>\n",
       "      <td>285.874069</td>\n",
       "      <td>276</td>\n",
       "    </tr>\n",
       "    <tr>\n",
       "      <th>...</th>\n",
       "      <td>...</td>\n",
       "      <td>...</td>\n",
       "      <td>...</td>\n",
       "      <td>...</td>\n",
       "      <td>...</td>\n",
       "      <td>...</td>\n",
       "      <td>...</td>\n",
       "    </tr>\n",
       "    <tr>\n",
       "      <th>2017-11-29 20:00:00</th>\n",
       "      <td>11</td>\n",
       "      <td>2017</td>\n",
       "      <td>276.450000</td>\n",
       "      <td>276.150000</td>\n",
       "      <td>275.380000</td>\n",
       "      <td>273.750000</td>\n",
       "      <td>280</td>\n",
       "    </tr>\n",
       "    <tr>\n",
       "      <th>2017-11-29 21:00:00</th>\n",
       "      <td>11</td>\n",
       "      <td>2017</td>\n",
       "      <td>275.130000</td>\n",
       "      <td>276.450000</td>\n",
       "      <td>277.450000</td>\n",
       "      <td>274.050000</td>\n",
       "      <td>280</td>\n",
       "    </tr>\n",
       "    <tr>\n",
       "      <th>2017-11-29 22:00:00</th>\n",
       "      <td>11</td>\n",
       "      <td>2017</td>\n",
       "      <td>274.130000</td>\n",
       "      <td>275.130000</td>\n",
       "      <td>278.770000</td>\n",
       "      <td>274.050000</td>\n",
       "      <td>280</td>\n",
       "    </tr>\n",
       "    <tr>\n",
       "      <th>2017-11-29 23:00:00</th>\n",
       "      <td>11</td>\n",
       "      <td>2017</td>\n",
       "      <td>273.480000</td>\n",
       "      <td>274.130000</td>\n",
       "      <td>278.480000</td>\n",
       "      <td>279.057000</td>\n",
       "      <td>280</td>\n",
       "    </tr>\n",
       "    <tr>\n",
       "      <th>2017-11-30 00:00:00</th>\n",
       "      <td>11</td>\n",
       "      <td>2017</td>\n",
       "      <td>272.480000</td>\n",
       "      <td>273.480000</td>\n",
       "      <td>277.450000</td>\n",
       "      <td>274.730000</td>\n",
       "      <td>280</td>\n",
       "    </tr>\n",
       "  </tbody>\n",
       "</table>\n",
       "<p>45228 rows × 7 columns</p>\n",
       "</div>"
      ],
      "text/plain": [
       "                     month  year        lag1        lag2       lag12  \\\n",
       "datetime                                                               \n",
       "2012-10-02 13:00:00     10  2012  286.123721  286.110581  285.979185   \n",
       "2012-10-02 14:00:00     10  2012  286.136860  286.123721  285.992325   \n",
       "2012-10-02 15:00:00     10  2012  286.150000  286.136860  286.005465   \n",
       "2012-10-02 16:00:00     10  2012  287.550000  286.150000  286.018604   \n",
       "2012-10-02 17:00:00     10  2012  288.140000  287.550000  286.031744   \n",
       "...                    ...   ...         ...         ...         ...   \n",
       "2017-11-29 20:00:00     11  2017  276.450000  276.150000  275.380000   \n",
       "2017-11-29 21:00:00     11  2017  275.130000  276.450000  277.450000   \n",
       "2017-11-29 22:00:00     11  2017  274.130000  275.130000  278.770000   \n",
       "2017-11-29 23:00:00     11  2017  273.480000  274.130000  278.480000   \n",
       "2017-11-30 00:00:00     11  2017  272.480000  273.480000  277.450000   \n",
       "\n",
       "                          lag24  avg_temp  \n",
       "datetime                                   \n",
       "2012-10-02 13:00:00  285.830000       274  \n",
       "2012-10-02 14:00:00  285.834650       274  \n",
       "2012-10-02 15:00:00  285.847790       275  \n",
       "2012-10-02 16:00:00  285.860929       275  \n",
       "2012-10-02 17:00:00  285.874069       276  \n",
       "...                         ...       ...  \n",
       "2017-11-29 20:00:00  273.750000       280  \n",
       "2017-11-29 21:00:00  274.050000       280  \n",
       "2017-11-29 22:00:00  274.050000       280  \n",
       "2017-11-29 23:00:00  279.057000       280  \n",
       "2017-11-30 00:00:00  274.730000       280  \n",
       "\n",
       "[45228 rows x 7 columns]"
      ]
     },
     "execution_count": 11,
     "metadata": {},
     "output_type": "execute_result"
    }
   ],
   "source": [
    "X"
   ]
  },
  {
   "cell_type": "markdown",
   "metadata": {},
   "source": [
    "**Split Data**\n",
    "\n",
    "Here, we split the data in sequence of time, since the data is a time series. "
   ]
  },
  {
   "cell_type": "code",
   "execution_count": 12,
   "metadata": {
    "execution": {
     "iopub.execute_input": "2021-04-09T19:02:51.571131Z",
     "iopub.status.busy": "2021-04-09T19:02:51.570853Z",
     "iopub.status.idle": "2021-04-09T19:02:51.577315Z",
     "shell.execute_reply": "2021-04-09T19:02:51.576440Z",
     "shell.execute_reply.started": "2021-04-09T19:02:51.571094Z"
    }
   },
   "outputs": [],
   "source": [
    "def train_test_split(data, n_test):\n",
    "    return data[:n_test], data[n_test:]\n",
    "\n",
    "split_len = int(len(weather_df)*0.80)\n",
    "\n",
    "X_train, X_test = train_test_split(X, split_len)\n",
    "y_train, y_test = train_test_split(y, split_len)"
   ]
  },
  {
   "cell_type": "markdown",
   "metadata": {},
   "source": [
    "**Standardize Variables**"
   ]
  },
  {
   "cell_type": "code",
   "execution_count": 14,
   "metadata": {
    "execution": {
     "iopub.execute_input": "2021-04-09T19:02:51.579865Z",
     "iopub.status.busy": "2021-04-09T19:02:51.579599Z",
     "iopub.status.idle": "2021-04-09T19:02:51.599618Z",
     "shell.execute_reply": "2021-04-09T19:02:51.598817Z",
     "shell.execute_reply.started": "2021-04-09T19:02:51.579826Z"
    }
   },
   "outputs": [],
   "source": [
    "from sklearn.preprocessing import StandardScaler\n",
    "\n",
    "scaler = StandardScaler()\n",
    "X_train_scaled = scaler.fit_transform(X_train)\n",
    "X_train = pd.DataFrame(X_train_scaled, columns = X_train.columns) #X_train_raw.columns?\n",
    "X_train.columns = X.columns\n",
    "\n",
    "X_test_scaled = scaler.transform(X_test)\n",
    "X_test = pd.DataFrame(X_test_scaled, columns = X_train.columns) #X_train_raw.columns?\n",
    "X_train.columns = X.columns\n"
   ]
  },
  {
   "cell_type": "code",
   "execution_count": 16,
   "metadata": {},
   "outputs": [
    {
     "data": {
      "text/html": [
       "<div>\n",
       "<style scoped>\n",
       "    .dataframe tbody tr th:only-of-type {\n",
       "        vertical-align: middle;\n",
       "    }\n",
       "\n",
       "    .dataframe tbody tr th {\n",
       "        vertical-align: top;\n",
       "    }\n",
       "\n",
       "    .dataframe thead th {\n",
       "        text-align: right;\n",
       "    }\n",
       "</style>\n",
       "<table border=\"1\" class=\"dataframe\">\n",
       "  <thead>\n",
       "    <tr style=\"text-align: right;\">\n",
       "      <th></th>\n",
       "      <th>month</th>\n",
       "      <th>year</th>\n",
       "      <th>lag1</th>\n",
       "      <th>lag2</th>\n",
       "      <th>lag12</th>\n",
       "      <th>lag24</th>\n",
       "      <th>avg_temp</th>\n",
       "    </tr>\n",
       "  </thead>\n",
       "  <tbody>\n",
       "    <tr>\n",
       "      <th>0</th>\n",
       "      <td>0.969616</td>\n",
       "      <td>-1.894039</td>\n",
       "      <td>0.481534</td>\n",
       "      <td>0.480436</td>\n",
       "      <td>0.469357</td>\n",
       "      <td>0.456781</td>\n",
       "      <td>-1.753930</td>\n",
       "    </tr>\n",
       "    <tr>\n",
       "      <th>1</th>\n",
       "      <td>0.969616</td>\n",
       "      <td>-1.894039</td>\n",
       "      <td>0.482619</td>\n",
       "      <td>0.481521</td>\n",
       "      <td>0.470442</td>\n",
       "      <td>0.457166</td>\n",
       "      <td>-1.753930</td>\n",
       "    </tr>\n",
       "    <tr>\n",
       "      <th>2</th>\n",
       "      <td>0.969616</td>\n",
       "      <td>-1.894039</td>\n",
       "      <td>0.483704</td>\n",
       "      <td>0.482607</td>\n",
       "      <td>0.471528</td>\n",
       "      <td>0.458251</td>\n",
       "      <td>-1.325868</td>\n",
       "    </tr>\n",
       "    <tr>\n",
       "      <th>3</th>\n",
       "      <td>0.969616</td>\n",
       "      <td>-1.894039</td>\n",
       "      <td>0.599362</td>\n",
       "      <td>0.483692</td>\n",
       "      <td>0.472613</td>\n",
       "      <td>0.459336</td>\n",
       "      <td>-1.325868</td>\n",
       "    </tr>\n",
       "    <tr>\n",
       "      <th>4</th>\n",
       "      <td>0.969616</td>\n",
       "      <td>-1.894039</td>\n",
       "      <td>0.648103</td>\n",
       "      <td>0.599349</td>\n",
       "      <td>0.473699</td>\n",
       "      <td>0.460422</td>\n",
       "      <td>-0.897806</td>\n",
       "    </tr>\n",
       "    <tr>\n",
       "      <th>...</th>\n",
       "      <td>...</td>\n",
       "      <td>...</td>\n",
       "      <td>...</td>\n",
       "      <td>...</td>\n",
       "      <td>...</td>\n",
       "      <td>...</td>\n",
       "      <td>...</td>\n",
       "    </tr>\n",
       "    <tr>\n",
       "      <th>36196</th>\n",
       "      <td>1.258538</td>\n",
       "      <td>1.388207</td>\n",
       "      <td>-0.201977</td>\n",
       "      <td>-0.286251</td>\n",
       "      <td>-0.371557</td>\n",
       "      <td>0.152777</td>\n",
       "      <td>0.814442</td>\n",
       "    </tr>\n",
       "    <tr>\n",
       "      <th>36197</th>\n",
       "      <td>1.258538</td>\n",
       "      <td>1.388207</td>\n",
       "      <td>-0.122669</td>\n",
       "      <td>-0.201987</td>\n",
       "      <td>-0.482256</td>\n",
       "      <td>0.210604</td>\n",
       "      <td>0.814442</td>\n",
       "    </tr>\n",
       "    <tr>\n",
       "      <th>36198</th>\n",
       "      <td>1.258538</td>\n",
       "      <td>1.388207</td>\n",
       "      <td>-0.041709</td>\n",
       "      <td>-0.122679</td>\n",
       "      <td>-0.514474</td>\n",
       "      <td>0.264300</td>\n",
       "      <td>0.814442</td>\n",
       "    </tr>\n",
       "    <tr>\n",
       "      <th>36199</th>\n",
       "      <td>1.258538</td>\n",
       "      <td>1.388207</td>\n",
       "      <td>0.064035</td>\n",
       "      <td>-0.041719</td>\n",
       "      <td>-0.621043</td>\n",
       "      <td>0.237865</td>\n",
       "      <td>0.814442</td>\n",
       "    </tr>\n",
       "    <tr>\n",
       "      <th>36200</th>\n",
       "      <td>1.258538</td>\n",
       "      <td>1.388207</td>\n",
       "      <td>0.095427</td>\n",
       "      <td>0.064024</td>\n",
       "      <td>-0.588824</td>\n",
       "      <td>0.235387</td>\n",
       "      <td>0.814442</td>\n",
       "    </tr>\n",
       "  </tbody>\n",
       "</table>\n",
       "<p>36201 rows × 7 columns</p>\n",
       "</div>"
      ],
      "text/plain": [
       "          month      year      lag1      lag2     lag12     lag24  avg_temp\n",
       "0      0.969616 -1.894039  0.481534  0.480436  0.469357  0.456781 -1.753930\n",
       "1      0.969616 -1.894039  0.482619  0.481521  0.470442  0.457166 -1.753930\n",
       "2      0.969616 -1.894039  0.483704  0.482607  0.471528  0.458251 -1.325868\n",
       "3      0.969616 -1.894039  0.599362  0.483692  0.472613  0.459336 -1.325868\n",
       "4      0.969616 -1.894039  0.648103  0.599349  0.473699  0.460422 -0.897806\n",
       "...         ...       ...       ...       ...       ...       ...       ...\n",
       "36196  1.258538  1.388207 -0.201977 -0.286251 -0.371557  0.152777  0.814442\n",
       "36197  1.258538  1.388207 -0.122669 -0.201987 -0.482256  0.210604  0.814442\n",
       "36198  1.258538  1.388207 -0.041709 -0.122679 -0.514474  0.264300  0.814442\n",
       "36199  1.258538  1.388207  0.064035 -0.041719 -0.621043  0.237865  0.814442\n",
       "36200  1.258538  1.388207  0.095427  0.064024 -0.588824  0.235387  0.814442\n",
       "\n",
       "[36201 rows x 7 columns]"
      ]
     },
     "execution_count": 16,
     "metadata": {},
     "output_type": "execute_result"
    }
   ],
   "source": [
    "X_train"
   ]
  },
  {
   "cell_type": "markdown",
   "metadata": {},
   "source": [
    "**Run XGBoost Model and generate RMSE**"
   ]
  },
  {
   "cell_type": "code",
   "execution_count": 17,
   "metadata": {
    "execution": {
     "iopub.execute_input": "2021-04-09T19:02:51.600982Z",
     "iopub.status.busy": "2021-04-09T19:02:51.600797Z",
     "iopub.status.idle": "2021-04-09T19:02:53.724304Z",
     "shell.execute_reply": "2021-04-09T19:02:53.723481Z",
     "shell.execute_reply.started": "2021-04-09T19:02:51.600959Z"
    }
   },
   "outputs": [],
   "source": [
    "import xgboost as xgb\n",
    "\n",
    "xgb_model = xgb.XGBRegressor(n_estimators=1000)\n",
    "xgb_model.fit(X_train, y_train,\n",
    "              eval_set=[(X_train, y_train), (X_test, y_test)],\n",
    "              early_stopping_rounds=50,\n",
    "              verbose=False) \n",
    "\n",
    "pred = xgb_model.predict(X_test)"
   ]
  },
  {
   "cell_type": "code",
   "execution_count": 18,
   "metadata": {
    "execution": {
     "iopub.execute_input": "2021-04-09T19:02:53.726091Z",
     "iopub.status.busy": "2021-04-09T19:02:53.725658Z",
     "iopub.status.idle": "2021-04-09T19:02:53.737697Z",
     "shell.execute_reply": "2021-04-09T19:02:53.736674Z",
     "shell.execute_reply.started": "2021-04-09T19:02:53.726054Z"
    }
   },
   "outputs": [
    {
     "data": {
      "text/plain": [
       "0.6105905232613383"
      ]
     },
     "execution_count": 18,
     "metadata": {},
     "output_type": "execute_result"
    }
   ],
   "source": [
    "ts_results = pd.DataFrame({'Predicted': pred, 'Observed': y_test['Temperature']})\n",
    "ts_results[ts_results['Predicted'] <= 0] = 0\n",
    "ts_results['RMSE'] = np.sqrt((ts_results['Predicted']-ts_results['Observed'])**2)\n",
    "ts_results['RMSE'].mean()"
   ]
  },
  {
   "cell_type": "code",
   "execution_count": 19,
   "metadata": {
    "execution": {
     "iopub.execute_input": "2021-04-09T19:02:53.739414Z",
     "iopub.status.busy": "2021-04-09T19:02:53.739052Z",
     "iopub.status.idle": "2021-04-09T19:02:54.296816Z",
     "shell.execute_reply": "2021-04-09T19:02:54.295996Z",
     "shell.execute_reply.started": "2021-04-09T19:02:53.739378Z"
    }
   },
   "outputs": [
    {
     "data": {
      "image/png": "[encoded data removed]",
      "text/plain": [
       "<Figure size 720x360 with 1 Axes>"
      ]
     },
     "metadata": {},
     "output_type": "display_data"
    }
   ],
   "source": [
    "#plot real against predicted values\n",
    "ax = weather_df['Temperature'].plot(label='observed')\n",
    "ts_results['Predicted'].plot(ax=ax, label='One-step ahead Forecast', alpha=.7, figsize=(10, 5))\n",
    "\n",
    "ax.set_xlabel('Date')\n",
    "ax.set_ylabel('Temperature')\n",
    "plt.legend()\n",
    "plt.show()"
   ]
  },
  {
   "cell_type": "code",
   "execution_count": 20,
   "metadata": {
    "execution": {
     "iopub.execute_input": "2021-04-09T19:02:54.298628Z",
     "iopub.status.busy": "2021-04-09T19:02:54.298403Z",
     "iopub.status.idle": "2021-04-09T19:02:54.317534Z",
     "shell.execute_reply": "2021-04-09T19:02:54.316962Z",
     "shell.execute_reply.started": "2021-04-09T19:02:54.298600Z"
    }
   },
   "outputs": [
    {
     "data": {
      "text/html": [
       "<style  type=\"text/css\" >\n",
       "#T_516d4_row0_col0,#T_516d4_row0_col1,#T_516d4_row4_col2{\n",
       "            background-color:  #fcffa4;\n",
       "            color:  #000000;\n",
       "        }#T_516d4_row0_col2{\n",
       "            background-color:  #84206b;\n",
       "            color:  #f1f1f1;\n",
       "        }#T_516d4_row1_col0{\n",
       "            background-color:  #fbb81d;\n",
       "            color:  #000000;\n",
       "        }#T_516d4_row1_col1{\n",
       "            background-color:  #f3761b;\n",
       "            color:  #000000;\n",
       "        }#T_516d4_row1_col2{\n",
       "            background-color:  #fbbc21;\n",
       "            color:  #000000;\n",
       "        }#T_516d4_row2_col0{\n",
       "            background-color:  #d84c3e;\n",
       "            color:  #000000;\n",
       "        }#T_516d4_row2_col1,#T_516d4_row3_col1{\n",
       "            background-color:  #fb9706;\n",
       "            color:  #000000;\n",
       "        }#T_516d4_row2_col2{\n",
       "            background-color:  #ab2f5e;\n",
       "            color:  #f1f1f1;\n",
       "        }#T_516d4_row3_col0{\n",
       "            background-color:  #fc9f07;\n",
       "            color:  #000000;\n",
       "        }#T_516d4_row3_col2{\n",
       "            background-color:  #7d1e6d;\n",
       "            color:  #f1f1f1;\n",
       "        }#T_516d4_row4_col0{\n",
       "            background-color:  #fca108;\n",
       "            color:  #000000;\n",
       "        }#T_516d4_row4_col1{\n",
       "            background-color:  #df5337;\n",
       "            color:  #000000;\n",
       "        }#T_516d4_row5_col0,#T_516d4_row6_col1{\n",
       "            background-color:  #ca404a;\n",
       "            color:  #f1f1f1;\n",
       "        }#T_516d4_row5_col1{\n",
       "            background-color:  #e05536;\n",
       "            color:  #000000;\n",
       "        }#T_516d4_row5_col2{\n",
       "            background-color:  #02020c;\n",
       "            color:  #f1f1f1;\n",
       "        }#T_516d4_row6_col0{\n",
       "            background-color:  #d04545;\n",
       "            color:  #f1f1f1;\n",
       "        }#T_516d4_row6_col2{\n",
       "            background-color:  #5f136e;\n",
       "            color:  #f1f1f1;\n",
       "        }#T_516d4_row7_col0{\n",
       "            background-color:  #85216b;\n",
       "            color:  #f1f1f1;\n",
       "        }#T_516d4_row7_col1{\n",
       "            background-color:  #8c2369;\n",
       "            color:  #f1f1f1;\n",
       "        }#T_516d4_row7_col2{\n",
       "            background-color:  #060419;\n",
       "            color:  #f1f1f1;\n",
       "        }#T_516d4_row8_col0{\n",
       "            background-color:  #801f6c;\n",
       "            color:  #f1f1f1;\n",
       "        }#T_516d4_row8_col1{\n",
       "            background-color:  #4d0d6c;\n",
       "            color:  #f1f1f1;\n",
       "        }#T_516d4_row8_col2{\n",
       "            background-color:  #db503b;\n",
       "            color:  #000000;\n",
       "        }#T_516d4_row9_col0{\n",
       "            background-color:  #2d0b59;\n",
       "            color:  #f1f1f1;\n",
       "        }#T_516d4_row9_col1{\n",
       "            background-color:  #4f0d6c;\n",
       "            color:  #f1f1f1;\n",
       "        }#T_516d4_row9_col2,#T_516d4_row10_col0{\n",
       "            background-color:  #450a69;\n",
       "            color:  #f1f1f1;\n",
       "        }#T_516d4_row10_col1{\n",
       "            background-color:  #290b55;\n",
       "            color:  #f1f1f1;\n",
       "        }#T_516d4_row10_col2,#T_516d4_row17_col1{\n",
       "            background-color:  #69166e;\n",
       "            color:  #f1f1f1;\n",
       "        }#T_516d4_row11_col0{\n",
       "            background-color:  #110a30;\n",
       "            color:  #f1f1f1;\n",
       "        }#T_516d4_row11_col1,#T_516d4_row14_col1{\n",
       "            background-color:  #0c0826;\n",
       "            color:  #f1f1f1;\n",
       "        }#T_516d4_row11_col2,#T_516d4_row12_col0{\n",
       "            background-color:  #09061f;\n",
       "            color:  #f1f1f1;\n",
       "        }#T_516d4_row12_col1,#T_516d4_row13_col0,#T_516d4_row15_col2{\n",
       "            background-color:  #000004;\n",
       "            color:  #f1f1f1;\n",
       "        }#T_516d4_row12_col2{\n",
       "            background-color:  #3e0966;\n",
       "            color:  #f1f1f1;\n",
       "        }#T_516d4_row13_col1{\n",
       "            background-color:  #0d0829;\n",
       "            color:  #f1f1f1;\n",
       "        }#T_516d4_row13_col2{\n",
       "            background-color:  #540f6d;\n",
       "            color:  #f1f1f1;\n",
       "        }#T_516d4_row14_col0{\n",
       "            background-color:  #190c3e;\n",
       "            color:  #f1f1f1;\n",
       "        }#T_516d4_row14_col2{\n",
       "            background-color:  #310a5c;\n",
       "            color:  #f1f1f1;\n",
       "        }#T_516d4_row15_col0,#T_516d4_row15_col1,#T_516d4_row16_col0{\n",
       "            background-color:  #10092d;\n",
       "            color:  #f1f1f1;\n",
       "        }#T_516d4_row16_col1{\n",
       "            background-color:  #0b0724;\n",
       "            color:  #f1f1f1;\n",
       "        }#T_516d4_row16_col2{\n",
       "            background-color:  #08051d;\n",
       "            color:  #f1f1f1;\n",
       "        }#T_516d4_row17_col0{\n",
       "            background-color:  #040314;\n",
       "            color:  #f1f1f1;\n",
       "        }#T_516d4_row17_col2{\n",
       "            background-color:  #f1ef75;\n",
       "            color:  #000000;\n",
       "        }#T_516d4_row18_col0{\n",
       "            background-color:  #6a176e;\n",
       "            color:  #f1f1f1;\n",
       "        }#T_516d4_row18_col1{\n",
       "            background-color:  #a82e5f;\n",
       "            color:  #f1f1f1;\n",
       "        }#T_516d4_row18_col2{\n",
       "            background-color:  #a22b62;\n",
       "            color:  #f1f1f1;\n",
       "        }#T_516d4_row19_col0{\n",
       "            background-color:  #c73e4c;\n",
       "            color:  #f1f1f1;\n",
       "        }#T_516d4_row19_col1{\n",
       "            background-color:  #f57b17;\n",
       "            color:  #000000;\n",
       "        }#T_516d4_row19_col2{\n",
       "            background-color:  #9f2a63;\n",
       "            color:  #f1f1f1;\n",
       "        }</style><table id=\"T_516d4_\" ><thead>    <tr>        <th class=\"blank level0\" ></th>        <th class=\"col_heading level0 col0\" >Predicted</th>        <th class=\"col_heading level0 col1\" >Observed</th>        <th class=\"col_heading level0 col2\" >RMSE</th>    </tr>    <tr>        <th class=\"index_name level0\" >datetime</th>        <th class=\"blank\" ></th>        <th class=\"blank\" ></th>        <th class=\"blank\" ></th>    </tr></thead><tbody>\n",
       "                <tr>\n",
       "                        <th id=\"T_516d4_level0_row0\" class=\"row_heading level0 row0\" >2016-11-18 22:00:00</th>\n",
       "                        <td id=\"T_516d4_row0_col0\" class=\"data row0 col0\" >279.593292</td>\n",
       "                        <td id=\"T_516d4_row0_col1\" class=\"data row0 col1\" >279.150000</td>\n",
       "                        <td id=\"T_516d4_row0_col2\" class=\"data row0 col2\" >0.443292</td>\n",
       "            </tr>\n",
       "            <tr>\n",
       "                        <th id=\"T_516d4_level0_row1\" class=\"row_heading level0 row1\" >2016-11-18 23:00:00</th>\n",
       "                        <td id=\"T_516d4_row1_col0\" class=\"data row1 col0\" >278.821808</td>\n",
       "                        <td id=\"T_516d4_row1_col1\" class=\"data row1 col1\" >277.840000</td>\n",
       "                        <td id=\"T_516d4_row1_col2\" class=\"data row1 col2\" >0.981808</td>\n",
       "            </tr>\n",
       "            <tr>\n",
       "                        <th id=\"T_516d4_level0_row2\" class=\"row_heading level0 row2\" >2016-11-19 00:00:00</th>\n",
       "                        <td id=\"T_516d4_row2_col0\" class=\"data row2 col0\" >277.596008</td>\n",
       "                        <td id=\"T_516d4_row2_col1\" class=\"data row2 col1\" >278.150000</td>\n",
       "                        <td id=\"T_516d4_row2_col2\" class=\"data row2 col2\" >0.553992</td>\n",
       "            </tr>\n",
       "            <tr>\n",
       "                        <th id=\"T_516d4_level0_row3\" class=\"row_heading level0 row3\" >2016-11-19 01:00:00</th>\n",
       "                        <td id=\"T_516d4_row3_col0\" class=\"data row3 col0\" >278.580017</td>\n",
       "                        <td id=\"T_516d4_row3_col1\" class=\"data row3 col1\" >278.150000</td>\n",
       "                        <td id=\"T_516d4_row3_col2\" class=\"data row3 col2\" >0.430017</td>\n",
       "            </tr>\n",
       "            <tr>\n",
       "                        <th id=\"T_516d4_level0_row4\" class=\"row_heading level0 row4\" >2016-11-19 02:00:00</th>\n",
       "                        <td id=\"T_516d4_row4_col0\" class=\"data row4 col0\" >278.593811</td>\n",
       "                        <td id=\"T_516d4_row4_col1\" class=\"data row4 col1\" >277.440000</td>\n",
       "                        <td id=\"T_516d4_row4_col2\" class=\"data row4 col2\" >1.153811</td>\n",
       "            </tr>\n",
       "            <tr>\n",
       "                        <th id=\"T_516d4_level0_row5\" class=\"row_heading level0 row5\" >2016-11-19 03:00:00</th>\n",
       "                        <td id=\"T_516d4_row5_col0\" class=\"data row5 col0\" >277.390137</td>\n",
       "                        <td id=\"T_516d4_row5_col1\" class=\"data row5 col1\" >277.460000</td>\n",
       "                        <td id=\"T_516d4_row5_col2\" class=\"data row5 col2\" >0.069863</td>\n",
       "            </tr>\n",
       "            <tr>\n",
       "                        <th id=\"T_516d4_level0_row6\" class=\"row_heading level0 row6\" >2016-11-19 04:00:00</th>\n",
       "                        <td id=\"T_516d4_row6_col0\" class=\"data row6 col0\" >277.496918</td>\n",
       "                        <td id=\"T_516d4_row6_col1\" class=\"data row6 col1\" >277.150000</td>\n",
       "                        <td id=\"T_516d4_row6_col2\" class=\"data row6 col2\" >0.346918</td>\n",
       "            </tr>\n",
       "            <tr>\n",
       "                        <th id=\"T_516d4_level0_row7\" class=\"row_heading level0 row7\" >2016-11-19 05:00:00</th>\n",
       "                        <td id=\"T_516d4_row7_col0\" class=\"data row7 col0\" >276.556122</td>\n",
       "                        <td id=\"T_516d4_row7_col1\" class=\"data row7 col1\" >276.460000</td>\n",
       "                        <td id=\"T_516d4_row7_col2\" class=\"data row7 col2\" >0.096122</td>\n",
       "            </tr>\n",
       "            <tr>\n",
       "                        <th id=\"T_516d4_level0_row8\" class=\"row_heading level0 row8\" >2016-11-19 06:00:00</th>\n",
       "                        <td id=\"T_516d4_row8_col0\" class=\"data row8 col0\" >276.503723</td>\n",
       "                        <td id=\"T_516d4_row8_col1\" class=\"data row8 col1\" >275.800000</td>\n",
       "                        <td id=\"T_516d4_row8_col2\" class=\"data row8 col2\" >0.703723</td>\n",
       "            </tr>\n",
       "            <tr>\n",
       "                        <th id=\"T_516d4_level0_row9\" class=\"row_heading level0 row9\" >2016-11-19 07:00:00</th>\n",
       "                        <td id=\"T_516d4_row9_col0\" class=\"data row9 col0\" >275.541748</td>\n",
       "                        <td id=\"T_516d4_row9_col1\" class=\"data row9 col1\" >275.820000</td>\n",
       "                        <td id=\"T_516d4_row9_col2\" class=\"data row9 col2\" >0.278252</td>\n",
       "            </tr>\n",
       "            <tr>\n",
       "                        <th id=\"T_516d4_level0_row10\" class=\"row_heading level0 row10\" >2016-11-19 08:00:00</th>\n",
       "                        <td id=\"T_516d4_row10_col0\" class=\"data row10 col0\" >275.812286</td>\n",
       "                        <td id=\"T_516d4_row10_col1\" class=\"data row10 col1\" >275.440000</td>\n",
       "                        <td id=\"T_516d4_row10_col2\" class=\"data row10 col2\" >0.372286</td>\n",
       "            </tr>\n",
       "            <tr>\n",
       "                        <th id=\"T_516d4_level0_row11\" class=\"row_heading level0 row11\" >2016-11-19 09:00:00</th>\n",
       "                        <td id=\"T_516d4_row11_col0\" class=\"data row11 col0\" >275.206360</td>\n",
       "                        <td id=\"T_516d4_row11_col1\" class=\"data row11 col1\" >275.100000</td>\n",
       "                        <td id=\"T_516d4_row11_col2\" class=\"data row11 col2\" >0.106360</td>\n",
       "            </tr>\n",
       "            <tr>\n",
       "                        <th id=\"T_516d4_level0_row12\" class=\"row_heading level0 row12\" >2016-11-19 10:00:00</th>\n",
       "                        <td id=\"T_516d4_row12_col0\" class=\"data row12 col0\" >275.068512</td>\n",
       "                        <td id=\"T_516d4_row12_col1\" class=\"data row12 col1\" >274.810000</td>\n",
       "                        <td id=\"T_516d4_row12_col2\" class=\"data row12 col2\" >0.258512</td>\n",
       "            </tr>\n",
       "            <tr>\n",
       "                        <th id=\"T_516d4_level0_row13\" class=\"row_heading level0 row13\" >2016-11-19 11:00:00</th>\n",
       "                        <td id=\"T_516d4_row13_col0\" class=\"data row13 col0\" >274.804596</td>\n",
       "                        <td id=\"T_516d4_row13_col1\" class=\"data row13 col1\" >275.120000</td>\n",
       "                        <td id=\"T_516d4_row13_col2\" class=\"data row13 col2\" >0.315404</td>\n",
       "            </tr>\n",
       "            <tr>\n",
       "                        <th id=\"T_516d4_level0_row14\" class=\"row_heading level0 row14\" >2016-11-19 12:00:00</th>\n",
       "                        <td id=\"T_516d4_row14_col0\" class=\"data row14 col0\" >275.323456</td>\n",
       "                        <td id=\"T_516d4_row14_col1\" class=\"data row14 col1\" >275.100000</td>\n",
       "                        <td id=\"T_516d4_row14_col2\" class=\"data row14 col2\" >0.223456</td>\n",
       "            </tr>\n",
       "            <tr>\n",
       "                        <th id=\"T_516d4_level0_row15\" class=\"row_heading level0 row15\" >2016-11-19 13:00:00</th>\n",
       "                        <td id=\"T_516d4_row15_col0\" class=\"data row15 col0\" >275.194519</td>\n",
       "                        <td id=\"T_516d4_row15_col1\" class=\"data row15 col1\" >275.150000</td>\n",
       "                        <td id=\"T_516d4_row15_col2\" class=\"data row15 col2\" >0.044519</td>\n",
       "            </tr>\n",
       "            <tr>\n",
       "                        <th id=\"T_516d4_level0_row16\" class=\"row_heading level0 row16\" >2016-11-19 14:00:00</th>\n",
       "                        <td id=\"T_516d4_row16_col0\" class=\"data row16 col0\" >275.194519</td>\n",
       "                        <td id=\"T_516d4_row16_col1\" class=\"data row16 col1\" >275.090000</td>\n",
       "                        <td id=\"T_516d4_row16_col2\" class=\"data row16 col2\" >0.104519</td>\n",
       "            </tr>\n",
       "            <tr>\n",
       "                        <th id=\"T_516d4_level0_row17\" class=\"row_heading level0 row17\" >2016-11-19 15:00:00</th>\n",
       "                        <td id=\"T_516d4_row17_col0\" class=\"data row17 col0\" >274.990143</td>\n",
       "                        <td id=\"T_516d4_row17_col1\" class=\"data row17 col1\" >276.090000</td>\n",
       "                        <td id=\"T_516d4_row17_col2\" class=\"data row17 col2\" >1.099857</td>\n",
       "            </tr>\n",
       "            <tr>\n",
       "                        <th id=\"T_516d4_level0_row18\" class=\"row_heading level0 row18\" >2016-11-19 16:00:00</th>\n",
       "                        <td id=\"T_516d4_row18_col0\" class=\"data row18 col0\" >276.244110</td>\n",
       "                        <td id=\"T_516d4_row18_col1\" class=\"data row18 col1\" >276.770000</td>\n",
       "                        <td id=\"T_516d4_row18_col2\" class=\"data row18 col2\" >0.525890</td>\n",
       "            </tr>\n",
       "            <tr>\n",
       "                        <th id=\"T_516d4_level0_row19\" class=\"row_heading level0 row19\" >2016-11-19 17:00:00</th>\n",
       "                        <td id=\"T_516d4_row19_col0\" class=\"data row19 col0\" >277.361542</td>\n",
       "                        <td id=\"T_516d4_row19_col1\" class=\"data row19 col1\" >277.880000</td>\n",
       "                        <td id=\"T_516d4_row19_col2\" class=\"data row19 col2\" >0.518458</td>\n",
       "            </tr>\n",
       "    </tbody></table>"
      ],
      "text/plain": [
       "<pandas.io.formats.style.Styler at 0x278769bb048>"
      ]
     },
     "execution_count": 20,
     "metadata": {},
     "output_type": "execute_result"
    }
   ],
   "source": [
    "ts_results.head(20).style.background_gradient(cmap='inferno')"
   ]
  },
  {
   "cell_type": "markdown",
   "metadata": {},
   "source": [
    "### **Plot Feature Importances**\n",
    "\n",
    "Here, we can see that the temperature at the hour before is the most important factor in predicting temperature, followed by two hours, 12 hours, and 24 hours before. This makes sense intuitively, given that the temperature at the most recent timesteps is more likely to be closely related to the temperature at the next timestep. "
   ]
  },
  {
   "cell_type": "code",
   "execution_count": 28,
   "metadata": {
    "execution": {
     "iopub.status.busy": "2021-04-09T19:02:54.324465Z",
     "iopub.status.idle": "2021-04-09T19:02:54.324878Z",
     "shell.execute_reply": "2021-04-09T19:02:54.324713Z"
    }
   },
   "outputs": [
    {
     "data": {
      "text/plain": [
       "<AxesSubplot:title={'center':'Feature importance'}, xlabel='F score', ylabel='Features'>"
      ]
     },
     "execution_count": 28,
     "metadata": {},
     "output_type": "execute_result"
    },
    {
     "data": {
      "image/png": "[encoded data removed]",
      "text/plain": [
       "<Figure size 720x360 with 1 Axes>"
      ]
     },
     "metadata": {},
     "output_type": "display_data"
    }
   ],
   "source": [
    "plt.figure(figsize=(10,5))\n",
    "xgb.plot_importance(xgb_model, ax=plt.gca())"
   ]
  },
  {
   "cell_type": "markdown",
   "metadata": {},
   "source": [
    "### **Model Explainability Using Shap**"
   ]
  },
  {
   "cell_type": "code",
   "execution_count": 26,
   "metadata": {},
   "outputs": [],
   "source": [
    "explainer = shap.Explainer(xgb_model)\n",
    "shap_values = explainer.shap_values(X_train)"
   ]
  },
  {
   "cell_type": "markdown",
   "metadata": {},
   "source": [
    "Below is shap summary plot and here is how you read it:\n",
    "* Each dot is a training example\n",
    "\n",
    "\n",
    "* **List of features** on the left is sorted in order of highest feature importance on the model's output (temperature). \n",
    "    * We see that indeed, lag1 is the most important feature (as indicated in the feature importance section above) and pretty similar order for the rest of the features. \n",
    "    * The colors (red and blue) represent the values (high to low) of the corresponding feature. \n",
    "    * Purple means that the feature is associated to both high and low ouputs.\n",
    "\n",
    "\n",
    "* **The x-axis** values at the bottom, represent the shap values, which is the degree to how much strength the feature's high/low value is correlated on the target/output variable. \n",
    "    * **Lag1:** If we look at lag1 we observe that it's pretty symetrical overall and directly proportional, meaning that low values of lag1 is associated with lower temperature, while high values of lag1 is associated with higher temperatures. Both red and blue has more bulk in the lower ranges, while blue has more range than red in the further ranges (low values of lag1 is more associated with lower temperature than high values of lag1 in high temperature observations).\n",
    "    * **Lag12:** On the other hand seem to correlate with lower temperatures more when its value is low, but not as much when its values are high with higher temperatures. There also seem to be lots of outlier like datapoints.\n",
    "\n",
    "Note: In this plot, there is a bit of pertubation of values that sit close together for better visualization. \n"
   ]
  },
  {
   "cell_type": "code",
   "execution_count": 27,
   "metadata": {},
   "outputs": [
    {
     "data": {
      "image/png": "[encoded data removed]",
      "text/plain": [
       "<Figure size 576x309.6 with 2 Axes>"
      ]
     },
     "metadata": {},
     "output_type": "display_data"
    }
   ],
   "source": [
    "shap.summary_plot(shap_values, X_train)"
   ]
  },
  {
   "cell_type": "markdown",
   "metadata": {},
   "source": [
    "If we want to zoom into 1 feature specific, we can use a dependence plot. Here we see more clearly what was already explained above about the lag1 feature."
   ]
  },
  {
   "cell_type": "code",
   "execution_count": 35,
   "metadata": {},
   "outputs": [
    {
     "data": {
      "image/png": "[encoded data removed]",
      "text/plain": [
       "<Figure size 432x360 with 1 Axes>"
      ]
     },
     "metadata": {},
     "output_type": "display_data"
    },
    {
     "data": {
      "image/png": "[encoded data removed]",
      "text/plain": [
       "<Figure size 432x360 with 1 Axes>"
      ]
     },
     "metadata": {},
     "output_type": "display_data"
    }
   ],
   "source": [
    "shap.dependence_plot(\"lag1\", shap_values, X_train, interaction_index=\"lag1\")\n",
    "shap.dependence_plot(\"lag12\", shap_values, X_train, interaction_index=\"lag12\")"
   ]
  },
  {
   "cell_type": "markdown",
   "metadata": {},
   "source": [
    "## Model 2: Compare Other Models\n",
    "\n",
    "Using the similar logic as before, we can compare the performance of multiple other base models. Here, we can see that none of them models perform as well as the base XGBoost model."
   ]
  },
  {
   "cell_type": "code",
   "execution_count": 90,
   "metadata": {
    "execution": {
     "iopub.execute_input": "2021-04-09T18:40:27.889320Z",
     "iopub.status.busy": "2021-04-09T18:40:27.888887Z",
     "iopub.status.idle": "2021-04-09T18:40:45.252218Z",
     "shell.execute_reply": "2021-04-09T18:40:45.251393Z",
     "shell.execute_reply.started": "2021-04-09T18:40:27.889264Z"
    }
   },
   "outputs": [
    {
     "name": "stdout",
     "output_type": "stream",
     "text": [
      "Model =  Linear Regression\n",
      "MSE:  0.7809309598028665\n",
      "RMSE:  0.8837029816645786\n",
      "MAE:  0.6228986473492575\n",
      "-------------------\n",
      "Model =  RF regressor\n",
      "MSE:  0.7523597696592069\n",
      "RMSE:  0.8673867474542177\n",
      "MAE:  0.6095352784778607\n",
      "-------------------\n",
      "Model =  GBT\n",
      "MSE:  0.8679987114603378\n",
      "RMSE:  0.9316644843828371\n",
      "MAE:  0.663457384335792\n",
      "-------------------\n",
      "Model =  LASSO\n",
      "MSE:  1.8717026436818185\n",
      "RMSE:  1.3681018396602713\n",
      "MAE:  1.0725981902221222\n",
      "-------------------\n",
      "Model =  Ridge\n",
      "MSE:  0.7826333252155179\n",
      "RMSE:  0.8846656573053562\n",
      "MAE:  0.6238340232355316\n",
      "-------------------\n"
     ]
    }
   ],
   "source": [
    "#Import models' packages\n",
    "from sklearn.linear_model import LinearRegression\n",
    "from sklearn.ensemble import RandomForestRegressor\n",
    "from sklearn.ensemble import GradientBoostingRegressor\n",
    "from sklearn.linear_model import Lasso\n",
    "from sklearn.linear_model import Ridge\n",
    "from sklearn.metrics import mean_squared_error, mean_absolute_error\n",
    "\n",
    "\n",
    "#Regression Models\n",
    "regression_models = [['Linear Regression',LinearRegression()], \n",
    "                     ['RF regressor',RandomForestRegressor()], \n",
    "                     ['GBT',GradientBoostingRegressor()],\n",
    "                     ['LASSO', Lasso()],\n",
    "                     ['Ridge', Ridge()]]\n",
    "                     \n",
    "\n",
    "MSEs = []\n",
    "MAEs = []\n",
    "RMSEs = []\n",
    "Models = ['Linear Regression', 'Random Forest Regressor', 'Gradient Boosting Regressor', 'Lasso', 'Ridge']\n",
    "\n",
    "for name, model in regression_models: \n",
    "    print('Model = ', name)\n",
    "    model.fit(X_train, y_train.values.ravel())\n",
    "    y_test_pred = model.predict(X_test)\n",
    "    \n",
    "    MSE = mean_squared_error(y_test, y_test_pred)\n",
    "    MAE = mean_absolute_error(y_test, y_test_pred)\n",
    "    RMSE = np.sqrt(MSE)\n",
    "    \n",
    "    MSEs.append(MSE)\n",
    "    MAEs.append(MAE)\n",
    "    RMSEs.append(RMSE)\n",
    "    print(\"MSE: \", MSE)\n",
    "    print(\"RMSE: \", RMSE)\n",
    "    print(\"MAE: \", MAE)\n",
    "    print(\"-\" * 19)"
   ]
  },
  {
   "cell_type": "markdown",
   "metadata": {},
   "source": [
    "## Model 3: Generate New Variables for XGBoost"
   ]
  },
  {
   "cell_type": "markdown",
   "metadata": {},
   "source": [
    "Similar to above, we create a model with new lagged variables. However, now we introduce a greater set of variables, such as the humidity, wind direction, pressure, cloud, rain, and mist status of the time step before. \n",
    "\n",
    "We see after evaluating the model that it actually performs slightly worse than the XGBoost model with fewer variables (RMSE = 0.62 vs. 0.61). "
   ]
  },
  {
   "cell_type": "code",
   "execution_count": 5,
   "metadata": {
    "execution": {
     "iopub.execute_input": "2021-04-08T20:11:34.214444Z",
     "iopub.status.busy": "2021-04-08T20:11:34.214038Z",
     "iopub.status.idle": "2021-04-08T20:11:34.260906Z",
     "shell.execute_reply": "2021-04-08T20:11:34.259971Z",
     "shell.execute_reply.started": "2021-04-08T20:11:34.214394Z"
    }
   },
   "outputs": [],
   "source": [
    "#CREATE LAGGED ATTRIBUTES \n",
    "ml_df = weather_df.copy()\n",
    "ml_df['date'] = ml_df.index\n",
    "ml_df['month'] = ml_df['date'].dt.day\n",
    "ml_df['month'] = ml_df['date'].dt.month\n",
    "ml_df['year'] = ml_df['date'].dt.year\n",
    "\n",
    "ml_df['Temp_lag1'] = ml_df['Temperature'].shift(periods = 1, fill_value = 0)\n",
    "ml_df['Temp_lag2'] = ml_df['Temperature'].shift(periods = 2, fill_value = 0)\n",
    "ml_df['Temp_lag12'] = ml_df['Temperature'].shift(periods = 12, fill_value = 0)\n",
    "ml_df['Temp_lag24'] = ml_df['Temperature'].shift(periods = 24, fill_value = 0)\n",
    "\n",
    "ml_df['Humidity_lag1'] = ml_df['Humidity'].shift(periods = 1, fill_value = 0)\n",
    "ml_df['Humidity_lag2'] = ml_df['Humidity'].shift(periods = 2, fill_value = 0)\n",
    "ml_df['Humidity_lag12'] = ml_df['Humidity'].shift(periods = 12, fill_value = 0)\n",
    "ml_df['Humidity_lag24'] = ml_df['Humidity'].shift(periods = 24, fill_value = 0)\n",
    "\n",
    "ml_df['Wind_Direction_lag1'] = ml_df['Wind Direction'].shift(periods = 1, fill_value = 0)\n",
    "ml_df['Pressure_lag1'] = ml_df['Pressure'].shift(periods = 1, fill_value = 0)\n",
    "ml_df['Wind_Speed_lag1'] = ml_df['Wind Speed'].shift(periods = 1, fill_value = 0)\n",
    "ml_df['clouds_lag1'] = ml_df['clouds'].shift(periods = 1, fill_value = 0)\n",
    "ml_df['rain_lag1'] = ml_df['rain'].shift(periods = 1, fill_value = 0)\n",
    "ml_df['mist_lag1'] = ml_df['mist'].shift(periods = 1, fill_value = 0)\n",
    "ml_df['snow_lag1'] = ml_df['snow'].shift(periods = 1, fill_value = 0)\n",
    "ml_df['shower_lag1'] = ml_df['shower'].shift(periods = 1, fill_value = 0)\n",
    "ml_df['thunderstorm_lag1'] = ml_df['thunderstorm'].shift(periods = 1, fill_value = 0)\n",
    "ml_df['fog_lag1'] = ml_df['fog'].shift(periods = 1, fill_value = 0)\n",
    "ml_df['other_lag1'] = ml_df['other'].shift(periods = 1, fill_value = 0)\n",
    "ml_df['intensity_lag1'] = ml_df['Intensity'].shift(periods = 1, fill_value = 0)"
   ]
  },
  {
   "cell_type": "code",
   "execution_count": 6,
   "metadata": {
    "execution": {
     "iopub.execute_input": "2021-04-08T20:11:35.691792Z",
     "iopub.status.busy": "2021-04-08T20:11:35.691452Z",
     "iopub.status.idle": "2021-04-08T20:12:03.259696Z",
     "shell.execute_reply": "2021-04-08T20:12:03.258805Z",
     "shell.execute_reply.started": "2021-04-08T20:11:35.691751Z"
    }
   },
   "outputs": [],
   "source": [
    "ml_df['avg_temp'] = 0 \n",
    "for i in range(1, len(ml_df)):\n",
    "    ml_df['avg_temp'][i] = ml_df['Temp_lag1'][:i+1].mean()\n",
    "    \n",
    "#we have to eliminate all those with 0s\n",
    "ml_df = ml_df[ml_df['Temp_lag24'] != 0]"
   ]
  },
  {
   "cell_type": "code",
   "execution_count": 7,
   "metadata": {
    "execution": {
     "iopub.execute_input": "2021-04-08T20:12:03.261321Z",
     "iopub.status.busy": "2021-04-08T20:12:03.261124Z",
     "iopub.status.idle": "2021-04-08T20:12:03.268825Z",
     "shell.execute_reply": "2021-04-08T20:12:03.268084Z",
     "shell.execute_reply.started": "2021-04-08T20:12:03.261296Z"
    }
   },
   "outputs": [],
   "source": [
    "ml_df.drop(['Description','Humidity','Pressure','Wind Direction','Wind Speed','clouds','rain','mist','snow','shower','thunderstorm','fog','other','Intensity','date'], axis = 1, inplace = True)"
   ]
  },
  {
   "cell_type": "code",
   "execution_count": 8,
   "metadata": {
    "execution": {
     "iopub.execute_input": "2021-04-08T20:12:03.270928Z",
     "iopub.status.busy": "2021-04-08T20:12:03.270710Z",
     "iopub.status.idle": "2021-04-08T20:12:03.311862Z",
     "shell.execute_reply": "2021-04-08T20:12:03.310869Z",
     "shell.execute_reply.started": "2021-04-08T20:12:03.270906Z"
    }
   },
   "outputs": [
    {
     "data": {
      "text/html": [
       "<div>\n",
       "<style scoped>\n",
       "    .dataframe tbody tr th:only-of-type {\n",
       "        vertical-align: middle;\n",
       "    }\n",
       "\n",
       "    .dataframe tbody tr th {\n",
       "        vertical-align: top;\n",
       "    }\n",
       "\n",
       "    .dataframe thead th {\n",
       "        text-align: right;\n",
       "    }\n",
       "</style>\n",
       "<table border=\"1\" class=\"dataframe\">\n",
       "  <thead>\n",
       "    <tr style=\"text-align: right;\">\n",
       "      <th></th>\n",
       "      <th>Temperature</th>\n",
       "      <th>month</th>\n",
       "      <th>year</th>\n",
       "      <th>Temp_lag1</th>\n",
       "      <th>Temp_lag2</th>\n",
       "      <th>Temp_lag12</th>\n",
       "      <th>Temp_lag24</th>\n",
       "      <th>Humidity_lag1</th>\n",
       "      <th>Humidity_lag2</th>\n",
       "      <th>Humidity_lag12</th>\n",
       "      <th>...</th>\n",
       "      <th>clouds_lag1</th>\n",
       "      <th>rain_lag1</th>\n",
       "      <th>mist_lag1</th>\n",
       "      <th>snow_lag1</th>\n",
       "      <th>shower_lag1</th>\n",
       "      <th>thunderstorm_lag1</th>\n",
       "      <th>fog_lag1</th>\n",
       "      <th>other_lag1</th>\n",
       "      <th>intensity_lag1</th>\n",
       "      <th>avg_temp</th>\n",
       "    </tr>\n",
       "    <tr>\n",
       "      <th>datetime</th>\n",
       "      <th></th>\n",
       "      <th></th>\n",
       "      <th></th>\n",
       "      <th></th>\n",
       "      <th></th>\n",
       "      <th></th>\n",
       "      <th></th>\n",
       "      <th></th>\n",
       "      <th></th>\n",
       "      <th></th>\n",
       "      <th></th>\n",
       "      <th></th>\n",
       "      <th></th>\n",
       "      <th></th>\n",
       "      <th></th>\n",
       "      <th></th>\n",
       "      <th></th>\n",
       "      <th></th>\n",
       "      <th></th>\n",
       "      <th></th>\n",
       "      <th></th>\n",
       "    </tr>\n",
       "  </thead>\n",
       "  <tbody>\n",
       "    <tr>\n",
       "      <th>2012-10-02 13:00:00</th>\n",
       "      <td>286.13686</td>\n",
       "      <td>10</td>\n",
       "      <td>2012</td>\n",
       "      <td>286.123721</td>\n",
       "      <td>286.110581</td>\n",
       "      <td>285.979185</td>\n",
       "      <td>285.830000</td>\n",
       "      <td>7.000000</td>\n",
       "      <td>11.000000</td>\n",
       "      <td>49.0</td>\n",
       "      <td>...</td>\n",
       "      <td>0</td>\n",
       "      <td>0</td>\n",
       "      <td>0</td>\n",
       "      <td>0</td>\n",
       "      <td>0</td>\n",
       "      <td>0</td>\n",
       "      <td>0</td>\n",
       "      <td>0</td>\n",
       "      <td>0.0</td>\n",
       "      <td>274</td>\n",
       "    </tr>\n",
       "    <tr>\n",
       "      <th>2012-10-02 14:00:00</th>\n",
       "      <td>286.15000</td>\n",
       "      <td>10</td>\n",
       "      <td>2012</td>\n",
       "      <td>286.136860</td>\n",
       "      <td>286.123721</td>\n",
       "      <td>285.992325</td>\n",
       "      <td>285.834650</td>\n",
       "      <td>71.861538</td>\n",
       "      <td>7.000000</td>\n",
       "      <td>45.0</td>\n",
       "      <td>...</td>\n",
       "      <td>0</td>\n",
       "      <td>0</td>\n",
       "      <td>0</td>\n",
       "      <td>0</td>\n",
       "      <td>0</td>\n",
       "      <td>0</td>\n",
       "      <td>0</td>\n",
       "      <td>0</td>\n",
       "      <td>0.0</td>\n",
       "      <td>274</td>\n",
       "    </tr>\n",
       "    <tr>\n",
       "      <th>2012-10-02 15:00:00</th>\n",
       "      <td>287.55000</td>\n",
       "      <td>10</td>\n",
       "      <td>2012</td>\n",
       "      <td>286.150000</td>\n",
       "      <td>286.136860</td>\n",
       "      <td>286.005465</td>\n",
       "      <td>285.847790</td>\n",
       "      <td>71.861538</td>\n",
       "      <td>71.861538</td>\n",
       "      <td>42.0</td>\n",
       "      <td>...</td>\n",
       "      <td>0</td>\n",
       "      <td>0</td>\n",
       "      <td>0</td>\n",
       "      <td>0</td>\n",
       "      <td>0</td>\n",
       "      <td>0</td>\n",
       "      <td>0</td>\n",
       "      <td>0</td>\n",
       "      <td>0.0</td>\n",
       "      <td>275</td>\n",
       "    </tr>\n",
       "    <tr>\n",
       "      <th>2012-10-02 16:00:00</th>\n",
       "      <td>288.14000</td>\n",
       "      <td>10</td>\n",
       "      <td>2012</td>\n",
       "      <td>287.550000</td>\n",
       "      <td>286.150000</td>\n",
       "      <td>286.018604</td>\n",
       "      <td>285.860929</td>\n",
       "      <td>82.000000</td>\n",
       "      <td>71.861538</td>\n",
       "      <td>38.0</td>\n",
       "      <td>...</td>\n",
       "      <td>1</td>\n",
       "      <td>0</td>\n",
       "      <td>0</td>\n",
       "      <td>0</td>\n",
       "      <td>0</td>\n",
       "      <td>0</td>\n",
       "      <td>0</td>\n",
       "      <td>0</td>\n",
       "      <td>3.0</td>\n",
       "      <td>275</td>\n",
       "    </tr>\n",
       "    <tr>\n",
       "      <th>2012-10-02 17:00:00</th>\n",
       "      <td>288.69000</td>\n",
       "      <td>10</td>\n",
       "      <td>2012</td>\n",
       "      <td>288.140000</td>\n",
       "      <td>287.550000</td>\n",
       "      <td>286.031744</td>\n",
       "      <td>285.874069</td>\n",
       "      <td>71.861538</td>\n",
       "      <td>82.000000</td>\n",
       "      <td>34.0</td>\n",
       "      <td>...</td>\n",
       "      <td>0</td>\n",
       "      <td>0</td>\n",
       "      <td>0</td>\n",
       "      <td>0</td>\n",
       "      <td>0</td>\n",
       "      <td>0</td>\n",
       "      <td>0</td>\n",
       "      <td>0</td>\n",
       "      <td>0.0</td>\n",
       "      <td>276</td>\n",
       "    </tr>\n",
       "    <tr>\n",
       "      <th>...</th>\n",
       "      <td>...</td>\n",
       "      <td>...</td>\n",
       "      <td>...</td>\n",
       "      <td>...</td>\n",
       "      <td>...</td>\n",
       "      <td>...</td>\n",
       "      <td>...</td>\n",
       "      <td>...</td>\n",
       "      <td>...</td>\n",
       "      <td>...</td>\n",
       "      <td>...</td>\n",
       "      <td>...</td>\n",
       "      <td>...</td>\n",
       "      <td>...</td>\n",
       "      <td>...</td>\n",
       "      <td>...</td>\n",
       "      <td>...</td>\n",
       "      <td>...</td>\n",
       "      <td>...</td>\n",
       "      <td>...</td>\n",
       "      <td>...</td>\n",
       "    </tr>\n",
       "    <tr>\n",
       "      <th>2017-11-29 20:00:00</th>\n",
       "      <td>275.13000</td>\n",
       "      <td>11</td>\n",
       "      <td>2017</td>\n",
       "      <td>276.450000</td>\n",
       "      <td>276.150000</td>\n",
       "      <td>275.380000</td>\n",
       "      <td>273.750000</td>\n",
       "      <td>73.000000</td>\n",
       "      <td>73.000000</td>\n",
       "      <td>80.0</td>\n",
       "      <td>...</td>\n",
       "      <td>1</td>\n",
       "      <td>0</td>\n",
       "      <td>0</td>\n",
       "      <td>0</td>\n",
       "      <td>0</td>\n",
       "      <td>0</td>\n",
       "      <td>0</td>\n",
       "      <td>0</td>\n",
       "      <td>2.0</td>\n",
       "      <td>280</td>\n",
       "    </tr>\n",
       "    <tr>\n",
       "      <th>2017-11-29 21:00:00</th>\n",
       "      <td>274.13000</td>\n",
       "      <td>11</td>\n",
       "      <td>2017</td>\n",
       "      <td>275.130000</td>\n",
       "      <td>276.450000</td>\n",
       "      <td>277.450000</td>\n",
       "      <td>274.050000</td>\n",
       "      <td>64.000000</td>\n",
       "      <td>73.000000</td>\n",
       "      <td>93.0</td>\n",
       "      <td>...</td>\n",
       "      <td>1</td>\n",
       "      <td>0</td>\n",
       "      <td>0</td>\n",
       "      <td>0</td>\n",
       "      <td>0</td>\n",
       "      <td>0</td>\n",
       "      <td>0</td>\n",
       "      <td>0</td>\n",
       "      <td>2.0</td>\n",
       "      <td>280</td>\n",
       "    </tr>\n",
       "    <tr>\n",
       "      <th>2017-11-29 22:00:00</th>\n",
       "      <td>273.48000</td>\n",
       "      <td>11</td>\n",
       "      <td>2017</td>\n",
       "      <td>274.130000</td>\n",
       "      <td>275.130000</td>\n",
       "      <td>278.770000</td>\n",
       "      <td>274.050000</td>\n",
       "      <td>59.000000</td>\n",
       "      <td>64.000000</td>\n",
       "      <td>87.0</td>\n",
       "      <td>...</td>\n",
       "      <td>1</td>\n",
       "      <td>0</td>\n",
       "      <td>0</td>\n",
       "      <td>0</td>\n",
       "      <td>0</td>\n",
       "      <td>0</td>\n",
       "      <td>0</td>\n",
       "      <td>0</td>\n",
       "      <td>2.0</td>\n",
       "      <td>280</td>\n",
       "    </tr>\n",
       "    <tr>\n",
       "      <th>2017-11-29 23:00:00</th>\n",
       "      <td>272.48000</td>\n",
       "      <td>11</td>\n",
       "      <td>2017</td>\n",
       "      <td>273.480000</td>\n",
       "      <td>274.130000</td>\n",
       "      <td>278.480000</td>\n",
       "      <td>279.057000</td>\n",
       "      <td>66.000000</td>\n",
       "      <td>59.000000</td>\n",
       "      <td>87.0</td>\n",
       "      <td>...</td>\n",
       "      <td>1</td>\n",
       "      <td>0</td>\n",
       "      <td>0</td>\n",
       "      <td>0</td>\n",
       "      <td>0</td>\n",
       "      <td>0</td>\n",
       "      <td>0</td>\n",
       "      <td>0</td>\n",
       "      <td>1.0</td>\n",
       "      <td>280</td>\n",
       "    </tr>\n",
       "    <tr>\n",
       "      <th>2017-11-30 00:00:00</th>\n",
       "      <td>271.80000</td>\n",
       "      <td>11</td>\n",
       "      <td>2017</td>\n",
       "      <td>272.480000</td>\n",
       "      <td>273.480000</td>\n",
       "      <td>277.450000</td>\n",
       "      <td>274.730000</td>\n",
       "      <td>58.000000</td>\n",
       "      <td>66.000000</td>\n",
       "      <td>86.0</td>\n",
       "      <td>...</td>\n",
       "      <td>1</td>\n",
       "      <td>0</td>\n",
       "      <td>0</td>\n",
       "      <td>0</td>\n",
       "      <td>0</td>\n",
       "      <td>0</td>\n",
       "      <td>0</td>\n",
       "      <td>0</td>\n",
       "      <td>1.0</td>\n",
       "      <td>280</td>\n",
       "    </tr>\n",
       "  </tbody>\n",
       "</table>\n",
       "<p>45228 rows × 24 columns</p>\n",
       "</div>"
      ],
      "text/plain": [
       "                     Temperature  month  year   Temp_lag1   Temp_lag2  \\\n",
       "datetime                                                                \n",
       "2012-10-02 13:00:00    286.13686     10  2012  286.123721  286.110581   \n",
       "2012-10-02 14:00:00    286.15000     10  2012  286.136860  286.123721   \n",
       "2012-10-02 15:00:00    287.55000     10  2012  286.150000  286.136860   \n",
       "2012-10-02 16:00:00    288.14000     10  2012  287.550000  286.150000   \n",
       "2012-10-02 17:00:00    288.69000     10  2012  288.140000  287.550000   \n",
       "...                          ...    ...   ...         ...         ...   \n",
       "2017-11-29 20:00:00    275.13000     11  2017  276.450000  276.150000   \n",
       "2017-11-29 21:00:00    274.13000     11  2017  275.130000  276.450000   \n",
       "2017-11-29 22:00:00    273.48000     11  2017  274.130000  275.130000   \n",
       "2017-11-29 23:00:00    272.48000     11  2017  273.480000  274.130000   \n",
       "2017-11-30 00:00:00    271.80000     11  2017  272.480000  273.480000   \n",
       "\n",
       "                     Temp_lag12  Temp_lag24  Humidity_lag1  Humidity_lag2  \\\n",
       "datetime                                                                    \n",
       "2012-10-02 13:00:00  285.979185  285.830000       7.000000      11.000000   \n",
       "2012-10-02 14:00:00  285.992325  285.834650      71.861538       7.000000   \n",
       "2012-10-02 15:00:00  286.005465  285.847790      71.861538      71.861538   \n",
       "2012-10-02 16:00:00  286.018604  285.860929      82.000000      71.861538   \n",
       "2012-10-02 17:00:00  286.031744  285.874069      71.861538      82.000000   \n",
       "...                         ...         ...            ...            ...   \n",
       "2017-11-29 20:00:00  275.380000  273.750000      73.000000      73.000000   \n",
       "2017-11-29 21:00:00  277.450000  274.050000      64.000000      73.000000   \n",
       "2017-11-29 22:00:00  278.770000  274.050000      59.000000      64.000000   \n",
       "2017-11-29 23:00:00  278.480000  279.057000      66.000000      59.000000   \n",
       "2017-11-30 00:00:00  277.450000  274.730000      58.000000      66.000000   \n",
       "\n",
       "                     Humidity_lag12  ...  clouds_lag1  rain_lag1  mist_lag1  \\\n",
       "datetime                             ...                                      \n",
       "2012-10-02 13:00:00            49.0  ...            0          0          0   \n",
       "2012-10-02 14:00:00            45.0  ...            0          0          0   \n",
       "2012-10-02 15:00:00            42.0  ...            0          0          0   \n",
       "2012-10-02 16:00:00            38.0  ...            1          0          0   \n",
       "2012-10-02 17:00:00            34.0  ...            0          0          0   \n",
       "...                             ...  ...          ...        ...        ...   \n",
       "2017-11-29 20:00:00            80.0  ...            1          0          0   \n",
       "2017-11-29 21:00:00            93.0  ...            1          0          0   \n",
       "2017-11-29 22:00:00            87.0  ...            1          0          0   \n",
       "2017-11-29 23:00:00            87.0  ...            1          0          0   \n",
       "2017-11-30 00:00:00            86.0  ...            1          0          0   \n",
       "\n",
       "                     snow_lag1  shower_lag1  thunderstorm_lag1  fog_lag1  \\\n",
       "datetime                                                                   \n",
       "2012-10-02 13:00:00          0            0                  0         0   \n",
       "2012-10-02 14:00:00          0            0                  0         0   \n",
       "2012-10-02 15:00:00          0            0                  0         0   \n",
       "2012-10-02 16:00:00          0            0                  0         0   \n",
       "2012-10-02 17:00:00          0            0                  0         0   \n",
       "...                        ...          ...                ...       ...   \n",
       "2017-11-29 20:00:00          0            0                  0         0   \n",
       "2017-11-29 21:00:00          0            0                  0         0   \n",
       "2017-11-29 22:00:00          0            0                  0         0   \n",
       "2017-11-29 23:00:00          0            0                  0         0   \n",
       "2017-11-30 00:00:00          0            0                  0         0   \n",
       "\n",
       "                     other_lag1  intensity_lag1  avg_temp  \n",
       "datetime                                                   \n",
       "2012-10-02 13:00:00           0             0.0       274  \n",
       "2012-10-02 14:00:00           0             0.0       274  \n",
       "2012-10-02 15:00:00           0             0.0       275  \n",
       "2012-10-02 16:00:00           0             3.0       275  \n",
       "2012-10-02 17:00:00           0             0.0       276  \n",
       "...                         ...             ...       ...  \n",
       "2017-11-29 20:00:00           0             2.0       280  \n",
       "2017-11-29 21:00:00           0             2.0       280  \n",
       "2017-11-29 22:00:00           0             2.0       280  \n",
       "2017-11-29 23:00:00           0             1.0       280  \n",
       "2017-11-30 00:00:00           0             1.0       280  \n",
       "\n",
       "[45228 rows x 24 columns]"
      ]
     },
     "execution_count": 8,
     "metadata": {},
     "output_type": "execute_result"
    }
   ],
   "source": [
    "ml_df"
   ]
  },
  {
   "cell_type": "code",
   "execution_count": 9,
   "metadata": {
    "execution": {
     "iopub.execute_input": "2021-03-25T17:15:46.190880Z",
     "iopub.status.busy": "2021-03-25T17:15:46.190517Z",
     "iopub.status.idle": "2021-03-25T17:15:46.199173Z",
     "shell.execute_reply": "2021-03-25T17:15:46.198264Z",
     "shell.execute_reply.started": "2021-03-25T17:15:46.190842Z"
    }
   },
   "outputs": [],
   "source": [
    "y = ml_df[['Temperature']]\n",
    "X = ml_df.drop('Temperature', axis =1)"
   ]
  },
  {
   "cell_type": "markdown",
   "metadata": {},
   "source": [
    "**Split Data**\n",
    "\n",
    "Here, we split the data in sequence of time, since the data is a time series. "
   ]
  },
  {
   "cell_type": "code",
   "execution_count": 10,
   "metadata": {
    "execution": {
     "iopub.execute_input": "2021-03-25T17:15:55.181292Z",
     "iopub.status.busy": "2021-03-25T17:15:55.181004Z",
     "iopub.status.idle": "2021-03-25T17:15:55.187129Z",
     "shell.execute_reply": "2021-03-25T17:15:55.186013Z",
     "shell.execute_reply.started": "2021-03-25T17:15:55.181260Z"
    }
   },
   "outputs": [],
   "source": [
    "def train_test_split(data, n_test):\n",
    "    return data[:n_test], data[n_test:]\n",
    "\n",
    "split_len = int(len(ml_df)*0.80)\n",
    "\n",
    "X_train, X_test = train_test_split(X, split_len)\n",
    "y_train, y_test = train_test_split(y, split_len)"
   ]
  },
  {
   "cell_type": "markdown",
   "metadata": {},
   "source": [
    "**Standardize Variables**"
   ]
  },
  {
   "cell_type": "code",
   "execution_count": 11,
   "metadata": {
    "execution": {
     "iopub.execute_input": "2021-03-25T17:22:14.414055Z",
     "iopub.status.busy": "2021-03-25T17:22:14.413736Z",
     "iopub.status.idle": "2021-03-25T17:22:14.442571Z",
     "shell.execute_reply": "2021-03-25T17:22:14.441947Z",
     "shell.execute_reply.started": "2021-03-25T17:22:14.414008Z"
    }
   },
   "outputs": [],
   "source": [
    "from sklearn.preprocessing import StandardScaler\n",
    "\n",
    "scaler = StandardScaler()\n",
    "X_train_scaled = scaler.fit_transform(X_train)\n",
    "X_train = pd.DataFrame(X_train_scaled)\n",
    "X_train.columns = X.columns\n",
    "\n",
    "X_test_scaled = scaler.transform(X_test)\n",
    "X_test = pd.DataFrame(X_test_scaled)\n",
    "X_test.columns = X.columns"
   ]
  },
  {
   "cell_type": "markdown",
   "metadata": {},
   "source": [
    "**Run XGBoost Model and generate RMSE**"
   ]
  },
  {
   "cell_type": "code",
   "execution_count": 12,
   "metadata": {
    "execution": {
     "iopub.execute_input": "2021-03-25T19:08:08.422046Z",
     "iopub.status.busy": "2021-03-25T19:08:08.421794Z",
     "iopub.status.idle": "2021-03-25T19:08:09.997965Z",
     "shell.execute_reply": "2021-03-25T19:08:09.997281Z",
     "shell.execute_reply.started": "2021-03-25T19:08:08.422008Z"
    }
   },
   "outputs": [],
   "source": [
    "import xgboost as xgb\n",
    "\n",
    "xgb_model = xgb.XGBRegressor(n_estimators=100)\n",
    "xgb_model.fit(X_train, y_train,\n",
    "        eval_set=[(X_train, y_train), (X_test, y_test)],\n",
    "        eval_metric = 'rmse',\n",
    "        early_stopping_rounds=50,\n",
    "       verbose=False) \n",
    "\n",
    "pred = xgb_model.predict(X_test)"
   ]
  },
  {
   "cell_type": "code",
   "execution_count": 13,
   "metadata": {
    "execution": {
     "iopub.execute_input": "2021-03-25T19:08:10.713325Z",
     "iopub.status.busy": "2021-03-25T19:08:10.713066Z",
     "iopub.status.idle": "2021-03-25T19:08:10.729020Z",
     "shell.execute_reply": "2021-03-25T19:08:10.728411Z",
     "shell.execute_reply.started": "2021-03-25T19:08:10.713295Z"
    }
   },
   "outputs": [
    {
     "data": {
      "text/plain": [
       "0.6202726949241522"
      ]
     },
     "execution_count": 13,
     "metadata": {},
     "output_type": "execute_result"
    }
   ],
   "source": [
    "ts_results = pd.DataFrame({'Predicted': pred, 'Observed': y_test['Temperature']})\n",
    "ts_results[ts_results['Predicted'] <= 0] = 0\n",
    "ts_results['RMSE'] = np.sqrt((ts_results['Predicted']-ts_results['Observed'])**2)\n",
    "ts_results['RMSE'].mean()"
   ]
  },
  {
   "cell_type": "code",
   "execution_count": 14,
   "metadata": {
    "execution": {
     "iopub.execute_input": "2021-03-25T19:08:11.673206Z",
     "iopub.status.busy": "2021-03-25T19:08:11.672958Z",
     "iopub.status.idle": "2021-03-25T19:08:12.240110Z",
     "shell.execute_reply": "2021-03-25T19:08:12.239541Z",
     "shell.execute_reply.started": "2021-03-25T19:08:11.673177Z"
    }
   },
   "outputs": [
    {
     "data": {
      "image/png": "[encoded data removed]",
      "text/plain": [
       "<Figure size 720x360 with 1 Axes>"
      ]
     },
     "metadata": {},
     "output_type": "display_data"
    }
   ],
   "source": [
    "#plot real against predicted values\n",
    "ax = weather_df['Temperature'].plot(label='observed')\n",
    "ts_results['Predicted'].plot(ax=ax, label='One-step ahead Forecast', alpha=.7, figsize=(10, 5))\n",
    "\n",
    "ax.set_xlabel('Date')\n",
    "ax.set_ylabel('Temperature')\n",
    "plt.legend()\n",
    "plt.show()"
   ]
  },
  {
   "cell_type": "code",
   "execution_count": 15,
   "metadata": {
    "execution": {
     "iopub.execute_input": "2021-03-25T19:08:12.430963Z",
     "iopub.status.busy": "2021-03-25T19:08:12.430735Z",
     "iopub.status.idle": "2021-03-25T19:08:12.887262Z",
     "shell.execute_reply": "2021-03-25T19:08:12.886476Z",
     "shell.execute_reply.started": "2021-03-25T19:08:12.430938Z"
    }
   },
   "outputs": [
    {
     "data": {
      "text/plain": [
       "<AxesSubplot:title={'center':'Feature importance'}, xlabel='F score', ylabel='Features'>"
      ]
     },
     "execution_count": 15,
     "metadata": {},
     "output_type": "execute_result"
    },
    {
     "data": {
      "image/png": "[encoded data removed]",
      "text/plain": [
       "<Figure size 720x360 with 1 Axes>"
      ]
     },
     "metadata": {},
     "output_type": "display_data"
    }
   ],
   "source": [
    "plt.figure(figsize=(10,5))\n",
    "xgb.plot_importance(xgb_model, ax=plt.gca())"
   ]
  },
  {
   "cell_type": "code",
   "execution_count": 16,
   "metadata": {},
   "outputs": [
    {
     "data": {
      "image/png": "[encoded data removed]",
      "text/plain": [
       "<Figure size 576x684 with 2 Axes>"
      ]
     },
     "metadata": {},
     "output_type": "display_data"
    }
   ],
   "source": [
    "explainer = shap.Explainer(xgb_model)\n",
    "shap_values = explainer.shap_values(X_train)\n",
    "shap.summary_plot(shap_values, X_train)"
   ]
  },
  {
   "cell_type": "markdown",
   "metadata": {},
   "source": [
    "## Drop some features and run again\n",
    "\n",
    "Seems like nothing much changed from the full set, which makes sense since XGB is pretty good at evaluating which predictors are important or not. However, the XGBoost with only the temperature variable still performs slightly better, possibly because the signal is clearer."
   ]
  },
  {
   "cell_type": "code",
   "execution_count": 36,
   "metadata": {
    "execution": {
     "iopub.execute_input": "2021-03-25T19:08:14.460333Z",
     "iopub.status.busy": "2021-03-25T19:08:14.459980Z",
     "iopub.status.idle": "2021-03-25T19:08:14.525191Z",
     "shell.execute_reply": "2021-03-25T19:08:14.524549Z",
     "shell.execute_reply.started": "2021-03-25T19:08:14.460290Z"
    }
   },
   "outputs": [
    {
     "data": {
      "text/html": [
       "<div>\n",
       "<style scoped>\n",
       "    .dataframe tbody tr th:only-of-type {\n",
       "        vertical-align: middle;\n",
       "    }\n",
       "\n",
       "    .dataframe tbody tr th {\n",
       "        vertical-align: top;\n",
       "    }\n",
       "\n",
       "    .dataframe thead th {\n",
       "        text-align: right;\n",
       "    }\n",
       "</style>\n",
       "<table border=\"1\" class=\"dataframe\">\n",
       "  <thead>\n",
       "    <tr style=\"text-align: right;\">\n",
       "      <th></th>\n",
       "      <th>Temperature</th>\n",
       "      <th>month</th>\n",
       "      <th>year</th>\n",
       "      <th>Temp_lag1</th>\n",
       "      <th>Temp_lag2</th>\n",
       "      <th>Temp_lag12</th>\n",
       "      <th>Temp_lag24</th>\n",
       "      <th>Humidity_lag1</th>\n",
       "      <th>Humidity_lag2</th>\n",
       "      <th>Humidity_lag12</th>\n",
       "      <th>Humidity_lag24</th>\n",
       "      <th>Wind_Direction_lag1</th>\n",
       "      <th>Pressure_lag1</th>\n",
       "      <th>Wind_Speed_lag1</th>\n",
       "      <th>intensity_lag1</th>\n",
       "      <th>avg_temp</th>\n",
       "    </tr>\n",
       "    <tr>\n",
       "      <th>datetime</th>\n",
       "      <th></th>\n",
       "      <th></th>\n",
       "      <th></th>\n",
       "      <th></th>\n",
       "      <th></th>\n",
       "      <th></th>\n",
       "      <th></th>\n",
       "      <th></th>\n",
       "      <th></th>\n",
       "      <th></th>\n",
       "      <th></th>\n",
       "      <th></th>\n",
       "      <th></th>\n",
       "      <th></th>\n",
       "      <th></th>\n",
       "      <th></th>\n",
       "    </tr>\n",
       "  </thead>\n",
       "  <tbody>\n",
       "    <tr>\n",
       "      <th>2012-10-02 13:00:00</th>\n",
       "      <td>286.13686</td>\n",
       "      <td>10</td>\n",
       "      <td>2012</td>\n",
       "      <td>286.123721</td>\n",
       "      <td>286.110581</td>\n",
       "      <td>285.979185</td>\n",
       "      <td>285.830000</td>\n",
       "      <td>7.000000</td>\n",
       "      <td>11.000000</td>\n",
       "      <td>49.0</td>\n",
       "      <td>93.0</td>\n",
       "      <td>1016.424953</td>\n",
       "      <td>261.0</td>\n",
       "      <td>0.0</td>\n",
       "      <td>0.0</td>\n",
       "      <td>274</td>\n",
       "    </tr>\n",
       "    <tr>\n",
       "      <th>2012-10-02 14:00:00</th>\n",
       "      <td>286.15000</td>\n",
       "      <td>10</td>\n",
       "      <td>2012</td>\n",
       "      <td>286.136860</td>\n",
       "      <td>286.123721</td>\n",
       "      <td>285.992325</td>\n",
       "      <td>285.834650</td>\n",
       "      <td>71.861538</td>\n",
       "      <td>7.000000</td>\n",
       "      <td>45.0</td>\n",
       "      <td>91.0</td>\n",
       "      <td>1016.424953</td>\n",
       "      <td>262.0</td>\n",
       "      <td>0.0</td>\n",
       "      <td>0.0</td>\n",
       "      <td>274</td>\n",
       "    </tr>\n",
       "    <tr>\n",
       "      <th>2012-10-02 15:00:00</th>\n",
       "      <td>287.55000</td>\n",
       "      <td>10</td>\n",
       "      <td>2012</td>\n",
       "      <td>286.150000</td>\n",
       "      <td>286.136860</td>\n",
       "      <td>286.005465</td>\n",
       "      <td>285.847790</td>\n",
       "      <td>71.861538</td>\n",
       "      <td>71.861538</td>\n",
       "      <td>42.0</td>\n",
       "      <td>87.0</td>\n",
       "      <td>1016.424953</td>\n",
       "      <td>264.0</td>\n",
       "      <td>0.0</td>\n",
       "      <td>0.0</td>\n",
       "      <td>275</td>\n",
       "    </tr>\n",
       "    <tr>\n",
       "      <th>2012-10-02 16:00:00</th>\n",
       "      <td>288.14000</td>\n",
       "      <td>10</td>\n",
       "      <td>2012</td>\n",
       "      <td>287.550000</td>\n",
       "      <td>286.150000</td>\n",
       "      <td>286.018604</td>\n",
       "      <td>285.860929</td>\n",
       "      <td>82.000000</td>\n",
       "      <td>71.861538</td>\n",
       "      <td>38.0</td>\n",
       "      <td>84.0</td>\n",
       "      <td>1002.000000</td>\n",
       "      <td>280.0</td>\n",
       "      <td>5.0</td>\n",
       "      <td>3.0</td>\n",
       "      <td>275</td>\n",
       "    </tr>\n",
       "    <tr>\n",
       "      <th>2012-10-02 17:00:00</th>\n",
       "      <td>288.69000</td>\n",
       "      <td>10</td>\n",
       "      <td>2012</td>\n",
       "      <td>288.140000</td>\n",
       "      <td>287.550000</td>\n",
       "      <td>286.031744</td>\n",
       "      <td>285.874069</td>\n",
       "      <td>71.861538</td>\n",
       "      <td>82.000000</td>\n",
       "      <td>34.0</td>\n",
       "      <td>80.0</td>\n",
       "      <td>1016.424953</td>\n",
       "      <td>276.0</td>\n",
       "      <td>1.0</td>\n",
       "      <td>0.0</td>\n",
       "      <td>276</td>\n",
       "    </tr>\n",
       "  </tbody>\n",
       "</table>\n",
       "</div>"
      ],
      "text/plain": [
       "                     Temperature  month  year   Temp_lag1   Temp_lag2  \\\n",
       "datetime                                                                \n",
       "2012-10-02 13:00:00    286.13686     10  2012  286.123721  286.110581   \n",
       "2012-10-02 14:00:00    286.15000     10  2012  286.136860  286.123721   \n",
       "2012-10-02 15:00:00    287.55000     10  2012  286.150000  286.136860   \n",
       "2012-10-02 16:00:00    288.14000     10  2012  287.550000  286.150000   \n",
       "2012-10-02 17:00:00    288.69000     10  2012  288.140000  287.550000   \n",
       "\n",
       "                     Temp_lag12  Temp_lag24  Humidity_lag1  Humidity_lag2  \\\n",
       "datetime                                                                    \n",
       "2012-10-02 13:00:00  285.979185  285.830000       7.000000      11.000000   \n",
       "2012-10-02 14:00:00  285.992325  285.834650      71.861538       7.000000   \n",
       "2012-10-02 15:00:00  286.005465  285.847790      71.861538      71.861538   \n",
       "2012-10-02 16:00:00  286.018604  285.860929      82.000000      71.861538   \n",
       "2012-10-02 17:00:00  286.031744  285.874069      71.861538      82.000000   \n",
       "\n",
       "                     Humidity_lag12  Humidity_lag24  Wind_Direction_lag1  \\\n",
       "datetime                                                                   \n",
       "2012-10-02 13:00:00            49.0            93.0          1016.424953   \n",
       "2012-10-02 14:00:00            45.0            91.0          1016.424953   \n",
       "2012-10-02 15:00:00            42.0            87.0          1016.424953   \n",
       "2012-10-02 16:00:00            38.0            84.0          1002.000000   \n",
       "2012-10-02 17:00:00            34.0            80.0          1016.424953   \n",
       "\n",
       "                     Pressure_lag1  Wind_Speed_lag1  intensity_lag1  avg_temp  \n",
       "datetime                                                                       \n",
       "2012-10-02 13:00:00          261.0              0.0             0.0       274  \n",
       "2012-10-02 14:00:00          262.0              0.0             0.0       274  \n",
       "2012-10-02 15:00:00          264.0              0.0             0.0       275  \n",
       "2012-10-02 16:00:00          280.0              5.0             3.0       275  \n",
       "2012-10-02 17:00:00          276.0              1.0             0.0       276  "
      ]
     },
     "execution_count": 36,
     "metadata": {},
     "output_type": "execute_result"
    }
   ],
   "source": [
    "ml_df2 = ml_df.copy()\n",
    "ml_df2.drop(['other_lag1','fog_lag1','shower_lag1','snow_lag1','thunderstorm_lag1','mist_lag1','rain_lag1','clouds_lag1'], axis = 1, inplace = True)\n",
    "ml_df2.head()"
   ]
  },
  {
   "cell_type": "code",
   "execution_count": 32,
   "metadata": {
    "execution": {
     "iopub.execute_input": "2021-03-25T19:08:15.482388Z",
     "iopub.status.busy": "2021-03-25T19:08:15.482102Z",
     "iopub.status.idle": "2021-03-25T19:08:15.538791Z",
     "shell.execute_reply": "2021-03-25T19:08:15.537672Z",
     "shell.execute_reply.started": "2021-03-25T19:08:15.482355Z"
    }
   },
   "outputs": [],
   "source": [
    "y = ml_df2[['Temperature']] #small typo fix here SL\n",
    "X = ml_df2.drop('Temperature', axis =1) #small typo fix here SL\n",
    "\n",
    "def train_test_split(data, n_test):\n",
    "    return data[:n_test], data[n_test:]\n",
    "\n",
    "split_len = int(len(ml_df2)*0.80) #small typo fix here SL\n",
    "\n",
    "X_train, X_test = train_test_split(X, split_len)\n",
    "y_train, y_test = train_test_split(y, split_len)\n",
    "\n",
    "from sklearn.preprocessing import StandardScaler\n",
    "\n",
    "scaler = StandardScaler()\n",
    "X_train_scaled = scaler.fit_transform(X_train)\n",
    "X_train = pd.DataFrame(X_train_scaled)\n",
    "X_train.columns = X.columns\n",
    "\n",
    "X_test_scaled = scaler.transform(X_test)\n",
    "X_test = pd.DataFrame(X_test_scaled)\n",
    "X_test.columns = X.columns"
   ]
  },
  {
   "cell_type": "code",
   "execution_count": 33,
   "metadata": {
    "execution": {
     "iopub.execute_input": "2021-03-25T19:22:42.958166Z",
     "iopub.status.busy": "2021-03-25T19:22:42.957931Z",
     "iopub.status.idle": "2021-03-25T19:22:44.759562Z",
     "shell.execute_reply": "2021-03-25T19:22:44.758889Z",
     "shell.execute_reply.started": "2021-03-25T19:22:42.958140Z"
    }
   },
   "outputs": [],
   "source": [
    "import xgboost as xgb\n",
    "\n",
    "xgb_model = xgb.XGBRegressor(n_estimators=1000)\n",
    "xgb_model.fit(X_train, y_train,\n",
    "        eval_set=[(X_train, y_train), (X_test, y_test)],\n",
    "        eval_metric = 'rmse',\n",
    "        early_stopping_rounds=50,\n",
    "       verbose=False) \n",
    "\n",
    "pred = xgb_model.predict(X_test)"
   ]
  },
  {
   "cell_type": "code",
   "execution_count": 34,
   "metadata": {
    "execution": {
     "iopub.execute_input": "2021-03-25T19:22:44.761665Z",
     "iopub.status.busy": "2021-03-25T19:22:44.761316Z",
     "iopub.status.idle": "2021-03-25T19:22:44.771722Z",
     "shell.execute_reply": "2021-03-25T19:22:44.770986Z",
     "shell.execute_reply.started": "2021-03-25T19:22:44.761634Z"
    }
   },
   "outputs": [
    {
     "data": {
      "text/plain": [
       "0.6240249059502319"
      ]
     },
     "execution_count": 34,
     "metadata": {},
     "output_type": "execute_result"
    }
   ],
   "source": [
    "ts_results = pd.DataFrame({'Predicted': pred, 'Observed': y_test['Temperature']})\n",
    "ts_results[ts_results['Predicted'] <= 0] = 0\n",
    "ts_results['RMSE'] = np.sqrt((ts_results['Predicted']-ts_results['Observed'])**2)\n",
    "ts_results['RMSE'].mean()"
   ]
  },
  {
   "cell_type": "code",
   "execution_count": 35,
   "metadata": {},
   "outputs": [
    {
     "data": {
      "image/png": "[encoded data removed]",
      "text/plain": [
       "<Figure size 576x540 with 2 Axes>"
      ]
     },
     "metadata": {},
     "output_type": "display_data"
    }
   ],
   "source": [
    "explainer = shap.Explainer(xgb_model)\n",
    "shap_values = explainer.shap_values(X_train)\n",
    "shap.summary_plot(shap_values, X_train)"
   ]
  },
  {
   "cell_type": "markdown",
   "metadata": {},
   "source": [
    "## Hyperparameter Tuning \n",
    "\n",
    "We perform Bayesian optimization for finding the best hyperparameters using HYPEROPT, which searches through the hyperparameter space of values and finds the best possible values that minimizes the loss function."
   ]
  },
  {
   "cell_type": "code",
   "execution_count": 186,
   "metadata": {
    "execution": {
     "iopub.execute_input": "2021-03-25T19:14:07.910860Z",
     "iopub.status.busy": "2021-03-25T19:14:07.910625Z",
     "iopub.status.idle": "2021-03-25T19:14:07.914439Z",
     "shell.execute_reply": "2021-03-25T19:14:07.913706Z",
     "shell.execute_reply.started": "2021-03-25T19:14:07.910833Z"
    }
   },
   "outputs": [],
   "source": [
    "from xgboost.sklearn import XGBClassifier\n",
    "from sklearn.model_selection import cross_validate, GridSearchCV\n",
    "from sklearn import metrics"
   ]
  },
  {
   "cell_type": "code",
   "execution_count": 187,
   "metadata": {
    "execution": {
     "iopub.execute_input": "2021-03-25T19:14:08.395564Z",
     "iopub.status.busy": "2021-03-25T19:14:08.395311Z",
     "iopub.status.idle": "2021-03-25T19:14:08.402253Z",
     "shell.execute_reply": "2021-03-25T19:14:08.401627Z",
     "shell.execute_reply.started": "2021-03-25T19:14:08.395534Z"
    }
   },
   "outputs": [],
   "source": [
    "# import packages for hyperparameters tuning\n",
    "from hyperopt import STATUS_OK, Trials, fmin, hp, tpe\n",
    "\n",
    "space={'max_depth': hp.quniform(\"max_depth\", 3, 18, 1),\n",
    "        'gamma': hp.uniform ('gamma', 1,9),\n",
    "        'reg_alpha' : hp.quniform('reg_alpha', 40,180,1),\n",
    "        'reg_lambda' : hp.uniform('reg_lambda', 0,1),\n",
    "        'colsample_bytree' : hp.uniform('colsample_bytree', 0.5,1),\n",
    "        'min_child_weight' : hp.quniform('min_child_weight', 0, 10, 1),\n",
    "        'n_estimators': 180,\n",
    "        'seed': 0\n",
    "    }"
   ]
  },
  {
   "cell_type": "code",
   "execution_count": 188,
   "metadata": {
    "execution": {
     "iopub.execute_input": "2021-03-25T19:14:08.878251Z",
     "iopub.status.busy": "2021-03-25T19:14:08.878022Z",
     "iopub.status.idle": "2021-03-25T19:14:08.883744Z",
     "shell.execute_reply": "2021-03-25T19:14:08.882988Z",
     "shell.execute_reply.started": "2021-03-25T19:14:08.878226Z"
    }
   },
   "outputs": [],
   "source": [
    "def tune_model(space): \n",
    "    xgb_model = xgb.XGBRegressor(n_estimators =space['n_estimators'], \n",
    "                                 max_depth = int(space['max_depth']), \n",
    "                                 gamma = space['gamma'],\n",
    "                                 reg_alpha = int(space['reg_alpha']),\n",
    "                                 min_child_weight=int(space['min_child_weight']),\n",
    "                                colsample_bytree=int(space['colsample_bytree']))\n",
    "        \n",
    "    xgb_model.fit(X_train, y_train,\n",
    "            eval_set=[(X_train, y_train), (X_test, y_test)],\n",
    "            eval_metric = 'rmse',\n",
    "            early_stopping_rounds=50,\n",
    "            verbose=False) \n",
    "\n",
    "    pred = xgb_model.predict(X_test)\n",
    "    #pred = pred.reshape(len(pred),1)\n",
    "    MSE = metrics.mean_squared_error(y_test, pred)\n",
    "    print('MSE', MSE)\n",
    "    return {'loss': MSE, 'status': STATUS_OK}"
   ]
  },
  {
   "cell_type": "code",
   "execution_count": 189,
   "metadata": {
    "execution": {
     "iopub.execute_input": "2021-03-25T19:14:09.497220Z",
     "iopub.status.busy": "2021-03-25T19:14:09.496960Z",
     "iopub.status.idle": "2021-03-25T19:16:00.458564Z",
     "shell.execute_reply": "2021-03-25T19:16:00.457655Z",
     "shell.execute_reply.started": "2021-03-25T19:14:09.497190Z"
    }
   },
   "outputs": [
    {
     "name": "stdout",
     "output_type": "stream",
     "text": [
      "MSE                                                    \n",
      "7.424414176735229                                      \n",
      "MSE                                                                             \n",
      "7.410996082038712                                                               \n",
      "MSE                                                                             \n",
      "7.369120516011939                                                               \n",
      "MSE                                                                             \n",
      "7.374571585210336                                                               \n",
      "MSE                                                                             \n",
      "7.39897036429697                                                                \n",
      "MSE                                                                             \n",
      "7.4074419100878695                                                              \n",
      "MSE                                                                             \n",
      "7.357527816321667                                                               \n",
      "MSE                                                                             \n",
      "7.413137735122122                                                               \n",
      "MSE                                                                             \n",
      "7.38688778185639                                                                \n",
      "MSE                                                                             \n",
      "7.3930602273207064                                                              \n",
      "MSE                                                                              \n",
      "7.39374327153624                                                                 \n",
      "MSE                                                                              \n",
      "7.420040055484398                                                                \n",
      "MSE                                                                              \n",
      "7.379988487260817                                                                \n",
      "MSE                                                                              \n",
      "7.393322626995096                                                                \n",
      "MSE                                                                              \n",
      "7.362081709674541                                                                \n",
      "MSE                                                                              \n",
      "7.437812842857031                                                                \n",
      "MSE                                                                              \n",
      "7.354893308300165                                                                \n",
      "MSE                                                                              \n",
      "7.436844442862052                                                                \n",
      "MSE                                                                              \n",
      "7.435864722968066                                                                \n",
      "MSE                                                                              \n",
      "7.373331396288248                                                                \n",
      "MSE                                                                              \n",
      "7.36180899100582                                                                 \n",
      "MSE                                                                              \n",
      "7.404674119304887                                                                \n",
      "MSE                                                                              \n",
      "7.3512468264939175                                                               \n",
      "MSE                                                                               \n",
      "7.419398847726897                                                                 \n",
      "MSE                                                                               \n",
      "7.353372757281271                                                                 \n",
      "MSE                                                                               \n",
      "7.363798486747777                                                                 \n",
      "MSE                                                                               \n",
      "7.396749005249183                                                                 \n",
      "MSE                                                                               \n",
      "7.355883203391513                                                                 \n",
      "MSE                                                                               \n",
      "7.367547937859499                                                                 \n",
      "MSE                                                                               \n",
      "7.385154071820727                                                                 \n",
      "MSE                                                                               \n",
      "7.378392124150741                                                                 \n",
      "MSE                                                                               \n",
      "7.363643765897772                                                                 \n",
      "MSE                                                                               \n",
      "7.414455850011878                                                                 \n",
      "MSE                                                                               \n",
      "7.37591808616769                                                                  \n",
      "MSE                                                                               \n",
      "7.374295408985151                                                                 \n",
      "MSE                                                                               \n",
      "7.378277053997272                                                                 \n",
      "MSE                                                                               \n",
      "7.4012442420642275                                                                \n",
      "MSE                                                                               \n",
      "7.3782986142967735                                                                \n",
      "MSE                                                                               \n",
      "7.383177536419336                                                                 \n",
      "MSE                                                                               \n",
      "7.385264012527959                                                                 \n",
      "MSE                                                                               \n",
      "7.377442868008785                                                                 \n",
      "MSE                                                                               \n",
      "7.4503919176339295                                                                \n",
      "MSE                                                                               \n",
      "7.401510013311734                                                                 \n",
      "MSE                                                                               \n",
      "7.416098980884011                                                                 \n",
      "MSE                                                                               \n",
      "7.404856764844584                                                                 \n",
      "MSE                                                                               \n",
      "7.353997756052186                                                                 \n",
      "MSE                                                                               \n",
      "7.392991240594638                                                                 \n",
      "MSE                                                                               \n",
      "7.367669049773384                                                                 \n",
      "MSE                                                                               \n",
      "7.409018928612991                                                                 \n",
      "MSE                                                                               \n",
      "7.380496099937284                                                                 \n",
      "MSE                                                                               \n",
      "7.395395462191738                                                                 \n",
      "MSE                                                                               \n",
      "7.389685592777409                                                                 \n",
      "MSE                                                                               \n",
      "7.3624518788756586                                                                \n",
      "MSE                                                                               \n",
      "7.401125046634987                                                                 \n",
      "MSE                                                                               \n",
      "7.381215313353415                                                                 \n",
      "MSE                                                                               \n",
      "7.388444557414321                                                                 \n",
      "MSE                                                                               \n",
      "7.427518936721965                                                                 \n",
      "MSE                                                                               \n",
      "7.40169685190557                                                                  \n",
      "MSE                                                                               \n",
      "7.370174232061918                                                                 \n",
      "MSE                                                                               \n",
      "7.40784801728541                                                                  \n",
      "MSE                                                                               \n",
      "7.388802286077641                                                                 \n",
      "MSE                                                                               \n",
      "7.391707768055595                                                                 \n",
      "MSE                                                                               \n",
      "7.425962921908209                                                                 \n",
      "MSE                                                                               \n",
      "7.412358044814177                                                                 \n",
      "MSE                                                                               \n",
      "7.350783986613292                                                                 \n",
      "MSE                                                                               \n",
      "7.355847035478013                                                                \n",
      "MSE                                                                              \n",
      "7.355392892916846                                                                \n",
      "MSE                                                                              \n",
      "7.417276236654789                                                                \n",
      "MSE                                                                              \n",
      "7.37021694694342                                                                 \n",
      "MSE                                                                              \n",
      "7.371033469450952                                                                \n",
      "MSE                                                                              \n",
      "7.370357185400962                                                                \n",
      "MSE                                                                              \n",
      "7.389692026733563                                                                \n",
      "MSE                                                                              \n",
      "7.370542520463601                                                                \n",
      "MSE                                                                              \n",
      "7.3543105641549475                                                               \n",
      "MSE                                                                              \n",
      "7.383571729098184                                                                \n",
      "MSE                                                                              \n",
      "7.390227948014353                                                                \n",
      "MSE                                                                              \n",
      "7.37320586675873                                                                 \n",
      "MSE                                                                              \n",
      "7.408372041818697                                                                \n",
      "MSE                                                                              \n",
      "7.376626691627789                                                                \n",
      "MSE                                                                              \n",
      "7.382537111353962                                                                \n",
      "MSE                                                                              \n",
      "7.356638234056646                                                                \n",
      "MSE                                                                              \n",
      "7.381930937641733                                                                \n",
      "MSE                                                                              \n",
      "7.378314563712902                                                                \n",
      "MSE                                                                              \n",
      "7.3851509908580315                                                               \n",
      "MSE                                                                              \n",
      "7.385524494705534                                                                \n",
      "MSE                                                                              \n",
      "7.384435991705492                                                                \n",
      "MSE                                                                              \n",
      "7.36237976216065                                                                 \n",
      "MSE                                                                              \n",
      "7.399492405414237                                                                \n",
      "MSE                                                                              \n",
      "7.4263897268788055                                                               \n",
      "MSE                                                                              \n",
      "7.374207918771683                                                                \n",
      "MSE                                                                              \n",
      "7.3854700828291024                                                               \n",
      "MSE                                                                              \n",
      "7.4513058384350135                                                               \n",
      "MSE                                                                              \n",
      "7.350909652997479                                                                \n",
      "MSE                                                                              \n",
      "7.374058954825413                                                                \n",
      "MSE                                                                              \n",
      "7.357844879592247                                                                \n",
      "MSE                                                                              \n",
      "7.393838125644422                                                                \n",
      "MSE                                                                              \n",
      "7.4245451917931184                                                               \n",
      "MSE                                                                              \n",
      "7.420934908086965                                                                \n",
      "MSE                                                                              \n",
      "7.36451002129649                                                                 \n",
      "MSE                                                                              \n",
      "7.380344592615999                                                                \n",
      "100%|██████████| 100/100 [01:50<00:00,  1.11s/trial, best loss: 7.350783986613292]\n"
     ]
    }
   ],
   "source": [
    "trials = Trials()\n",
    "\n",
    "best_hyperparams = fmin(fn = tune_model,\n",
    "                        space = space,\n",
    "                        algo = tpe.suggest,\n",
    "                        max_evals = 100,\n",
    "                        trials = trials)"
   ]
  },
  {
   "cell_type": "code",
   "execution_count": 190,
   "metadata": {
    "execution": {
     "iopub.execute_input": "2021-03-25T19:16:30.647613Z",
     "iopub.status.busy": "2021-03-25T19:16:30.647284Z",
     "iopub.status.idle": "2021-03-25T19:16:30.651755Z",
     "shell.execute_reply": "2021-03-25T19:16:30.650747Z",
     "shell.execute_reply.started": "2021-03-25T19:16:30.647574Z"
    }
   },
   "outputs": [
    {
     "name": "stdout",
     "output_type": "stream",
     "text": [
      "The best hyperparameters are :  \n",
      "\n",
      "{'colsample_bytree': 0.7650071206748864, 'gamma': 7.626593207665473, 'max_depth': 7.0, 'min_child_weight': 3.0, 'reg_alpha': 67.0, 'reg_lambda': 0.6339479375279921}\n"
     ]
    }
   ],
   "source": [
    "print(\"The best hyperparameters are : \",\"\\n\")\n",
    "print(best_hyperparams)"
   ]
  },
  {
   "cell_type": "code",
   "execution_count": 194,
   "metadata": {
    "execution": {
     "iopub.execute_input": "2021-03-25T19:18:47.533146Z",
     "iopub.status.busy": "2021-03-25T19:18:47.532883Z",
     "iopub.status.idle": "2021-03-25T19:18:47.539025Z",
     "shell.execute_reply": "2021-03-25T19:18:47.538023Z",
     "shell.execute_reply.started": "2021-03-25T19:18:47.533117Z"
    }
   },
   "outputs": [
    {
     "data": {
      "text/plain": [
       "{'colsample_bytree': 0.7650071206748864,\n",
       " 'gamma': 7.626593207665473,\n",
       " 'max_depth': 7.0,\n",
       " 'min_child_weight': 3.0,\n",
       " 'reg_alpha': 67.0,\n",
       " 'reg_lambda': 0.6339479375279921}"
      ]
     },
     "execution_count": 194,
     "metadata": {},
     "output_type": "execute_result"
    }
   ],
   "source": [
    "best_hyperparams"
   ]
  },
  {
   "cell_type": "code",
   "execution_count": 209,
   "metadata": {
    "execution": {
     "iopub.execute_input": "2021-03-25T19:22:48.850297Z",
     "iopub.status.busy": "2021-03-25T19:22:48.849986Z",
     "iopub.status.idle": "2021-03-25T19:22:55.335859Z",
     "shell.execute_reply": "2021-03-25T19:22:55.335195Z",
     "shell.execute_reply.started": "2021-03-25T19:22:48.850262Z"
    }
   },
   "outputs": [],
   "source": [
    "xgb_model = xgb.XGBRegressor(n_estimators=1000,\n",
    "                             colsample_bytree = 0.765,\n",
    "                             gamma = 7.62659,\n",
    "                             max_depth = 7,\n",
    "                             min_child_weight = 3.0,\n",
    "                             reg_alpha = 67.0,\n",
    "                             reg_lambda = 0.6339)\n",
    "\n",
    "xgb_model.fit(X_train, y_train,\n",
    "        eval_set=[(X_train, y_train), (X_test, y_test)],\n",
    "        eval_metric = 'rmse',\n",
    "        early_stopping_rounds=50,\n",
    "       verbose=False) \n",
    "\n",
    "pred = xgb_model.predict(X_test)"
   ]
  },
  {
   "cell_type": "code",
   "execution_count": 210,
   "metadata": {
    "execution": {
     "iopub.execute_input": "2021-03-25T19:22:55.337628Z",
     "iopub.status.busy": "2021-03-25T19:22:55.337406Z",
     "iopub.status.idle": "2021-03-25T19:22:55.347662Z",
     "shell.execute_reply": "2021-03-25T19:22:55.346936Z",
     "shell.execute_reply.started": "2021-03-25T19:22:55.337597Z"
    }
   },
   "outputs": [
    {
     "data": {
      "text/plain": [
       "0.6252758632320766"
      ]
     },
     "execution_count": 210,
     "metadata": {},
     "output_type": "execute_result"
    }
   ],
   "source": [
    "ts_results = pd.DataFrame({'Predicted': pred, 'Observed': y_test['Temperature']})\n",
    "ts_results[ts_results['Predicted'] <= 0] = 0\n",
    "ts_results['RMSE'] = np.sqrt((ts_results['Predicted']-ts_results['Observed'])**2)\n",
    "ts_results['RMSE'].mean()"
   ]
  },
  {
   "cell_type": "markdown",
   "metadata": {},
   "source": [
    "## Hyperparameter Tuning on Base Model"
   ]
  },
  {
   "cell_type": "code",
   "execution_count": 223,
   "metadata": {
    "execution": {
     "iopub.execute_input": "2021-03-25T19:27:15.058594Z",
     "iopub.status.busy": "2021-03-25T19:27:15.058322Z",
     "iopub.status.idle": "2021-03-25T19:27:15.064427Z",
     "shell.execute_reply": "2021-03-25T19:27:15.063788Z",
     "shell.execute_reply.started": "2021-03-25T19:27:15.058564Z"
    }
   },
   "outputs": [],
   "source": [
    "X_train = X_train[['month','year','Temp_lag1','Temp_lag2','Temp_lag12','Temp_lag24']]\n",
    "X_test = X_test[['month','year','Temp_lag1','Temp_lag2','Temp_lag12','Temp_lag24']]"
   ]
  },
  {
   "cell_type": "code",
   "execution_count": 224,
   "metadata": {
    "execution": {
     "iopub.execute_input": "2021-03-25T19:27:28.414482Z",
     "iopub.status.busy": "2021-03-25T19:27:28.414267Z",
     "iopub.status.idle": "2021-03-25T19:29:14.860795Z",
     "shell.execute_reply": "2021-03-25T19:29:14.859928Z",
     "shell.execute_reply.started": "2021-03-25T19:27:28.414459Z"
    }
   },
   "outputs": [
    {
     "name": "stdout",
     "output_type": "stream",
     "text": [
      "MSE                                                    \n",
      "2.179811424002658                                      \n",
      "MSE                                                                             \n",
      "2.067141674486046                                                               \n",
      "MSE                                                                             \n",
      "2.147133993353651                                                               \n",
      "MSE                                                                             \n",
      "2.1917996737232306                                                              \n",
      "MSE                                                                             \n",
      "2.0969103254271904                                                              \n",
      "MSE                                                                             \n",
      "2.1146963147507116                                                              \n",
      "MSE                                                                             \n",
      "2.2076793247113415                                                              \n",
      "MSE                                                                             \n",
      "2.185893023597804                                                               \n",
      "MSE                                                                             \n",
      "2.1346361344826805                                                              \n",
      "MSE                                                                             \n",
      "2.164979846491554                                                               \n",
      "MSE                                                                              \n",
      "2.1903754250013                                                                  \n",
      "MSE                                                                              \n",
      "2.164127088511552                                                                \n",
      "MSE                                                                              \n",
      "2.1326910358916358                                                               \n",
      "MSE                                                                              \n",
      "2.1144446439029183                                                               \n",
      "MSE                                                                              \n",
      "2.1234526571817187                                                               \n",
      "MSE                                                                              \n",
      "2.154865075419154                                                                \n",
      "MSE                                                                              \n",
      "2.14632006804366                                                                 \n",
      "MSE                                                                              \n",
      "2.1129186030970715                                                               \n",
      "MSE                                                                              \n",
      "2.126946466867689                                                                \n",
      "MSE                                                                              \n",
      "2.1856045607057766                                                               \n",
      "MSE                                                                              \n",
      "2.0704121243727958                                                               \n",
      "MSE                                                                              \n",
      "2.080931045202435                                                                \n",
      "MSE                                                                              \n",
      "2.0977110683149895                                                               \n",
      "MSE                                                                              \n",
      "2.0709435591123615                                                               \n",
      "MSE                                                                              \n",
      "2.0939951415469547                                                               \n",
      "MSE                                                                              \n",
      "2.0766940682251485                                                               \n",
      "MSE                                                                              \n",
      "2.1709352702028224                                                               \n",
      "MSE                                                                              \n",
      "2.077178821315809                                                                \n",
      "MSE                                                                              \n",
      "2.1016194929436387                                                               \n",
      "MSE                                                                              \n",
      "2.1227433060677017                                                               \n",
      "MSE                                                                              \n",
      "2.095984727428952                                                                \n",
      "MSE                                                                              \n",
      "2.121838697290695                                                                \n",
      "MSE                                                                              \n",
      "2.164893897288813                                                                \n",
      "MSE                                                                              \n",
      "2.0820464473610008                                                               \n",
      "MSE                                                                              \n",
      "2.2053584884440545                                                               \n",
      "MSE                                                                              \n",
      "2.1279855470869564                                                               \n",
      "MSE                                                                              \n",
      "2.056773756756377                                                                \n",
      "MSE                                                                              \n",
      "2.0805230024607466                                                               \n",
      "MSE                                                                              \n",
      "2.0869349576016862                                                               \n",
      "MSE                                                                              \n",
      "2.1035680102713137                                                               \n",
      "MSE                                                                              \n",
      "2.2057866571578475                                                               \n",
      "MSE                                                                              \n",
      "2.1725079291402736                                                               \n",
      "MSE                                                                              \n",
      "2.153701796773172                                                                \n",
      "MSE                                                                              \n",
      "2.1260930922017085                                                               \n",
      "MSE                                                                              \n",
      "2.1609748636144133                                                               \n",
      "MSE                                                                              \n",
      "2.128461683612467                                                                \n",
      "MSE                                                                              \n",
      "2.081259109622272                                                                \n",
      "MSE                                                                              \n",
      "2.1454159930069405                                                               \n",
      "MSE                                                                              \n",
      "2.1162513959777374                                                               \n",
      "MSE                                                                              \n",
      "2.10202932798915                                                                 \n",
      "MSE                                                                              \n",
      "2.0992708179153152                                                               \n",
      "MSE                                                                              \n",
      "2.130100424734262                                                                \n",
      "MSE                                                                              \n",
      "2.083459993385917                                                                \n",
      "MSE                                                                              \n",
      "2.163123352358395                                                                \n",
      "MSE                                                                              \n",
      "2.1902076496776095                                                               \n",
      "MSE                                                                              \n",
      "2.2303499778583005                                                               \n",
      "MSE                                                                              \n",
      "2.0810357225814022                                                               \n",
      "MSE                                                                              \n",
      "2.1478337639431406                                                               \n",
      "MSE                                                                              \n",
      "2.081113831641433                                                                \n",
      "MSE                                                                              \n",
      "2.1035341371634226                                                               \n",
      "MSE                                                                              \n",
      "2.1156076654868836                                                               \n",
      "MSE                                                                              \n",
      "2.129375342200793                                                                \n",
      "MSE                                                                              \n",
      "2.101174403302047                                                                \n",
      "MSE                                                                              \n",
      "2.119989899682741                                                                \n",
      "MSE                                                                              \n",
      "2.0971792218030845                                                               \n",
      "MSE                                                                              \n",
      "2.1074825321877286                                                               \n",
      "MSE                                                                              \n",
      "2.070343529590991                                                                \n",
      "MSE                                                                              \n",
      "2.091794785084141                                                                \n",
      "MSE                                                                              \n",
      "2.0669097619259205                                                               \n",
      "MSE                                                                              \n",
      "2.0764329669239263                                                               \n",
      "MSE                                                                              \n",
      "2.0634586442371066                                                               \n",
      "MSE                                                                              \n",
      "2.0659295079682387                                                               \n",
      "MSE                                                                              \n",
      "2.0843729029013134                                                               \n",
      "MSE                                                                              \n",
      "2.0786300834428593                                                               \n",
      "MSE                                                                              \n",
      "2.0931299567034545                                                               \n",
      "MSE                                                                              \n",
      "2.120421230651252                                                                \n",
      "MSE                                                                              \n",
      "2.0742291746696413                                                               \n",
      "MSE                                                                              \n",
      "2.197851490340327                                                                \n",
      "MSE                                                                              \n",
      "2.097195245304566                                                                \n",
      "MSE                                                                              \n",
      "2.1429517792767387                                                               \n",
      "MSE                                                                              \n",
      "2.1095545799147035                                                               \n",
      "MSE                                                                              \n",
      "2.1752540132601093                                                               \n",
      "MSE                                                                              \n",
      "2.130336319394527                                                                \n",
      "MSE                                                                              \n",
      "2.059707885796067                                                                \n",
      "MSE                                                                              \n",
      "2.162156808829214                                                                \n",
      "MSE                                                                              \n",
      "2.0599169255484235                                                               \n",
      "MSE                                                                              \n",
      "2.090182636920845                                                                \n",
      "MSE                                                                              \n",
      "2.1126496230978393                                                               \n",
      "MSE                                                                              \n",
      "2.074859475573793                                                                \n",
      "MSE                                                                              \n",
      "2.1386500545069187                                                               \n",
      "MSE                                                                              \n",
      "2.138611528142467                                                                \n",
      "MSE                                                                              \n",
      "2.111866301817581                                                                \n",
      "MSE                                                                              \n",
      "2.157650064142671                                                                \n",
      "MSE                                                                              \n",
      "2.1058449728123465                                                               \n",
      "MSE                                                                              \n",
      "2.131174885271374                                                                \n",
      "MSE                                                                              \n",
      "2.212031281849103                                                                \n",
      "MSE                                                                              \n",
      "2.0880909520236752                                                               \n",
      "MSE                                                                              \n",
      "2.117821232186892                                                                \n",
      "MSE                                                                              \n",
      "2.085442345070875                                                                \n",
      "MSE                                                                              \n",
      "2.0701028184920416                                                               \n",
      "100%|██████████| 100/100 [01:46<00:00,  1.06s/trial, best loss: 2.056773756756377]\n"
     ]
    }
   ],
   "source": [
    "trials = Trials()\n",
    "\n",
    "best_hyperparams = fmin(fn = tune_model,\n",
    "                        space = space,\n",
    "                        algo = tpe.suggest,\n",
    "                        max_evals = 100,\n",
    "                        trials = trials)"
   ]
  },
  {
   "cell_type": "code",
   "execution_count": 225,
   "metadata": {
    "execution": {
     "iopub.execute_input": "2021-03-25T19:40:34.430225Z",
     "iopub.status.busy": "2021-03-25T19:40:34.429042Z",
     "iopub.status.idle": "2021-03-25T19:40:34.442654Z",
     "shell.execute_reply": "2021-03-25T19:40:34.441547Z",
     "shell.execute_reply.started": "2021-03-25T19:40:34.430151Z"
    }
   },
   "outputs": [
    {
     "name": "stdout",
     "output_type": "stream",
     "text": [
      "The best hyperparameters are :  \n",
      "\n",
      "{'colsample_bytree': 0.8817698784787885, 'gamma': 5.846920982388518, 'max_depth': 4.0, 'min_child_weight': 1.0, 'reg_alpha': 40.0, 'reg_lambda': 0.6361100339020545}\n"
     ]
    }
   ],
   "source": [
    "print(\"The best hyperparameters are : \",\"\\n\")\n",
    "print(best_hyperparams)"
   ]
  },
  {
   "cell_type": "code",
   "execution_count": 226,
   "metadata": {
    "execution": {
     "iopub.execute_input": "2021-03-25T19:41:03.039483Z",
     "iopub.status.busy": "2021-03-25T19:41:03.039217Z",
     "iopub.status.idle": "2021-03-25T19:41:04.044326Z",
     "shell.execute_reply": "2021-03-25T19:41:04.043554Z",
     "shell.execute_reply.started": "2021-03-25T19:41:03.039456Z"
    }
   },
   "outputs": [],
   "source": [
    "xgb_model = xgb.XGBRegressor(n_estimators=1000,\n",
    "                             colsample_bytree = 0.88,\n",
    "                             gamma = 5.85,\n",
    "                             max_depth = 4,\n",
    "                             min_child_weight = 1.0,\n",
    "                             reg_alpha = 40.0,\n",
    "                             reg_lambda = 0.64)\n",
    "\n",
    "xgb_model.fit(X_train, y_train,\n",
    "        eval_set=[(X_train, y_train), (X_test, y_test)],\n",
    "        eval_metric = 'rmse',\n",
    "        early_stopping_rounds=50,\n",
    "       verbose=False) \n",
    "\n",
    "pred = xgb_model.predict(X_test)"
   ]
  },
  {
   "cell_type": "code",
   "execution_count": 227,
   "metadata": {
    "execution": {
     "iopub.execute_input": "2021-03-25T19:41:04.710917Z",
     "iopub.status.busy": "2021-03-25T19:41:04.710656Z",
     "iopub.status.idle": "2021-03-25T19:41:04.730460Z",
     "shell.execute_reply": "2021-03-25T19:41:04.729596Z",
     "shell.execute_reply.started": "2021-03-25T19:41:04.710888Z"
    }
   },
   "outputs": [
    {
     "data": {
      "text/plain": [
       "0.6194637762228973"
      ]
     },
     "execution_count": 227,
     "metadata": {},
     "output_type": "execute_result"
    }
   ],
   "source": [
    "ts_results = pd.DataFrame({'Predicted': pred, 'Observed': y_test['Temperature']})\n",
    "ts_results[ts_results['Predicted'] <= 0] = 0\n",
    "ts_results['RMSE'] = np.sqrt((ts_results['Predicted']-ts_results['Observed'])**2)\n",
    "ts_results['RMSE'].mean()"
   ]
  },
  {
   "cell_type": "markdown",
   "metadata": {},
   "source": [
    "We see above that hyperparameter tuning has minimal effect on the model. There are two possible explanations: the first being that the model's existing performance is already quite high RMSE = ~0.61-0.62; the second being that the features used to predict the temperature are much more important than the hyperparameters themselves."
   ]
  }
 ],
 "metadata": {
  "kernelspec": {
   "display_name": "Python 3",
   "language": "python",
   "name": "python3"
  },
  "language_info": {
   "codemirror_mode": {
    "name": "ipython",
    "version": 3
   },
   "file_extension": ".py",
   "mimetype": "text/x-python",
   "name": "python",
   "nbconvert_exporter": "python",
   "pygments_lexer": "ipython3",
   "version": "3.7.6"
  },
  "toc": {
   "base_numbering": 1,
   "nav_menu": {},
   "number_sections": true,
   "sideBar": true,
   "skip_h1_title": false,
   "title_cell": "Table of Contents",
   "title_sidebar": "Contents",
   "toc_cell": false,
   "toc_position": {},
   "toc_section_display": true,
   "toc_window_display": true
  }
 },
 "nbformat": 4,
 "nbformat_minor": 4
}
