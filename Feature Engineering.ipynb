{
 "cells": [
  {
   "cell_type": "markdown",
   "id": "noted-poster",
   "metadata": {},
   "source": [
    "## Feature Engineering"
   ]
  },
  {
   "cell_type": "code",
   "execution_count": 74,
   "id": "incident-covering",
   "metadata": {},
   "outputs": [],
   "source": [
    "from datetime import datetime\n",
    "import pandas as pd \n",
    "from pandas import read_csv\n",
    "from sklearn.feature_selection import RFE\n",
    "from sklearn.ensemble import RandomForestRegressor\n",
    "from matplotlib import pyplot"
   ]
  },
  {
   "cell_type": "code",
   "execution_count": 93,
   "id": "periodic-washington",
   "metadata": {},
   "outputs": [],
   "source": [
    "df = pd.read_csv('montreal.csv')"
   ]
  },
  {
   "cell_type": "markdown",
   "id": "standing-chapel",
   "metadata": {},
   "source": [
    "### Time Based"
   ]
  },
  {
   "cell_type": "code",
   "execution_count": 94,
   "id": "identified-singer",
   "metadata": {},
   "outputs": [],
   "source": [
    "df['datetime'] = pd.to_datetime(df['datetime'])\n",
    "df['year'] = df['datetime'].dt.year\n",
    "df['month'] = df['datetime'].dt.month\n",
    "df['day'] = df['datetime'].dt.day\n",
    "df['hour'] = df['datetime'].dt.hour\n",
    "df['minute'] = df['datetime'].dt.minute\n",
    "df['weekday'] = df['datetime'].dt.weekday\n",
    "df['week'] = df['datetime'].dt.weekofyear\n",
    "df['quarter'] = df['datetime'].dt.quarter\n",
    "df['month start'] = df['datetime'].dt.is_month_start\n",
    "df['month end'] = df['datetime'].dt.is_month_end\n",
    "df['quarter start'] = df['datetime'].dt.is_quarter_start\n",
    "df['quarter end'] = df['datetime'].dt.is_quarter_end"
   ]
  },
  {
   "cell_type": "markdown",
   "id": "conceptual-continuity",
   "metadata": {},
   "source": [
    "### Max/min/average - Daily/monthly/weekly features"
   ]
  },
  {
   "cell_type": "code",
   "execution_count": 95,
   "id": "greatest-radar",
   "metadata": {},
   "outputs": [],
   "source": [
    "df = df.set_index('datetime')\n",
    "df['max daily temp']=df.resample('D')['Temperature'].transform('max')\n",
    "df['max daily temp']=df['max daily temp'].shift(24)\n",
    "df['max daily hum']=df.resample('D')['Humidity'].transform('max')\n",
    "df['max daily hum']=df['max daily hum'].shift(24)\n",
    "df['max daily wind speed']=df.resample('D')['Wind Speed'].transform('max')\n",
    "df['max daily wind speed']=df['max daily wind speed'].shift(24)\n",
    "df['max daily wind direction']=df.resample('D')['Wind Direction'].transform('max')\n",
    "df['max daily wind direction']=df['max daily wind direction'].shift(24)\n",
    "df['max daily pressure']=df.resample('D')['Pressure'].transform('max')\n",
    "df['max daily pressure']=df['max daily pressure'].shift(24)\n",
    "\n",
    "df['max weekly temp']=df.resample('W')['Temperature'].transform('max')\n",
    "df['max weekly temp']=df['max weekly temp'].shift(168)\n",
    "df['max weekly hum']=df.resample('W')['Humidity'].transform('max')\n",
    "df['max weekly hum']=df['max weekly hum'].shift(168)\n",
    "df['max weekly wind speed']=df.resample('W')['Wind Speed'].transform('max')\n",
    "df['max weekly wind speed']=df['max weekly wind speed'].shift(168)\n",
    "df['max weekly wind direction']=df.resample('W')['Wind Direction'].transform('max')\n",
    "df['max weekly wind direction']=df['max weekly wind direction'].shift(168)\n",
    "df['max weekly pressure']=df.resample('W')['Pressure'].transform('max')\n",
    "df['max weekly pressure']=df['max weekly pressure'].shift(168)"
   ]
  },
  {
   "cell_type": "code",
   "execution_count": 96,
   "id": "orange-vanilla",
   "metadata": {},
   "outputs": [],
   "source": [
    "df['min daily temp']=df.resample('D')['Temperature'].transform('min')\n",
    "df['min daily temp']=df['min daily temp'].shift(24)\n",
    "df['min daily hum']=df.resample('D')['Humidity'].transform('min')\n",
    "df['min daily hum']=df['min daily temp'].shift(24)\n",
    "df['min daily wind speed']=df.resample('D')['Wind Speed'].transform('min')\n",
    "df['min daily wind speed']=df['min daily temp'].shift(24)\n",
    "df['min daily wind direction']=df.resample('D')['Wind Direction'].transform('min')\n",
    "df['min daily wind direction']=df['min daily temp'].shift(24)\n",
    "df['min daily pressure']=df.resample('D')['Pressure'].transform('min')\n",
    "df['min daily pressure']=df['min daily temp'].shift(24)\n",
    "\n",
    "\n",
    "df['min weekly temp']=df.resample('W')['Temperature'].transform('min')\n",
    "df['min weekly temp']=df['min weekly temp'].shift(168)\n",
    "df['min weekly hum']=df.resample('W')['Humidity'].transform('min')\n",
    "df['min weekly hum']=df['min weekly hum'].shift(168)\n",
    "df['min weekly wind speed']=df.resample('W')['Wind Speed'].transform('min')\n",
    "df['min weekly wind speed']=df['min weekly wind speed'].shift(168)\n",
    "df['min weekly wind direction']=df.resample('W')['Wind Direction'].transform('min')\n",
    "df['min weekly wind direction']=df['min weekly wind direction'].shift(168)\n",
    "df['min weekly pressure']=df.resample('W')['Pressure'].transform('min')\n",
    "df['min weekly pressure']=df['min weekly pressure'].shift(168)"
   ]
  },
  {
   "cell_type": "code",
   "execution_count": 97,
   "id": "plastic-magnitude",
   "metadata": {},
   "outputs": [],
   "source": [
    "df['mean daily temp']=df.resample('D')['Temperature'].transform('max')\n",
    "df['mean daily temp']=df['mean daily temp'].shift(24)\n",
    "df['mean daily hum']=df.resample('D')['Humidity'].transform('max')\n",
    "df['mean daily hum']=df['mean daily hum'].shift(24)\n",
    "df['mean daily wind speed']=df.resample('D')['Wind Speed'].transform('max')\n",
    "df['mean daily wind speed']=df['mean daily wind speed'].shift(24)\n",
    "df['mean daily wind direction']=df.resample('D')['Wind Direction'].transform('max')\n",
    "df['mean daily wind direction']=df['mean daily wind direction'].shift(24)\n",
    "df['mean daily pressure']=df.resample('D')['Pressure'].transform('max')\n",
    "df['mean daily pressure']=df['mean daily pressure'].shift(24)\n",
    "\n",
    "df['mean weekly temp']=df.resample('W')['Temperature'].transform('mean')\n",
    "df['mean weekly temp']=df['mean weekly temp'].shift(168)\n",
    "df['mean weekly hum']=df.resample('W')['Humidity'].transform('mean')\n",
    "df['mean weekly hum']=df['mean weekly hum'].shift(168)\n",
    "df['mean weekly wind speed']=df.resample('W')['Wind Speed'].transform('mean')\n",
    "df['mean weekly wind speed']=df['mean weekly wind speed'].shift(168)\n",
    "df['mean weekly wind direction']=df.resample('W')['Wind Direction'].transform('mean')\n",
    "df['mean weekly wind direction']=df['mean weekly wind direction'].shift(168)\n",
    "df['mean weekly pressure']=df.resample('W')['Pressure'].transform('mean')\n",
    "df['mean weekly pressure']=df['mean weekly pressure'].shift(168)"
   ]
  },
  {
   "cell_type": "markdown",
   "id": "handed-revolution",
   "metadata": {},
   "source": [
    "## Rolling Window\n",
    "\n",
    "https://www.analyticsvidhya.com/blog/2019/12/6-powerful-feature-engineering-techniques-time-series/?#\n",
    "\n",
    "Since data is collected on the hour, we will use a window of 24."
   ]
  },
  {
   "cell_type": "code",
   "execution_count": 98,
   "id": "conscious-filing",
   "metadata": {},
   "outputs": [],
   "source": [
    "df['rolling_mean_temp'] = df['Temperature'].rolling(window=24).mean()\n",
    "df['rolling_mean_pressure'] = df['Pressure'].rolling(window=24).mean()\n",
    "df['rolling_mean_wind_dir'] = df['Wind Direction'].rolling(window=24).mean()\n",
    "df['rolling_mean_wind_speed'] = df['Wind Speed'].rolling(window=24).mean()\n",
    "df['rolling_mean_humidity'] = df['Humidity'].rolling(window=24).mean()"
   ]
  },
  {
   "cell_type": "code",
   "execution_count": 99,
   "id": "consecutive-eagle",
   "metadata": {},
   "outputs": [],
   "source": [
    "df['rolling_min_temp'] = df['Temperature'].rolling(window=24).min()\n",
    "df['rolling_min_pressure'] = df['Pressure'].rolling(window=24).min()\n",
    "df['rolling_min_wind_dir'] = df['Wind Direction'].rolling(window=24).min()\n",
    "df['rolling_min_wind_speed'] = df['Wind Speed'].rolling(window=24).min()\n",
    "df['rolling_min_humidity'] = df['Humidity'].rolling(window=24).min()"
   ]
  },
  {
   "cell_type": "code",
   "execution_count": 100,
   "id": "christian-occasions",
   "metadata": {},
   "outputs": [],
   "source": [
    "df['rolling_max_temp'] = df['Temperature'].rolling(window=24).max()\n",
    "df['rolling_max_pressure'] = df['Pressure'].rolling(window=24).max()\n",
    "df['rolling_max_wind_dir'] = df['Wind Direction'].rolling(window=24).max()\n",
    "df['rolling_max_wind_speed'] = df['Wind Speed'].rolling(window=24).max()\n",
    "df['rolling_max_humidity'] = df['Humidity'].rolling(window=24).max()"
   ]
  },
  {
   "cell_type": "markdown",
   "id": "varied-defeat",
   "metadata": {},
   "source": [
    "## Expanding Window"
   ]
  },
  {
   "cell_type": "code",
   "execution_count": 101,
   "id": "sustainable-photograph",
   "metadata": {},
   "outputs": [],
   "source": [
    "df['rolling_mean_temp'] = df['Temperature'].expanding(2).mean()\n",
    "df['rolling_mean_pressure'] = df['Pressure'].expanding(2).mean()\n",
    "df['rolling_mean_wind_dir'] = df['Wind Direction'].expanding(2).mean()\n",
    "df['rolling_mean_wind_speed'] = df['Wind Speed'].expanding(2).mean()\n",
    "df['rolling_mean_humidity'] = df['Humidity'].expanding(2).mean()"
   ]
  },
  {
   "cell_type": "code",
   "execution_count": 102,
   "id": "opposed-object",
   "metadata": {},
   "outputs": [],
   "source": [
    "df['rolling_min_temp'] = df['Temperature'].expanding(2).min()\n",
    "df['rolling_min_pressure'] = df['Pressure'].expanding(2).min()\n",
    "df['rolling_min_wind_dir'] = df['Wind Direction'].expanding(2).min()\n",
    "df['rolling_min_wind_speed'] = df['Wind Speed'].expanding(2).min()\n",
    "df['rolling_min_humidity'] = df['Humidity'].expanding(2).min()"
   ]
  },
  {
   "cell_type": "code",
   "execution_count": 103,
   "id": "documentary-committee",
   "metadata": {},
   "outputs": [],
   "source": [
    "df['rolling_max_temp'] = df['Temperature'].expanding(2).max()\n",
    "df['rolling_max_pressure'] = df['Pressure'].expanding(2).max()\n",
    "df['rolling_max_wind_dir'] = df['Wind Direction'].expanding(2).max()\n",
    "df['rolling_max_wind_speed'] = df['Wind Speed'].expanding(2).max()\n",
    "df['rolling_max_humidity'] = df['Humidity'].expanding(2).max()"
   ]
  },
  {
   "cell_type": "code",
   "execution_count": 104,
   "id": "neither-chinese",
   "metadata": {},
   "outputs": [
    {
     "data": {
      "text/html": [
       "<div>\n",
       "<style scoped>\n",
       "    .dataframe tbody tr th:only-of-type {\n",
       "        vertical-align: middle;\n",
       "    }\n",
       "\n",
       "    .dataframe tbody tr th {\n",
       "        vertical-align: top;\n",
       "    }\n",
       "\n",
       "    .dataframe thead th {\n",
       "        text-align: right;\n",
       "    }\n",
       "</style>\n",
       "<table border=\"1\" class=\"dataframe\">\n",
       "  <thead>\n",
       "    <tr style=\"text-align: right;\">\n",
       "      <th></th>\n",
       "      <th>Description</th>\n",
       "      <th>Humidity</th>\n",
       "      <th>Wind Direction</th>\n",
       "      <th>Temperature</th>\n",
       "      <th>Pressure</th>\n",
       "      <th>Wind Speed</th>\n",
       "      <th>year</th>\n",
       "      <th>month</th>\n",
       "      <th>day</th>\n",
       "      <th>hour</th>\n",
       "      <th>...</th>\n",
       "      <th>rolling_min_temp</th>\n",
       "      <th>rolling_min_pressure</th>\n",
       "      <th>rolling_min_wind_dir</th>\n",
       "      <th>rolling_min_wind_speed</th>\n",
       "      <th>rolling_min_humidity</th>\n",
       "      <th>rolling_max_temp</th>\n",
       "      <th>rolling_max_pressure</th>\n",
       "      <th>rolling_max_wind_dir</th>\n",
       "      <th>rolling_max_wind_speed</th>\n",
       "      <th>rolling_max_humidity</th>\n",
       "    </tr>\n",
       "    <tr>\n",
       "      <th>datetime</th>\n",
       "      <th></th>\n",
       "      <th></th>\n",
       "      <th></th>\n",
       "      <th></th>\n",
       "      <th></th>\n",
       "      <th></th>\n",
       "      <th></th>\n",
       "      <th></th>\n",
       "      <th></th>\n",
       "      <th></th>\n",
       "      <th></th>\n",
       "      <th></th>\n",
       "      <th></th>\n",
       "      <th></th>\n",
       "      <th></th>\n",
       "      <th></th>\n",
       "      <th></th>\n",
       "      <th></th>\n",
       "      <th></th>\n",
       "      <th></th>\n",
       "      <th></th>\n",
       "    </tr>\n",
       "  </thead>\n",
       "  <tbody>\n",
       "    <tr>\n",
       "      <th>2012-10-01 13:00:00</th>\n",
       "      <td>overcast clouds</td>\n",
       "      <td>93.0</td>\n",
       "      <td>230.0</td>\n",
       "      <td>285.830000</td>\n",
       "      <td>1001.0</td>\n",
       "      <td>4.0</td>\n",
       "      <td>2012</td>\n",
       "      <td>10</td>\n",
       "      <td>1</td>\n",
       "      <td>13</td>\n",
       "      <td>...</td>\n",
       "      <td>NaN</td>\n",
       "      <td>NaN</td>\n",
       "      <td>NaN</td>\n",
       "      <td>NaN</td>\n",
       "      <td>NaN</td>\n",
       "      <td>NaN</td>\n",
       "      <td>NaN</td>\n",
       "      <td>NaN</td>\n",
       "      <td>NaN</td>\n",
       "      <td>NaN</td>\n",
       "    </tr>\n",
       "    <tr>\n",
       "      <th>2012-10-01 14:00:00</th>\n",
       "      <td>sky is clear</td>\n",
       "      <td>91.0</td>\n",
       "      <td>230.0</td>\n",
       "      <td>285.834650</td>\n",
       "      <td>986.0</td>\n",
       "      <td>4.0</td>\n",
       "      <td>2012</td>\n",
       "      <td>10</td>\n",
       "      <td>1</td>\n",
       "      <td>14</td>\n",
       "      <td>...</td>\n",
       "      <td>285.83</td>\n",
       "      <td>986.0</td>\n",
       "      <td>230.0</td>\n",
       "      <td>4.0</td>\n",
       "      <td>91.0</td>\n",
       "      <td>285.834650</td>\n",
       "      <td>1001.0</td>\n",
       "      <td>230.0</td>\n",
       "      <td>4.0</td>\n",
       "      <td>93.0</td>\n",
       "    </tr>\n",
       "    <tr>\n",
       "      <th>2012-10-01 15:00:00</th>\n",
       "      <td>sky is clear</td>\n",
       "      <td>87.0</td>\n",
       "      <td>231.0</td>\n",
       "      <td>285.847790</td>\n",
       "      <td>945.0</td>\n",
       "      <td>4.0</td>\n",
       "      <td>2012</td>\n",
       "      <td>10</td>\n",
       "      <td>1</td>\n",
       "      <td>15</td>\n",
       "      <td>...</td>\n",
       "      <td>285.83</td>\n",
       "      <td>945.0</td>\n",
       "      <td>230.0</td>\n",
       "      <td>4.0</td>\n",
       "      <td>87.0</td>\n",
       "      <td>285.847790</td>\n",
       "      <td>1001.0</td>\n",
       "      <td>231.0</td>\n",
       "      <td>4.0</td>\n",
       "      <td>93.0</td>\n",
       "    </tr>\n",
       "    <tr>\n",
       "      <th>2012-10-01 16:00:00</th>\n",
       "      <td>sky is clear</td>\n",
       "      <td>84.0</td>\n",
       "      <td>233.0</td>\n",
       "      <td>285.860929</td>\n",
       "      <td>904.0</td>\n",
       "      <td>4.0</td>\n",
       "      <td>2012</td>\n",
       "      <td>10</td>\n",
       "      <td>1</td>\n",
       "      <td>16</td>\n",
       "      <td>...</td>\n",
       "      <td>285.83</td>\n",
       "      <td>904.0</td>\n",
       "      <td>230.0</td>\n",
       "      <td>4.0</td>\n",
       "      <td>84.0</td>\n",
       "      <td>285.860929</td>\n",
       "      <td>1001.0</td>\n",
       "      <td>233.0</td>\n",
       "      <td>4.0</td>\n",
       "      <td>93.0</td>\n",
       "    </tr>\n",
       "    <tr>\n",
       "      <th>2012-10-01 17:00:00</th>\n",
       "      <td>sky is clear</td>\n",
       "      <td>80.0</td>\n",
       "      <td>234.0</td>\n",
       "      <td>285.874069</td>\n",
       "      <td>863.0</td>\n",
       "      <td>3.0</td>\n",
       "      <td>2012</td>\n",
       "      <td>10</td>\n",
       "      <td>1</td>\n",
       "      <td>17</td>\n",
       "      <td>...</td>\n",
       "      <td>285.83</td>\n",
       "      <td>863.0</td>\n",
       "      <td>230.0</td>\n",
       "      <td>3.0</td>\n",
       "      <td>80.0</td>\n",
       "      <td>285.874069</td>\n",
       "      <td>1001.0</td>\n",
       "      <td>234.0</td>\n",
       "      <td>4.0</td>\n",
       "      <td>93.0</td>\n",
       "    </tr>\n",
       "  </tbody>\n",
       "</table>\n",
       "<p>5 rows × 63 columns</p>\n",
       "</div>"
      ],
      "text/plain": [
       "                         Description  Humidity  Wind Direction  Temperature  \\\n",
       "datetime                                                                      \n",
       "2012-10-01 13:00:00  overcast clouds      93.0           230.0   285.830000   \n",
       "2012-10-01 14:00:00     sky is clear      91.0           230.0   285.834650   \n",
       "2012-10-01 15:00:00     sky is clear      87.0           231.0   285.847790   \n",
       "2012-10-01 16:00:00     sky is clear      84.0           233.0   285.860929   \n",
       "2012-10-01 17:00:00     sky is clear      80.0           234.0   285.874069   \n",
       "\n",
       "                     Pressure  Wind Speed  year  month  day  hour  ...  \\\n",
       "datetime                                                           ...   \n",
       "2012-10-01 13:00:00    1001.0         4.0  2012     10    1    13  ...   \n",
       "2012-10-01 14:00:00     986.0         4.0  2012     10    1    14  ...   \n",
       "2012-10-01 15:00:00     945.0         4.0  2012     10    1    15  ...   \n",
       "2012-10-01 16:00:00     904.0         4.0  2012     10    1    16  ...   \n",
       "2012-10-01 17:00:00     863.0         3.0  2012     10    1    17  ...   \n",
       "\n",
       "                     rolling_min_temp  rolling_min_pressure  \\\n",
       "datetime                                                      \n",
       "2012-10-01 13:00:00               NaN                   NaN   \n",
       "2012-10-01 14:00:00            285.83                 986.0   \n",
       "2012-10-01 15:00:00            285.83                 945.0   \n",
       "2012-10-01 16:00:00            285.83                 904.0   \n",
       "2012-10-01 17:00:00            285.83                 863.0   \n",
       "\n",
       "                     rolling_min_wind_dir  rolling_min_wind_speed  \\\n",
       "datetime                                                            \n",
       "2012-10-01 13:00:00                   NaN                     NaN   \n",
       "2012-10-01 14:00:00                 230.0                     4.0   \n",
       "2012-10-01 15:00:00                 230.0                     4.0   \n",
       "2012-10-01 16:00:00                 230.0                     4.0   \n",
       "2012-10-01 17:00:00                 230.0                     3.0   \n",
       "\n",
       "                     rolling_min_humidity  rolling_max_temp  \\\n",
       "datetime                                                      \n",
       "2012-10-01 13:00:00                   NaN               NaN   \n",
       "2012-10-01 14:00:00                  91.0        285.834650   \n",
       "2012-10-01 15:00:00                  87.0        285.847790   \n",
       "2012-10-01 16:00:00                  84.0        285.860929   \n",
       "2012-10-01 17:00:00                  80.0        285.874069   \n",
       "\n",
       "                     rolling_max_pressure  rolling_max_wind_dir  \\\n",
       "datetime                                                          \n",
       "2012-10-01 13:00:00                   NaN                   NaN   \n",
       "2012-10-01 14:00:00                1001.0                 230.0   \n",
       "2012-10-01 15:00:00                1001.0                 231.0   \n",
       "2012-10-01 16:00:00                1001.0                 233.0   \n",
       "2012-10-01 17:00:00                1001.0                 234.0   \n",
       "\n",
       "                     rolling_max_wind_speed  rolling_max_humidity  \n",
       "datetime                                                           \n",
       "2012-10-01 13:00:00                     NaN                   NaN  \n",
       "2012-10-01 14:00:00                     4.0                  93.0  \n",
       "2012-10-01 15:00:00                     4.0                  93.0  \n",
       "2012-10-01 16:00:00                     4.0                  93.0  \n",
       "2012-10-01 17:00:00                     4.0                  93.0  \n",
       "\n",
       "[5 rows x 63 columns]"
      ]
     },
     "execution_count": 104,
     "metadata": {},
     "output_type": "execute_result"
    }
   ],
   "source": [
    "df.head()"
   ]
  },
  {
   "cell_type": "markdown",
   "id": "documentary-allen",
   "metadata": {},
   "source": [
    "## Feature Importance"
   ]
  },
  {
   "cell_type": "code",
   "execution_count": 105,
   "id": "instructional-frank",
   "metadata": {},
   "outputs": [
    {
     "data": {
      "text/plain": [
       "RandomForestRegressor(n_estimators=500, random_state=1)"
      ]
     },
     "execution_count": 105,
     "metadata": {},
     "output_type": "execute_result"
    }
   ],
   "source": [
    "df = df.dropna()\n",
    "# split into input and output\n",
    "X = df.drop('Temperature',axis=1)\n",
    "X = X.drop('Description',axis=1)\n",
    "y = df['Temperature']\n",
    "# fit random forest model\n",
    "model = RandomForestRegressor(n_estimators=500, random_state=1)\n",
    "model.fit(X, y)"
   ]
  },
  {
   "cell_type": "code",
   "execution_count": 106,
   "id": "black-geography",
   "metadata": {},
   "outputs": [
    {
     "data": {
      "text/plain": [
       "array([1.10442221e-02, 6.51047562e-03, 1.04062776e-02, 1.57285467e-03,\n",
       "       6.60311617e-04, 1.25499897e-03, 2.27480555e-03, 3.47864484e-02,\n",
       "       0.00000000e+00, 1.42313277e-03, 4.74087917e-03, 6.98962632e-05,\n",
       "       3.81131443e-05, 2.32893876e-05, 3.14825148e-05, 1.05266925e-05,\n",
       "       3.87705548e-01, 1.49853348e-03, 2.34632431e-03, 2.61567703e-03,\n",
       "       3.15583041e-03, 2.30006421e-03, 5.10062429e-04, 1.24491598e-03,\n",
       "       1.29670438e-03, 1.42513037e-03, 8.21898418e-02, 1.64357313e-03,\n",
       "       1.51155591e-03, 1.58705849e-03, 1.60897161e-03, 6.64448460e-03,\n",
       "       2.42050300e-03, 2.74862685e-04, 3.54137857e-04, 1.12330224e-03,\n",
       "       3.76756431e-01, 1.51385186e-03, 2.21584515e-03, 2.59967309e-03,\n",
       "       3.01602411e-03, 5.90363227e-03, 2.28425770e-03, 1.69376751e-03,\n",
       "       1.90598998e-03, 1.66612082e-03, 4.77707585e-03, 4.47625557e-03,\n",
       "       4.03247547e-03, 4.20786411e-03, 4.50928358e-03, 4.71355932e-05,\n",
       "       0.00000000e+00, 0.00000000e+00, 0.00000000e+00, 0.00000000e+00,\n",
       "       4.38448442e-05, 4.40942215e-05, 0.00000000e+00, 1.58157730e-06,\n",
       "       0.00000000e+00])"
      ]
     },
     "execution_count": 106,
     "metadata": {},
     "output_type": "execute_result"
    }
   ],
   "source": [
    "model.feature_importances_"
   ]
  },
  {
   "cell_type": "code",
   "execution_count": 107,
   "id": "requested-local",
   "metadata": {},
   "outputs": [
    {
     "data": {
      "image/png": "[encoded data removed]",
      "text/plain": [
       "<Figure size 1080x1080 with 1 Axes>"
      ]
     },
     "metadata": {
      "needs_background": "light"
     },
     "output_type": "display_data"
    }
   ],
   "source": [
    "# plot importance scores\n",
    "names = X.columns\n",
    "ticks = [i for i in range(len(names))]\n",
    "pyplot.figure(figsize=(15,15))\n",
    "pyplot.bar(ticks, model.feature_importances_)\n",
    "pyplot.xticks(ticks, names,rotation='vertical')\n",
    "pyplot.show()"
   ]
  },
  {
   "cell_type": "markdown",
   "id": "fabulous-election",
   "metadata": {},
   "source": [
    "## RFE ??"
   ]
  },
  {
   "cell_type": "code",
   "execution_count": 109,
   "id": "eleven-attack",
   "metadata": {},
   "outputs": [],
   "source": [
    "# perform feature selection\n",
    "rfe = RFE(RandomForestRegressor(n_estimators=500, random_state=1), n_features_to_select=15)\n",
    "fit = rfe.fit(X, y)"
   ]
  },
  {
   "cell_type": "code",
   "execution_count": 112,
   "id": "matched-retailer",
   "metadata": {},
   "outputs": [
    {
     "name": "stdout",
     "output_type": "stream",
     "text": [
      "Humidity\n",
      "Wind Direction\n",
      "Pressure\n",
      "hour\n",
      "week\n",
      "max daily temp\n",
      "min daily temp\n",
      "min daily hum\n",
      "min weekly temp\n",
      "mean daily temp\n",
      "mean daily pressure\n",
      "mean weekly temp\n",
      "rolling_mean_temp\n",
      "rolling_mean_pressure\n",
      "rolling_mean_wind_speed\n"
     ]
    },
    {
     "data": {
      "image/png": "[encoded data removed]",
      "text/plain": [
       "<Figure size 432x288 with 1 Axes>"
      ]
     },
     "metadata": {
      "needs_background": "light"
     },
     "output_type": "display_data"
    }
   ],
   "source": [
    "for i in range(len(fit.support_)):\n",
    "    if fit.support_[i]:\n",
    "        print(names[i])\n",
    "# plot feature rank\n",
    "ticks = [i for i in range(len(names))]\n",
    "pyplot.bar(ticks, fit.ranking_)\n",
    "pyplot.xticks(ticks, names,rotation='vertical')\n",
    "pyplot.show()"
   ]
  },
  {
   "cell_type": "code",
   "execution_count": null,
   "id": "random-syndrome",
   "metadata": {},
   "outputs": [],
   "source": []
  },
  {
   "cell_type": "code",
   "execution_count": null,
   "id": "yellow-competition",
   "metadata": {},
   "outputs": [],
   "source": []
  },
  {
   "cell_type": "markdown",
   "id": "weird-quick",
   "metadata": {},
   "source": [
    "extras"
   ]
  },
  {
   "cell_type": "code",
   "execution_count": null,
   "id": "studied-booth",
   "metadata": {},
   "outputs": [],
   "source": [
    "df['max monthly temp']=df.resample('M')['Temperature'].transform('max')\n",
    "df['max monthly hum']=df.resample('M')['Humidity'].transform('max')\n",
    "df['max monthly wind speed']=df.resample('M')['Wind Speed'].transform('max')\n",
    "df['max monthly wind direction']=df.resample('M')['Wind Direction'].transform('max')\n",
    "df['max monthly pressure']=df.resample('M')['Pressure'].transform('max')\n",
    "\n",
    "df['min monthly temp']=df.resample('M')['Temperature'].transform('min')\n",
    "df['min monthly hum']=df.resample('M')['Humidity'].transform('min')\n",
    "df['min monthly wind speed']=df.resample('M')['Wind Speed'].transform('min')\n",
    "df['min monthly wind direction']=df.resample('M')['Wind Direction'].transform('min')\n",
    "df['min monthly pressure']=df.resample('M')['Pressure'].transform('min')\n",
    "\n",
    "df['mean monthly temp']=df.resample('M')['Temperature'].transform('mean')\n",
    "df['mean monthly hum']=df.resample('M')['Humidity'].transform('mean')\n",
    "df['mean monthly wind speed']=df.resample('M')['Wind Speed'].transform('mean')\n",
    "df['mean monthly wind direction']=df.resample('M')['Wind Direction'].transform('mean')\n",
    "df['mean monthly pressure']=df.resample('M')['Pressure'].transform('mean')df['mean monthly temp']=df.resample('M')['Temperature'].transform('mean')\n",
    "df['mean monthly hum']=df.resample('M')['Humidity'].transform('mean')\n",
    "df['mean monthly wind speed']=df.resample('M')['Wind Speed'].transform('mean')\n",
    "df['mean monthly wind direction']=df.resample('M')['Wind Direction'].transform('mean')\n",
    "df['mean monthly pressure']=df.resample('M')['Pressure'].transform('mean')"
   ]
  }
 ],
 "metadata": {
  "kernelspec": {
   "display_name": "Python 3",
   "language": "python",
   "name": "python3"
  },
  "language_info": {
   "codemirror_mode": {
    "name": "ipython",
    "version": 3
   },
   "file_extension": ".py",
   "mimetype": "text/x-python",
   "name": "python",
   "nbconvert_exporter": "python",
   "pygments_lexer": "ipython3",
   "version": "3.7.7"
  }
 },
 "nbformat": 4,
 "nbformat_minor": 5
}
