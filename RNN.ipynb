{
 "cells": [
  {
   "cell_type": "code",
   "execution_count": 1,
   "id": "continued-scene",
   "metadata": {},
   "outputs": [],
   "source": [
    "import pandas as pd\n",
    "import numpy as np\n",
    "import tensorflow as tf\n",
    "from tensorflow import keras\n",
    "import datetime as dt\n",
    "import math\n",
    "from sklearn.preprocessing import StandardScaler\n",
    "from sklearn.metrics import mean_squared_error, r2_score\n",
    "import attention\n",
    "import transformers\n",
    "import torch\n",
    "\n",
    "import helper\n",
    "from helper import *"
   ]
  },
  {
   "cell_type": "code",
   "execution_count": 2,
   "id": "conservative-departure",
   "metadata": {},
   "outputs": [],
   "source": [
    "df = load_and_preprocess()\n",
    "df = df.reset_index(drop = True)"
   ]
  },
  {
   "cell_type": "code",
   "execution_count": 3,
   "id": "potential-farmer",
   "metadata": {},
   "outputs": [],
   "source": [
    "cutoff = math.floor(0.75*len(df)) #train/test cutoff"
   ]
  },
  {
   "cell_type": "markdown",
   "id": "silent-action",
   "metadata": {},
   "source": [
    "#### Just Using Date/Previous Hour Temp."
   ]
  },
  {
   "cell_type": "code",
   "execution_count": 4,
   "id": "leading-college",
   "metadata": {},
   "outputs": [
    {
     "data": {
      "text/html": [
       "<div>\n",
       "<style scoped>\n",
       "    .dataframe tbody tr th:only-of-type {\n",
       "        vertical-align: middle;\n",
       "    }\n",
       "\n",
       "    .dataframe tbody tr th {\n",
       "        vertical-align: top;\n",
       "    }\n",
       "\n",
       "    .dataframe thead th {\n",
       "        text-align: right;\n",
       "    }\n",
       "</style>\n",
       "<table border=\"1\" class=\"dataframe\">\n",
       "  <thead>\n",
       "    <tr style=\"text-align: right;\">\n",
       "      <th></th>\n",
       "      <th>datetime</th>\n",
       "      <th>Description</th>\n",
       "      <th>Humidity</th>\n",
       "      <th>Wind Direction</th>\n",
       "      <th>Temperature</th>\n",
       "      <th>Pressure</th>\n",
       "      <th>Wind Speed</th>\n",
       "      <th>clouds</th>\n",
       "      <th>rain</th>\n",
       "      <th>mist</th>\n",
       "      <th>snow</th>\n",
       "      <th>shower</th>\n",
       "      <th>thunderstorm</th>\n",
       "      <th>fog</th>\n",
       "      <th>other</th>\n",
       "      <th>Intensity</th>\n",
       "    </tr>\n",
       "  </thead>\n",
       "  <tbody>\n",
       "    <tr>\n",
       "      <th>0</th>\n",
       "      <td>2012-10-01 13:00:00</td>\n",
       "      <td>heavy clouds</td>\n",
       "      <td>93.0</td>\n",
       "      <td>1001.0</td>\n",
       "      <td>285.830000</td>\n",
       "      <td>230.0</td>\n",
       "      <td>4.0</td>\n",
       "      <td>1</td>\n",
       "      <td>0</td>\n",
       "      <td>0</td>\n",
       "      <td>0</td>\n",
       "      <td>0</td>\n",
       "      <td>0</td>\n",
       "      <td>0</td>\n",
       "      <td>0</td>\n",
       "      <td>3.0</td>\n",
       "    </tr>\n",
       "    <tr>\n",
       "      <th>1</th>\n",
       "      <td>2012-10-01 14:00:00</td>\n",
       "      <td>sky is clear</td>\n",
       "      <td>91.0</td>\n",
       "      <td>986.0</td>\n",
       "      <td>285.834650</td>\n",
       "      <td>230.0</td>\n",
       "      <td>4.0</td>\n",
       "      <td>0</td>\n",
       "      <td>0</td>\n",
       "      <td>0</td>\n",
       "      <td>0</td>\n",
       "      <td>0</td>\n",
       "      <td>0</td>\n",
       "      <td>0</td>\n",
       "      <td>0</td>\n",
       "      <td>0.0</td>\n",
       "    </tr>\n",
       "    <tr>\n",
       "      <th>2</th>\n",
       "      <td>2012-10-01 15:00:00</td>\n",
       "      <td>sky is clear</td>\n",
       "      <td>87.0</td>\n",
       "      <td>945.0</td>\n",
       "      <td>285.847790</td>\n",
       "      <td>231.0</td>\n",
       "      <td>4.0</td>\n",
       "      <td>0</td>\n",
       "      <td>0</td>\n",
       "      <td>0</td>\n",
       "      <td>0</td>\n",
       "      <td>0</td>\n",
       "      <td>0</td>\n",
       "      <td>0</td>\n",
       "      <td>0</td>\n",
       "      <td>0.0</td>\n",
       "    </tr>\n",
       "    <tr>\n",
       "      <th>3</th>\n",
       "      <td>2012-10-01 16:00:00</td>\n",
       "      <td>sky is clear</td>\n",
       "      <td>84.0</td>\n",
       "      <td>904.0</td>\n",
       "      <td>285.860929</td>\n",
       "      <td>233.0</td>\n",
       "      <td>4.0</td>\n",
       "      <td>0</td>\n",
       "      <td>0</td>\n",
       "      <td>0</td>\n",
       "      <td>0</td>\n",
       "      <td>0</td>\n",
       "      <td>0</td>\n",
       "      <td>0</td>\n",
       "      <td>0</td>\n",
       "      <td>0.0</td>\n",
       "    </tr>\n",
       "    <tr>\n",
       "      <th>4</th>\n",
       "      <td>2012-10-01 17:00:00</td>\n",
       "      <td>sky is clear</td>\n",
       "      <td>80.0</td>\n",
       "      <td>863.0</td>\n",
       "      <td>285.874069</td>\n",
       "      <td>234.0</td>\n",
       "      <td>3.0</td>\n",
       "      <td>0</td>\n",
       "      <td>0</td>\n",
       "      <td>0</td>\n",
       "      <td>0</td>\n",
       "      <td>0</td>\n",
       "      <td>0</td>\n",
       "      <td>0</td>\n",
       "      <td>0</td>\n",
       "      <td>0.0</td>\n",
       "    </tr>\n",
       "  </tbody>\n",
       "</table>\n",
       "</div>"
      ],
      "text/plain": [
       "              datetime   Description  Humidity  Wind Direction  Temperature  \\\n",
       "0  2012-10-01 13:00:00  heavy clouds      93.0          1001.0   285.830000   \n",
       "1  2012-10-01 14:00:00  sky is clear      91.0           986.0   285.834650   \n",
       "2  2012-10-01 15:00:00  sky is clear      87.0           945.0   285.847790   \n",
       "3  2012-10-01 16:00:00  sky is clear      84.0           904.0   285.860929   \n",
       "4  2012-10-01 17:00:00  sky is clear      80.0           863.0   285.874069   \n",
       "\n",
       "   Pressure  Wind Speed  clouds  rain  mist  snow  shower  thunderstorm  fog  \\\n",
       "0     230.0         4.0       1     0     0     0       0             0    0   \n",
       "1     230.0         4.0       0     0     0     0       0             0    0   \n",
       "2     231.0         4.0       0     0     0     0       0             0    0   \n",
       "3     233.0         4.0       0     0     0     0       0             0    0   \n",
       "4     234.0         3.0       0     0     0     0       0             0    0   \n",
       "\n",
       "   other  Intensity  \n",
       "0      0        3.0  \n",
       "1      0        0.0  \n",
       "2      0        0.0  \n",
       "3      0        0.0  \n",
       "4      0        0.0  "
      ]
     },
     "execution_count": 4,
     "metadata": {},
     "output_type": "execute_result"
    }
   ],
   "source": [
    "df.head()"
   ]
  },
  {
   "cell_type": "code",
   "execution_count": 5,
   "id": "certain-encoding",
   "metadata": {},
   "outputs": [],
   "source": [
    "train = df[:cutoff].reset_index(drop = True)\n",
    "train = train.iloc[:, 4:5].values\n",
    "test = df[cutoff:]\n",
    "test = test.iloc[:, 4:5].values"
   ]
  },
  {
   "cell_type": "code",
   "execution_count": 6,
   "id": "optional-contract",
   "metadata": {},
   "outputs": [],
   "source": [
    "sc = StandardScaler()\n",
    "train_std = sc.fit_transform(train)\n",
    "test_std = sc.transform(test)"
   ]
  },
  {
   "cell_type": "code",
   "execution_count": 7,
   "id": "russian-police",
   "metadata": {},
   "outputs": [],
   "source": [
    "def split(sequence, n_timestamp):\n",
    "    X, y = [], []\n",
    "    \n",
    "    for i in range(len(sequence)):\n",
    "        end = i + n_timestamp\n",
    "        if end > len(sequence)-1:\n",
    "            break\n",
    "        sequence_x, sequence_y = sequence[i:end], sequence[end]\n",
    "        X.append(sequence_x)\n",
    "        y.append(sequence_y)\n",
    "    return np.array(X), np.array(y)"
   ]
  },
  {
   "cell_type": "code",
   "execution_count": 8,
   "id": "needed-gibson",
   "metadata": {},
   "outputs": [],
   "source": [
    "X_train, y_train = split(sequence = train_std, n_timestamp = 10)\n",
    "X_test, y_test = split(sequence = test_std, n_timestamp = 10)"
   ]
  },
  {
   "cell_type": "code",
   "execution_count": 9,
   "id": "streaming-victor",
   "metadata": {},
   "outputs": [
    {
     "name": "stdout",
     "output_type": "stream",
     "text": [
      "(33929, 10, 1)\n",
      "(11303, 10, 1)\n"
     ]
    }
   ],
   "source": [
    "print(X_train.shape)\n",
    "print(X_test.shape)"
   ]
  },
  {
   "cell_type": "code",
   "execution_count": 10,
   "id": "missing-spell",
   "metadata": {},
   "outputs": [
    {
     "name": "stdout",
     "output_type": "stream",
     "text": [
      "(33929, 1)\n",
      "(11303, 1)\n"
     ]
    }
   ],
   "source": [
    "print(y_train.shape)\n",
    "print(y_test.shape)"
   ]
  },
  {
   "cell_type": "code",
   "execution_count": null,
   "id": "musical-london",
   "metadata": {},
   "outputs": [],
   "source": [
    "model = keras.models.Sequential()\n",
    "\n",
    "model.add(keras.layers.LSTM(units = 50, return_sequences = True, input_shape = X_train.shape[1:]))\n",
    "model.add(keras.layers.LSTM(units = 50))\n",
    "model.add(keras.layers.Dense(1))"
   ]
  },
  {
   "cell_type": "code",
   "execution_count": null,
   "id": "physical-homework",
   "metadata": {},
   "outputs": [],
   "source": [
    "model.compile(loss = 'mse', optimizer = 'adam')"
   ]
  },
  {
   "cell_type": "code",
   "execution_count": null,
   "id": "interpreted-covering",
   "metadata": {
    "scrolled": true
   },
   "outputs": [],
   "source": [
    "history = model.fit(X_train, y_train, epochs = 3)"
   ]
  },
  {
   "cell_type": "code",
   "execution_count": null,
   "id": "hybrid-walker",
   "metadata": {},
   "outputs": [],
   "source": [
    "y_pred = model.predict(X_test)"
   ]
  },
  {
   "cell_type": "code",
   "execution_count": null,
   "id": "about-convert",
   "metadata": {},
   "outputs": [],
   "source": [
    "y_test_inv = sc.inverse_transform(y_test)\n",
    "y_pred_inv = sc.inverse_transform(y_pred)"
   ]
  },
  {
   "cell_type": "code",
   "execution_count": null,
   "id": "sonic-tongue",
   "metadata": {},
   "outputs": [],
   "source": [
    "from matplotlib import pyplot as plt\n",
    "plt.figure(figsize = (20, 10))\n",
    "plt.plot(y_test_inv, label = 'Actual')\n",
    "plt.plot(y_pred_inv, label = 'Predicted')\n",
    "plt.ylabel('Temperature')\n",
    "plt.xlabel('Day')\n",
    "plt.xlim([0, 365])\n",
    "plt.ylim([278, 305])\n",
    "plt.legend()\n",
    "plt.show()"
   ]
  },
  {
   "cell_type": "code",
   "execution_count": null,
   "id": "chicken-insider",
   "metadata": {},
   "outputs": [],
   "source": [
    "print('MSE:', mean_squared_error(y_test_inv, y_pred_inv))\n",
    "print('R-Squared:', r2_score(y_test_inv, y_pred_inv))"
   ]
  },
  {
   "cell_type": "code",
   "execution_count": null,
   "id": "sophisticated-guide",
   "metadata": {},
   "outputs": [],
   "source": [
    "math.sqrt(mean_squared_error(y_test_inv, y_pred_inv))"
   ]
  },
  {
   "cell_type": "markdown",
   "id": "artistic-confidence",
   "metadata": {},
   "source": [
    "#### Trying with multiple predictors"
   ]
  },
  {
   "cell_type": "code",
   "execution_count": null,
   "id": "manual-merit",
   "metadata": {},
   "outputs": [],
   "source": [
    "def split_multiple(sequence, n_timestamp, target):\n",
    "    X, y = [], []\n",
    "    \n",
    "    for i in range(len(sequence)):\n",
    "        end = i + n_timestamp\n",
    "        if end > len(sequence)-1:\n",
    "            break\n",
    "        sequence_x, sequence_y = sequence[i:end], target[end]\n",
    "        X.append(sequence_x)\n",
    "        y.append(sequence_y)\n",
    "    return np.array(X), np.array(y)"
   ]
  },
  {
   "cell_type": "code",
   "execution_count": null,
   "id": "worst-sphere",
   "metadata": {},
   "outputs": [],
   "source": [
    "train = df[:cutoff].reset_index(drop = True)\n",
    "target_train = train[['Temperature']].values\n",
    "train = train.drop(['datetime', 'Description'], axis = 1).values\n",
    "\n",
    "test = df[:cutoff].reset_index(drop = True)\n",
    "target_test = test[['Temperature']].values\n",
    "test = test.drop(['datetime', 'Description'], axis = 1).values"
   ]
  },
  {
   "cell_type": "code",
   "execution_count": null,
   "id": "professional-expansion",
   "metadata": {},
   "outputs": [],
   "source": [
    "sc = StandardScaler()\n",
    "sc2 = StandardScaler()\n",
    "train_std = sc.fit_transform(train)\n",
    "target_train_std = sc2.fit_transform(target_train)\n",
    "test_std = sc.transform(test)\n",
    "target_test_std = sc2.transform(target_test)"
   ]
  },
  {
   "cell_type": "code",
   "execution_count": null,
   "id": "empty-behalf",
   "metadata": {},
   "outputs": [],
   "source": [
    "X_train, y_train = split_multiple(train_std, 10, target_train_std)"
   ]
  },
  {
   "cell_type": "code",
   "execution_count": null,
   "id": "connected-classification",
   "metadata": {},
   "outputs": [],
   "source": [
    "X_train.shape"
   ]
  },
  {
   "cell_type": "code",
   "execution_count": null,
   "id": "addressed-psychology",
   "metadata": {},
   "outputs": [],
   "source": [
    "y_train.shape"
   ]
  },
  {
   "cell_type": "code",
   "execution_count": null,
   "id": "classified-document",
   "metadata": {},
   "outputs": [],
   "source": [
    "model = keras.models.Sequential()\n",
    "\n",
    "model.add(keras.layers.LSTM(units = 50, return_sequences = True, input_shape = X_train.shape[1:]))\n",
    "model.add(keras.layers.LSTM(units = 50))\n",
    "model.add(keras.layers.Dense(1))"
   ]
  },
  {
   "cell_type": "code",
   "execution_count": null,
   "id": "presidential-experience",
   "metadata": {},
   "outputs": [],
   "source": [
    "model.compile(loss = 'mse', optimizer = 'adam')"
   ]
  },
  {
   "cell_type": "code",
   "execution_count": null,
   "id": "limited-occasions",
   "metadata": {},
   "outputs": [],
   "source": [
    "history = model.fit(X_train, y_train, epochs = 3)"
   ]
  },
  {
   "cell_type": "code",
   "execution_count": null,
   "id": "fatty-mustang",
   "metadata": {},
   "outputs": [],
   "source": [
    "X_test, y_test = split_multiple(test_std, 10, target_test_std)"
   ]
  },
  {
   "cell_type": "code",
   "execution_count": null,
   "id": "italic-volunteer",
   "metadata": {},
   "outputs": [],
   "source": [
    "y_pred = model.predict(X_test)\n",
    "\n",
    "y_test_inv = sc2.inverse_transform(y_test)\n",
    "y_pred_inv = sc2.inverse_transform(y_pred)"
   ]
  },
  {
   "cell_type": "code",
   "execution_count": null,
   "id": "inclusive-newspaper",
   "metadata": {},
   "outputs": [],
   "source": [
    "from matplotlib import pyplot as plt\n",
    "plt.figure(figsize = (20, 10))\n",
    "plt.plot(y_test_inv, label = 'Actual')\n",
    "plt.plot(y_pred_inv, label = 'Predicted')\n",
    "plt.ylabel('Temperature')\n",
    "plt.xlabel('Day')\n",
    "plt.xlim([0, 365])\n",
    "plt.ylim([270, 295])\n",
    "plt.legend()\n",
    "plt.show()"
   ]
  },
  {
   "cell_type": "code",
   "execution_count": null,
   "id": "urban-attraction",
   "metadata": {},
   "outputs": [],
   "source": [
    "print('MSE:', mean_squared_error(y_test_inv, y_pred_inv))\n",
    "print('R-Squared:', r2_score(y_test_inv, y_pred_inv))"
   ]
  },
  {
   "cell_type": "code",
   "execution_count": null,
   "id": "maritime-neutral",
   "metadata": {},
   "outputs": [],
   "source": [
    "math.sqrt(mean_squared_error(y_test_inv, y_pred_inv))"
   ]
  },
  {
   "cell_type": "markdown",
   "id": "white-scope",
   "metadata": {},
   "source": [
    "### Incorporating Engineered Features"
   ]
  },
  {
   "cell_type": "code",
   "execution_count": null,
   "id": "adjusted-smell",
   "metadata": {},
   "outputs": [],
   "source": [
    "df = feature_engineer_important(load_and_preprocess())"
   ]
  },
  {
   "cell_type": "code",
   "execution_count": null,
   "id": "orange-banks",
   "metadata": {},
   "outputs": [],
   "source": [
    "df.iloc[167:170, ] #looks like due to the shifts we should drop the first week of observations (which is fine)"
   ]
  },
  {
   "cell_type": "code",
   "execution_count": null,
   "id": "blessed-premises",
   "metadata": {},
   "outputs": [],
   "source": [
    "df = df.dropna()"
   ]
  },
  {
   "cell_type": "markdown",
   "id": "rubber-salad",
   "metadata": {},
   "source": [
    "#### RNN with New Features"
   ]
  },
  {
   "cell_type": "code",
   "execution_count": null,
   "id": "rocky-david",
   "metadata": {},
   "outputs": [],
   "source": [
    "train = df[:cutoff].reset_index(drop = True)\n",
    "target_train = train[['Temperature']].values\n",
    "train = train.values\n",
    "\n",
    "test = df[:cutoff].reset_index(drop = True)\n",
    "target_test = test[['Temperature']].values\n",
    "test = test.values"
   ]
  },
  {
   "cell_type": "code",
   "execution_count": null,
   "id": "mobile-software",
   "metadata": {},
   "outputs": [],
   "source": [
    "sc = StandardScaler()\n",
    "sc2 = StandardScaler()\n",
    "train_std = sc.fit_transform(train)\n",
    "target_train_std = sc2.fit_transform(target_train)\n",
    "test_std = sc.transform(test)\n",
    "target_test_std = sc2.transform(target_test)"
   ]
  },
  {
   "cell_type": "code",
   "execution_count": null,
   "id": "recovered-poker",
   "metadata": {},
   "outputs": [],
   "source": [
    "X_train, y_train = split_multiple(train_std, 10, target_train_std)"
   ]
  },
  {
   "cell_type": "code",
   "execution_count": null,
   "id": "private-briefing",
   "metadata": {},
   "outputs": [],
   "source": [
    "X_train.shape"
   ]
  },
  {
   "cell_type": "code",
   "execution_count": null,
   "id": "advised-potential",
   "metadata": {},
   "outputs": [],
   "source": [
    "model = keras.models.Sequential()\n",
    "\n",
    "model.add(keras.layers.LSTM(units = 50, return_sequences = True, input_shape = X_train.shape[1:]))\n",
    "model.add(keras.layers.LSTM(units = 50))\n",
    "model.add(keras.layers.Dense(1))\n",
    "\n",
    "model.compile(optimizer='adam', loss='mse')"
   ]
  },
  {
   "cell_type": "code",
   "execution_count": null,
   "id": "figured-invasion",
   "metadata": {},
   "outputs": [],
   "source": [
    "history = model.fit(X_train, y_train, epochs=3)"
   ]
  },
  {
   "cell_type": "code",
   "execution_count": null,
   "id": "permanent-applicant",
   "metadata": {},
   "outputs": [],
   "source": [
    "X_test, y_test = split_multiple(test_std, 10, target_test_std)"
   ]
  },
  {
   "cell_type": "code",
   "execution_count": null,
   "id": "incorporated-apache",
   "metadata": {},
   "outputs": [],
   "source": [
    "y_pred = model.predict(X_test)\n",
    "\n",
    "y_pred_inv = sc2.inverse_transform(y_pred)\n",
    "y_test_inv = sc2.inverse_transform(y_test)"
   ]
  },
  {
   "cell_type": "code",
   "execution_count": null,
   "id": "single-bones",
   "metadata": {},
   "outputs": [],
   "source": [
    "from matplotlib import pyplot as plt\n",
    "plt.figure(figsize = (20, 10))\n",
    "plt.plot(y_test_inv, label = 'Actual')\n",
    "plt.plot(y_pred_inv, label = 'Predicted')\n",
    "plt.ylabel('Temperature')\n",
    "plt.xlabel('Day')\n",
    "plt.xlim([0, 365])\n",
    "plt.ylim([270, 295])\n",
    "plt.legend()\n",
    "plt.show()"
   ]
  },
  {
   "cell_type": "code",
   "execution_count": null,
   "id": "cardiovascular-google",
   "metadata": {},
   "outputs": [],
   "source": [
    "print('MSE:', mean_squared_error(y_test_inv, y_pred_inv))\n",
    "print('R-Squared:', r2_score(y_test_inv, y_pred_inv))\n",
    "print('RMSE:', math.sqrt(mean_squared_error(y_test_inv, y_pred_inv)))"
   ]
  },
  {
   "cell_type": "markdown",
   "id": "packed-toddler",
   "metadata": {},
   "source": [
    "### Transformers"
   ]
  },
  {
   "cell_type": "markdown",
   "id": "accomplished-trial",
   "metadata": {},
   "source": [
    "#### Attention Model"
   ]
  },
  {
   "cell_type": "code",
   "execution_count": 2,
   "id": "substantial-devon",
   "metadata": {
    "scrolled": true
   },
   "outputs": [
    {
     "name": "stderr",
     "output_type": "stream",
     "text": [
      "/Users/jakehogan/Desktop/MMA Courses/INSY 695/Assignments/Group Project/Cloud-Computations/helper.py:139: FutureWarning: Series.dt.weekofyear and Series.dt.week have been deprecated.  Please use Series.dt.isocalendar().week instead.\n",
      "  df['week'] = df['datetime'].dt.weekofyear\n"
     ]
    }
   ],
   "source": [
    "df = feature_engineer_important(load_and_preprocess())\n",
    "df = df.dropna()"
   ]
  },
  {
   "cell_type": "code",
   "execution_count": 3,
   "id": "minus-banana",
   "metadata": {},
   "outputs": [
    {
     "data": {
      "text/html": [
       "<div>\n",
       "<style scoped>\n",
       "    .dataframe tbody tr th:only-of-type {\n",
       "        vertical-align: middle;\n",
       "    }\n",
       "\n",
       "    .dataframe tbody tr th {\n",
       "        vertical-align: top;\n",
       "    }\n",
       "\n",
       "    .dataframe thead th {\n",
       "        text-align: right;\n",
       "    }\n",
       "</style>\n",
       "<table border=\"1\" class=\"dataframe\">\n",
       "  <thead>\n",
       "    <tr style=\"text-align: right;\">\n",
       "      <th></th>\n",
       "      <th>Humidity</th>\n",
       "      <th>Wind Direction</th>\n",
       "      <th>Pressure</th>\n",
       "      <th>Wind Speed</th>\n",
       "      <th>hour</th>\n",
       "      <th>lag1</th>\n",
       "      <th>lag2</th>\n",
       "      <th>lag12</th>\n",
       "      <th>lag30</th>\n",
       "      <th>max daily temp</th>\n",
       "      <th>...</th>\n",
       "      <th>min daily pressure</th>\n",
       "      <th>min weekly temp</th>\n",
       "      <th>mean weekly hum</th>\n",
       "      <th>mean weekly wind direction</th>\n",
       "      <th>rolling_mean_temp</th>\n",
       "      <th>rolling_mean_pressure</th>\n",
       "      <th>rolling_mean_wind_dir</th>\n",
       "      <th>rolling_mean_wind_speed</th>\n",
       "      <th>rolling_mean_humidity</th>\n",
       "      <th>Temperature</th>\n",
       "    </tr>\n",
       "    <tr>\n",
       "      <th>datetime</th>\n",
       "      <th></th>\n",
       "      <th></th>\n",
       "      <th></th>\n",
       "      <th></th>\n",
       "      <th></th>\n",
       "      <th></th>\n",
       "      <th></th>\n",
       "      <th></th>\n",
       "      <th></th>\n",
       "      <th></th>\n",
       "      <th></th>\n",
       "      <th></th>\n",
       "      <th></th>\n",
       "      <th></th>\n",
       "      <th></th>\n",
       "      <th></th>\n",
       "      <th></th>\n",
       "      <th></th>\n",
       "      <th></th>\n",
       "      <th></th>\n",
       "      <th></th>\n",
       "    </tr>\n",
       "  </thead>\n",
       "  <tbody>\n",
       "    <tr>\n",
       "      <th>2012-10-09 19:00:00</th>\n",
       "      <td>71.861538</td>\n",
       "      <td>1016.424953</td>\n",
       "      <td>203.0</td>\n",
       "      <td>4.0</td>\n",
       "      <td>19</td>\n",
       "      <td>284.82</td>\n",
       "      <td>283.56</td>\n",
       "      <td>278.42</td>\n",
       "      <td>278.63</td>\n",
       "      <td>283.52</td>\n",
       "      <td>...</td>\n",
       "      <td>282.16</td>\n",
       "      <td>282.16</td>\n",
       "      <td>78.779569</td>\n",
       "      <td>1015.584173</td>\n",
       "      <td>285.599704</td>\n",
       "      <td>198.071006</td>\n",
       "      <td>1015.863284</td>\n",
       "      <td>1.656805</td>\n",
       "      <td>77.294310</td>\n",
       "      <td>284.97</td>\n",
       "    </tr>\n",
       "    <tr>\n",
       "      <th>2012-10-09 20:00:00</th>\n",
       "      <td>71.861538</td>\n",
       "      <td>1016.424953</td>\n",
       "      <td>242.0</td>\n",
       "      <td>2.0</td>\n",
       "      <td>20</td>\n",
       "      <td>284.97</td>\n",
       "      <td>284.82</td>\n",
       "      <td>277.22</td>\n",
       "      <td>279.57</td>\n",
       "      <td>283.52</td>\n",
       "      <td>...</td>\n",
       "      <td>282.16</td>\n",
       "      <td>282.16</td>\n",
       "      <td>78.779569</td>\n",
       "      <td>1015.584173</td>\n",
       "      <td>285.599588</td>\n",
       "      <td>198.329412</td>\n",
       "      <td>1015.866588</td>\n",
       "      <td>1.658824</td>\n",
       "      <td>77.262353</td>\n",
       "      <td>285.58</td>\n",
       "    </tr>\n",
       "    <tr>\n",
       "      <th>2012-10-09 21:00:00</th>\n",
       "      <td>71.861538</td>\n",
       "      <td>1016.424953</td>\n",
       "      <td>205.0</td>\n",
       "      <td>0.0</td>\n",
       "      <td>21</td>\n",
       "      <td>285.58</td>\n",
       "      <td>284.97</td>\n",
       "      <td>276.02</td>\n",
       "      <td>280.78</td>\n",
       "      <td>283.52</td>\n",
       "      <td>...</td>\n",
       "      <td>282.16</td>\n",
       "      <td>282.16</td>\n",
       "      <td>78.779569</td>\n",
       "      <td>1015.584173</td>\n",
       "      <td>285.600468</td>\n",
       "      <td>198.368421</td>\n",
       "      <td>1015.869853</td>\n",
       "      <td>1.649123</td>\n",
       "      <td>77.230769</td>\n",
       "      <td>285.75</td>\n",
       "    </tr>\n",
       "    <tr>\n",
       "      <th>2012-10-09 22:00:00</th>\n",
       "      <td>71.861538</td>\n",
       "      <td>1016.424953</td>\n",
       "      <td>217.0</td>\n",
       "      <td>0.0</td>\n",
       "      <td>22</td>\n",
       "      <td>285.75</td>\n",
       "      <td>285.58</td>\n",
       "      <td>274.95</td>\n",
       "      <td>282.35</td>\n",
       "      <td>283.52</td>\n",
       "      <td>...</td>\n",
       "      <td>282.16</td>\n",
       "      <td>282.16</td>\n",
       "      <td>78.779569</td>\n",
       "      <td>1015.584173</td>\n",
       "      <td>285.597209</td>\n",
       "      <td>198.476744</td>\n",
       "      <td>1015.873080</td>\n",
       "      <td>1.639535</td>\n",
       "      <td>77.199552</td>\n",
       "      <td>285.04</td>\n",
       "    </tr>\n",
       "    <tr>\n",
       "      <th>2012-10-09 23:00:00</th>\n",
       "      <td>43.000000</td>\n",
       "      <td>1024.000000</td>\n",
       "      <td>190.0</td>\n",
       "      <td>2.0</td>\n",
       "      <td>23</td>\n",
       "      <td>285.04</td>\n",
       "      <td>285.75</td>\n",
       "      <td>274.61</td>\n",
       "      <td>282.37</td>\n",
       "      <td>283.52</td>\n",
       "      <td>...</td>\n",
       "      <td>282.16</td>\n",
       "      <td>282.16</td>\n",
       "      <td>78.779569</td>\n",
       "      <td>1015.584173</td>\n",
       "      <td>285.574855</td>\n",
       "      <td>198.427746</td>\n",
       "      <td>1015.920057</td>\n",
       "      <td>1.641618</td>\n",
       "      <td>77.001867</td>\n",
       "      <td>281.73</td>\n",
       "    </tr>\n",
       "  </tbody>\n",
       "</table>\n",
       "<p>5 rows × 21 columns</p>\n",
       "</div>"
      ],
      "text/plain": [
       "                      Humidity  Wind Direction  Pressure  Wind Speed  hour  \\\n",
       "datetime                                                                     \n",
       "2012-10-09 19:00:00  71.861538     1016.424953     203.0         4.0    19   \n",
       "2012-10-09 20:00:00  71.861538     1016.424953     242.0         2.0    20   \n",
       "2012-10-09 21:00:00  71.861538     1016.424953     205.0         0.0    21   \n",
       "2012-10-09 22:00:00  71.861538     1016.424953     217.0         0.0    22   \n",
       "2012-10-09 23:00:00  43.000000     1024.000000     190.0         2.0    23   \n",
       "\n",
       "                       lag1    lag2   lag12   lag30  max daily temp  ...  \\\n",
       "datetime                                                             ...   \n",
       "2012-10-09 19:00:00  284.82  283.56  278.42  278.63          283.52  ...   \n",
       "2012-10-09 20:00:00  284.97  284.82  277.22  279.57          283.52  ...   \n",
       "2012-10-09 21:00:00  285.58  284.97  276.02  280.78          283.52  ...   \n",
       "2012-10-09 22:00:00  285.75  285.58  274.95  282.35          283.52  ...   \n",
       "2012-10-09 23:00:00  285.04  285.75  274.61  282.37          283.52  ...   \n",
       "\n",
       "                     min daily pressure  min weekly temp  mean weekly hum  \\\n",
       "datetime                                                                    \n",
       "2012-10-09 19:00:00              282.16           282.16        78.779569   \n",
       "2012-10-09 20:00:00              282.16           282.16        78.779569   \n",
       "2012-10-09 21:00:00              282.16           282.16        78.779569   \n",
       "2012-10-09 22:00:00              282.16           282.16        78.779569   \n",
       "2012-10-09 23:00:00              282.16           282.16        78.779569   \n",
       "\n",
       "                     mean weekly wind direction  rolling_mean_temp  \\\n",
       "datetime                                                             \n",
       "2012-10-09 19:00:00                 1015.584173         285.599704   \n",
       "2012-10-09 20:00:00                 1015.584173         285.599588   \n",
       "2012-10-09 21:00:00                 1015.584173         285.600468   \n",
       "2012-10-09 22:00:00                 1015.584173         285.597209   \n",
       "2012-10-09 23:00:00                 1015.584173         285.574855   \n",
       "\n",
       "                     rolling_mean_pressure  rolling_mean_wind_dir  \\\n",
       "datetime                                                            \n",
       "2012-10-09 19:00:00             198.071006            1015.863284   \n",
       "2012-10-09 20:00:00             198.329412            1015.866588   \n",
       "2012-10-09 21:00:00             198.368421            1015.869853   \n",
       "2012-10-09 22:00:00             198.476744            1015.873080   \n",
       "2012-10-09 23:00:00             198.427746            1015.920057   \n",
       "\n",
       "                     rolling_mean_wind_speed  rolling_mean_humidity  \\\n",
       "datetime                                                              \n",
       "2012-10-09 19:00:00                 1.656805              77.294310   \n",
       "2012-10-09 20:00:00                 1.658824              77.262353   \n",
       "2012-10-09 21:00:00                 1.649123              77.230769   \n",
       "2012-10-09 22:00:00                 1.639535              77.199552   \n",
       "2012-10-09 23:00:00                 1.641618              77.001867   \n",
       "\n",
       "                     Temperature  \n",
       "datetime                          \n",
       "2012-10-09 19:00:00       284.97  \n",
       "2012-10-09 20:00:00       285.58  \n",
       "2012-10-09 21:00:00       285.75  \n",
       "2012-10-09 22:00:00       285.04  \n",
       "2012-10-09 23:00:00       281.73  \n",
       "\n",
       "[5 rows x 21 columns]"
      ]
     },
     "execution_count": 3,
     "metadata": {},
     "output_type": "execute_result"
    }
   ],
   "source": [
    "cutoff = math.floor(0.75*len(df)) #train/test cutoff\n",
    "df.head()"
   ]
  },
  {
   "cell_type": "code",
   "execution_count": 4,
   "id": "warming-housing",
   "metadata": {},
   "outputs": [],
   "source": [
    "train = df[:cutoff].reset_index(drop = True)\n",
    "target_train = train[['Temperature']].values\n",
    "train = train.values\n",
    "\n",
    "test = df[:cutoff].reset_index(drop = True)\n",
    "target_test = test[['Temperature']].values\n",
    "test = test.values"
   ]
  },
  {
   "cell_type": "code",
   "execution_count": 5,
   "id": "specialized-genealogy",
   "metadata": {},
   "outputs": [],
   "source": [
    "sc = StandardScaler()\n",
    "sc2 = StandardScaler()\n",
    "train_std = sc.fit_transform(train)\n",
    "target_train_std = sc2.fit_transform(target_train)\n",
    "test_std = sc.transform(test)\n",
    "target_test_std = sc2.transform(target_test)"
   ]
  },
  {
   "cell_type": "code",
   "execution_count": 6,
   "id": "interior-suite",
   "metadata": {},
   "outputs": [
    {
     "data": {
      "text/plain": [
       "(33766, 24, 21)"
      ]
     },
     "execution_count": 6,
     "metadata": {},
     "output_type": "execute_result"
    }
   ],
   "source": [
    "X_train, y_train = split_multiple(train_std, 24, target_train_std)\n",
    "X_test, y_test = split_multiple(test_std, 24, target_test_std)\n",
    "X_train.shape"
   ]
  },
  {
   "cell_type": "code",
   "execution_count": 14,
   "id": "atmospheric-resistance",
   "metadata": {},
   "outputs": [
    {
     "name": "stdout",
     "output_type": "stream",
     "text": [
      "Model: \"model_1\"\n",
      "__________________________________________________________________________________________________\n",
      "Layer (type)                    Output Shape         Param #     Connected to                     \n",
      "==================================================================================================\n",
      "input_4 (InputLayer)            [(None, 24, 21)]     0                                            \n",
      "__________________________________________________________________________________________________\n",
      "lstm_4 (LSTM)                   (None, 24, 50)       14400       input_4[0][0]                    \n",
      "__________________________________________________________________________________________________\n",
      "lstm_5 (LSTM)                   (None, 24, 50)       20200       lstm_4[0][0]                     \n",
      "__________________________________________________________________________________________________\n",
      "last_hidden_state (Lambda)      (None, 50)           0           lstm_5[0][0]                     \n",
      "__________________________________________________________________________________________________\n",
      "attention_score_vec (Dense)     (None, 24, 50)       2500        lstm_5[0][0]                     \n",
      "__________________________________________________________________________________________________\n",
      "attention_score (Dot)           (None, 24)           0           last_hidden_state[0][0]          \n",
      "                                                                 attention_score_vec[0][0]        \n",
      "__________________________________________________________________________________________________\n",
      "attention_weight (Activation)   (None, 24)           0           attention_score[0][0]            \n",
      "__________________________________________________________________________________________________\n",
      "context_vector (Dot)            (None, 50)           0           lstm_5[0][0]                     \n",
      "                                                                 attention_weight[0][0]           \n",
      "__________________________________________________________________________________________________\n",
      "attention_output (Concatenate)  (None, 100)          0           context_vector[0][0]             \n",
      "                                                                 last_hidden_state[0][0]          \n",
      "__________________________________________________________________________________________________\n",
      "attention_vector (Dense)        (None, 128)          12800       attention_output[0][0]           \n",
      "__________________________________________________________________________________________________\n",
      "dense_1 (Dense)                 (None, 1)            129         attention_vector[0][0]           \n",
      "==================================================================================================\n",
      "Total params: 50,029\n",
      "Trainable params: 50,029\n",
      "Non-trainable params: 0\n",
      "__________________________________________________________________________________________________\n"
     ]
    }
   ],
   "source": [
    "model_input = keras.Input(shape = X_train.shape[1:])\n",
    "x = keras.layers.LSTM(50, return_sequences = True)(model_input)\n",
    "x = keras.layers.LSTM(50, return_sequences = True)(x)\n",
    "x = attention.Attention()(x)\n",
    "model_output = keras.layers.Dense(1)(x)\n",
    "model = keras.models.Model(model_input, model_output)\n",
    "\n",
    "model.compile(optimizer='adam', loss='mse')\n",
    "model.summary()"
   ]
  },
  {
   "cell_type": "code",
   "execution_count": 15,
   "id": "fossil-gnome",
   "metadata": {},
   "outputs": [
    {
     "name": "stdout",
     "output_type": "stream",
     "text": [
      "Epoch 1/3\n",
      "1056/1056 [==============================] - 15s 12ms/step - loss: 0.0647\n",
      "Epoch 2/3\n",
      "1056/1056 [==============================] - 12s 11ms/step - loss: 0.0116\n",
      "Epoch 3/3\n",
      "1056/1056 [==============================] - 11s 11ms/step - loss: 0.0089\n"
     ]
    }
   ],
   "source": [
    "history = model.fit(X_train, y_train, epochs = 3)"
   ]
  },
  {
   "cell_type": "code",
   "execution_count": 16,
   "id": "suffering-return",
   "metadata": {},
   "outputs": [],
   "source": [
    "y_pred = model.predict(X_test)\n",
    "\n",
    "y_pred_inv = sc2.inverse_transform(y_pred)\n",
    "y_test_inv = sc2.inverse_transform(y_test)"
   ]
  },
  {
   "cell_type": "code",
   "execution_count": 17,
   "id": "encouraging-aquarium",
   "metadata": {},
   "outputs": [
    {
     "data": {
      "image/png": "[encoded data removed]",
      "text/plain": [
       "<Figure size 1440x720 with 1 Axes>"
      ]
     },
     "metadata": {
      "needs_background": "light"
     },
     "output_type": "display_data"
    }
   ],
   "source": [
    "from matplotlib import pyplot as plt\n",
    "plt.figure(figsize = (20, 10))\n",
    "plt.plot(y_test_inv, label = 'Actual')\n",
    "plt.plot(y_pred_inv, label = 'Predicted')\n",
    "plt.ylabel('Temperature')\n",
    "plt.xlabel('Day')\n",
    "plt.xlim([0, 365])\n",
    "plt.ylim([270, 295])\n",
    "plt.legend()\n",
    "plt.show()"
   ]
  },
  {
   "cell_type": "code",
   "execution_count": 19,
   "id": "delayed-intranet",
   "metadata": {},
   "outputs": [
    {
     "data": {
      "image/png": "[encoded data removed]",
      "text/plain": [
       "<Figure size 1440x720 with 1 Axes>"
      ]
     },
     "metadata": {
      "needs_background": "light"
     },
     "output_type": "display_data"
    }
   ],
   "source": [
    "plt.figure(figsize = (20, 10))\n",
    "plt.plot(history.history['loss'])\n",
    "plt.show()"
   ]
  },
  {
   "cell_type": "code",
   "execution_count": 18,
   "id": "whole-concern",
   "metadata": {},
   "outputs": [
    {
     "name": "stdout",
     "output_type": "stream",
     "text": [
      "MSE: 1.651484897076956\n",
      "R-Squared: 0.9890336822704596\n",
      "RMSE: 1.2851011232883411\n"
     ]
    }
   ],
   "source": [
    "print('MSE:', mean_squared_error(y_test_inv, y_pred_inv))\n",
    "print('R-Squared:', r2_score(y_test_inv, y_pred_inv))\n",
    "print('RMSE:', math.sqrt(mean_squared_error(y_test_inv, y_pred_inv)))"
   ]
  },
  {
   "cell_type": "markdown",
   "id": "announced-buying",
   "metadata": {},
   "source": [
    "----"
   ]
  },
  {
   "cell_type": "markdown",
   "id": "married-launch",
   "metadata": {},
   "source": [
    "#### Multi-Head Attention Model"
   ]
  },
  {
   "cell_type": "code",
   "execution_count": 3,
   "id": "measured-state",
   "metadata": {},
   "outputs": [
    {
     "name": "stderr",
     "output_type": "stream",
     "text": [
      "/Users/jakehogan/Desktop/MMA Courses/INSY 695/Assignments/Group Project/Cloud-Computations/helper.py:139: FutureWarning: Series.dt.weekofyear and Series.dt.week have been deprecated.  Please use Series.dt.isocalendar().week instead.\n",
      "  df['week'] = df['datetime'].dt.weekofyear\n"
     ]
    },
    {
     "data": {
      "text/html": [
       "<div>\n",
       "<style scoped>\n",
       "    .dataframe tbody tr th:only-of-type {\n",
       "        vertical-align: middle;\n",
       "    }\n",
       "\n",
       "    .dataframe tbody tr th {\n",
       "        vertical-align: top;\n",
       "    }\n",
       "\n",
       "    .dataframe thead th {\n",
       "        text-align: right;\n",
       "    }\n",
       "</style>\n",
       "<table border=\"1\" class=\"dataframe\">\n",
       "  <thead>\n",
       "    <tr style=\"text-align: right;\">\n",
       "      <th></th>\n",
       "      <th>Description</th>\n",
       "      <th>Humidity</th>\n",
       "      <th>Wind Direction</th>\n",
       "      <th>Temperature</th>\n",
       "      <th>Pressure</th>\n",
       "      <th>Wind Speed</th>\n",
       "      <th>clouds</th>\n",
       "      <th>rain</th>\n",
       "      <th>mist</th>\n",
       "      <th>snow</th>\n",
       "      <th>...</th>\n",
       "      <th>rolling_min_temp</th>\n",
       "      <th>rolling_min_pressure</th>\n",
       "      <th>rolling_min_wind_dir</th>\n",
       "      <th>rolling_min_wind_speed</th>\n",
       "      <th>rolling_min_humidity</th>\n",
       "      <th>rolling_max_temp</th>\n",
       "      <th>rolling_max_pressure</th>\n",
       "      <th>rolling_max_wind_dir</th>\n",
       "      <th>rolling_max_wind_speed</th>\n",
       "      <th>rolling_max_humidity</th>\n",
       "    </tr>\n",
       "    <tr>\n",
       "      <th>datetime</th>\n",
       "      <th></th>\n",
       "      <th></th>\n",
       "      <th></th>\n",
       "      <th></th>\n",
       "      <th></th>\n",
       "      <th></th>\n",
       "      <th></th>\n",
       "      <th></th>\n",
       "      <th></th>\n",
       "      <th></th>\n",
       "      <th></th>\n",
       "      <th></th>\n",
       "      <th></th>\n",
       "      <th></th>\n",
       "      <th></th>\n",
       "      <th></th>\n",
       "      <th></th>\n",
       "      <th></th>\n",
       "      <th></th>\n",
       "      <th></th>\n",
       "      <th></th>\n",
       "    </tr>\n",
       "  </thead>\n",
       "  <tbody>\n",
       "    <tr>\n",
       "      <th>2012-10-09 19:00:00</th>\n",
       "      <td>sky is clear</td>\n",
       "      <td>71.861538</td>\n",
       "      <td>1016.424953</td>\n",
       "      <td>284.97</td>\n",
       "      <td>203.0</td>\n",
       "      <td>4.0</td>\n",
       "      <td>0</td>\n",
       "      <td>0</td>\n",
       "      <td>0</td>\n",
       "      <td>0</td>\n",
       "      <td>...</td>\n",
       "      <td>274.61</td>\n",
       "      <td>0.0</td>\n",
       "      <td>1007.0</td>\n",
       "      <td>0.0</td>\n",
       "      <td>24.0</td>\n",
       "      <td>293.63</td>\n",
       "      <td>360.0</td>\n",
       "      <td>1022.0</td>\n",
       "      <td>7.0</td>\n",
       "      <td>100.0</td>\n",
       "    </tr>\n",
       "    <tr>\n",
       "      <th>2012-10-09 20:00:00</th>\n",
       "      <td>sky is clear</td>\n",
       "      <td>71.861538</td>\n",
       "      <td>1016.424953</td>\n",
       "      <td>285.58</td>\n",
       "      <td>242.0</td>\n",
       "      <td>2.0</td>\n",
       "      <td>0</td>\n",
       "      <td>0</td>\n",
       "      <td>0</td>\n",
       "      <td>0</td>\n",
       "      <td>...</td>\n",
       "      <td>274.61</td>\n",
       "      <td>0.0</td>\n",
       "      <td>1007.0</td>\n",
       "      <td>0.0</td>\n",
       "      <td>24.0</td>\n",
       "      <td>293.63</td>\n",
       "      <td>360.0</td>\n",
       "      <td>1022.0</td>\n",
       "      <td>7.0</td>\n",
       "      <td>100.0</td>\n",
       "    </tr>\n",
       "    <tr>\n",
       "      <th>2012-10-09 21:00:00</th>\n",
       "      <td>sky is clear</td>\n",
       "      <td>71.861538</td>\n",
       "      <td>1016.424953</td>\n",
       "      <td>285.75</td>\n",
       "      <td>205.0</td>\n",
       "      <td>0.0</td>\n",
       "      <td>0</td>\n",
       "      <td>0</td>\n",
       "      <td>0</td>\n",
       "      <td>0</td>\n",
       "      <td>...</td>\n",
       "      <td>274.61</td>\n",
       "      <td>0.0</td>\n",
       "      <td>1007.0</td>\n",
       "      <td>0.0</td>\n",
       "      <td>24.0</td>\n",
       "      <td>293.63</td>\n",
       "      <td>360.0</td>\n",
       "      <td>1022.0</td>\n",
       "      <td>7.0</td>\n",
       "      <td>100.0</td>\n",
       "    </tr>\n",
       "    <tr>\n",
       "      <th>2012-10-09 22:00:00</th>\n",
       "      <td>sky is clear</td>\n",
       "      <td>71.861538</td>\n",
       "      <td>1016.424953</td>\n",
       "      <td>285.04</td>\n",
       "      <td>217.0</td>\n",
       "      <td>0.0</td>\n",
       "      <td>0</td>\n",
       "      <td>0</td>\n",
       "      <td>0</td>\n",
       "      <td>0</td>\n",
       "      <td>...</td>\n",
       "      <td>274.61</td>\n",
       "      <td>0.0</td>\n",
       "      <td>1007.0</td>\n",
       "      <td>0.0</td>\n",
       "      <td>24.0</td>\n",
       "      <td>293.63</td>\n",
       "      <td>360.0</td>\n",
       "      <td>1022.0</td>\n",
       "      <td>7.0</td>\n",
       "      <td>100.0</td>\n",
       "    </tr>\n",
       "    <tr>\n",
       "      <th>2012-10-09 23:00:00</th>\n",
       "      <td>moderate  clouds</td>\n",
       "      <td>43.000000</td>\n",
       "      <td>1024.000000</td>\n",
       "      <td>281.73</td>\n",
       "      <td>190.0</td>\n",
       "      <td>2.0</td>\n",
       "      <td>1</td>\n",
       "      <td>0</td>\n",
       "      <td>0</td>\n",
       "      <td>0</td>\n",
       "      <td>...</td>\n",
       "      <td>274.61</td>\n",
       "      <td>0.0</td>\n",
       "      <td>1007.0</td>\n",
       "      <td>0.0</td>\n",
       "      <td>24.0</td>\n",
       "      <td>293.63</td>\n",
       "      <td>360.0</td>\n",
       "      <td>1024.0</td>\n",
       "      <td>7.0</td>\n",
       "      <td>100.0</td>\n",
       "    </tr>\n",
       "  </tbody>\n",
       "</table>\n",
       "<p>5 rows × 76 columns</p>\n",
       "</div>"
      ],
      "text/plain": [
       "                          Description   Humidity  Wind Direction  Temperature  \\\n",
       "datetime                                                                        \n",
       "2012-10-09 19:00:00      sky is clear  71.861538     1016.424953       284.97   \n",
       "2012-10-09 20:00:00      sky is clear  71.861538     1016.424953       285.58   \n",
       "2012-10-09 21:00:00      sky is clear  71.861538     1016.424953       285.75   \n",
       "2012-10-09 22:00:00      sky is clear  71.861538     1016.424953       285.04   \n",
       "2012-10-09 23:00:00  moderate  clouds  43.000000     1024.000000       281.73   \n",
       "\n",
       "                     Pressure  Wind Speed  clouds  rain  mist  snow  ...  \\\n",
       "datetime                                                             ...   \n",
       "2012-10-09 19:00:00     203.0         4.0       0     0     0     0  ...   \n",
       "2012-10-09 20:00:00     242.0         2.0       0     0     0     0  ...   \n",
       "2012-10-09 21:00:00     205.0         0.0       0     0     0     0  ...   \n",
       "2012-10-09 22:00:00     217.0         0.0       0     0     0     0  ...   \n",
       "2012-10-09 23:00:00     190.0         2.0       1     0     0     0  ...   \n",
       "\n",
       "                     rolling_min_temp  rolling_min_pressure  \\\n",
       "datetime                                                      \n",
       "2012-10-09 19:00:00            274.61                   0.0   \n",
       "2012-10-09 20:00:00            274.61                   0.0   \n",
       "2012-10-09 21:00:00            274.61                   0.0   \n",
       "2012-10-09 22:00:00            274.61                   0.0   \n",
       "2012-10-09 23:00:00            274.61                   0.0   \n",
       "\n",
       "                     rolling_min_wind_dir  rolling_min_wind_speed  \\\n",
       "datetime                                                            \n",
       "2012-10-09 19:00:00                1007.0                     0.0   \n",
       "2012-10-09 20:00:00                1007.0                     0.0   \n",
       "2012-10-09 21:00:00                1007.0                     0.0   \n",
       "2012-10-09 22:00:00                1007.0                     0.0   \n",
       "2012-10-09 23:00:00                1007.0                     0.0   \n",
       "\n",
       "                     rolling_min_humidity  rolling_max_temp  \\\n",
       "datetime                                                      \n",
       "2012-10-09 19:00:00                  24.0            293.63   \n",
       "2012-10-09 20:00:00                  24.0            293.63   \n",
       "2012-10-09 21:00:00                  24.0            293.63   \n",
       "2012-10-09 22:00:00                  24.0            293.63   \n",
       "2012-10-09 23:00:00                  24.0            293.63   \n",
       "\n",
       "                     rolling_max_pressure  rolling_max_wind_dir  \\\n",
       "datetime                                                          \n",
       "2012-10-09 19:00:00                 360.0                1022.0   \n",
       "2012-10-09 20:00:00                 360.0                1022.0   \n",
       "2012-10-09 21:00:00                 360.0                1022.0   \n",
       "2012-10-09 22:00:00                 360.0                1022.0   \n",
       "2012-10-09 23:00:00                 360.0                1024.0   \n",
       "\n",
       "                     rolling_max_wind_speed  rolling_max_humidity  \n",
       "datetime                                                           \n",
       "2012-10-09 19:00:00                     7.0                 100.0  \n",
       "2012-10-09 20:00:00                     7.0                 100.0  \n",
       "2012-10-09 21:00:00                     7.0                 100.0  \n",
       "2012-10-09 22:00:00                     7.0                 100.0  \n",
       "2012-10-09 23:00:00                     7.0                 100.0  \n",
       "\n",
       "[5 rows x 76 columns]"
      ]
     },
     "execution_count": 3,
     "metadata": {},
     "output_type": "execute_result"
    }
   ],
   "source": [
    "df = feature_engineer(load_and_preprocess())\n",
    "df = df.dropna()\n",
    "df.head()"
   ]
  },
  {
   "cell_type": "code",
   "execution_count": 28,
   "id": "orange-microphone",
   "metadata": {},
   "outputs": [],
   "source": [
    "cutoff = math.floor(0.75*len(df)) #train/test cutoff"
   ]
  },
  {
   "cell_type": "code",
   "execution_count": 30,
   "id": "precious-french",
   "metadata": {},
   "outputs": [],
   "source": [
    "df = df[['Humidity', 'Wind Direction', 'Temperature', 'Pressure', 'Wind Speed']]"
   ]
  },
  {
   "cell_type": "code",
   "execution_count": 31,
   "id": "loaded-robinson",
   "metadata": {},
   "outputs": [],
   "source": [
    "train = df[:cutoff].reset_index(drop = True)\n",
    "target_train = train[['Temperature']].values\n",
    "train = train.values\n",
    "\n",
    "test = df[:cutoff].reset_index(drop = True)\n",
    "target_test = test[['Temperature']].values\n",
    "test = test.values"
   ]
  },
  {
   "cell_type": "code",
   "execution_count": 32,
   "id": "associate-belarus",
   "metadata": {},
   "outputs": [],
   "source": [
    "sc = StandardScaler()\n",
    "sc2 = StandardScaler()\n",
    "train_std = sc.fit_transform(train)\n",
    "target_train_std = sc2.fit_transform(target_train)\n",
    "test_std = sc.transform(test)\n",
    "target_test_std = sc2.transform(target_test)"
   ]
  },
  {
   "cell_type": "code",
   "execution_count": 63,
   "id": "convertible-geometry",
   "metadata": {},
   "outputs": [],
   "source": [
    "# https://www.kaggle.com/shujian/transformer-with-lstm\n",
    "\n",
    "import random, os, sys\n",
    "import numpy as np\n",
    "from keras.models import *\n",
    "from keras.layers import *\n",
    "from keras.callbacks import *\n",
    "from keras.initializers import *\n",
    "import tensorflow as tf\n",
    "from keras.engine.topology import Layer\n",
    "import keras.backend as K\n",
    "\n",
    "try:\n",
    "    from dataloader import TokenList, pad_to_longest\n",
    "    # for transformer\n",
    "except: pass\n",
    "\n",
    "\n",
    "embed_size = 60\n",
    "\n",
    "class LayerNormalization(Layer):\n",
    "    def __init__(self, eps=1e-6, **kwargs):\n",
    "        self.eps = eps\n",
    "        super(LayerNormalization, self).__init__(**kwargs)\n",
    "    def build(self, input_shape):\n",
    "        self.gamma = self.add_weight(name='gamma', shape=input_shape[-1:],\n",
    "                                     initializer=Ones(), trainable=True)\n",
    "        self.beta = self.add_weight(name='beta', shape=input_shape[-1:],\n",
    "                                    initializer=Zeros(), trainable=True)\n",
    "        super(LayerNormalization, self).build(input_shape)\n",
    "    def call(self, x):\n",
    "        mean = K.mean(x, axis=-1, keepdims=True)\n",
    "        std = K.std(x, axis=-1, keepdims=True)\n",
    "        return self.gamma * (x - mean) / (std + self.eps) + self.beta\n",
    "    def compute_output_shape(self, input_shape):\n",
    "        return input_shape\n",
    "\n",
    "class ScaledDotProductAttention():\n",
    "    def __init__(self, d_model, attn_dropout=0.1):\n",
    "        self.temper = np.sqrt(d_model)\n",
    "        self.dropout = Dropout(attn_dropout)\n",
    "    def __call__(self, q, k, v, mask):\n",
    "        attn = Lambda(lambda x:K.batch_dot(x[0],x[1],axes=[2,2])/self.temper)([q, k])\n",
    "        if mask is not None:\n",
    "            mmask = Lambda(lambda x:(-1e+10)*(1-x))(mask)\n",
    "            attn = Add()([attn, mmask])\n",
    "        attn = Activation('softmax')(attn)\n",
    "        attn = self.dropout(attn)\n",
    "        output = Lambda(lambda x:K.batch_dot(x[0], x[1]))([attn, v])\n",
    "        return output, attn\n",
    "\n",
    "class MultiHeadAttention():\n",
    "    # mode 0 - big martixes, faster; mode 1 - more clear implementation\n",
    "    def __init__(self, n_head, d_model, d_k, d_v, dropout, mode=0, use_norm=True):\n",
    "        self.mode = mode\n",
    "        self.n_head = n_head\n",
    "        self.d_k = d_k\n",
    "        self.d_v = d_v\n",
    "        self.dropout = dropout\n",
    "        if mode == 0:\n",
    "            self.qs_layer = Dense(n_head*d_k, use_bias=False)\n",
    "            self.ks_layer = Dense(n_head*d_k, use_bias=False)\n",
    "            self.vs_layer = Dense(n_head*d_v, use_bias=False)\n",
    "        elif mode == 1:\n",
    "            self.qs_layers = []\n",
    "            self.ks_layers = []\n",
    "            self.vs_layers = []\n",
    "            for _ in range(n_head):\n",
    "                self.qs_layers.append(TimeDistributed(Dense(d_k, use_bias=False)))\n",
    "                self.ks_layers.append(TimeDistributed(Dense(d_k, use_bias=False)))\n",
    "                self.vs_layers.append(TimeDistributed(Dense(d_v, use_bias=False)))\n",
    "        self.attention = ScaledDotProductAttention(d_model)\n",
    "        self.layer_norm = LayerNormalization() if use_norm else None\n",
    "        self.w_o = TimeDistributed(Dense(d_model))\n",
    "\n",
    "    def __call__(self, q, k, v, mask=None):\n",
    "        d_k, d_v = self.d_k, self.d_v\n",
    "        n_head = self.n_head\n",
    "\n",
    "        if self.mode == 0:\n",
    "            qs = self.qs_layer(q)  # [batch_size, len_q, n_head*d_k]\n",
    "            ks = self.ks_layer(k)\n",
    "            vs = self.vs_layer(v)\n",
    "\n",
    "            def reshape1(x):\n",
    "                s = tf.shape(x)   # [batch_size, len_q, n_head * d_k]\n",
    "                x = tf.reshape(x, [s[0], s[1], n_head, d_k])\n",
    "                x = tf.transpose(x, [2, 0, 1, 3])  \n",
    "                x = tf.reshape(x, [-1, s[1], d_k])  # [n_head * batch_size, len_q, d_k]\n",
    "                return x\n",
    "            qs = Lambda(reshape1)(qs)\n",
    "            ks = Lambda(reshape1)(ks)\n",
    "            vs = Lambda(reshape1)(vs)\n",
    "\n",
    "            if mask is not None:\n",
    "                mask = Lambda(lambda x:K.repeat_elements(x, n_head, 0))(mask)\n",
    "            head, attn = self.attention(qs, ks, vs, mask=mask)  \n",
    "                \n",
    "            def reshape2(x):\n",
    "                s = tf.shape(x)   # [n_head * batch_size, len_v, d_v]\n",
    "                x = tf.reshape(x, [n_head, -1, s[1], s[2]]) \n",
    "                x = tf.transpose(x, [1, 2, 0, 3])\n",
    "                x = tf.reshape(x, [-1, s[1], n_head*d_v])  # [batch_size, len_v, n_head * d_v]\n",
    "                return x\n",
    "            head = Lambda(reshape2)(head)\n",
    "        elif self.mode == 1:\n",
    "            heads = []; attns = []\n",
    "            for i in range(n_head):\n",
    "                qs = self.qs_layers[i](q)   \n",
    "                ks = self.ks_layers[i](k) \n",
    "                vs = self.vs_layers[i](v) \n",
    "                head, attn = self.attention(qs, ks, vs, mask)\n",
    "                heads.append(head); attns.append(attn)\n",
    "            head = Concatenate()(heads) if n_head > 1 else heads[0]\n",
    "            attn = Concatenate()(attns) if n_head > 1 else attns[0]\n",
    "\n",
    "        outputs = self.w_o(head)\n",
    "        outputs = Dropout(self.dropout)(outputs)\n",
    "        if not self.layer_norm: return outputs, attn\n",
    "        # outputs = Add()([outputs, q]) # sl: fix\n",
    "        return self.layer_norm(outputs), attn\n",
    "\n",
    "class PositionwiseFeedForward():\n",
    "    def __init__(self, d_hid, d_inner_hid, dropout=0.1):\n",
    "        self.w_1 = Conv1D(d_inner_hid, 1, activation='relu')\n",
    "        self.w_2 = Conv1D(d_hid, 1)\n",
    "        self.layer_norm = LayerNormalization()\n",
    "        self.dropout = Dropout(dropout)\n",
    "    def __call__(self, x):\n",
    "        output = self.w_1(x) \n",
    "        output = self.w_2(output)\n",
    "        output = self.dropout(output)\n",
    "        output = Add()([output, x])\n",
    "        return self.layer_norm(output)\n",
    "\n",
    "class EncoderLayer():\n",
    "    def __init__(self, d_model, d_inner_hid, n_head, d_k, d_v, dropout=0.1):\n",
    "        self.self_att_layer = MultiHeadAttention(n_head, d_model, d_k, d_v, dropout=dropout)\n",
    "        self.pos_ffn_layer  = PositionwiseFeedForward(d_model, d_inner_hid, dropout=dropout)\n",
    "    def __call__(self, enc_input, mask=None):\n",
    "        output, slf_attn = self.self_att_layer(enc_input, enc_input, enc_input, mask=mask)\n",
    "        output = self.pos_ffn_layer(output)\n",
    "        return output, slf_attn\n",
    "\n",
    "\n",
    "def GetPosEncodingMatrix(max_len, d_emb):\n",
    "    pos_enc = np.array([\n",
    "        [pos / np.power(10000, 2 * (j // 2) / d_emb) for j in range(d_emb)] \n",
    "        if pos != 0 else np.zeros(d_emb) \n",
    "            for pos in range(max_len)\n",
    "            ])\n",
    "    pos_enc[1:, 0::2] = np.sin(pos_enc[1:, 0::2]) # dim 2i\n",
    "    pos_enc[1:, 1::2] = np.cos(pos_enc[1:, 1::2]) # dim 2i+1\n",
    "    return pos_enc\n",
    "\n",
    "def GetPadMask(q, k):\n",
    "    ones = K.expand_dims(K.ones_like(q, 'float32'), -1)\n",
    "    mask = K.cast(K.expand_dims(K.not_equal(k, 0), 1), 'float32')\n",
    "    mask = K.batch_dot(ones, mask, axes=[2,1])\n",
    "    return mask\n",
    "\n",
    "def GetSubMask(s):\n",
    "    len_s = tf.shape(s)[1]\n",
    "    bs = tf.shape(s)[:1]\n",
    "    mask = K.cumsum(tf.eye(len_s, batch_shape=bs), 1)\n",
    "    return mask\n",
    "\n",
    "class Transformer():\n",
    "    def __init__(self, len_limit, embedding_matrix, d_model=embed_size, \\\n",
    "              d_inner_hid=512, n_head=10, d_k=64, d_v=64, layers=2, dropout=0.1, \\\n",
    "              share_word_emb=False, **kwargs):\n",
    "        self.name = 'Transformer'\n",
    "        self.len_limit = len_limit\n",
    "        self.src_loc_info = False # True # sl: fix later\n",
    "        self.d_model = d_model\n",
    "        self.decode_model = None\n",
    "        d_emb = d_model\n",
    "\n",
    "        pos_emb = Embedding(len_limit, d_emb, trainable=False, \\\n",
    "                            weights=[GetPosEncodingMatrix(len_limit, d_emb)])\n",
    "\n",
    "        i_word_emb = Embedding(max_features, d_emb, weights=[embedding_matrix]) # Add Kaggle provided embedding here\n",
    "\n",
    "        self.encoder = Encoder(d_model, d_inner_hid, n_head, d_k, d_v, layers, dropout, \\\n",
    "                               word_emb=i_word_emb, pos_emb=pos_emb)\n",
    "\n",
    "        \n",
    "    def get_pos_seq(self, x):\n",
    "        mask = K.cast(K.not_equal(x, 0), 'int32')\n",
    "        pos = K.cumsum(K.ones_like(x, 'int32'), 1)\n",
    "        return pos * mask\n",
    "\n",
    "    def compile(self, active_layers=999):\n",
    "        src_seq_input = Input(shape=(None, ))\n",
    "        x = Embedding(max_features, embed_size, weights=[embedding_matrix])(src_seq_input)\n",
    "        \n",
    "        # LSTM before attention layers\n",
    "        x = Bidirectional(LSTM(128, return_sequences=True))(x)\n",
    "        x = Bidirectional(LSTM(64, return_sequences=True))(x) \n",
    "        \n",
    "        x, slf_attn = MultiHeadAttention(n_head=3, d_model=300, d_k=64, d_v=64, dropout=0.1)(x, x, x)\n",
    "        \n",
    "        avg_pool = GlobalAveragePooling1D()(x)\n",
    "        max_pool = GlobalMaxPooling1D()(x)\n",
    "        conc = concatenate([avg_pool, max_pool])\n",
    "        conc = Dense(64, activation=\"relu\")(conc)\n",
    "        x = Dense(2, activation=\"softmax\")(conc)   \n",
    "        \n",
    "        \n",
    "        self.model = Model(inputs=src_seq_input, outputs=x)\n",
    "        self.model.compile(optimizer = 'Adamax', loss = 'binary_crossentropy', metrics=['accuracy'])"
   ]
  },
  {
   "cell_type": "code",
   "execution_count": 64,
   "id": "collect-clerk",
   "metadata": {},
   "outputs": [
    {
     "data": {
      "text/plain": [
       "(33766, 24, 5)"
      ]
     },
     "execution_count": 64,
     "metadata": {},
     "output_type": "execute_result"
    }
   ],
   "source": [
    "X_train.shape"
   ]
  },
  {
   "cell_type": "code",
   "execution_count": 65,
   "id": "domestic-compression",
   "metadata": {},
   "outputs": [
    {
     "name": "stdout",
     "output_type": "stream",
     "text": [
      "Model: \"model_5\"\n",
      "__________________________________________________________________________________________________\n",
      "Layer (type)                    Output Shape         Param #     Connected to                     \n",
      "==================================================================================================\n",
      "input_17 (InputLayer)           [(None, 24, 5)]      0                                            \n",
      "__________________________________________________________________________________________________\n",
      "bidirectional_2 (Bidirectional) (None, 24, 256)      137216      input_17[0][0]                   \n",
      "__________________________________________________________________________________________________\n",
      "bidirectional_3 (Bidirectional) (None, 24, 128)      164352      bidirectional_2[0][0]            \n",
      "__________________________________________________________________________________________________\n",
      "dense_13 (Dense)                (None, 24, 192)      24576       bidirectional_3[0][0]            \n",
      "__________________________________________________________________________________________________\n",
      "dense_14 (Dense)                (None, 24, 192)      24576       bidirectional_3[0][0]            \n",
      "__________________________________________________________________________________________________\n",
      "lambda_4 (Lambda)               (None, None, 64)     0           dense_13[0][0]                   \n",
      "__________________________________________________________________________________________________\n",
      "lambda_5 (Lambda)               (None, None, 64)     0           dense_14[0][0]                   \n",
      "__________________________________________________________________________________________________\n",
      "lambda_7 (Lambda)               (None, None, None)   0           lambda_4[0][0]                   \n",
      "                                                                 lambda_5[0][0]                   \n",
      "__________________________________________________________________________________________________\n",
      "activation (Activation)         (None, None, None)   0           lambda_7[0][0]                   \n",
      "__________________________________________________________________________________________________\n",
      "dense_15 (Dense)                (None, 24, 192)      24576       bidirectional_3[0][0]            \n",
      "__________________________________________________________________________________________________\n",
      "dropout_1 (Dropout)             (None, None, None)   0           activation[0][0]                 \n",
      "__________________________________________________________________________________________________\n",
      "lambda_6 (Lambda)               (None, None, 64)     0           dense_15[0][0]                   \n",
      "__________________________________________________________________________________________________\n",
      "lambda_8 (Lambda)               (None, None, 64)     0           dropout_1[0][0]                  \n",
      "                                                                 lambda_6[0][0]                   \n",
      "__________________________________________________________________________________________________\n",
      "lambda_9 (Lambda)               (None, None, 192)    0           lambda_8[0][0]                   \n",
      "__________________________________________________________________________________________________\n",
      "time_distributed_1 (TimeDistrib (None, None, 300)    57900       lambda_9[0][0]                   \n",
      "__________________________________________________________________________________________________\n",
      "dropout_2 (Dropout)             (None, None, 300)    0           time_distributed_1[0][0]         \n",
      "__________________________________________________________________________________________________\n",
      "layer_normalization_1 (LayerNor (None, None, 300)    600         dropout_2[0][0]                  \n",
      "__________________________________________________________________________________________________\n",
      "global_average_pooling1d (Globa (None, 300)          0           layer_normalization_1[0][0]      \n",
      "__________________________________________________________________________________________________\n",
      "global_max_pooling1d (GlobalMax (None, 300)          0           layer_normalization_1[0][0]      \n",
      "__________________________________________________________________________________________________\n",
      "concatenate (Concatenate)       (None, 600)          0           global_average_pooling1d[0][0]   \n",
      "                                                                 global_max_pooling1d[0][0]       \n",
      "__________________________________________________________________________________________________\n",
      "dense_17 (Dense)                (None, 64)           38464       concatenate[0][0]                \n",
      "__________________________________________________________________________________________________\n",
      "dense_18 (Dense)                (None, 1)            65          dense_17[0][0]                   \n",
      "==================================================================================================\n",
      "Total params: 472,325\n",
      "Trainable params: 472,325\n",
      "Non-trainable params: 0\n",
      "__________________________________________________________________________________________________\n"
     ]
    }
   ],
   "source": [
    "model_input = keras.Input(shape = X_train.shape[1:])\n",
    "\n",
    "x = keras.layers.Bidirectional(LSTM(128, return_sequences=True))(model_input)\n",
    "x = keras.layers.Bidirectional(LSTM(64, return_sequences=True))(x)\n",
    "\n",
    "x, self_attn = MultiHeadAttention(n_head = 3, d_model=300, d_k=64, d_v=64, dropout=0.1)(x, x, x)\n",
    "\n",
    "avg_pool = GlobalAveragePooling1D()(x)\n",
    "max_pool = GlobalMaxPooling1D()(x)\n",
    "conc = concatenate([avg_pool, max_pool])\n",
    "conc = Dense(64, activation='sigmoid')(conc)\n",
    "model_output = Dense(1)(conc)\n",
    "\n",
    "model = keras.models.Model(model_input, model_output)\n",
    "\n",
    "model.compile(optimizer='adam', loss='mse')\n",
    "model.summary()"
   ]
  },
  {
   "cell_type": "code",
   "execution_count": 66,
   "id": "suitable-enclosure",
   "metadata": {},
   "outputs": [
    {
     "name": "stdout",
     "output_type": "stream",
     "text": [
      "Epoch 1/3\n",
      "1056/1056 [==============================] - 48s 42ms/step - loss: 0.1090\n",
      "Epoch 2/3\n",
      "1056/1056 [==============================] - 43s 41ms/step - loss: 0.0172\n",
      "Epoch 3/3\n",
      "1056/1056 [==============================] - 40s 38ms/step - loss: 0.0151\n"
     ]
    }
   ],
   "source": [
    "history = model.fit(X_train, y_train, epochs = 3)"
   ]
  },
  {
   "cell_type": "code",
   "execution_count": 68,
   "id": "objective-scotland",
   "metadata": {},
   "outputs": [],
   "source": [
    "y_pred = model.predict(X_test)\n",
    "\n",
    "y_pred_inv = sc2.inverse_transform(y_pred)\n",
    "y_test_inv = sc2.inverse_transform(y_test)"
   ]
  },
  {
   "cell_type": "code",
   "execution_count": 69,
   "id": "homeless-boring",
   "metadata": {},
   "outputs": [
    {
     "data": {
      "image/png": "[encoded data removed]",
      "text/plain": [
       "<Figure size 1440x720 with 1 Axes>"
      ]
     },
     "metadata": {
      "needs_background": "light"
     },
     "output_type": "display_data"
    }
   ],
   "source": [
    "from matplotlib import pyplot as plt\n",
    "plt.figure(figsize = (20, 10))\n",
    "plt.plot(y_test_inv, label = 'Actual')\n",
    "plt.plot(y_pred_inv, label = 'Predicted')\n",
    "plt.ylabel('Temperature')\n",
    "plt.xlabel('Day')\n",
    "plt.xlim([0, 365])\n",
    "plt.ylim([270, 295])\n",
    "plt.legend()\n",
    "plt.show()"
   ]
  },
  {
   "cell_type": "code",
   "execution_count": 70,
   "id": "patent-devon",
   "metadata": {},
   "outputs": [
    {
     "name": "stdout",
     "output_type": "stream",
     "text": [
      "MSE: 3.6622930175532713\n",
      "R-Squared: 0.9756813586849925\n",
      "RMSE: 1.9137118428732345\n"
     ]
    }
   ],
   "source": [
    "print('MSE:', mean_squared_error(y_test_inv, y_pred_inv))\n",
    "print('R-Squared:', r2_score(y_test_inv, y_pred_inv))\n",
    "print('RMSE:', math.sqrt(mean_squared_error(y_test_inv, y_pred_inv)))"
   ]
  },
  {
   "cell_type": "code",
   "execution_count": null,
   "id": "immediate-promotion",
   "metadata": {},
   "outputs": [],
   "source": []
  }
 ],
 "metadata": {
  "kernelspec": {
   "display_name": "Python 3",
   "language": "python",
   "name": "python3"
  },
  "language_info": {
   "codemirror_mode": {
    "name": "ipython",
    "version": 3
   },
   "file_extension": ".py",
   "mimetype": "text/x-python",
   "name": "python",
   "nbconvert_exporter": "python",
   "pygments_lexer": "ipython3",
   "version": "3.7.7"
  }
 },
 "nbformat": 4,
 "nbformat_minor": 5
}
