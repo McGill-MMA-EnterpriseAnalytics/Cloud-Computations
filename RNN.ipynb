{
 "cells": [
  {
   "cell_type": "code",
   "execution_count": 1,
   "id": "continued-scene",
   "metadata": {},
   "outputs": [],
   "source": [
    "import pandas as pd\n",
    "import numpy as np\n",
    "import tensorflow as tf\n",
    "from tensorflow import keras\n",
    "import datetime as dt\n",
    "import math\n",
    "from sklearn.preprocessing import StandardScaler\n",
    "from sklearn.metrics import mean_squared_error, r2_score\n",
    "\n",
    "import helper\n",
    "from helper import *"
   ]
  },
  {
   "cell_type": "code",
   "execution_count": 3,
   "id": "conservative-departure",
   "metadata": {},
   "outputs": [],
   "source": [
    "df = load_and_preprocess()\n",
    "df = df.reset_index(drop = True)"
   ]
  },
  {
   "cell_type": "code",
   "execution_count": 4,
   "id": "potential-farmer",
   "metadata": {},
   "outputs": [],
   "source": [
    "cutoff = math.floor(0.75*len(df)) #train/test cutoff"
   ]
  },
  {
   "cell_type": "markdown",
   "id": "silent-action",
   "metadata": {},
   "source": [
    "#### Just Using Date/Previous Hour Temp."
   ]
  },
  {
   "cell_type": "code",
   "execution_count": null,
   "id": "leading-college",
   "metadata": {},
   "outputs": [],
   "source": [
    "df.head()"
   ]
  },
  {
   "cell_type": "code",
   "execution_count": null,
   "id": "certain-encoding",
   "metadata": {},
   "outputs": [],
   "source": [
    "train = df[:cutoff].reset_index(drop = True)\n",
    "train = train.iloc[:, 4:5].values\n",
    "test = df[cutoff:]\n",
    "test = test.iloc[:, 4:5].values"
   ]
  },
  {
   "cell_type": "code",
   "execution_count": null,
   "id": "optional-contract",
   "metadata": {},
   "outputs": [],
   "source": [
    "sc = StandardScaler()\n",
    "train_std = sc.fit_transform(train)\n",
    "test_std = sc.transform(test)"
   ]
  },
  {
   "cell_type": "code",
   "execution_count": 5,
   "id": "russian-police",
   "metadata": {},
   "outputs": [],
   "source": [
    "def split(sequence, n_timestamp):\n",
    "    X, y = [], []\n",
    "    \n",
    "    for i in range(len(sequence)):\n",
    "        end = i + n_timestamp\n",
    "        if end > len(sequence)-1:\n",
    "            break\n",
    "        sequence_x, sequence_y = sequence[i:end], sequence[end]\n",
    "        X.append(sequence_x)\n",
    "        y.append(sequence_y)\n",
    "    return np.array(X), np.array(y)"
   ]
  },
  {
   "cell_type": "code",
   "execution_count": null,
   "id": "needed-gibson",
   "metadata": {},
   "outputs": [],
   "source": [
    "X_train, y_train = split(sequence = train_std, n_timestamp = 10)\n",
    "X_test, y_test = split(sequence = test_std, n_timestamp = 10)"
   ]
  },
  {
   "cell_type": "code",
   "execution_count": null,
   "id": "streaming-victor",
   "metadata": {},
   "outputs": [],
   "source": [
    "print(X_train.shape)\n",
    "print(X_test.shape)"
   ]
  },
  {
   "cell_type": "code",
   "execution_count": null,
   "id": "missing-spell",
   "metadata": {},
   "outputs": [],
   "source": [
    "print(y_train.shape)\n",
    "print(y_test.shape)"
   ]
  },
  {
   "cell_type": "code",
   "execution_count": null,
   "id": "musical-london",
   "metadata": {},
   "outputs": [],
   "source": [
    "model = keras.models.Sequential()\n",
    "\n",
    "model.add(keras.layers.LSTM(units = 50, return_sequences = True, input_shape = X_train.shape[1:]))\n",
    "model.add(keras.layers.LSTM(units = 50))\n",
    "model.add(keras.layers.Dense(1))"
   ]
  },
  {
   "cell_type": "code",
   "execution_count": null,
   "id": "physical-homework",
   "metadata": {},
   "outputs": [],
   "source": [
    "model.compile(loss = 'mse', optimizer = 'adam')"
   ]
  },
  {
   "cell_type": "code",
   "execution_count": null,
   "id": "interpreted-covering",
   "metadata": {
    "scrolled": true
   },
   "outputs": [],
   "source": [
    "history = model.fit(X_train, y_train, epochs = 3)"
   ]
  },
  {
   "cell_type": "code",
   "execution_count": null,
   "id": "hybrid-walker",
   "metadata": {},
   "outputs": [],
   "source": [
    "y_pred = model.predict(X_test)"
   ]
  },
  {
   "cell_type": "code",
   "execution_count": null,
   "id": "about-convert",
   "metadata": {},
   "outputs": [],
   "source": [
    "y_test_inv = sc.inverse_transform(y_test)\n",
    "y_pred_inv = sc.inverse_transform(y_pred)"
   ]
  },
  {
   "cell_type": "code",
   "execution_count": null,
   "id": "sonic-tongue",
   "metadata": {},
   "outputs": [],
   "source": [
    "from matplotlib import pyplot as plt\n",
    "plt.figure(figsize = (20, 10))\n",
    "plt.plot(y_test_inv, label = 'Actual')\n",
    "plt.plot(y_pred_inv, label = 'Predicted')\n",
    "plt.ylabel('Temperature')\n",
    "plt.xlabel('Day')\n",
    "plt.xlim([0, 365])\n",
    "plt.ylim([278, 305])\n",
    "plt.legend()\n",
    "plt.show()"
   ]
  },
  {
   "cell_type": "code",
   "execution_count": null,
   "id": "chicken-insider",
   "metadata": {},
   "outputs": [],
   "source": [
    "print('MSE:', mean_squared_error(y_test_inv, y_pred_inv))\n",
    "print('R-Squared:', r2_score(y_test_inv, y_pred_inv))"
   ]
  },
  {
   "cell_type": "code",
   "execution_count": null,
   "id": "sophisticated-guide",
   "metadata": {},
   "outputs": [],
   "source": [
    "math.sqrt(mean_squared_error(y_test_inv, y_pred_inv))"
   ]
  },
  {
   "cell_type": "markdown",
   "id": "artistic-confidence",
   "metadata": {},
   "source": [
    "#### Trying with multiple predictors"
   ]
  },
  {
   "cell_type": "code",
   "execution_count": 6,
   "id": "manual-merit",
   "metadata": {},
   "outputs": [],
   "source": [
    "def split_multiple(sequence, n_timestamp, target):\n",
    "    X, y = [], []\n",
    "    \n",
    "    for i in range(len(sequence)):\n",
    "        end = i + n_timestamp\n",
    "        if end > len(sequence)-1:\n",
    "            break\n",
    "        sequence_x, sequence_y = sequence[i:end], target[end]\n",
    "        X.append(sequence_x)\n",
    "        y.append(sequence_y)\n",
    "    return np.array(X), np.array(y)"
   ]
  },
  {
   "cell_type": "code",
   "execution_count": null,
   "id": "worst-sphere",
   "metadata": {},
   "outputs": [],
   "source": [
    "train = df[:cutoff].reset_index(drop = True)\n",
    "target_train = train[['Temperature']].values\n",
    "train = train.drop(['datetime', 'Description'], axis = 1).values\n",
    "\n",
    "test = df[:cutoff].reset_index(drop = True)\n",
    "target_test = test[['Temperature']].values\n",
    "test = test.drop(['datetime', 'Description'], axis = 1).values"
   ]
  },
  {
   "cell_type": "code",
   "execution_count": null,
   "id": "professional-expansion",
   "metadata": {},
   "outputs": [],
   "source": [
    "sc = StandardScaler()\n",
    "sc2 = StandardScaler()\n",
    "train_std = sc.fit_transform(train)\n",
    "target_train_std = sc2.fit_transform(target_train)\n",
    "test_std = sc.transform(test)\n",
    "target_test_std = sc2.transform(target_test)"
   ]
  },
  {
   "cell_type": "code",
   "execution_count": null,
   "id": "empty-behalf",
   "metadata": {},
   "outputs": [],
   "source": [
    "X_train, y_train = split_multiple(train_std, 10, target_train_std)"
   ]
  },
  {
   "cell_type": "code",
   "execution_count": null,
   "id": "connected-classification",
   "metadata": {},
   "outputs": [],
   "source": [
    "X_train.shape"
   ]
  },
  {
   "cell_type": "code",
   "execution_count": null,
   "id": "addressed-psychology",
   "metadata": {},
   "outputs": [],
   "source": [
    "y_train.shape"
   ]
  },
  {
   "cell_type": "code",
   "execution_count": null,
   "id": "classified-document",
   "metadata": {},
   "outputs": [],
   "source": [
    "model = keras.models.Sequential()\n",
    "\n",
    "model.add(keras.layers.LSTM(units = 50, return_sequences = True, input_shape = X_train.shape[1:]))\n",
    "model.add(keras.layers.LSTM(units = 50))\n",
    "model.add(keras.layers.Dense(1))"
   ]
  },
  {
   "cell_type": "code",
   "execution_count": null,
   "id": "presidential-experience",
   "metadata": {},
   "outputs": [],
   "source": [
    "model.compile(loss = 'mse', optimizer = 'adam')"
   ]
  },
  {
   "cell_type": "code",
   "execution_count": null,
   "id": "limited-occasions",
   "metadata": {},
   "outputs": [],
   "source": [
    "history = model.fit(X_train, y_train, epochs = 3)"
   ]
  },
  {
   "cell_type": "code",
   "execution_count": null,
   "id": "fatty-mustang",
   "metadata": {},
   "outputs": [],
   "source": [
    "X_test, y_test = split_multiple(test_std, 10, target_test_std)"
   ]
  },
  {
   "cell_type": "code",
   "execution_count": null,
   "id": "italic-volunteer",
   "metadata": {},
   "outputs": [],
   "source": [
    "y_pred = model.predict(X_test)\n",
    "\n",
    "y_test_inv = sc2.inverse_transform(y_test)\n",
    "y_pred_inv = sc2.inverse_transform(y_pred)"
   ]
  },
  {
   "cell_type": "code",
   "execution_count": null,
   "id": "inclusive-newspaper",
   "metadata": {},
   "outputs": [],
   "source": [
    "from matplotlib import pyplot as plt\n",
    "plt.figure(figsize = (20, 10))\n",
    "plt.plot(y_test_inv, label = 'Actual')\n",
    "plt.plot(y_pred_inv, label = 'Predicted')\n",
    "plt.ylabel('Temperature')\n",
    "plt.xlabel('Day')\n",
    "plt.xlim([0, 365])\n",
    "plt.ylim([270, 295])\n",
    "plt.legend()\n",
    "plt.show()"
   ]
  },
  {
   "cell_type": "code",
   "execution_count": null,
   "id": "urban-attraction",
   "metadata": {},
   "outputs": [],
   "source": [
    "print('MSE:', mean_squared_error(y_test_inv, y_pred_inv))\n",
    "print('R-Squared:', r2_score(y_test_inv, y_pred_inv))"
   ]
  },
  {
   "cell_type": "code",
   "execution_count": null,
   "id": "maritime-neutral",
   "metadata": {},
   "outputs": [],
   "source": [
    "math.sqrt(mean_squared_error(y_test_inv, y_pred_inv))"
   ]
  },
  {
   "cell_type": "markdown",
   "id": "white-scope",
   "metadata": {},
   "source": [
    "### Incorporating Engineered Features"
   ]
  },
  {
   "cell_type": "code",
   "execution_count": 7,
   "id": "adjusted-smell",
   "metadata": {},
   "outputs": [
    {
     "name": "stderr",
     "output_type": "stream",
     "text": [
      "/Users/jakehogan/Desktop/MMA Courses/INSY 695/Assignments/Group Project/Cloud-Computations/helper.py:136: FutureWarning: Series.dt.weekofyear and Series.dt.week have been deprecated.  Please use Series.dt.isocalendar().week instead.\n",
      "  df['week'] = df['datetime'].dt.weekofyear\n"
     ]
    }
   ],
   "source": [
    "df = feature_engineer_important(load_and_preprocess())"
   ]
  },
  {
   "cell_type": "code",
   "execution_count": 8,
   "id": "orange-banks",
   "metadata": {},
   "outputs": [
    {
     "data": {
      "text/html": [
       "<div>\n",
       "<style scoped>\n",
       "    .dataframe tbody tr th:only-of-type {\n",
       "        vertical-align: middle;\n",
       "    }\n",
       "\n",
       "    .dataframe tbody tr th {\n",
       "        vertical-align: top;\n",
       "    }\n",
       "\n",
       "    .dataframe thead th {\n",
       "        text-align: right;\n",
       "    }\n",
       "</style>\n",
       "<table border=\"1\" class=\"dataframe\">\n",
       "  <thead>\n",
       "    <tr style=\"text-align: right;\">\n",
       "      <th></th>\n",
       "      <th>Humidity</th>\n",
       "      <th>Wind Direction</th>\n",
       "      <th>Pressure</th>\n",
       "      <th>hour</th>\n",
       "      <th>week</th>\n",
       "      <th>max daily temp</th>\n",
       "      <th>min daily temp</th>\n",
       "      <th>min daily hum</th>\n",
       "      <th>min weekly temp</th>\n",
       "      <th>mean daily temp</th>\n",
       "      <th>mean daily pressure</th>\n",
       "      <th>mean weekly temp</th>\n",
       "      <th>rolling_mean_temp</th>\n",
       "      <th>rolling_mean_pressure</th>\n",
       "      <th>rolling_mean_wind_speed</th>\n",
       "      <th>Temperature</th>\n",
       "    </tr>\n",
       "    <tr>\n",
       "      <th>datetime</th>\n",
       "      <th></th>\n",
       "      <th></th>\n",
       "      <th></th>\n",
       "      <th></th>\n",
       "      <th></th>\n",
       "      <th></th>\n",
       "      <th></th>\n",
       "      <th></th>\n",
       "      <th></th>\n",
       "      <th></th>\n",
       "      <th></th>\n",
       "      <th></th>\n",
       "      <th></th>\n",
       "      <th></th>\n",
       "      <th></th>\n",
       "      <th></th>\n",
       "    </tr>\n",
       "  </thead>\n",
       "  <tbody>\n",
       "    <tr>\n",
       "      <th>2012-10-08 12:00:00</th>\n",
       "      <td>71.861538</td>\n",
       "      <td>1016.424953</td>\n",
       "      <td>317.0</td>\n",
       "      <td>12</td>\n",
       "      <td>41</td>\n",
       "      <td>291.46</td>\n",
       "      <td>282.16</td>\n",
       "      <td>286.07</td>\n",
       "      <td>NaN</td>\n",
       "      <td>291.46</td>\n",
       "      <td>310.0</td>\n",
       "      <td>NaN</td>\n",
       "      <td>286.704215</td>\n",
       "      <td>195.875000</td>\n",
       "      <td>1.839286</td>\n",
       "      <td>278.39</td>\n",
       "    </tr>\n",
       "    <tr>\n",
       "      <th>2012-10-08 13:00:00</th>\n",
       "      <td>71.861538</td>\n",
       "      <td>1016.424953</td>\n",
       "      <td>282.0</td>\n",
       "      <td>13</td>\n",
       "      <td>41</td>\n",
       "      <td>291.46</td>\n",
       "      <td>282.16</td>\n",
       "      <td>286.07</td>\n",
       "      <td>282.16</td>\n",
       "      <td>291.46</td>\n",
       "      <td>310.0</td>\n",
       "      <td>287.209794</td>\n",
       "      <td>286.656439</td>\n",
       "      <td>196.384615</td>\n",
       "      <td>1.828402</td>\n",
       "      <td>278.63</td>\n",
       "    </tr>\n",
       "    <tr>\n",
       "      <th>2012-10-08 14:00:00</th>\n",
       "      <td>71.861538</td>\n",
       "      <td>1016.424953</td>\n",
       "      <td>288.0</td>\n",
       "      <td>14</td>\n",
       "      <td>41</td>\n",
       "      <td>291.46</td>\n",
       "      <td>282.16</td>\n",
       "      <td>286.07</td>\n",
       "      <td>282.16</td>\n",
       "      <td>291.46</td>\n",
       "      <td>310.0</td>\n",
       "      <td>287.209794</td>\n",
       "      <td>286.614754</td>\n",
       "      <td>196.923529</td>\n",
       "      <td>1.817647</td>\n",
       "      <td>279.57</td>\n",
       "    </tr>\n",
       "  </tbody>\n",
       "</table>\n",
       "</div>"
      ],
      "text/plain": [
       "                      Humidity  Wind Direction  Pressure  hour  week  \\\n",
       "datetime                                                               \n",
       "2012-10-08 12:00:00  71.861538     1016.424953     317.0    12    41   \n",
       "2012-10-08 13:00:00  71.861538     1016.424953     282.0    13    41   \n",
       "2012-10-08 14:00:00  71.861538     1016.424953     288.0    14    41   \n",
       "\n",
       "                     max daily temp  min daily temp  min daily hum  \\\n",
       "datetime                                                             \n",
       "2012-10-08 12:00:00          291.46          282.16         286.07   \n",
       "2012-10-08 13:00:00          291.46          282.16         286.07   \n",
       "2012-10-08 14:00:00          291.46          282.16         286.07   \n",
       "\n",
       "                     min weekly temp  mean daily temp  mean daily pressure  \\\n",
       "datetime                                                                     \n",
       "2012-10-08 12:00:00              NaN           291.46                310.0   \n",
       "2012-10-08 13:00:00           282.16           291.46                310.0   \n",
       "2012-10-08 14:00:00           282.16           291.46                310.0   \n",
       "\n",
       "                     mean weekly temp  rolling_mean_temp  \\\n",
       "datetime                                                   \n",
       "2012-10-08 12:00:00               NaN         286.704215   \n",
       "2012-10-08 13:00:00        287.209794         286.656439   \n",
       "2012-10-08 14:00:00        287.209794         286.614754   \n",
       "\n",
       "                     rolling_mean_pressure  rolling_mean_wind_speed  \\\n",
       "datetime                                                              \n",
       "2012-10-08 12:00:00             195.875000                 1.839286   \n",
       "2012-10-08 13:00:00             196.384615                 1.828402   \n",
       "2012-10-08 14:00:00             196.923529                 1.817647   \n",
       "\n",
       "                     Temperature  \n",
       "datetime                          \n",
       "2012-10-08 12:00:00       278.39  \n",
       "2012-10-08 13:00:00       278.63  \n",
       "2012-10-08 14:00:00       279.57  "
      ]
     },
     "execution_count": 8,
     "metadata": {},
     "output_type": "execute_result"
    }
   ],
   "source": [
    "df.iloc[167:170, ] #looks like due to the shifts we should drop the first week of observations (which is fine)"
   ]
  },
  {
   "cell_type": "code",
   "execution_count": 9,
   "id": "blessed-premises",
   "metadata": {},
   "outputs": [],
   "source": [
    "df = df.dropna()"
   ]
  },
  {
   "cell_type": "markdown",
   "id": "rubber-salad",
   "metadata": {},
   "source": [
    "#### RNN with New Features"
   ]
  },
  {
   "cell_type": "code",
   "execution_count": 10,
   "id": "rocky-david",
   "metadata": {},
   "outputs": [],
   "source": [
    "train = df[:cutoff].reset_index(drop = True)\n",
    "target_train = train[['Temperature']].values\n",
    "train = train.values\n",
    "\n",
    "test = df[:cutoff].reset_index(drop = True)\n",
    "target_test = test[['Temperature']].values\n",
    "test = test.values"
   ]
  },
  {
   "cell_type": "code",
   "execution_count": 11,
   "id": "mobile-software",
   "metadata": {},
   "outputs": [],
   "source": [
    "sc = StandardScaler()\n",
    "sc2 = StandardScaler()\n",
    "train_std = sc.fit_transform(train)\n",
    "target_train_std = sc2.fit_transform(target_train)\n",
    "test_std = sc.transform(test)\n",
    "target_test_std = sc2.transform(target_test)"
   ]
  },
  {
   "cell_type": "code",
   "execution_count": 12,
   "id": "recovered-poker",
   "metadata": {},
   "outputs": [],
   "source": [
    "X_train, y_train = split_multiple(train_std, 10, target_train_std)"
   ]
  },
  {
   "cell_type": "code",
   "execution_count": 13,
   "id": "private-briefing",
   "metadata": {},
   "outputs": [
    {
     "data": {
      "text/plain": [
       "(33929, 10, 16)"
      ]
     },
     "execution_count": 13,
     "metadata": {},
     "output_type": "execute_result"
    }
   ],
   "source": [
    "X_train.shape"
   ]
  },
  {
   "cell_type": "code",
   "execution_count": 14,
   "id": "advised-potential",
   "metadata": {},
   "outputs": [],
   "source": [
    "model = keras.models.Sequential()\n",
    "\n",
    "model.add(keras.layers.LSTM(units = 50, return_sequences = True, input_shape = X_train.shape[1:]))\n",
    "model.add(keras.layers.LSTM(units = 50))\n",
    "model.add(keras.layers.Dense(1))\n",
    "\n",
    "model.compile(optimizer='adam', loss='mse')"
   ]
  },
  {
   "cell_type": "code",
   "execution_count": 15,
   "id": "figured-invasion",
   "metadata": {},
   "outputs": [
    {
     "name": "stdout",
     "output_type": "stream",
     "text": [
      "Train on 33929 samples\n",
      "Epoch 1/3\n",
      "33929/33929 [==============================] - 40s 1ms/sample - loss: 0.0386\n",
      "Epoch 2/3\n",
      "33929/33929 [==============================] - 37s 1ms/sample - loss: 0.0108\n",
      "Epoch 3/3\n",
      "33929/33929 [==============================] - 36s 1ms/sample - loss: 0.0090\n"
     ]
    }
   ],
   "source": [
    "history = model.fit(X_train, y_train, epochs=3)"
   ]
  },
  {
   "cell_type": "code",
   "execution_count": 16,
   "id": "permanent-applicant",
   "metadata": {},
   "outputs": [],
   "source": [
    "X_test, y_test = split_multiple(test_std, 10, target_test_std)"
   ]
  },
  {
   "cell_type": "code",
   "execution_count": 17,
   "id": "incorporated-apache",
   "metadata": {},
   "outputs": [],
   "source": [
    "y_pred = model.predict(X_test)\n",
    "\n",
    "y_pred_inv = sc2.inverse_transform(y_pred)\n",
    "y_test_inv = sc2.inverse_transform(y_test)"
   ]
  },
  {
   "cell_type": "code",
   "execution_count": 19,
   "id": "single-bones",
   "metadata": {},
   "outputs": [
    {
     "data": {
      "image/png": "[encoded data removed]",
      "text/plain": [
       "<Figure size 1440x720 with 1 Axes>"
      ]
     },
     "metadata": {
      "needs_background": "light"
     },
     "output_type": "display_data"
    }
   ],
   "source": [
    "from matplotlib import pyplot as plt\n",
    "plt.figure(figsize = (20, 10))\n",
    "plt.plot(y_test_inv, label = 'Actual')\n",
    "plt.plot(y_pred_inv, label = 'Predicted')\n",
    "plt.ylabel('Temperature')\n",
    "plt.xlabel('Day')\n",
    "plt.xlim([0, 365])\n",
    "plt.ylim([270, 295])\n",
    "plt.legend()\n",
    "plt.show()"
   ]
  },
  {
   "cell_type": "code",
   "execution_count": 20,
   "id": "cardiovascular-google",
   "metadata": {},
   "outputs": [
    {
     "name": "stdout",
     "output_type": "stream",
     "text": [
      "MSE: 1.2513190733748163\n",
      "R-Squared: 0.9916856969034261\n",
      "RMSE: 1.1186237407523658\n"
     ]
    }
   ],
   "source": [
    "print('MSE:', mean_squared_error(y_test_inv, y_pred_inv))\n",
    "print('R-Squared:', r2_score(y_test_inv, y_pred_inv))\n",
    "print('RMSE:', math.sqrt(mean_squared_error(y_test_inv, y_pred_inv)))"
   ]
  },
  {
   "cell_type": "code",
   "execution_count": null,
   "id": "invalid-waterproof",
   "metadata": {},
   "outputs": [],
   "source": []
  }
 ],
 "metadata": {
  "kernelspec": {
   "display_name": "Python 3",
   "language": "python",
   "name": "python3"
  },
  "language_info": {
   "codemirror_mode": {
    "name": "ipython",
    "version": 3
   },
   "file_extension": ".py",
   "mimetype": "text/x-python",
   "name": "python",
   "nbconvert_exporter": "python",
   "pygments_lexer": "ipython3",
   "version": "3.7.7"
  }
 },
 "nbformat": 4,
 "nbformat_minor": 5
}
