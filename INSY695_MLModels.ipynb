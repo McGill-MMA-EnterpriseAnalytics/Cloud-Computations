{
 "cells": [
  {
   "cell_type": "markdown",
   "metadata": {},
   "source": [
    "# INSY 695 - Machine Learning Models\n",
    "\n",
    "### Contents\n",
    "**1. XGBoost**\n",
    "\n",
    "**2. Comparison with Other ML Models**\n",
    "\n",
    "**3. XGBoost with New Features**\n",
    "\n",
    "\n",
    "**4. XGBoost with Hyperparameter Tuning**"
   ]
  },
  {
   "cell_type": "code",
   "execution_count": 1,
   "metadata": {
    "execution": {
     "iopub.execute_input": "2021-04-12T04:22:27.773481Z",
     "iopub.status.busy": "2021-04-12T04:22:27.766442Z",
     "iopub.status.idle": "2021-04-12T04:22:27.891284Z",
     "shell.execute_reply": "2021-04-12T04:22:27.890123Z",
     "shell.execute_reply.started": "2021-04-12T04:22:27.772902Z"
    }
   },
   "outputs": [],
   "source": [
    "import pandas as pd\n",
    "import numpy as np\n",
    "import os\n",
    "import platform as pf\n",
    "from IPython.display import display # Display data\n",
    "pd.options.mode.chained_assignment = None  # default='warn'\n",
    "\n",
    "import shap\n",
    "\n",
    "import warnings\n",
    "import itertools    \n",
    "import statsmodels.api as sm\n",
    "\n",
    "from datetime import timedelta\n",
    "from dateutil.relativedelta import relativedelta\n",
    "import matplotlib.pyplot as plt\n",
    "import math\n",
    "from scipy import stats\n",
    "\n",
    "plt.style.use('fivethirtyeight')"
   ]
  },
  {
   "cell_type": "markdown",
   "metadata": {},
   "source": [
    "## 1. Load Data "
   ]
  },
  {
   "cell_type": "code",
   "execution_count": 2,
   "metadata": {
    "execution": {
     "iopub.execute_input": "2021-04-12T04:22:27.897284Z",
     "iopub.status.busy": "2021-04-12T04:22:27.897045Z",
     "iopub.status.idle": "2021-04-12T04:22:52.254421Z",
     "shell.execute_reply": "2021-04-12T04:22:52.253600Z",
     "shell.execute_reply.started": "2021-04-12T04:22:27.897259Z"
    }
   },
   "outputs": [
    {
     "data": {
      "text/html": [
       "<div>\n",
       "<style scoped>\n",
       "    .dataframe tbody tr th:only-of-type {\n",
       "        vertical-align: middle;\n",
       "    }\n",
       "\n",
       "    .dataframe tbody tr th {\n",
       "        vertical-align: top;\n",
       "    }\n",
       "\n",
       "    .dataframe thead th {\n",
       "        text-align: right;\n",
       "    }\n",
       "</style>\n",
       "<table border=\"1\" class=\"dataframe\">\n",
       "  <thead>\n",
       "    <tr style=\"text-align: right;\">\n",
       "      <th></th>\n",
       "      <th>datetime</th>\n",
       "      <th>Description</th>\n",
       "      <th>Humidity</th>\n",
       "      <th>Wind Direction</th>\n",
       "      <th>Temperature</th>\n",
       "      <th>Pressure</th>\n",
       "      <th>Wind Speed</th>\n",
       "      <th>clouds</th>\n",
       "      <th>rain</th>\n",
       "      <th>mist</th>\n",
       "      <th>snow</th>\n",
       "      <th>shower</th>\n",
       "      <th>thunderstorm</th>\n",
       "      <th>fog</th>\n",
       "      <th>other</th>\n",
       "      <th>Intensity</th>\n",
       "    </tr>\n",
       "  </thead>\n",
       "  <tbody>\n",
       "    <tr>\n",
       "      <th>1</th>\n",
       "      <td>2012-10-01 13:00:00</td>\n",
       "      <td>heavy clouds</td>\n",
       "      <td>93.0</td>\n",
       "      <td>1001.0</td>\n",
       "      <td>285.83000</td>\n",
       "      <td>230.0</td>\n",
       "      <td>4.0</td>\n",
       "      <td>1</td>\n",
       "      <td>0</td>\n",
       "      <td>0</td>\n",
       "      <td>0</td>\n",
       "      <td>0</td>\n",
       "      <td>0</td>\n",
       "      <td>0</td>\n",
       "      <td>0</td>\n",
       "      <td>3.0</td>\n",
       "    </tr>\n",
       "    <tr>\n",
       "      <th>2</th>\n",
       "      <td>2012-10-01 14:00:00</td>\n",
       "      <td>sky is clear</td>\n",
       "      <td>91.0</td>\n",
       "      <td>986.0</td>\n",
       "      <td>285.83465</td>\n",
       "      <td>230.0</td>\n",
       "      <td>4.0</td>\n",
       "      <td>0</td>\n",
       "      <td>0</td>\n",
       "      <td>0</td>\n",
       "      <td>0</td>\n",
       "      <td>0</td>\n",
       "      <td>0</td>\n",
       "      <td>0</td>\n",
       "      <td>0</td>\n",
       "      <td>0.0</td>\n",
       "    </tr>\n",
       "    <tr>\n",
       "      <th>3</th>\n",
       "      <td>2012-10-01 15:00:00</td>\n",
       "      <td>sky is clear</td>\n",
       "      <td>87.0</td>\n",
       "      <td>945.0</td>\n",
       "      <td>285.84779</td>\n",
       "      <td>231.0</td>\n",
       "      <td>4.0</td>\n",
       "      <td>0</td>\n",
       "      <td>0</td>\n",
       "      <td>0</td>\n",
       "      <td>0</td>\n",
       "      <td>0</td>\n",
       "      <td>0</td>\n",
       "      <td>0</td>\n",
       "      <td>0</td>\n",
       "      <td>0.0</td>\n",
       "    </tr>\n",
       "  </tbody>\n",
       "</table>\n",
       "</div>"
      ],
      "text/plain": [
       "              datetime   Description  Humidity  Wind Direction  Temperature  \\\n",
       "1  2012-10-01 13:00:00  heavy clouds      93.0          1001.0    285.83000   \n",
       "2  2012-10-01 14:00:00  sky is clear      91.0           986.0    285.83465   \n",
       "3  2012-10-01 15:00:00  sky is clear      87.0           945.0    285.84779   \n",
       "\n",
       "   Pressure  Wind Speed  clouds  rain  mist  snow  shower  thunderstorm  fog  \\\n",
       "1     230.0         4.0       1     0     0     0       0             0    0   \n",
       "2     230.0         4.0       0     0     0     0       0             0    0   \n",
       "3     231.0         4.0       0     0     0     0       0             0    0   \n",
       "\n",
       "   other  Intensity  \n",
       "1      0        3.0  \n",
       "2      0        0.0  \n",
       "3      0        0.0  "
      ]
     },
     "execution_count": 2,
     "metadata": {},
     "output_type": "execute_result"
    }
   ],
   "source": [
    "import helper\n",
    "from helper import *\n",
    "\n",
    "df = load_and_preprocess()\n",
    "df.head(3)"
   ]
  },
  {
   "cell_type": "code",
   "execution_count": 3,
   "metadata": {
    "execution": {
     "iopub.execute_input": "2021-04-12T04:28:03.977216Z",
     "iopub.status.busy": "2021-04-12T04:28:03.976879Z",
     "iopub.status.idle": "2021-04-12T04:28:04.025312Z",
     "shell.execute_reply": "2021-04-12T04:28:04.024455Z",
     "shell.execute_reply.started": "2021-04-12T04:28:03.977186Z"
    }
   },
   "outputs": [
    {
     "data": {
      "text/html": [
       "<div>\n",
       "<style scoped>\n",
       "    .dataframe tbody tr th:only-of-type {\n",
       "        vertical-align: middle;\n",
       "    }\n",
       "\n",
       "    .dataframe tbody tr th {\n",
       "        vertical-align: top;\n",
       "    }\n",
       "\n",
       "    .dataframe thead th {\n",
       "        text-align: right;\n",
       "    }\n",
       "</style>\n",
       "<table border=\"1\" class=\"dataframe\">\n",
       "  <thead>\n",
       "    <tr style=\"text-align: right;\">\n",
       "      <th></th>\n",
       "      <th>Humidity</th>\n",
       "      <th>Wind Direction</th>\n",
       "      <th>Temperature</th>\n",
       "      <th>Pressure</th>\n",
       "      <th>Wind Speed</th>\n",
       "      <th>clouds</th>\n",
       "      <th>rain</th>\n",
       "      <th>mist</th>\n",
       "      <th>snow</th>\n",
       "      <th>shower</th>\n",
       "      <th>thunderstorm</th>\n",
       "      <th>fog</th>\n",
       "      <th>other</th>\n",
       "      <th>Intensity</th>\n",
       "    </tr>\n",
       "    <tr>\n",
       "      <th>datetime</th>\n",
       "      <th></th>\n",
       "      <th></th>\n",
       "      <th></th>\n",
       "      <th></th>\n",
       "      <th></th>\n",
       "      <th></th>\n",
       "      <th></th>\n",
       "      <th></th>\n",
       "      <th></th>\n",
       "      <th></th>\n",
       "      <th></th>\n",
       "      <th></th>\n",
       "      <th></th>\n",
       "      <th></th>\n",
       "    </tr>\n",
       "  </thead>\n",
       "  <tbody>\n",
       "    <tr>\n",
       "      <th>2012-10-01</th>\n",
       "      <td>75.727273</td>\n",
       "      <td>963.920433</td>\n",
       "      <td>12.737980</td>\n",
       "      <td>235.727273</td>\n",
       "      <td>3.272727</td>\n",
       "      <td>0.090909</td>\n",
       "      <td>0.000000</td>\n",
       "      <td>0.000000</td>\n",
       "      <td>0.000000</td>\n",
       "      <td>0.000000</td>\n",
       "      <td>0.0</td>\n",
       "      <td>0.000000</td>\n",
       "      <td>0.0</td>\n",
       "      <td>0.272727</td>\n",
       "    </tr>\n",
       "    <tr>\n",
       "      <th>2012-10-02</th>\n",
       "      <td>50.287179</td>\n",
       "      <td>1014.996834</td>\n",
       "      <td>13.787931</td>\n",
       "      <td>260.583333</td>\n",
       "      <td>1.666667</td>\n",
       "      <td>0.125000</td>\n",
       "      <td>0.000000</td>\n",
       "      <td>0.000000</td>\n",
       "      <td>0.000000</td>\n",
       "      <td>0.000000</td>\n",
       "      <td>0.0</td>\n",
       "      <td>0.000000</td>\n",
       "      <td>0.0</td>\n",
       "      <td>0.375000</td>\n",
       "    </tr>\n",
       "    <tr>\n",
       "      <th>2012-10-03</th>\n",
       "      <td>78.752564</td>\n",
       "      <td>1015.283302</td>\n",
       "      <td>14.224583</td>\n",
       "      <td>227.583333</td>\n",
       "      <td>1.333333</td>\n",
       "      <td>0.125000</td>\n",
       "      <td>0.000000</td>\n",
       "      <td>0.083333</td>\n",
       "      <td>0.000000</td>\n",
       "      <td>0.000000</td>\n",
       "      <td>0.0</td>\n",
       "      <td>0.125000</td>\n",
       "      <td>0.0</td>\n",
       "      <td>0.666667</td>\n",
       "    </tr>\n",
       "    <tr>\n",
       "      <th>2012-10-04</th>\n",
       "      <td>83.305769</td>\n",
       "      <td>1017.194770</td>\n",
       "      <td>13.710833</td>\n",
       "      <td>101.583333</td>\n",
       "      <td>1.000000</td>\n",
       "      <td>0.083333</td>\n",
       "      <td>0.000000</td>\n",
       "      <td>0.208333</td>\n",
       "      <td>0.000000</td>\n",
       "      <td>0.000000</td>\n",
       "      <td>0.0</td>\n",
       "      <td>0.250000</td>\n",
       "      <td>0.0</td>\n",
       "      <td>1.083333</td>\n",
       "    </tr>\n",
       "    <tr>\n",
       "      <th>2012-10-05</th>\n",
       "      <td>79.258333</td>\n",
       "      <td>1017.688516</td>\n",
       "      <td>14.385208</td>\n",
       "      <td>66.333333</td>\n",
       "      <td>1.708333</td>\n",
       "      <td>0.333333</td>\n",
       "      <td>0.083333</td>\n",
       "      <td>0.500000</td>\n",
       "      <td>0.000000</td>\n",
       "      <td>0.000000</td>\n",
       "      <td>0.0</td>\n",
       "      <td>0.000000</td>\n",
       "      <td>0.0</td>\n",
       "      <td>2.083333</td>\n",
       "    </tr>\n",
       "    <tr>\n",
       "      <th>...</th>\n",
       "      <td>...</td>\n",
       "      <td>...</td>\n",
       "      <td>...</td>\n",
       "      <td>...</td>\n",
       "      <td>...</td>\n",
       "      <td>...</td>\n",
       "      <td>...</td>\n",
       "      <td>...</td>\n",
       "      <td>...</td>\n",
       "      <td>...</td>\n",
       "      <td>...</td>\n",
       "      <td>...</td>\n",
       "      <td>...</td>\n",
       "      <td>...</td>\n",
       "    </tr>\n",
       "    <tr>\n",
       "      <th>2017-11-26</th>\n",
       "      <td>78.166667</td>\n",
       "      <td>1008.666667</td>\n",
       "      <td>0.257083</td>\n",
       "      <td>288.333333</td>\n",
       "      <td>4.708333</td>\n",
       "      <td>0.500000</td>\n",
       "      <td>0.166667</td>\n",
       "      <td>0.000000</td>\n",
       "      <td>0.333333</td>\n",
       "      <td>0.041667</td>\n",
       "      <td>0.0</td>\n",
       "      <td>0.000000</td>\n",
       "      <td>0.0</td>\n",
       "      <td>1.708333</td>\n",
       "    </tr>\n",
       "    <tr>\n",
       "      <th>2017-11-27</th>\n",
       "      <td>74.125000</td>\n",
       "      <td>1013.458333</td>\n",
       "      <td>-4.045833</td>\n",
       "      <td>271.666667</td>\n",
       "      <td>4.500000</td>\n",
       "      <td>0.458333</td>\n",
       "      <td>0.000000</td>\n",
       "      <td>0.000000</td>\n",
       "      <td>0.541667</td>\n",
       "      <td>0.041667</td>\n",
       "      <td>0.0</td>\n",
       "      <td>0.000000</td>\n",
       "      <td>0.0</td>\n",
       "      <td>1.541667</td>\n",
       "    </tr>\n",
       "    <tr>\n",
       "      <th>2017-11-28</th>\n",
       "      <td>64.833333</td>\n",
       "      <td>1024.000000</td>\n",
       "      <td>-6.990958</td>\n",
       "      <td>185.458333</td>\n",
       "      <td>3.375000</td>\n",
       "      <td>0.958333</td>\n",
       "      <td>0.000000</td>\n",
       "      <td>0.000000</td>\n",
       "      <td>0.000000</td>\n",
       "      <td>0.000000</td>\n",
       "      <td>0.0</td>\n",
       "      <td>0.000000</td>\n",
       "      <td>0.0</td>\n",
       "      <td>1.958333</td>\n",
       "    </tr>\n",
       "    <tr>\n",
       "      <th>2017-11-29</th>\n",
       "      <td>75.375000</td>\n",
       "      <td>1014.000000</td>\n",
       "      <td>2.847917</td>\n",
       "      <td>226.250000</td>\n",
       "      <td>4.291667</td>\n",
       "      <td>0.666667</td>\n",
       "      <td>0.208333</td>\n",
       "      <td>0.041667</td>\n",
       "      <td>0.000000</td>\n",
       "      <td>0.041667</td>\n",
       "      <td>0.0</td>\n",
       "      <td>0.083333</td>\n",
       "      <td>0.0</td>\n",
       "      <td>1.875000</td>\n",
       "    </tr>\n",
       "    <tr>\n",
       "      <th>2017-11-30</th>\n",
       "      <td>58.000000</td>\n",
       "      <td>1027.000000</td>\n",
       "      <td>-1.350000</td>\n",
       "      <td>300.000000</td>\n",
       "      <td>4.000000</td>\n",
       "      <td>1.000000</td>\n",
       "      <td>0.000000</td>\n",
       "      <td>0.000000</td>\n",
       "      <td>0.000000</td>\n",
       "      <td>0.000000</td>\n",
       "      <td>0.0</td>\n",
       "      <td>0.000000</td>\n",
       "      <td>0.0</td>\n",
       "      <td>1.000000</td>\n",
       "    </tr>\n",
       "  </tbody>\n",
       "</table>\n",
       "<p>1887 rows × 14 columns</p>\n",
       "</div>"
      ],
      "text/plain": [
       "             Humidity  Wind Direction  Temperature    Pressure  Wind Speed  \\\n",
       "datetime                                                                     \n",
       "2012-10-01  75.727273      963.920433    12.737980  235.727273    3.272727   \n",
       "2012-10-02  50.287179     1014.996834    13.787931  260.583333    1.666667   \n",
       "2012-10-03  78.752564     1015.283302    14.224583  227.583333    1.333333   \n",
       "2012-10-04  83.305769     1017.194770    13.710833  101.583333    1.000000   \n",
       "2012-10-05  79.258333     1017.688516    14.385208   66.333333    1.708333   \n",
       "...               ...             ...          ...         ...         ...   \n",
       "2017-11-26  78.166667     1008.666667     0.257083  288.333333    4.708333   \n",
       "2017-11-27  74.125000     1013.458333    -4.045833  271.666667    4.500000   \n",
       "2017-11-28  64.833333     1024.000000    -6.990958  185.458333    3.375000   \n",
       "2017-11-29  75.375000     1014.000000     2.847917  226.250000    4.291667   \n",
       "2017-11-30  58.000000     1027.000000    -1.350000  300.000000    4.000000   \n",
       "\n",
       "              clouds      rain      mist      snow    shower  thunderstorm  \\\n",
       "datetime                                                                     \n",
       "2012-10-01  0.090909  0.000000  0.000000  0.000000  0.000000           0.0   \n",
       "2012-10-02  0.125000  0.000000  0.000000  0.000000  0.000000           0.0   \n",
       "2012-10-03  0.125000  0.000000  0.083333  0.000000  0.000000           0.0   \n",
       "2012-10-04  0.083333  0.000000  0.208333  0.000000  0.000000           0.0   \n",
       "2012-10-05  0.333333  0.083333  0.500000  0.000000  0.000000           0.0   \n",
       "...              ...       ...       ...       ...       ...           ...   \n",
       "2017-11-26  0.500000  0.166667  0.000000  0.333333  0.041667           0.0   \n",
       "2017-11-27  0.458333  0.000000  0.000000  0.541667  0.041667           0.0   \n",
       "2017-11-28  0.958333  0.000000  0.000000  0.000000  0.000000           0.0   \n",
       "2017-11-29  0.666667  0.208333  0.041667  0.000000  0.041667           0.0   \n",
       "2017-11-30  1.000000  0.000000  0.000000  0.000000  0.000000           0.0   \n",
       "\n",
       "                 fog  other  Intensity  \n",
       "datetime                                \n",
       "2012-10-01  0.000000    0.0   0.272727  \n",
       "2012-10-02  0.000000    0.0   0.375000  \n",
       "2012-10-03  0.125000    0.0   0.666667  \n",
       "2012-10-04  0.250000    0.0   1.083333  \n",
       "2012-10-05  0.000000    0.0   2.083333  \n",
       "...              ...    ...        ...  \n",
       "2017-11-26  0.000000    0.0   1.708333  \n",
       "2017-11-27  0.000000    0.0   1.541667  \n",
       "2017-11-28  0.000000    0.0   1.958333  \n",
       "2017-11-29  0.083333    0.0   1.875000  \n",
       "2017-11-30  0.000000    0.0   1.000000  \n",
       "\n",
       "[1887 rows x 14 columns]"
      ]
     },
     "execution_count": 3,
     "metadata": {},
     "output_type": "execute_result"
    }
   ],
   "source": [
    "#need to specify datetime[ns] or else the rest will not run \n",
    "df['datetime'] = df['datetime'].astype('datetime64[ns]')\n",
    "weather_df = df.set_index('datetime')\n",
    "weather_df['Temperature'] = weather_df['Temperature'] -273.15\n",
    "weather_df = weather_df.resample('D').mean()\n",
    "weather_df"
   ]
  },
  {
   "cell_type": "code",
   "execution_count": 33,
   "metadata": {
    "execution": {
     "iopub.execute_input": "2021-04-12T04:28:04.407701Z",
     "iopub.status.busy": "2021-04-12T04:28:04.407442Z",
     "iopub.status.idle": "2021-04-12T04:28:04.573505Z",
     "shell.execute_reply": "2021-04-12T04:28:04.572960Z",
     "shell.execute_reply.started": "2021-04-12T04:28:04.407672Z"
    }
   },
   "outputs": [
    {
     "data": {
      "text/plain": [
       "<AxesSubplot:xlabel='datetime'>"
      ]
     },
     "execution_count": 33,
     "metadata": {},
     "output_type": "execute_result"
    },
    {
     "data": {
      "image/png": "[encoded data removed]",
      "text/plain": [
       "<Figure size 432x288 with 1 Axes>"
      ]
     },
     "metadata": {},
     "output_type": "display_data"
    }
   ],
   "source": [
    "weather_df['Temperature'][100:600].plot()"
   ]
  },
  {
   "cell_type": "code",
   "execution_count": 38,
   "metadata": {
    "execution": {
     "iopub.execute_input": "2021-04-12T04:28:04.790830Z",
     "iopub.status.busy": "2021-04-12T04:28:04.790598Z",
     "iopub.status.idle": "2021-04-12T04:28:04.939102Z",
     "shell.execute_reply": "2021-04-12T04:28:04.938578Z",
     "shell.execute_reply.started": "2021-04-12T04:28:04.790804Z"
    }
   },
   "outputs": [
    {
     "data": {
      "text/plain": [
       "<AxesSubplot:xlabel='datetime'>"
      ]
     },
     "execution_count": 38,
     "metadata": {},
     "output_type": "execute_result"
    },
    {
     "data": {
      "image/png": "[encoded data removed]",
      "text/plain": [
       "<Figure size 432x288 with 1 Axes>"
      ]
     },
     "metadata": {},
     "output_type": "display_data"
    }
   ],
   "source": [
    "weather_df['Humidity'][100:200].plot()"
   ]
  },
  {
   "cell_type": "code",
   "execution_count": 41,
   "metadata": {
    "execution": {
     "iopub.execute_input": "2021-04-12T04:28:05.115817Z",
     "iopub.status.busy": "2021-04-12T04:28:05.115575Z",
     "iopub.status.idle": "2021-04-12T04:28:06.648654Z",
     "shell.execute_reply": "2021-04-12T04:28:06.648139Z",
     "shell.execute_reply.started": "2021-04-12T04:28:05.115790Z"
    }
   },
   "outputs": [
    {
     "data": {
      "text/plain": [
       "<AxesSubplot:xlabel='datetime'>"
      ]
     },
     "execution_count": 41,
     "metadata": {},
     "output_type": "execute_result"
    },
    {
     "data": {
      "image/png": "[encoded data removed]",
      "text/plain": [
       "<Figure size 432x288 with 1 Axes>"
      ]
     },
     "metadata": {},
     "output_type": "display_data"
    }
   ],
   "source": [
    "weather_df['Wind Speed'][100:400].plot()"
   ]
  },
  {
   "cell_type": "code",
   "execution_count": 40,
   "metadata": {
    "execution": {
     "iopub.execute_input": "2021-04-12T04:28:06.650268Z",
     "iopub.status.busy": "2021-04-12T04:28:06.650039Z",
     "iopub.status.idle": "2021-04-12T04:28:06.801142Z",
     "shell.execute_reply": "2021-04-12T04:28:06.800518Z",
     "shell.execute_reply.started": "2021-04-12T04:28:06.650242Z"
    }
   },
   "outputs": [
    {
     "data": {
      "text/plain": [
       "<AxesSubplot:xlabel='datetime'>"
      ]
     },
     "execution_count": 40,
     "metadata": {},
     "output_type": "execute_result"
    },
    {
     "data": {
      "image/png": "[encoded data removed]",
      "text/plain": [
       "<Figure size 432x288 with 1 Axes>"
      ]
     },
     "metadata": {},
     "output_type": "display_data"
    }
   ],
   "source": [
    "weather_df['Pressure'][100:400].plot()"
   ]
  },
  {
   "cell_type": "markdown",
   "metadata": {},
   "source": [
    "## Model 1: XGBoost\n",
    "\n",
    "We first create a base XGBoost model to benchmark other models against. The model will take simply the temperature and date columns as input."
   ]
  },
  {
   "cell_type": "code",
   "execution_count": 8,
   "metadata": {
    "execution": {
     "iopub.execute_input": "2021-04-12T04:28:06.802992Z",
     "iopub.status.busy": "2021-04-12T04:28:06.802797Z",
     "iopub.status.idle": "2021-04-12T04:28:06.812608Z",
     "shell.execute_reply": "2021-04-12T04:28:06.812067Z",
     "shell.execute_reply.started": "2021-04-12T04:28:06.802968Z"
    }
   },
   "outputs": [
    {
     "data": {
      "text/html": [
       "<div>\n",
       "<style scoped>\n",
       "    .dataframe tbody tr th:only-of-type {\n",
       "        vertical-align: middle;\n",
       "    }\n",
       "\n",
       "    .dataframe tbody tr th {\n",
       "        vertical-align: top;\n",
       "    }\n",
       "\n",
       "    .dataframe thead th {\n",
       "        text-align: right;\n",
       "    }\n",
       "</style>\n",
       "<table border=\"1\" class=\"dataframe\">\n",
       "  <thead>\n",
       "    <tr style=\"text-align: right;\">\n",
       "      <th></th>\n",
       "      <th>Temperature</th>\n",
       "    </tr>\n",
       "    <tr>\n",
       "      <th>datetime</th>\n",
       "      <th></th>\n",
       "    </tr>\n",
       "  </thead>\n",
       "  <tbody>\n",
       "    <tr>\n",
       "      <th>2012-10-01</th>\n",
       "      <td>12.737980</td>\n",
       "    </tr>\n",
       "    <tr>\n",
       "      <th>2012-10-02</th>\n",
       "      <td>13.787931</td>\n",
       "    </tr>\n",
       "    <tr>\n",
       "      <th>2012-10-03</th>\n",
       "      <td>14.224583</td>\n",
       "    </tr>\n",
       "    <tr>\n",
       "      <th>2012-10-04</th>\n",
       "      <td>13.710833</td>\n",
       "    </tr>\n",
       "    <tr>\n",
       "      <th>2012-10-05</th>\n",
       "      <td>14.385208</td>\n",
       "    </tr>\n",
       "    <tr>\n",
       "      <th>...</th>\n",
       "      <td>...</td>\n",
       "    </tr>\n",
       "    <tr>\n",
       "      <th>2017-11-26</th>\n",
       "      <td>0.257083</td>\n",
       "    </tr>\n",
       "    <tr>\n",
       "      <th>2017-11-27</th>\n",
       "      <td>-4.045833</td>\n",
       "    </tr>\n",
       "    <tr>\n",
       "      <th>2017-11-28</th>\n",
       "      <td>-6.990958</td>\n",
       "    </tr>\n",
       "    <tr>\n",
       "      <th>2017-11-29</th>\n",
       "      <td>2.847917</td>\n",
       "    </tr>\n",
       "    <tr>\n",
       "      <th>2017-11-30</th>\n",
       "      <td>-1.350000</td>\n",
       "    </tr>\n",
       "  </tbody>\n",
       "</table>\n",
       "<p>1887 rows × 1 columns</p>\n",
       "</div>"
      ],
      "text/plain": [
       "            Temperature\n",
       "datetime               \n",
       "2012-10-01    12.737980\n",
       "2012-10-02    13.787931\n",
       "2012-10-03    14.224583\n",
       "2012-10-04    13.710833\n",
       "2012-10-05    14.385208\n",
       "...                 ...\n",
       "2017-11-26     0.257083\n",
       "2017-11-27    -4.045833\n",
       "2017-11-28    -6.990958\n",
       "2017-11-29     2.847917\n",
       "2017-11-30    -1.350000\n",
       "\n",
       "[1887 rows x 1 columns]"
      ]
     },
     "execution_count": 8,
     "metadata": {},
     "output_type": "execute_result"
    }
   ],
   "source": [
    "ml_df = pd.DataFrame({'Temperature': weather_df['Temperature']}, index = weather_df.index)\n",
    "ml_df"
   ]
  },
  {
   "cell_type": "markdown",
   "metadata": {},
   "source": [
    "**Create lagged attributes**\n",
    "\n",
    "From this limited amount of information, we can create new variables such as the date, month, and year, which can give a sense of the cyclical nature of the time series. Then, we create lagged versions of the data -- i.e. the temperature from 1 hour, 2 hours, 12 hours, or 24 hours before."
   ]
  },
  {
   "cell_type": "code",
   "execution_count": 9,
   "metadata": {
    "execution": {
     "iopub.execute_input": "2021-04-12T04:28:07.593307Z",
     "iopub.status.busy": "2021-04-12T04:28:07.593014Z",
     "iopub.status.idle": "2021-04-12T04:28:08.630845Z",
     "shell.execute_reply": "2021-04-12T04:28:08.630091Z",
     "shell.execute_reply.started": "2021-04-12T04:28:07.593273Z"
    }
   },
   "outputs": [],
   "source": [
    "#CREATE LAGGED ATTRIBUTES \n",
    "\n",
    "ml_df['date'] = ml_df.index\n",
    "ml_df['month'] = ml_df['date'].dt.day\n",
    "ml_df['month'] = ml_df['date'].dt.month\n",
    "ml_df['year'] = ml_df['date'].dt.year\n",
    "\n",
    "ml_df['lag1'] = ml_df['Temperature'].shift(periods = 1, fill_value = 0)\n",
    "ml_df['lag2'] = ml_df['Temperature'].shift(periods = 2, fill_value = 0)\n",
    "ml_df['lag12'] = ml_df['Temperature'].shift(periods = 12, fill_value = 0)\n",
    "ml_df['lag24'] = ml_df['Temperature'].shift(periods = 24, fill_value = 0)\n",
    "\n",
    "ml_df['avg_temp'] = 0 \n",
    "for i in range(1, len(ml_df)):\n",
    "    ml_df['avg_temp'][i] = ml_df['lag1'][:i+1].mean()\n",
    "    \n",
    "\n",
    "ml_df.drop('date', axis = 1, inplace = True)\n",
    "\n",
    "#we have to eliminate all those with 0s\n",
    "ml_df = ml_df[ml_df['lag24'] != 0]"
   ]
  },
  {
   "cell_type": "code",
   "execution_count": 10,
   "metadata": {
    "execution": {
     "iopub.execute_input": "2021-04-12T04:28:09.295025Z",
     "iopub.status.busy": "2021-04-12T04:28:09.294664Z",
     "iopub.status.idle": "2021-04-12T04:28:09.303904Z",
     "shell.execute_reply": "2021-04-12T04:28:09.302018Z",
     "shell.execute_reply.started": "2021-04-12T04:28:09.294981Z"
    }
   },
   "outputs": [],
   "source": [
    "X = ml_df.iloc[:,1:]\n",
    "y = ml_df[['Temperature']]"
   ]
  },
  {
   "cell_type": "code",
   "execution_count": 11,
   "metadata": {
    "execution": {
     "iopub.execute_input": "2021-04-12T04:28:10.431020Z",
     "iopub.status.busy": "2021-04-12T04:28:10.430789Z",
     "iopub.status.idle": "2021-04-12T04:28:10.445805Z",
     "shell.execute_reply": "2021-04-12T04:28:10.445071Z",
     "shell.execute_reply.started": "2021-04-12T04:28:10.430994Z"
    }
   },
   "outputs": [
    {
     "data": {
      "text/html": [
       "<div>\n",
       "<style scoped>\n",
       "    .dataframe tbody tr th:only-of-type {\n",
       "        vertical-align: middle;\n",
       "    }\n",
       "\n",
       "    .dataframe tbody tr th {\n",
       "        vertical-align: top;\n",
       "    }\n",
       "\n",
       "    .dataframe thead th {\n",
       "        text-align: right;\n",
       "    }\n",
       "</style>\n",
       "<table border=\"1\" class=\"dataframe\">\n",
       "  <thead>\n",
       "    <tr style=\"text-align: right;\">\n",
       "      <th></th>\n",
       "      <th>month</th>\n",
       "      <th>year</th>\n",
       "      <th>lag1</th>\n",
       "      <th>lag2</th>\n",
       "      <th>lag12</th>\n",
       "      <th>lag24</th>\n",
       "      <th>avg_temp</th>\n",
       "    </tr>\n",
       "    <tr>\n",
       "      <th>datetime</th>\n",
       "      <th></th>\n",
       "      <th></th>\n",
       "      <th></th>\n",
       "      <th></th>\n",
       "      <th></th>\n",
       "      <th></th>\n",
       "      <th></th>\n",
       "    </tr>\n",
       "  </thead>\n",
       "  <tbody>\n",
       "    <tr>\n",
       "      <th>2012-10-25</th>\n",
       "      <td>10</td>\n",
       "      <td>2012</td>\n",
       "      <td>7.940208</td>\n",
       "      <td>10.244167</td>\n",
       "      <td>6.362917</td>\n",
       "      <td>12.737980</td>\n",
       "      <td>9</td>\n",
       "    </tr>\n",
       "    <tr>\n",
       "      <th>2012-10-26</th>\n",
       "      <td>10</td>\n",
       "      <td>2012</td>\n",
       "      <td>5.640833</td>\n",
       "      <td>7.940208</td>\n",
       "      <td>3.591667</td>\n",
       "      <td>13.787931</td>\n",
       "      <td>9</td>\n",
       "    </tr>\n",
       "    <tr>\n",
       "      <th>2012-10-27</th>\n",
       "      <td>10</td>\n",
       "      <td>2012</td>\n",
       "      <td>7.557917</td>\n",
       "      <td>5.640833</td>\n",
       "      <td>5.983750</td>\n",
       "      <td>14.224583</td>\n",
       "      <td>9</td>\n",
       "    </tr>\n",
       "    <tr>\n",
       "      <th>2012-10-28</th>\n",
       "      <td>10</td>\n",
       "      <td>2012</td>\n",
       "      <td>11.835000</td>\n",
       "      <td>7.557917</td>\n",
       "      <td>11.929583</td>\n",
       "      <td>13.710833</td>\n",
       "      <td>9</td>\n",
       "    </tr>\n",
       "    <tr>\n",
       "      <th>2012-10-29</th>\n",
       "      <td>10</td>\n",
       "      <td>2012</td>\n",
       "      <td>12.535000</td>\n",
       "      <td>11.835000</td>\n",
       "      <td>8.533333</td>\n",
       "      <td>14.385208</td>\n",
       "      <td>9</td>\n",
       "    </tr>\n",
       "    <tr>\n",
       "      <th>...</th>\n",
       "      <td>...</td>\n",
       "      <td>...</td>\n",
       "      <td>...</td>\n",
       "      <td>...</td>\n",
       "      <td>...</td>\n",
       "      <td>...</td>\n",
       "      <td>...</td>\n",
       "    </tr>\n",
       "    <tr>\n",
       "      <th>2017-11-26</th>\n",
       "      <td>11</td>\n",
       "      <td>2017</td>\n",
       "      <td>4.567917</td>\n",
       "      <td>2.073750</td>\n",
       "      <td>0.546250</td>\n",
       "      <td>7.710833</td>\n",
       "      <td>7</td>\n",
       "    </tr>\n",
       "    <tr>\n",
       "      <th>2017-11-27</th>\n",
       "      <td>11</td>\n",
       "      <td>2017</td>\n",
       "      <td>0.257083</td>\n",
       "      <td>4.567917</td>\n",
       "      <td>0.855417</td>\n",
       "      <td>12.654583</td>\n",
       "      <td>7</td>\n",
       "    </tr>\n",
       "    <tr>\n",
       "      <th>2017-11-28</th>\n",
       "      <td>11</td>\n",
       "      <td>2017</td>\n",
       "      <td>-4.045833</td>\n",
       "      <td>0.257083</td>\n",
       "      <td>4.647500</td>\n",
       "      <td>3.622083</td>\n",
       "      <td>7</td>\n",
       "    </tr>\n",
       "    <tr>\n",
       "      <th>2017-11-29</th>\n",
       "      <td>11</td>\n",
       "      <td>2017</td>\n",
       "      <td>-6.990958</td>\n",
       "      <td>-4.045833</td>\n",
       "      <td>0.323750</td>\n",
       "      <td>4.995833</td>\n",
       "      <td>7</td>\n",
       "    </tr>\n",
       "    <tr>\n",
       "      <th>2017-11-30</th>\n",
       "      <td>11</td>\n",
       "      <td>2017</td>\n",
       "      <td>2.847917</td>\n",
       "      <td>-6.990958</td>\n",
       "      <td>-3.420833</td>\n",
       "      <td>11.671667</td>\n",
       "      <td>7</td>\n",
       "    </tr>\n",
       "  </tbody>\n",
       "</table>\n",
       "<p>1863 rows × 7 columns</p>\n",
       "</div>"
      ],
      "text/plain": [
       "            month  year       lag1       lag2      lag12      lag24  avg_temp\n",
       "datetime                                                                     \n",
       "2012-10-25     10  2012   7.940208  10.244167   6.362917  12.737980         9\n",
       "2012-10-26     10  2012   5.640833   7.940208   3.591667  13.787931         9\n",
       "2012-10-27     10  2012   7.557917   5.640833   5.983750  14.224583         9\n",
       "2012-10-28     10  2012  11.835000   7.557917  11.929583  13.710833         9\n",
       "2012-10-29     10  2012  12.535000  11.835000   8.533333  14.385208         9\n",
       "...           ...   ...        ...        ...        ...        ...       ...\n",
       "2017-11-26     11  2017   4.567917   2.073750   0.546250   7.710833         7\n",
       "2017-11-27     11  2017   0.257083   4.567917   0.855417  12.654583         7\n",
       "2017-11-28     11  2017  -4.045833   0.257083   4.647500   3.622083         7\n",
       "2017-11-29     11  2017  -6.990958  -4.045833   0.323750   4.995833         7\n",
       "2017-11-30     11  2017   2.847917  -6.990958  -3.420833  11.671667         7\n",
       "\n",
       "[1863 rows x 7 columns]"
      ]
     },
     "execution_count": 11,
     "metadata": {},
     "output_type": "execute_result"
    }
   ],
   "source": [
    "X"
   ]
  },
  {
   "cell_type": "markdown",
   "metadata": {},
   "source": [
    "**Split Data**\n",
    "\n",
    "Here, we split the data in sequence of time, since the data is a time series. "
   ]
  },
  {
   "cell_type": "code",
   "execution_count": 12,
   "metadata": {
    "execution": {
     "iopub.execute_input": "2021-04-12T04:28:11.539835Z",
     "iopub.status.busy": "2021-04-12T04:28:11.539433Z",
     "iopub.status.idle": "2021-04-12T04:28:11.545486Z",
     "shell.execute_reply": "2021-04-12T04:28:11.544848Z",
     "shell.execute_reply.started": "2021-04-12T04:28:11.539790Z"
    }
   },
   "outputs": [],
   "source": [
    "def train_test_split(data, n_test):\n",
    "    return data[:n_test], data[n_test:]\n",
    "\n",
    "split_len = int(len(weather_df)*0.75)\n",
    "\n",
    "X_train, X_test = train_test_split(X, split_len)\n",
    "y_train, y_test = train_test_split(y, split_len)"
   ]
  },
  {
   "cell_type": "markdown",
   "metadata": {},
   "source": [
    "**Standardize Variables**"
   ]
  },
  {
   "cell_type": "code",
   "execution_count": 13,
   "metadata": {
    "execution": {
     "iopub.execute_input": "2021-04-12T04:28:12.530154Z",
     "iopub.status.busy": "2021-04-12T04:28:12.529855Z",
     "iopub.status.idle": "2021-04-12T04:28:12.542067Z",
     "shell.execute_reply": "2021-04-12T04:28:12.541510Z",
     "shell.execute_reply.started": "2021-04-12T04:28:12.530118Z"
    }
   },
   "outputs": [],
   "source": [
    "from sklearn.preprocessing import StandardScaler\n",
    "\n",
    "scaler = StandardScaler()\n",
    "X_train_scaled = scaler.fit_transform(X_train)\n",
    "X_train = pd.DataFrame(X_train_scaled, columns = X_train.columns)\n",
    "X_train.columns = X.columns\n",
    "\n",
    "X_test_scaled = scaler.transform(X_test)\n",
    "X_test = pd.DataFrame(X_test_scaled, columns = X_train.columns)\n",
    "X_train.columns = X.columns\n"
   ]
  },
  {
   "cell_type": "code",
   "execution_count": 14,
   "metadata": {
    "execution": {
     "iopub.execute_input": "2021-04-12T04:28:13.190071Z",
     "iopub.status.busy": "2021-04-12T04:28:13.189840Z",
     "iopub.status.idle": "2021-04-12T04:28:13.205072Z",
     "shell.execute_reply": "2021-04-12T04:28:13.204457Z",
     "shell.execute_reply.started": "2021-04-12T04:28:13.190045Z"
    }
   },
   "outputs": [
    {
     "data": {
      "text/html": [
       "<div>\n",
       "<style scoped>\n",
       "    .dataframe tbody tr th:only-of-type {\n",
       "        vertical-align: middle;\n",
       "    }\n",
       "\n",
       "    .dataframe tbody tr th {\n",
       "        vertical-align: top;\n",
       "    }\n",
       "\n",
       "    .dataframe thead th {\n",
       "        text-align: right;\n",
       "    }\n",
       "</style>\n",
       "<table border=\"1\" class=\"dataframe\">\n",
       "  <thead>\n",
       "    <tr style=\"text-align: right;\">\n",
       "      <th></th>\n",
       "      <th>month</th>\n",
       "      <th>year</th>\n",
       "      <th>lag1</th>\n",
       "      <th>lag2</th>\n",
       "      <th>lag12</th>\n",
       "      <th>lag24</th>\n",
       "      <th>avg_temp</th>\n",
       "    </tr>\n",
       "  </thead>\n",
       "  <tbody>\n",
       "    <tr>\n",
       "      <th>0</th>\n",
       "      <td>1.033168</td>\n",
       "      <td>-1.943103</td>\n",
       "      <td>0.087089</td>\n",
       "      <td>0.281505</td>\n",
       "      <td>-0.038611</td>\n",
       "      <td>0.507353</td>\n",
       "      <td>2.017436</td>\n",
       "    </tr>\n",
       "    <tr>\n",
       "      <th>1</th>\n",
       "      <td>1.033168</td>\n",
       "      <td>-1.943103</td>\n",
       "      <td>-0.106086</td>\n",
       "      <td>0.087840</td>\n",
       "      <td>-0.272425</td>\n",
       "      <td>0.596334</td>\n",
       "      <td>2.017436</td>\n",
       "    </tr>\n",
       "    <tr>\n",
       "      <th>2</th>\n",
       "      <td>1.033168</td>\n",
       "      <td>-1.943103</td>\n",
       "      <td>0.054972</td>\n",
       "      <td>-0.105441</td>\n",
       "      <td>-0.070601</td>\n",
       "      <td>0.633339</td>\n",
       "      <td>2.017436</td>\n",
       "    </tr>\n",
       "    <tr>\n",
       "      <th>3</th>\n",
       "      <td>1.033168</td>\n",
       "      <td>-1.943103</td>\n",
       "      <td>0.414297</td>\n",
       "      <td>0.055705</td>\n",
       "      <td>0.431057</td>\n",
       "      <td>0.589800</td>\n",
       "      <td>2.017436</td>\n",
       "    </tr>\n",
       "    <tr>\n",
       "      <th>4</th>\n",
       "      <td>1.033168</td>\n",
       "      <td>-1.943103</td>\n",
       "      <td>0.473105</td>\n",
       "      <td>0.415227</td>\n",
       "      <td>0.144510</td>\n",
       "      <td>0.646952</td>\n",
       "      <td>2.017436</td>\n",
       "    </tr>\n",
       "    <tr>\n",
       "      <th>...</th>\n",
       "      <td>...</td>\n",
       "      <td>...</td>\n",
       "      <td>...</td>\n",
       "      <td>...</td>\n",
       "      <td>...</td>\n",
       "      <td>...</td>\n",
       "      <td>...</td>\n",
       "    </tr>\n",
       "    <tr>\n",
       "      <th>1410</th>\n",
       "      <td>0.744134</td>\n",
       "      <td>1.495910</td>\n",
       "      <td>0.809187</td>\n",
       "      <td>0.913724</td>\n",
       "      <td>0.991317</td>\n",
       "      <td>1.027099</td>\n",
       "      <td>0.567137</td>\n",
       "    </tr>\n",
       "    <tr>\n",
       "      <th>1411</th>\n",
       "      <td>0.744134</td>\n",
       "      <td>1.495910</td>\n",
       "      <td>0.916652</td>\n",
       "      <td>0.810333</td>\n",
       "      <td>1.329541</td>\n",
       "      <td>0.891820</td>\n",
       "      <td>0.567137</td>\n",
       "    </tr>\n",
       "    <tr>\n",
       "      <th>1412</th>\n",
       "      <td>0.744134</td>\n",
       "      <td>1.495910</td>\n",
       "      <td>1.052961</td>\n",
       "      <td>0.917857</td>\n",
       "      <td>1.335834</td>\n",
       "      <td>0.673171</td>\n",
       "      <td>0.567137</td>\n",
       "    </tr>\n",
       "    <tr>\n",
       "      <th>1413</th>\n",
       "      <td>0.744134</td>\n",
       "      <td>1.495910</td>\n",
       "      <td>1.107324</td>\n",
       "      <td>1.054241</td>\n",
       "      <td>1.477788</td>\n",
       "      <td>0.862512</td>\n",
       "      <td>0.567137</td>\n",
       "    </tr>\n",
       "    <tr>\n",
       "      <th>1414</th>\n",
       "      <td>0.744134</td>\n",
       "      <td>1.495910</td>\n",
       "      <td>1.275137</td>\n",
       "      <td>1.108633</td>\n",
       "      <td>1.273821</td>\n",
       "      <td>0.900684</td>\n",
       "      <td>0.567137</td>\n",
       "    </tr>\n",
       "  </tbody>\n",
       "</table>\n",
       "<p>1415 rows × 7 columns</p>\n",
       "</div>"
      ],
      "text/plain": [
       "         month      year      lag1      lag2     lag12     lag24  avg_temp\n",
       "0     1.033168 -1.943103  0.087089  0.281505 -0.038611  0.507353  2.017436\n",
       "1     1.033168 -1.943103 -0.106086  0.087840 -0.272425  0.596334  2.017436\n",
       "2     1.033168 -1.943103  0.054972 -0.105441 -0.070601  0.633339  2.017436\n",
       "3     1.033168 -1.943103  0.414297  0.055705  0.431057  0.589800  2.017436\n",
       "4     1.033168 -1.943103  0.473105  0.415227  0.144510  0.646952  2.017436\n",
       "...        ...       ...       ...       ...       ...       ...       ...\n",
       "1410  0.744134  1.495910  0.809187  0.913724  0.991317  1.027099  0.567137\n",
       "1411  0.744134  1.495910  0.916652  0.810333  1.329541  0.891820  0.567137\n",
       "1412  0.744134  1.495910  1.052961  0.917857  1.335834  0.673171  0.567137\n",
       "1413  0.744134  1.495910  1.107324  1.054241  1.477788  0.862512  0.567137\n",
       "1414  0.744134  1.495910  1.275137  1.108633  1.273821  0.900684  0.567137\n",
       "\n",
       "[1415 rows x 7 columns]"
      ]
     },
     "execution_count": 14,
     "metadata": {},
     "output_type": "execute_result"
    }
   ],
   "source": [
    "X_train"
   ]
  },
  {
   "cell_type": "markdown",
   "metadata": {},
   "source": [
    "**Run XGBoost Model and generate MAE**"
   ]
  },
  {
   "cell_type": "code",
   "execution_count": 15,
   "metadata": {
    "execution": {
     "iopub.execute_input": "2021-04-12T04:28:14.230477Z",
     "iopub.status.busy": "2021-04-12T04:28:14.230077Z",
     "iopub.status.idle": "2021-04-12T04:28:14.340829Z",
     "shell.execute_reply": "2021-04-12T04:28:14.340141Z",
     "shell.execute_reply.started": "2021-04-12T04:28:14.230424Z"
    }
   },
   "outputs": [],
   "source": [
    "import xgboost as xgb\n",
    "\n",
    "xgb_model = xgb.XGBRegressor(n_estimators=1000)\n",
    "xgb_model.fit(X_train, y_train,\n",
    "              eval_set=[(X_train, y_train), (X_test, y_test)],\n",
    "              early_stopping_rounds=50,\n",
    "              verbose=False) \n",
    "\n",
    "pred = xgb_model.predict(X_test)"
   ]
  },
  {
   "cell_type": "code",
   "execution_count": 16,
   "metadata": {
    "execution": {
     "iopub.execute_input": "2021-04-12T04:29:43.301158Z",
     "iopub.status.busy": "2021-04-12T04:29:43.300775Z",
     "iopub.status.idle": "2021-04-12T04:29:43.309602Z",
     "shell.execute_reply": "2021-04-12T04:29:43.308818Z",
     "shell.execute_reply.started": "2021-04-12T04:29:43.301121Z"
    }
   },
   "outputs": [
    {
     "data": {
      "text/plain": [
       "2.7737061099771276"
      ]
     },
     "execution_count": 16,
     "metadata": {},
     "output_type": "execute_result"
    }
   ],
   "source": [
    "ts_results = pd.DataFrame({'Predicted': pred, 'Observed': y_test['Temperature']})\n",
    "ts_results['MAE'] = abs(ts_results['Predicted']-ts_results['Observed'])\n",
    "ts_results['MAE'].mean()"
   ]
  },
  {
   "cell_type": "code",
   "execution_count": 17,
   "metadata": {
    "execution": {
     "iopub.execute_input": "2021-04-12T04:28:22.085820Z",
     "iopub.status.busy": "2021-04-12T04:28:22.085558Z",
     "iopub.status.idle": "2021-04-12T04:28:22.312813Z",
     "shell.execute_reply": "2021-04-12T04:28:22.312245Z",
     "shell.execute_reply.started": "2021-04-12T04:28:22.085789Z"
    }
   },
   "outputs": [
    {
     "data": {
      "image/png": "[encoded data removed]",
      "text/plain": [
       "<Figure size 720x360 with 1 Axes>"
      ]
     },
     "metadata": {},
     "output_type": "display_data"
    }
   ],
   "source": [
    "#plot real against predicted values\n",
    "ax = weather_df['Temperature'].plot(label='observed')\n",
    "ts_results['Predicted'].plot(ax=ax, label='One-step ahead Forecast', alpha=.7, figsize=(10, 5))\n",
    "\n",
    "ax.set_xlabel('Date')\n",
    "ax.set_ylabel('Temperature')\n",
    "plt.legend()\n",
    "plt.show()"
   ]
  },
  {
   "cell_type": "code",
   "execution_count": 18,
   "metadata": {
    "execution": {
     "iopub.execute_input": "2021-04-12T04:28:23.049007Z",
     "iopub.status.busy": "2021-04-12T04:28:23.048737Z",
     "iopub.status.idle": "2021-04-12T04:28:23.068352Z",
     "shell.execute_reply": "2021-04-12T04:28:23.067777Z",
     "shell.execute_reply.started": "2021-04-12T04:28:23.048981Z"
    }
   },
   "outputs": [
    {
     "data": {
      "text/html": [
       "<style  type=\"text/css\" >\n",
       "#T_15a4d_row0_col0,#T_15a4d_row0_col1,#T_15a4d_row18_col2{\n",
       "            background-color:  #fcffa4;\n",
       "            color:  #000000;\n",
       "        }#T_15a4d_row0_col2{\n",
       "            background-color:  #7c1d6d;\n",
       "            color:  #f1f1f1;\n",
       "        }#T_15a4d_row1_col0{\n",
       "            background-color:  #f9cb35;\n",
       "            color:  #000000;\n",
       "        }#T_15a4d_row1_col1{\n",
       "            background-color:  #fbbc21;\n",
       "            color:  #000000;\n",
       "        }#T_15a4d_row1_col2{\n",
       "            background-color:  #470b6a;\n",
       "            color:  #f1f1f1;\n",
       "        }#T_15a4d_row2_col0{\n",
       "            background-color:  #fbb81d;\n",
       "            color:  #000000;\n",
       "        }#T_15a4d_row2_col1{\n",
       "            background-color:  #fa9407;\n",
       "            color:  #000000;\n",
       "        }#T_15a4d_row2_col2{\n",
       "            background-color:  #140b34;\n",
       "            color:  #f1f1f1;\n",
       "        }#T_15a4d_row3_col0{\n",
       "            background-color:  #fcac11;\n",
       "            color:  #000000;\n",
       "        }#T_15a4d_row3_col1{\n",
       "            background-color:  #9b2964;\n",
       "            color:  #f1f1f1;\n",
       "        }#T_15a4d_row3_col2{\n",
       "            background-color:  #da4e3c;\n",
       "            color:  #000000;\n",
       "        }#T_15a4d_row4_col0{\n",
       "            background-color:  #85216b;\n",
       "            color:  #f1f1f1;\n",
       "        }#T_15a4d_row4_col1{\n",
       "            background-color:  #e65d2f;\n",
       "            color:  #000000;\n",
       "        }#T_15a4d_row4_col2{\n",
       "            background-color:  #f2741c;\n",
       "            color:  #000000;\n",
       "        }#T_15a4d_row5_col0{\n",
       "            background-color:  #d24644;\n",
       "            color:  #f1f1f1;\n",
       "        }#T_15a4d_row5_col1{\n",
       "            background-color:  #f06f20;\n",
       "            color:  #000000;\n",
       "        }#T_15a4d_row5_col2{\n",
       "            background-color:  #9f2a63;\n",
       "            color:  #f1f1f1;\n",
       "        }#T_15a4d_row6_col0,#T_15a4d_row14_col0{\n",
       "            background-color:  #e25734;\n",
       "            color:  #000000;\n",
       "        }#T_15a4d_row6_col1{\n",
       "            background-color:  #4a0c6b;\n",
       "            color:  #f1f1f1;\n",
       "        }#T_15a4d_row6_col2{\n",
       "            background-color:  #f1731d;\n",
       "            color:  #000000;\n",
       "        }#T_15a4d_row7_col0{\n",
       "            background-color:  #390963;\n",
       "            color:  #f1f1f1;\n",
       "        }#T_15a4d_row7_col1{\n",
       "            background-color:  #520e6d;\n",
       "            color:  #f1f1f1;\n",
       "        }#T_15a4d_row7_col2{\n",
       "            background-color:  #180c3c;\n",
       "            color:  #f1f1f1;\n",
       "        }#T_15a4d_row8_col0{\n",
       "            background-color:  #4f0d6c;\n",
       "            color:  #f1f1f1;\n",
       "        }#T_15a4d_row8_col1{\n",
       "            background-color:  #bf3952;\n",
       "            color:  #f1f1f1;\n",
       "        }#T_15a4d_row8_col2{\n",
       "            background-color:  #eb6628;\n",
       "            color:  #000000;\n",
       "        }#T_15a4d_row9_col0{\n",
       "            background-color:  #de5238;\n",
       "            color:  #000000;\n",
       "        }#T_15a4d_row9_col1{\n",
       "            background-color:  #fbbe23;\n",
       "            color:  #000000;\n",
       "        }#T_15a4d_row9_col2{\n",
       "            background-color:  #f98b0b;\n",
       "            color:  #000000;\n",
       "        }#T_15a4d_row10_col0{\n",
       "            background-color:  #fc9f07;\n",
       "            color:  #000000;\n",
       "        }#T_15a4d_row10_col1{\n",
       "            background-color:  #f8cd37;\n",
       "            color:  #000000;\n",
       "        }#T_15a4d_row10_col2,#T_15a4d_row18_col1{\n",
       "            background-color:  #ae305c;\n",
       "            color:  #f1f1f1;\n",
       "        }#T_15a4d_row11_col0{\n",
       "            background-color:  #fbba1f;\n",
       "            color:  #000000;\n",
       "        }#T_15a4d_row11_col1{\n",
       "            background-color:  #fb9b06;\n",
       "            color:  #000000;\n",
       "        }#T_15a4d_row11_col2{\n",
       "            background-color:  #1e0c45;\n",
       "            color:  #f1f1f1;\n",
       "        }#T_15a4d_row12_col0{\n",
       "            background-color:  #fca50a;\n",
       "            color:  #000000;\n",
       "        }#T_15a4d_row12_col1{\n",
       "            background-color:  #eb6429;\n",
       "            color:  #000000;\n",
       "        }#T_15a4d_row12_col2,#T_15a4d_row17_col1,#T_15a4d_row18_col0{\n",
       "            background-color:  #000004;\n",
       "            color:  #f1f1f1;\n",
       "        }#T_15a4d_row13_col0{\n",
       "            background-color:  #cf4446;\n",
       "            color:  #f1f1f1;\n",
       "        }#T_15a4d_row13_col1{\n",
       "            background-color:  #ee6a24;\n",
       "            color:  #000000;\n",
       "        }#T_15a4d_row13_col2{\n",
       "            background-color:  #972766;\n",
       "            color:  #f1f1f1;\n",
       "        }#T_15a4d_row14_col1{\n",
       "            background-color:  #6c186e;\n",
       "            color:  #f1f1f1;\n",
       "        }#T_15a4d_row14_col2{\n",
       "            background-color:  #ba3655;\n",
       "            color:  #f1f1f1;\n",
       "        }#T_15a4d_row15_col0{\n",
       "            background-color:  #120a32;\n",
       "            color:  #f1f1f1;\n",
       "        }#T_15a4d_row15_col1{\n",
       "            background-color:  #260c51;\n",
       "            color:  #f1f1f1;\n",
       "        }#T_15a4d_row15_col2{\n",
       "            background-color:  #050417;\n",
       "            color:  #f1f1f1;\n",
       "        }#T_15a4d_row16_col0{\n",
       "            background-color:  #3b0964;\n",
       "            color:  #f1f1f1;\n",
       "        }#T_15a4d_row16_col1{\n",
       "            background-color:  #040314;\n",
       "            color:  #f1f1f1;\n",
       "        }#T_15a4d_row16_col2{\n",
       "            background-color:  #69166e;\n",
       "            color:  #f1f1f1;\n",
       "        }#T_15a4d_row17_col0{\n",
       "            background-color:  #10092d;\n",
       "            color:  #f1f1f1;\n",
       "        }#T_15a4d_row17_col2{\n",
       "            background-color:  #380962;\n",
       "            color:  #f1f1f1;\n",
       "        }#T_15a4d_row19_col0{\n",
       "            background-color:  #ca404a;\n",
       "            color:  #f1f1f1;\n",
       "        }#T_15a4d_row19_col1{\n",
       "            background-color:  #8d2369;\n",
       "            color:  #f1f1f1;\n",
       "        }#T_15a4d_row19_col2{\n",
       "            background-color:  #2b0b57;\n",
       "            color:  #f1f1f1;\n",
       "        }</style><table id=\"T_15a4d_\" ><thead>    <tr>        <th class=\"blank level0\" ></th>        <th class=\"col_heading level0 col0\" >Predicted</th>        <th class=\"col_heading level0 col1\" >Observed</th>        <th class=\"col_heading level0 col2\" >MAE</th>    </tr>    <tr>        <th class=\"index_name level0\" >datetime</th>        <th class=\"blank\" ></th>        <th class=\"blank\" ></th>        <th class=\"blank\" ></th>    </tr></thead><tbody>\n",
       "                <tr>\n",
       "                        <th id=\"T_15a4d_level0_row0\" class=\"row_heading level0 row0\" >2016-09-09 00:00:00</th>\n",
       "                        <td id=\"T_15a4d_row0_col0\" class=\"data row0 col0\" >21.906441</td>\n",
       "                        <td id=\"T_15a4d_row0_col1\" class=\"data row0 col1\" >24.243333</td>\n",
       "                        <td id=\"T_15a4d_row0_col2\" class=\"data row0 col2\" >2.336893</td>\n",
       "            </tr>\n",
       "            <tr>\n",
       "                        <th id=\"T_15a4d_level0_row1\" class=\"row_heading level0 row1\" >2016-09-10 00:00:00</th>\n",
       "                        <td id=\"T_15a4d_row1_col0\" class=\"data row1 col0\" >20.479687</td>\n",
       "                        <td id=\"T_15a4d_row1_col1\" class=\"data row1 col1\" >22.050833</td>\n",
       "                        <td id=\"T_15a4d_row1_col2\" class=\"data row1 col2\" >1.571147</td>\n",
       "            </tr>\n",
       "            <tr>\n",
       "                        <th id=\"T_15a4d_level0_row2\" class=\"row_heading level0 row2\" >2016-09-11 00:00:00</th>\n",
       "                        <td id=\"T_15a4d_row2_col0\" class=\"data row2 col0\" >20.016125</td>\n",
       "                        <td id=\"T_15a4d_row2_col1\" class=\"data row2 col1\" >20.863750</td>\n",
       "                        <td id=\"T_15a4d_row2_col2\" class=\"data row2 col2\" >0.847625</td>\n",
       "            </tr>\n",
       "            <tr>\n",
       "                        <th id=\"T_15a4d_level0_row3\" class=\"row_heading level0 row3\" >2016-09-12 00:00:00</th>\n",
       "                        <td id=\"T_15a4d_row3_col0\" class=\"data row3 col0\" >19.752491</td>\n",
       "                        <td id=\"T_15a4d_row3_col1\" class=\"data row3 col1\" >15.920833</td>\n",
       "                        <td id=\"T_15a4d_row3_col2\" class=\"data row3 col2\" >3.831658</td>\n",
       "            </tr>\n",
       "            <tr>\n",
       "                        <th id=\"T_15a4d_level0_row4\" class=\"row_heading level0 row4\" >2016-09-13 00:00:00</th>\n",
       "                        <td id=\"T_15a4d_row4_col0\" class=\"data row4 col0\" >14.560975</td>\n",
       "                        <td id=\"T_15a4d_row4_col1\" class=\"data row4 col1\" >18.999583</td>\n",
       "                        <td id=\"T_15a4d_row4_col2\" class=\"data row4 col2\" >4.438608</td>\n",
       "            </tr>\n",
       "            <tr>\n",
       "                        <th id=\"T_15a4d_level0_row5\" class=\"row_heading level0 row5\" >2016-09-14 00:00:00</th>\n",
       "                        <td id=\"T_15a4d_row5_col0\" class=\"data row5 col0\" >16.839451</td>\n",
       "                        <td id=\"T_15a4d_row5_col1\" class=\"data row5 col1\" >19.689583</td>\n",
       "                        <td id=\"T_15a4d_row5_col2\" class=\"data row5 col2\" >2.850132</td>\n",
       "            </tr>\n",
       "            <tr>\n",
       "                        <th id=\"T_15a4d_level0_row6\" class=\"row_heading level0 row6\" >2016-09-15 00:00:00</th>\n",
       "                        <td id=\"T_15a4d_row6_col0\" class=\"data row6 col0\" >17.493677</td>\n",
       "                        <td id=\"T_15a4d_row6_col1\" class=\"data row6 col1\" >13.072500</td>\n",
       "                        <td id=\"T_15a4d_row6_col2\" class=\"data row6 col2\" >4.421177</td>\n",
       "            </tr>\n",
       "            <tr>\n",
       "                        <th id=\"T_15a4d_level0_row7\" class=\"row_heading level0 row7\" >2016-09-16 00:00:00</th>\n",
       "                        <td id=\"T_15a4d_row7_col0\" class=\"data row7 col0\" >12.422387</td>\n",
       "                        <td id=\"T_15a4d_row7_col1\" class=\"data row7 col1\" >13.328333</td>\n",
       "                        <td id=\"T_15a4d_row7_col2\" class=\"data row7 col2\" >0.905946</td>\n",
       "            </tr>\n",
       "            <tr>\n",
       "                        <th id=\"T_15a4d_level0_row8\" class=\"row_heading level0 row8\" >2016-09-17 00:00:00</th>\n",
       "                        <td id=\"T_15a4d_row8_col0\" class=\"data row8 col0\" >12.993250</td>\n",
       "                        <td id=\"T_15a4d_row8_col1\" class=\"data row8 col1\" >17.223333</td>\n",
       "                        <td id=\"T_15a4d_row8_col2\" class=\"data row8 col2\" >4.230083</td>\n",
       "            </tr>\n",
       "            <tr>\n",
       "                        <th id=\"T_15a4d_level0_row9\" class=\"row_heading level0 row9\" >2016-09-18 00:00:00</th>\n",
       "                        <td id=\"T_15a4d_row9_col0\" class=\"data row9 col0\" >17.323988</td>\n",
       "                        <td id=\"T_15a4d_row9_col1\" class=\"data row9 col1\" >22.068750</td>\n",
       "                        <td id=\"T_15a4d_row9_col2\" class=\"data row9 col2\" >4.744762</td>\n",
       "            </tr>\n",
       "            <tr>\n",
       "                        <th id=\"T_15a4d_level0_row10\" class=\"row_heading level0 row10\" >2016-09-19 00:00:00</th>\n",
       "                        <td id=\"T_15a4d_row10_col0\" class=\"data row10 col0\" >19.438484</td>\n",
       "                        <td id=\"T_15a4d_row10_col1\" class=\"data row10 col1\" >22.527917</td>\n",
       "                        <td id=\"T_15a4d_row10_col2\" class=\"data row10 col2\" >3.089432</td>\n",
       "            </tr>\n",
       "            <tr>\n",
       "                        <th id=\"T_15a4d_level0_row11\" class=\"row_heading level0 row11\" >2016-09-20 00:00:00</th>\n",
       "                        <td id=\"T_15a4d_row11_col0\" class=\"data row11 col0\" >20.071415</td>\n",
       "                        <td id=\"T_15a4d_row11_col1\" class=\"data row11 col1\" >21.071667</td>\n",
       "                        <td id=\"T_15a4d_row11_col2\" class=\"data row11 col2\" >1.000252</td>\n",
       "            </tr>\n",
       "            <tr>\n",
       "                        <th id=\"T_15a4d_level0_row12\" class=\"row_heading level0 row12\" >2016-09-21 00:00:00</th>\n",
       "                        <td id=\"T_15a4d_row12_col0\" class=\"data row12 col0\" >19.553951</td>\n",
       "                        <td id=\"T_15a4d_row12_col1\" class=\"data row12 col1\" >19.257042</td>\n",
       "                        <td id=\"T_15a4d_row12_col2\" class=\"data row12 col2\" >0.296910</td>\n",
       "            </tr>\n",
       "            <tr>\n",
       "                        <th id=\"T_15a4d_level0_row13\" class=\"row_heading level0 row13\" >2016-09-22 00:00:00</th>\n",
       "                        <td id=\"T_15a4d_row13_col0\" class=\"data row13 col0\" >16.749197</td>\n",
       "                        <td id=\"T_15a4d_row13_col1\" class=\"data row13 col1\" >19.487917</td>\n",
       "                        <td id=\"T_15a4d_row13_col2\" class=\"data row13 col2\" >2.738720</td>\n",
       "            </tr>\n",
       "            <tr>\n",
       "                        <th id=\"T_15a4d_level0_row14\" class=\"row_heading level0 row14\" >2016-09-23 00:00:00</th>\n",
       "                        <td id=\"T_15a4d_row14_col0\" class=\"data row14 col0\" >17.493677</td>\n",
       "                        <td id=\"T_15a4d_row14_col1\" class=\"data row14 col1\" >14.214167</td>\n",
       "                        <td id=\"T_15a4d_row14_col2\" class=\"data row14 col2\" >3.279510</td>\n",
       "            </tr>\n",
       "            <tr>\n",
       "                        <th id=\"T_15a4d_level0_row15\" class=\"row_heading level0 row15\" >2016-09-24 00:00:00</th>\n",
       "                        <td id=\"T_15a4d_row15_col0\" class=\"data row15 col0\" >11.355268</td>\n",
       "                        <td id=\"T_15a4d_row15_col1\" class=\"data row15 col1\" >11.893333</td>\n",
       "                        <td id=\"T_15a4d_row15_col2\" class=\"data row15 col2\" >0.538066</td>\n",
       "            </tr>\n",
       "            <tr>\n",
       "                        <th id=\"T_15a4d_level0_row16\" class=\"row_heading level0 row16\" >2016-09-25 00:00:00</th>\n",
       "                        <td id=\"T_15a4d_row16_col0\" class=\"data row16 col0\" >12.474487</td>\n",
       "                        <td id=\"T_15a4d_row16_col1\" class=\"data row16 col1\" >10.414583</td>\n",
       "                        <td id=\"T_15a4d_row16_col2\" class=\"data row16 col2\" >2.059904</td>\n",
       "            </tr>\n",
       "            <tr>\n",
       "                        <th id=\"T_15a4d_level0_row17\" class=\"row_heading level0 row17\" >2016-09-26 00:00:00</th>\n",
       "                        <td id=\"T_15a4d_row17_col0\" class=\"data row17 col0\" >11.245052</td>\n",
       "                        <td id=\"T_15a4d_row17_col1\" class=\"data row17 col1\" >9.875833</td>\n",
       "                        <td id=\"T_15a4d_row17_col2\" class=\"data row17 col2\" >1.369219</td>\n",
       "            </tr>\n",
       "            <tr>\n",
       "                        <th id=\"T_15a4d_level0_row18\" class=\"row_heading level0 row18\" >2016-09-27 00:00:00</th>\n",
       "                        <td id=\"T_15a4d_row18_col0\" class=\"data row18 col0\" >10.321123</td>\n",
       "                        <td id=\"T_15a4d_row18_col1\" class=\"data row18 col1\" >16.585730</td>\n",
       "                        <td id=\"T_15a4d_row18_col2\" class=\"data row18 col2\" >6.264606</td>\n",
       "            </tr>\n",
       "            <tr>\n",
       "                        <th id=\"T_15a4d_level0_row19\" class=\"row_heading level0 row19\" >2016-09-28 00:00:00</th>\n",
       "                        <td id=\"T_15a4d_row19_col0\" class=\"data row19 col0\" >16.603411</td>\n",
       "                        <td id=\"T_15a4d_row19_col1\" class=\"data row19 col1\" >15.398333</td>\n",
       "                        <td id=\"T_15a4d_row19_col2\" class=\"data row19 col2\" >1.205077</td>\n",
       "            </tr>\n",
       "    </tbody></table>"
      ],
      "text/plain": [
       "<pandas.io.formats.style.Styler at 0x23ae8221dc8>"
      ]
     },
     "execution_count": 18,
     "metadata": {},
     "output_type": "execute_result"
    }
   ],
   "source": [
    "ts_results.head(20).style.background_gradient(cmap='inferno')"
   ]
  },
  {
   "cell_type": "markdown",
   "metadata": {},
   "source": [
    "### **Plot Feature Importances**\n",
    "\n",
    "Here, we can see that the temperature at the hour before is the most important factor in predicting temperature, followed by two hours, 12 hours, and 24 hours before. This makes sense intuitively, given that the temperature at the most recent timesteps is more likely to be closely related to the temperature at the next timestep. "
   ]
  },
  {
   "cell_type": "code",
   "execution_count": 19,
   "metadata": {
    "execution": {
     "iopub.execute_input": "2021-04-12T04:28:24.697104Z",
     "iopub.status.busy": "2021-04-12T04:28:24.696806Z",
     "iopub.status.idle": "2021-04-12T04:28:24.868344Z",
     "shell.execute_reply": "2021-04-12T04:28:24.867405Z",
     "shell.execute_reply.started": "2021-04-12T04:28:24.697070Z"
    }
   },
   "outputs": [
    {
     "data": {
      "text/plain": [
       "<AxesSubplot:title={'center':'Feature importance'}, xlabel='F score', ylabel='Features'>"
      ]
     },
     "execution_count": 19,
     "metadata": {},
     "output_type": "execute_result"
    },
    {
     "data": {
      "image/png": "[encoded data removed]",
      "text/plain": [
       "<Figure size 720x360 with 1 Axes>"
      ]
     },
     "metadata": {},
     "output_type": "display_data"
    }
   ],
   "source": [
    "plt.figure(figsize=(10,5))\n",
    "xgb.plot_importance(xgb_model, ax=plt.gca())"
   ]
  },
  {
   "cell_type": "markdown",
   "metadata": {},
   "source": [
    "### **Model Explainability Using Shap**"
   ]
  },
  {
   "cell_type": "code",
   "execution_count": 20,
   "metadata": {
    "execution": {
     "iopub.execute_input": "2021-04-12T04:28:26.170278Z",
     "iopub.status.busy": "2021-04-12T04:28:26.169933Z",
     "iopub.status.idle": "2021-04-12T04:28:26.387841Z",
     "shell.execute_reply": "2021-04-12T04:28:26.387194Z",
     "shell.execute_reply.started": "2021-04-12T04:28:26.170240Z"
    }
   },
   "outputs": [],
   "source": [
    "explainer = shap.Explainer(xgb_model)\n",
    "shap_values = explainer.shap_values(X_train)"
   ]
  },
  {
   "cell_type": "markdown",
   "metadata": {},
   "source": [
    "Below is shap summary plot and here is how you read it:\n",
    "* Each dot is a training example\n",
    "\n",
    "\n",
    "* **List of features** on the left is sorted in order of highest feature importance on the model's output (temperature). \n",
    "    * We see that indeed, lag1 is the most important feature (as indicated in the feature importance section above) and pretty similar order for the rest of the features. \n",
    "    * The colors (red and blue) represent the values (high to low) of the corresponding feature. \n",
    "    * Purple means that the feature is associated to both high and low ouputs.\n",
    "\n",
    "\n",
    "* **The x-axis** values at the bottom, represent the shap values, which is the degree to how much strength the feature's high/low value is correlated on the target/output variable. \n",
    "    * **Lag1:** If we look at lag1 we observe that it's pretty symetrical overall and directly proportional, meaning that low values of lag1 is associated with lower temperature, while high values of lag1 is associated with higher temperatures. Both red and blue has more bulk in the lower ranges, while blue has more range than red in the further ranges (low values of lag1 is more associated with lower temperature than high values of lag1 in high temperature observations).\n",
    "    * **Lag12:** On the other hand seem to correlate with lower temperatures more when its value is low, but not as much when its values are high with higher temperatures. There also seem to be lots of outlier like datapoints.\n",
    "\n",
    "Note: In this plot, there is a bit of pertubation of values that sit close together for better visualization. \n"
   ]
  },
  {
   "cell_type": "code",
   "execution_count": 21,
   "metadata": {
    "execution": {
     "iopub.execute_input": "2021-04-12T04:28:27.534262Z",
     "iopub.status.busy": "2021-04-12T04:28:27.533968Z",
     "iopub.status.idle": "2021-04-12T04:28:27.842776Z",
     "shell.execute_reply": "2021-04-12T04:28:27.841999Z",
     "shell.execute_reply.started": "2021-04-12T04:28:27.534228Z"
    }
   },
   "outputs": [
    {
     "data": {
      "image/png": "[encoded data removed]",
      "text/plain": [
       "<Figure size 576x309.6 with 2 Axes>"
      ]
     },
     "metadata": {},
     "output_type": "display_data"
    }
   ],
   "source": [
    "shap.summary_plot(shap_values, X_train)"
   ]
  },
  {
   "cell_type": "markdown",
   "metadata": {},
   "source": [
    "If we want to zoom into 1 feature specific, we can use a dependence plot. Here we see more clearly what was already explained above about the lag1 feature."
   ]
  },
  {
   "cell_type": "code",
   "execution_count": 22,
   "metadata": {
    "execution": {
     "iopub.execute_input": "2021-04-12T04:28:28.658748Z",
     "iopub.status.busy": "2021-04-12T04:28:28.658455Z",
     "iopub.status.idle": "2021-04-12T04:28:28.920019Z",
     "shell.execute_reply": "2021-04-12T04:28:28.919440Z",
     "shell.execute_reply.started": "2021-04-12T04:28:28.658719Z"
    }
   },
   "outputs": [
    {
     "data": {
      "image/png": "[encoded data removed]",
      "text/plain": [
       "<Figure size 432x360 with 1 Axes>"
      ]
     },
     "metadata": {},
     "output_type": "display_data"
    },
    {
     "data": {
      "image/png": "[encoded data removed]",
      "text/plain": [
       "<Figure size 432x360 with 1 Axes>"
      ]
     },
     "metadata": {},
     "output_type": "display_data"
    }
   ],
   "source": [
    "shap.dependence_plot(\"lag1\", shap_values, X_train, interaction_index=\"lag1\")\n",
    "shap.dependence_plot(\"lag12\", shap_values, X_train, interaction_index=\"lag12\")"
   ]
  },
  {
   "cell_type": "markdown",
   "metadata": {},
   "source": [
    "## Model 2: Compare Other Models\n",
    "\n",
    "Using the similar logic as before, we can compare the performance of multiple other base models. Here, we can see that none of them models perform as well as the base XGBoost model."
   ]
  },
  {
   "cell_type": "code",
   "execution_count": 23,
   "metadata": {
    "execution": {
     "iopub.execute_input": "2021-04-12T04:28:29.544853Z",
     "iopub.status.busy": "2021-04-12T04:28:29.544567Z",
     "iopub.status.idle": "2021-04-12T04:28:30.246804Z",
     "shell.execute_reply": "2021-04-12T04:28:30.246066Z",
     "shell.execute_reply.started": "2021-04-12T04:28:29.544821Z"
    }
   },
   "outputs": [
    {
     "name": "stdout",
     "output_type": "stream",
     "text": [
      "Model =  Linear Regression\n",
      "MSE:  12.61141778425109\n",
      "MAE:  2.6353469175079067\n",
      "-------------------\n",
      "Model =  RF regressor\n",
      "MSE:  13.119749834663319\n",
      "MAE:  2.7480805670297923\n",
      "-------------------\n",
      "Model =  GBT\n",
      "MSE:  11.820899860133773\n",
      "MAE:  2.5920493825573407\n",
      "-------------------\n",
      "Model =  LASSO\n",
      "MSE:  13.220276594929674\n",
      "MAE:  2.7609171328339985\n",
      "-------------------\n",
      "Model =  Ridge\n",
      "MSE:  12.609519920705266\n",
      "MAE:  2.636023819787706\n",
      "-------------------\n"
     ]
    }
   ],
   "source": [
    "#Import models' packages\n",
    "from sklearn.linear_model import LinearRegression\n",
    "from sklearn.ensemble import RandomForestRegressor\n",
    "from sklearn.ensemble import GradientBoostingRegressor\n",
    "from sklearn.linear_model import Lasso\n",
    "from sklearn.linear_model import Ridge\n",
    "from sklearn.metrics import mean_squared_error, mean_absolute_error\n",
    "\n",
    "\n",
    "#Regression Models\n",
    "regression_models = [['Linear Regression',LinearRegression()], \n",
    "                     ['RF regressor',RandomForestRegressor()], \n",
    "                     ['GBT',GradientBoostingRegressor()],\n",
    "                     ['LASSO', Lasso()],\n",
    "                     ['Ridge', Ridge()]]\n",
    "                     \n",
    "\n",
    "MSEs = []\n",
    "MAEs = []\n",
    "MAEs = []\n",
    "Models = ['Linear Regression', 'Random Forest Regressor', 'Gradient Boosting Regressor', 'Lasso', 'Ridge']\n",
    "\n",
    "for name, model in regression_models: \n",
    "    print('Model = ', name)\n",
    "    model.fit(X_train, y_train.values.ravel())\n",
    "    y_test_pred = model.predict(X_test)\n",
    "    \n",
    "    MSE = mean_squared_error(y_test, y_test_pred)\n",
    "    MAE = mean_absolute_error(y_test, y_test_pred)\n",
    "    \n",
    "    MSEs.append(MSE)\n",
    "    MAEs.append(MAE)\n",
    "    print(\"MSE: \", MSE)\n",
    "    print(\"MAE: \", MAE)\n",
    "    print(\"-\" * 19)"
   ]
  },
  {
   "cell_type": "markdown",
   "metadata": {},
   "source": [
    "## Model 3: Generate New Variables for XGBoost"
   ]
  },
  {
   "cell_type": "markdown",
   "metadata": {},
   "source": [
    "Similar to above, we create a model with new lagged variables. However, now we introduce a greater set of variables, such as the humidity, wind direction, pressure, cloud, rain, and mist status of the time step before. \n",
    "\n",
    "We see after evaluating the model that it actually performs slightly worse than the XGBoost model with fewer variables (MAE = 0.62 vs. 0.61). "
   ]
  },
  {
   "cell_type": "code",
   "execution_count": 24,
   "metadata": {
    "execution": {
     "iopub.execute_input": "2021-04-12T04:22:56.511412Z",
     "iopub.status.busy": "2021-04-12T04:22:56.511108Z",
     "iopub.status.idle": "2021-04-12T04:22:56.543044Z",
     "shell.execute_reply": "2021-04-12T04:22:56.542448Z",
     "shell.execute_reply.started": "2021-04-12T04:22:56.511379Z"
    }
   },
   "outputs": [],
   "source": [
    "#CREATE LAGGED ATTRIBUTES \n",
    "ml_df = weather_df.copy()\n",
    "ml_df['date'] = ml_df.index\n",
    "ml_df['month'] = ml_df['date'].dt.day\n",
    "ml_df['month'] = ml_df['date'].dt.month\n",
    "ml_df['year'] = ml_df['date'].dt.year\n",
    "\n",
    "ml_df['Temp_lag1'] = ml_df['Temperature'].shift(periods = 1, fill_value = 0)\n",
    "ml_df['Temp_lag2'] = ml_df['Temperature'].shift(periods = 2, fill_value = 0)\n",
    "ml_df['Temp_lag12'] = ml_df['Temperature'].shift(periods = 12, fill_value = 0)\n",
    "ml_df['Temp_lag24'] = ml_df['Temperature'].shift(periods = 24, fill_value = 0)\n",
    "\n",
    "ml_df['Humidity_lag1'] = ml_df['Humidity'].shift(periods = 1, fill_value = 0)\n",
    "ml_df['Humidity_lag2'] = ml_df['Humidity'].shift(periods = 2, fill_value = 0)\n",
    "ml_df['Humidity_lag12'] = ml_df['Humidity'].shift(periods = 12, fill_value = 0)\n",
    "ml_df['Humidity_lag24'] = ml_df['Humidity'].shift(periods = 24, fill_value = 0)\n",
    "\n",
    "ml_df['Wind_Direction_lag1'] = ml_df['Wind Direction'].shift(periods = 1, fill_value = 0)\n",
    "ml_df['Pressure_lag1'] = ml_df['Pressure'].shift(periods = 1, fill_value = 0)\n",
    "ml_df['Wind_Speed_lag1'] = ml_df['Wind Speed'].shift(periods = 1, fill_value = 0)\n",
    "ml_df['clouds_lag1'] = ml_df['clouds'].shift(periods = 1, fill_value = 0)\n",
    "ml_df['rain_lag1'] = ml_df['rain'].shift(periods = 1, fill_value = 0)\n",
    "ml_df['mist_lag1'] = ml_df['mist'].shift(periods = 1, fill_value = 0)\n",
    "ml_df['snow_lag1'] = ml_df['snow'].shift(periods = 1, fill_value = 0)\n",
    "ml_df['shower_lag1'] = ml_df['shower'].shift(periods = 1, fill_value = 0)\n",
    "ml_df['thunderstorm_lag1'] = ml_df['thunderstorm'].shift(periods = 1, fill_value = 0)\n",
    "ml_df['fog_lag1'] = ml_df['fog'].shift(periods = 1, fill_value = 0)\n",
    "ml_df['other_lag1'] = ml_df['other'].shift(periods = 1, fill_value = 0)\n",
    "ml_df['intensity_lag1'] = ml_df['Intensity'].shift(periods = 1, fill_value = 0)"
   ]
  },
  {
   "cell_type": "code",
   "execution_count": 25,
   "metadata": {
    "execution": {
     "iopub.execute_input": "2021-04-12T04:22:56.544460Z",
     "iopub.status.busy": "2021-04-12T04:22:56.544162Z",
     "iopub.status.idle": "2021-04-12T04:22:57.729091Z",
     "shell.execute_reply": "2021-04-12T04:22:57.728342Z",
     "shell.execute_reply.started": "2021-04-12T04:22:56.544425Z"
    }
   },
   "outputs": [],
   "source": [
    "ml_df['avg_temp'] = 0 \n",
    "for i in range(1, len(ml_df)):\n",
    "    ml_df['avg_temp'][i] = ml_df['Temp_lag1'][:i+1].mean()\n",
    "    \n",
    "#we have to eliminate all those with 0s\n",
    "ml_df = ml_df[ml_df['Temp_lag24'] != 0]"
   ]
  },
  {
   "cell_type": "code",
   "execution_count": 26,
   "metadata": {
    "execution": {
     "iopub.execute_input": "2021-04-12T04:22:57.730566Z",
     "iopub.status.busy": "2021-04-12T04:22:57.730377Z",
     "iopub.status.idle": "2021-04-12T04:22:57.735694Z",
     "shell.execute_reply": "2021-04-12T04:22:57.734868Z",
     "shell.execute_reply.started": "2021-04-12T04:22:57.730545Z"
    }
   },
   "outputs": [],
   "source": [
    "ml_df.drop(['Humidity','Pressure','Wind Direction','Wind Speed','clouds','rain','mist','snow','shower','thunderstorm','fog','other','Intensity','date'], axis = 1, inplace = True)"
   ]
  },
  {
   "cell_type": "code",
   "execution_count": 27,
   "metadata": {
    "execution": {
     "iopub.execute_input": "2021-04-12T04:22:57.737253Z",
     "iopub.status.busy": "2021-04-12T04:22:57.736966Z",
     "iopub.status.idle": "2021-04-12T04:22:57.776898Z",
     "shell.execute_reply": "2021-04-12T04:22:57.776353Z",
     "shell.execute_reply.started": "2021-04-12T04:22:57.737214Z"
    }
   },
   "outputs": [
    {
     "data": {
      "text/html": [
       "<div>\n",
       "<style scoped>\n",
       "    .dataframe tbody tr th:only-of-type {\n",
       "        vertical-align: middle;\n",
       "    }\n",
       "\n",
       "    .dataframe tbody tr th {\n",
       "        vertical-align: top;\n",
       "    }\n",
       "\n",
       "    .dataframe thead th {\n",
       "        text-align: right;\n",
       "    }\n",
       "</style>\n",
       "<table border=\"1\" class=\"dataframe\">\n",
       "  <thead>\n",
       "    <tr style=\"text-align: right;\">\n",
       "      <th></th>\n",
       "      <th>Temperature</th>\n",
       "      <th>month</th>\n",
       "      <th>year</th>\n",
       "      <th>Temp_lag1</th>\n",
       "      <th>Temp_lag2</th>\n",
       "      <th>Temp_lag12</th>\n",
       "      <th>Temp_lag24</th>\n",
       "      <th>Humidity_lag1</th>\n",
       "      <th>Humidity_lag2</th>\n",
       "      <th>Humidity_lag12</th>\n",
       "      <th>...</th>\n",
       "      <th>clouds_lag1</th>\n",
       "      <th>rain_lag1</th>\n",
       "      <th>mist_lag1</th>\n",
       "      <th>snow_lag1</th>\n",
       "      <th>shower_lag1</th>\n",
       "      <th>thunderstorm_lag1</th>\n",
       "      <th>fog_lag1</th>\n",
       "      <th>other_lag1</th>\n",
       "      <th>intensity_lag1</th>\n",
       "      <th>avg_temp</th>\n",
       "    </tr>\n",
       "    <tr>\n",
       "      <th>datetime</th>\n",
       "      <th></th>\n",
       "      <th></th>\n",
       "      <th></th>\n",
       "      <th></th>\n",
       "      <th></th>\n",
       "      <th></th>\n",
       "      <th></th>\n",
       "      <th></th>\n",
       "      <th></th>\n",
       "      <th></th>\n",
       "      <th></th>\n",
       "      <th></th>\n",
       "      <th></th>\n",
       "      <th></th>\n",
       "      <th></th>\n",
       "      <th></th>\n",
       "      <th></th>\n",
       "      <th></th>\n",
       "      <th></th>\n",
       "      <th></th>\n",
       "      <th></th>\n",
       "    </tr>\n",
       "  </thead>\n",
       "  <tbody>\n",
       "    <tr>\n",
       "      <th>2012-10-25</th>\n",
       "      <td>5.640833</td>\n",
       "      <td>10</td>\n",
       "      <td>2012</td>\n",
       "      <td>7.940208</td>\n",
       "      <td>10.244167</td>\n",
       "      <td>6.362917</td>\n",
       "      <td>12.737980</td>\n",
       "      <td>76.875000</td>\n",
       "      <td>68.750000</td>\n",
       "      <td>67.163461</td>\n",
       "      <td>...</td>\n",
       "      <td>0.708333</td>\n",
       "      <td>0.000000</td>\n",
       "      <td>0.000000</td>\n",
       "      <td>0.000000</td>\n",
       "      <td>0.000000</td>\n",
       "      <td>0.0</td>\n",
       "      <td>0.000000</td>\n",
       "      <td>0.0</td>\n",
       "      <td>1.208333</td>\n",
       "      <td>9</td>\n",
       "    </tr>\n",
       "    <tr>\n",
       "      <th>2012-10-26</th>\n",
       "      <td>7.557917</td>\n",
       "      <td>10</td>\n",
       "      <td>2012</td>\n",
       "      <td>5.640833</td>\n",
       "      <td>7.940208</td>\n",
       "      <td>3.591667</td>\n",
       "      <td>13.787931</td>\n",
       "      <td>61.893590</td>\n",
       "      <td>76.875000</td>\n",
       "      <td>69.396153</td>\n",
       "      <td>...</td>\n",
       "      <td>0.666667</td>\n",
       "      <td>0.041667</td>\n",
       "      <td>0.000000</td>\n",
       "      <td>0.000000</td>\n",
       "      <td>0.000000</td>\n",
       "      <td>0.0</td>\n",
       "      <td>0.000000</td>\n",
       "      <td>0.0</td>\n",
       "      <td>1.208333</td>\n",
       "      <td>9</td>\n",
       "    </tr>\n",
       "    <tr>\n",
       "      <th>2012-10-27</th>\n",
       "      <td>11.835000</td>\n",
       "      <td>10</td>\n",
       "      <td>2012</td>\n",
       "      <td>7.557917</td>\n",
       "      <td>5.640833</td>\n",
       "      <td>5.983750</td>\n",
       "      <td>14.224583</td>\n",
       "      <td>64.472436</td>\n",
       "      <td>61.893590</td>\n",
       "      <td>73.532692</td>\n",
       "      <td>...</td>\n",
       "      <td>0.750000</td>\n",
       "      <td>0.000000</td>\n",
       "      <td>0.000000</td>\n",
       "      <td>0.000000</td>\n",
       "      <td>0.000000</td>\n",
       "      <td>0.0</td>\n",
       "      <td>0.000000</td>\n",
       "      <td>0.0</td>\n",
       "      <td>1.416667</td>\n",
       "      <td>9</td>\n",
       "    </tr>\n",
       "    <tr>\n",
       "      <th>2012-10-28</th>\n",
       "      <td>12.535000</td>\n",
       "      <td>10</td>\n",
       "      <td>2012</td>\n",
       "      <td>11.835000</td>\n",
       "      <td>7.557917</td>\n",
       "      <td>11.929583</td>\n",
       "      <td>13.710833</td>\n",
       "      <td>72.378846</td>\n",
       "      <td>64.472436</td>\n",
       "      <td>79.169230</td>\n",
       "      <td>...</td>\n",
       "      <td>0.041667</td>\n",
       "      <td>0.000000</td>\n",
       "      <td>0.000000</td>\n",
       "      <td>0.000000</td>\n",
       "      <td>0.000000</td>\n",
       "      <td>0.0</td>\n",
       "      <td>0.000000</td>\n",
       "      <td>0.0</td>\n",
       "      <td>0.083333</td>\n",
       "      <td>9</td>\n",
       "    </tr>\n",
       "    <tr>\n",
       "      <th>2012-10-29</th>\n",
       "      <td>11.157500</td>\n",
       "      <td>10</td>\n",
       "      <td>2012</td>\n",
       "      <td>12.535000</td>\n",
       "      <td>11.835000</td>\n",
       "      <td>8.533333</td>\n",
       "      <td>14.385208</td>\n",
       "      <td>75.848717</td>\n",
       "      <td>72.378846</td>\n",
       "      <td>71.348717</td>\n",
       "      <td>...</td>\n",
       "      <td>0.041667</td>\n",
       "      <td>0.000000</td>\n",
       "      <td>0.250000</td>\n",
       "      <td>0.000000</td>\n",
       "      <td>0.000000</td>\n",
       "      <td>0.0</td>\n",
       "      <td>0.000000</td>\n",
       "      <td>0.0</td>\n",
       "      <td>0.750000</td>\n",
       "      <td>9</td>\n",
       "    </tr>\n",
       "    <tr>\n",
       "      <th>...</th>\n",
       "      <td>...</td>\n",
       "      <td>...</td>\n",
       "      <td>...</td>\n",
       "      <td>...</td>\n",
       "      <td>...</td>\n",
       "      <td>...</td>\n",
       "      <td>...</td>\n",
       "      <td>...</td>\n",
       "      <td>...</td>\n",
       "      <td>...</td>\n",
       "      <td>...</td>\n",
       "      <td>...</td>\n",
       "      <td>...</td>\n",
       "      <td>...</td>\n",
       "      <td>...</td>\n",
       "      <td>...</td>\n",
       "      <td>...</td>\n",
       "      <td>...</td>\n",
       "      <td>...</td>\n",
       "      <td>...</td>\n",
       "      <td>...</td>\n",
       "    </tr>\n",
       "    <tr>\n",
       "      <th>2017-11-26</th>\n",
       "      <td>0.257083</td>\n",
       "      <td>11</td>\n",
       "      <td>2017</td>\n",
       "      <td>4.567917</td>\n",
       "      <td>2.073750</td>\n",
       "      <td>0.546250</td>\n",
       "      <td>7.710833</td>\n",
       "      <td>74.458333</td>\n",
       "      <td>74.708333</td>\n",
       "      <td>78.916667</td>\n",
       "      <td>...</td>\n",
       "      <td>0.583333</td>\n",
       "      <td>0.250000</td>\n",
       "      <td>0.166667</td>\n",
       "      <td>0.000000</td>\n",
       "      <td>0.000000</td>\n",
       "      <td>0.0</td>\n",
       "      <td>0.000000</td>\n",
       "      <td>0.0</td>\n",
       "      <td>1.708333</td>\n",
       "      <td>7</td>\n",
       "    </tr>\n",
       "    <tr>\n",
       "      <th>2017-11-27</th>\n",
       "      <td>-4.045833</td>\n",
       "      <td>11</td>\n",
       "      <td>2017</td>\n",
       "      <td>0.257083</td>\n",
       "      <td>4.567917</td>\n",
       "      <td>0.855417</td>\n",
       "      <td>12.654583</td>\n",
       "      <td>78.166667</td>\n",
       "      <td>74.458333</td>\n",
       "      <td>75.000000</td>\n",
       "      <td>...</td>\n",
       "      <td>0.500000</td>\n",
       "      <td>0.166667</td>\n",
       "      <td>0.000000</td>\n",
       "      <td>0.333333</td>\n",
       "      <td>0.041667</td>\n",
       "      <td>0.0</td>\n",
       "      <td>0.000000</td>\n",
       "      <td>0.0</td>\n",
       "      <td>1.708333</td>\n",
       "      <td>7</td>\n",
       "    </tr>\n",
       "    <tr>\n",
       "      <th>2017-11-28</th>\n",
       "      <td>-6.990958</td>\n",
       "      <td>11</td>\n",
       "      <td>2017</td>\n",
       "      <td>-4.045833</td>\n",
       "      <td>0.257083</td>\n",
       "      <td>4.647500</td>\n",
       "      <td>3.622083</td>\n",
       "      <td>74.125000</td>\n",
       "      <td>78.166667</td>\n",
       "      <td>72.750000</td>\n",
       "      <td>...</td>\n",
       "      <td>0.458333</td>\n",
       "      <td>0.000000</td>\n",
       "      <td>0.000000</td>\n",
       "      <td>0.541667</td>\n",
       "      <td>0.041667</td>\n",
       "      <td>0.0</td>\n",
       "      <td>0.000000</td>\n",
       "      <td>0.0</td>\n",
       "      <td>1.541667</td>\n",
       "      <td>7</td>\n",
       "    </tr>\n",
       "    <tr>\n",
       "      <th>2017-11-29</th>\n",
       "      <td>2.847917</td>\n",
       "      <td>11</td>\n",
       "      <td>2017</td>\n",
       "      <td>-6.990958</td>\n",
       "      <td>-4.045833</td>\n",
       "      <td>0.323750</td>\n",
       "      <td>4.995833</td>\n",
       "      <td>64.833333</td>\n",
       "      <td>74.125000</td>\n",
       "      <td>72.291667</td>\n",
       "      <td>...</td>\n",
       "      <td>0.958333</td>\n",
       "      <td>0.000000</td>\n",
       "      <td>0.000000</td>\n",
       "      <td>0.000000</td>\n",
       "      <td>0.000000</td>\n",
       "      <td>0.0</td>\n",
       "      <td>0.000000</td>\n",
       "      <td>0.0</td>\n",
       "      <td>1.958333</td>\n",
       "      <td>7</td>\n",
       "    </tr>\n",
       "    <tr>\n",
       "      <th>2017-11-30</th>\n",
       "      <td>-1.350000</td>\n",
       "      <td>11</td>\n",
       "      <td>2017</td>\n",
       "      <td>2.847917</td>\n",
       "      <td>-6.990958</td>\n",
       "      <td>-3.420833</td>\n",
       "      <td>11.671667</td>\n",
       "      <td>75.375000</td>\n",
       "      <td>64.833333</td>\n",
       "      <td>70.875000</td>\n",
       "      <td>...</td>\n",
       "      <td>0.666667</td>\n",
       "      <td>0.208333</td>\n",
       "      <td>0.041667</td>\n",
       "      <td>0.000000</td>\n",
       "      <td>0.041667</td>\n",
       "      <td>0.0</td>\n",
       "      <td>0.083333</td>\n",
       "      <td>0.0</td>\n",
       "      <td>1.875000</td>\n",
       "      <td>7</td>\n",
       "    </tr>\n",
       "  </tbody>\n",
       "</table>\n",
       "<p>1863 rows × 24 columns</p>\n",
       "</div>"
      ],
      "text/plain": [
       "            Temperature  month  year  Temp_lag1  Temp_lag2  Temp_lag12  \\\n",
       "datetime                                                                 \n",
       "2012-10-25     5.640833     10  2012   7.940208  10.244167    6.362917   \n",
       "2012-10-26     7.557917     10  2012   5.640833   7.940208    3.591667   \n",
       "2012-10-27    11.835000     10  2012   7.557917   5.640833    5.983750   \n",
       "2012-10-28    12.535000     10  2012  11.835000   7.557917   11.929583   \n",
       "2012-10-29    11.157500     10  2012  12.535000  11.835000    8.533333   \n",
       "...                 ...    ...   ...        ...        ...         ...   \n",
       "2017-11-26     0.257083     11  2017   4.567917   2.073750    0.546250   \n",
       "2017-11-27    -4.045833     11  2017   0.257083   4.567917    0.855417   \n",
       "2017-11-28    -6.990958     11  2017  -4.045833   0.257083    4.647500   \n",
       "2017-11-29     2.847917     11  2017  -6.990958  -4.045833    0.323750   \n",
       "2017-11-30    -1.350000     11  2017   2.847917  -6.990958   -3.420833   \n",
       "\n",
       "            Temp_lag24  Humidity_lag1  Humidity_lag2  Humidity_lag12  ...  \\\n",
       "datetime                                                              ...   \n",
       "2012-10-25   12.737980      76.875000      68.750000       67.163461  ...   \n",
       "2012-10-26   13.787931      61.893590      76.875000       69.396153  ...   \n",
       "2012-10-27   14.224583      64.472436      61.893590       73.532692  ...   \n",
       "2012-10-28   13.710833      72.378846      64.472436       79.169230  ...   \n",
       "2012-10-29   14.385208      75.848717      72.378846       71.348717  ...   \n",
       "...                ...            ...            ...             ...  ...   \n",
       "2017-11-26    7.710833      74.458333      74.708333       78.916667  ...   \n",
       "2017-11-27   12.654583      78.166667      74.458333       75.000000  ...   \n",
       "2017-11-28    3.622083      74.125000      78.166667       72.750000  ...   \n",
       "2017-11-29    4.995833      64.833333      74.125000       72.291667  ...   \n",
       "2017-11-30   11.671667      75.375000      64.833333       70.875000  ...   \n",
       "\n",
       "            clouds_lag1  rain_lag1  mist_lag1  snow_lag1  shower_lag1  \\\n",
       "datetime                                                                \n",
       "2012-10-25     0.708333   0.000000   0.000000   0.000000     0.000000   \n",
       "2012-10-26     0.666667   0.041667   0.000000   0.000000     0.000000   \n",
       "2012-10-27     0.750000   0.000000   0.000000   0.000000     0.000000   \n",
       "2012-10-28     0.041667   0.000000   0.000000   0.000000     0.000000   \n",
       "2012-10-29     0.041667   0.000000   0.250000   0.000000     0.000000   \n",
       "...                 ...        ...        ...        ...          ...   \n",
       "2017-11-26     0.583333   0.250000   0.166667   0.000000     0.000000   \n",
       "2017-11-27     0.500000   0.166667   0.000000   0.333333     0.041667   \n",
       "2017-11-28     0.458333   0.000000   0.000000   0.541667     0.041667   \n",
       "2017-11-29     0.958333   0.000000   0.000000   0.000000     0.000000   \n",
       "2017-11-30     0.666667   0.208333   0.041667   0.000000     0.041667   \n",
       "\n",
       "            thunderstorm_lag1  fog_lag1  other_lag1  intensity_lag1  avg_temp  \n",
       "datetime                                                                       \n",
       "2012-10-25                0.0  0.000000         0.0        1.208333         9  \n",
       "2012-10-26                0.0  0.000000         0.0        1.208333         9  \n",
       "2012-10-27                0.0  0.000000         0.0        1.416667         9  \n",
       "2012-10-28                0.0  0.000000         0.0        0.083333         9  \n",
       "2012-10-29                0.0  0.000000         0.0        0.750000         9  \n",
       "...                       ...       ...         ...             ...       ...  \n",
       "2017-11-26                0.0  0.000000         0.0        1.708333         7  \n",
       "2017-11-27                0.0  0.000000         0.0        1.708333         7  \n",
       "2017-11-28                0.0  0.000000         0.0        1.541667         7  \n",
       "2017-11-29                0.0  0.000000         0.0        1.958333         7  \n",
       "2017-11-30                0.0  0.083333         0.0        1.875000         7  \n",
       "\n",
       "[1863 rows x 24 columns]"
      ]
     },
     "execution_count": 27,
     "metadata": {},
     "output_type": "execute_result"
    }
   ],
   "source": [
    "ml_df"
   ]
  },
  {
   "cell_type": "code",
   "execution_count": 28,
   "metadata": {
    "execution": {
     "iopub.execute_input": "2021-04-12T04:26:55.451175Z",
     "iopub.status.busy": "2021-04-12T04:26:55.450937Z",
     "iopub.status.idle": "2021-04-12T04:26:55.457667Z",
     "shell.execute_reply": "2021-04-12T04:26:55.456926Z",
     "shell.execute_reply.started": "2021-04-12T04:26:55.451149Z"
    }
   },
   "outputs": [],
   "source": [
    "y = ml_df[['Temperature']]\n",
    "X = ml_df.drop('Temperature', axis =1)"
   ]
  },
  {
   "cell_type": "markdown",
   "metadata": {},
   "source": [
    "**Split Data**\n",
    "\n",
    "Here, we split the data in sequence of time, since the data is a time series. "
   ]
  },
  {
   "cell_type": "code",
   "execution_count": 29,
   "metadata": {
    "execution": {
     "iopub.execute_input": "2021-04-12T04:26:56.067297Z",
     "iopub.status.busy": "2021-04-12T04:26:56.067039Z",
     "iopub.status.idle": "2021-04-12T04:26:56.072067Z",
     "shell.execute_reply": "2021-04-12T04:26:56.071204Z",
     "shell.execute_reply.started": "2021-04-12T04:26:56.067268Z"
    }
   },
   "outputs": [],
   "source": [
    "def train_test_split(data, n_test):\n",
    "    return data[:n_test], data[n_test:]\n",
    "\n",
    "split_len = int(len(ml_df)*0.75)\n",
    "\n",
    "X_train, X_test = train_test_split(X, split_len)\n",
    "y_train, y_test = train_test_split(y, split_len)"
   ]
  },
  {
   "cell_type": "markdown",
   "metadata": {},
   "source": [
    "**Standardize Variables**"
   ]
  },
  {
   "cell_type": "code",
   "execution_count": 30,
   "metadata": {
    "execution": {
     "iopub.execute_input": "2021-04-12T04:26:56.425479Z",
     "iopub.status.busy": "2021-04-12T04:26:56.425222Z",
     "iopub.status.idle": "2021-04-12T04:26:56.439881Z",
     "shell.execute_reply": "2021-04-12T04:26:56.439298Z",
     "shell.execute_reply.started": "2021-04-12T04:26:56.425450Z"
    }
   },
   "outputs": [],
   "source": [
    "from sklearn.preprocessing import StandardScaler\n",
    "\n",
    "scaler = StandardScaler()\n",
    "X_train_scaled = scaler.fit_transform(X_train)\n",
    "X_train = pd.DataFrame(X_train_scaled)\n",
    "X_train.columns = X.columns\n",
    "\n",
    "X_test_scaled = scaler.transform(X_test)\n",
    "X_test = pd.DataFrame(X_test_scaled)\n",
    "X_test.columns = X.columns"
   ]
  },
  {
   "cell_type": "markdown",
   "metadata": {},
   "source": [
    "**Run XGBoost Model and generate MAE**"
   ]
  },
  {
   "cell_type": "code",
   "execution_count": 31,
   "metadata": {
    "execution": {
     "iopub.execute_input": "2021-04-12T04:26:56.880218Z",
     "iopub.status.busy": "2021-04-12T04:26:56.879588Z",
     "iopub.status.idle": "2021-04-12T04:26:56.915371Z",
     "shell.execute_reply": "2021-04-12T04:26:56.913280Z",
     "shell.execute_reply.started": "2021-04-12T04:26:56.880176Z"
    }
   },
   "outputs": [
    {
     "ename": "XGBoostError",
     "evalue": "[13:00:11] C:\\Users\\Administrator\\workspace\\xgboost-win64_release_1.3.0\\src\\metric\\metric.cc:49: Unknown metric function MAE",
     "output_type": "error",
     "traceback": [
      "\u001b[1;31m---------------------------------------------------------------------------\u001b[0m",
      "\u001b[1;31mXGBoostError\u001b[0m                              Traceback (most recent call last)",
      "\u001b[1;32m<ipython-input-31-7bd4e38d273e>\u001b[0m in \u001b[0;36m<module>\u001b[1;34m\u001b[0m\n\u001b[0;32m      6\u001b[0m         \u001b[0meval_metric\u001b[0m \u001b[1;33m=\u001b[0m \u001b[1;34m'MAE'\u001b[0m\u001b[1;33m,\u001b[0m\u001b[1;33m\u001b[0m\u001b[1;33m\u001b[0m\u001b[0m\n\u001b[0;32m      7\u001b[0m         \u001b[0mearly_stopping_rounds\u001b[0m\u001b[1;33m=\u001b[0m\u001b[1;36m50\u001b[0m\u001b[1;33m,\u001b[0m\u001b[1;33m\u001b[0m\u001b[1;33m\u001b[0m\u001b[0m\n\u001b[1;32m----> 8\u001b[1;33m        verbose=False) \n\u001b[0m\u001b[0;32m      9\u001b[0m \u001b[1;33m\u001b[0m\u001b[0m\n\u001b[0;32m     10\u001b[0m \u001b[0mpred\u001b[0m \u001b[1;33m=\u001b[0m \u001b[0mxgb_model\u001b[0m\u001b[1;33m.\u001b[0m\u001b[0mpredict\u001b[0m\u001b[1;33m(\u001b[0m\u001b[0mX_test\u001b[0m\u001b[1;33m)\u001b[0m\u001b[1;33m\u001b[0m\u001b[1;33m\u001b[0m\u001b[0m\n",
      "\u001b[1;32m~\\anaconda3\\lib\\site-packages\\xgboost\\core.py\u001b[0m in \u001b[0;36minner_f\u001b[1;34m(*args, **kwargs)\u001b[0m\n\u001b[0;32m    420\u001b[0m         \u001b[1;32mfor\u001b[0m \u001b[0mk\u001b[0m\u001b[1;33m,\u001b[0m \u001b[0marg\u001b[0m \u001b[1;32min\u001b[0m \u001b[0mzip\u001b[0m\u001b[1;33m(\u001b[0m\u001b[0msig\u001b[0m\u001b[1;33m.\u001b[0m\u001b[0mparameters\u001b[0m\u001b[1;33m,\u001b[0m \u001b[0margs\u001b[0m\u001b[1;33m)\u001b[0m\u001b[1;33m:\u001b[0m\u001b[1;33m\u001b[0m\u001b[1;33m\u001b[0m\u001b[0m\n\u001b[0;32m    421\u001b[0m             \u001b[0mkwargs\u001b[0m\u001b[1;33m[\u001b[0m\u001b[0mk\u001b[0m\u001b[1;33m]\u001b[0m \u001b[1;33m=\u001b[0m \u001b[0marg\u001b[0m\u001b[1;33m\u001b[0m\u001b[1;33m\u001b[0m\u001b[0m\n\u001b[1;32m--> 422\u001b[1;33m         \u001b[1;32mreturn\u001b[0m \u001b[0mf\u001b[0m\u001b[1;33m(\u001b[0m\u001b[1;33m**\u001b[0m\u001b[0mkwargs\u001b[0m\u001b[1;33m)\u001b[0m\u001b[1;33m\u001b[0m\u001b[1;33m\u001b[0m\u001b[0m\n\u001b[0m\u001b[0;32m    423\u001b[0m \u001b[1;33m\u001b[0m\u001b[0m\n\u001b[0;32m    424\u001b[0m     \u001b[1;32mreturn\u001b[0m \u001b[0minner_f\u001b[0m\u001b[1;33m\u001b[0m\u001b[1;33m\u001b[0m\u001b[0m\n",
      "\u001b[1;32m~\\anaconda3\\lib\\site-packages\\xgboost\\sklearn.py\u001b[0m in \u001b[0;36mfit\u001b[1;34m(self, X, y, sample_weight, base_margin, eval_set, eval_metric, early_stopping_rounds, verbose, xgb_model, sample_weight_eval_set, feature_weights, callbacks)\u001b[0m\n\u001b[0;32m    601\u001b[0m                               \u001b[0mobj\u001b[0m\u001b[1;33m=\u001b[0m\u001b[0mobj\u001b[0m\u001b[1;33m,\u001b[0m \u001b[0mfeval\u001b[0m\u001b[1;33m=\u001b[0m\u001b[0mfeval\u001b[0m\u001b[1;33m,\u001b[0m\u001b[1;33m\u001b[0m\u001b[1;33m\u001b[0m\u001b[0m\n\u001b[0;32m    602\u001b[0m                               \u001b[0mverbose_eval\u001b[0m\u001b[1;33m=\u001b[0m\u001b[0mverbose\u001b[0m\u001b[1;33m,\u001b[0m \u001b[0mxgb_model\u001b[0m\u001b[1;33m=\u001b[0m\u001b[0mxgb_model\u001b[0m\u001b[1;33m,\u001b[0m\u001b[1;33m\u001b[0m\u001b[1;33m\u001b[0m\u001b[0m\n\u001b[1;32m--> 603\u001b[1;33m                               callbacks=callbacks)\n\u001b[0m\u001b[0;32m    604\u001b[0m \u001b[1;33m\u001b[0m\u001b[0m\n\u001b[0;32m    605\u001b[0m         \u001b[0mself\u001b[0m\u001b[1;33m.\u001b[0m\u001b[0m_set_evaluation_result\u001b[0m\u001b[1;33m(\u001b[0m\u001b[0mevals_result\u001b[0m\u001b[1;33m)\u001b[0m\u001b[1;33m\u001b[0m\u001b[1;33m\u001b[0m\u001b[0m\n",
      "\u001b[1;32m~\\anaconda3\\lib\\site-packages\\xgboost\\training.py\u001b[0m in \u001b[0;36mtrain\u001b[1;34m(params, dtrain, num_boost_round, evals, obj, feval, maximize, early_stopping_rounds, evals_result, verbose_eval, xgb_model, callbacks)\u001b[0m\n\u001b[0;32m    233\u001b[0m                           \u001b[0mevals_result\u001b[0m\u001b[1;33m=\u001b[0m\u001b[0mevals_result\u001b[0m\u001b[1;33m,\u001b[0m\u001b[1;33m\u001b[0m\u001b[1;33m\u001b[0m\u001b[0m\n\u001b[0;32m    234\u001b[0m                           \u001b[0mmaximize\u001b[0m\u001b[1;33m=\u001b[0m\u001b[0mmaximize\u001b[0m\u001b[1;33m,\u001b[0m\u001b[1;33m\u001b[0m\u001b[1;33m\u001b[0m\u001b[0m\n\u001b[1;32m--> 235\u001b[1;33m                           early_stopping_rounds=early_stopping_rounds)\n\u001b[0m\u001b[0;32m    236\u001b[0m     \u001b[1;32mreturn\u001b[0m \u001b[0mbst\u001b[0m\u001b[1;33m\u001b[0m\u001b[1;33m\u001b[0m\u001b[0m\n\u001b[0;32m    237\u001b[0m \u001b[1;33m\u001b[0m\u001b[0m\n",
      "\u001b[1;32m~\\anaconda3\\lib\\site-packages\\xgboost\\training.py\u001b[0m in \u001b[0;36m_train_internal\u001b[1;34m(params, dtrain, num_boost_round, evals, obj, feval, xgb_model, callbacks, evals_result, maximize, verbose_eval, early_stopping_rounds)\u001b[0m\n\u001b[0;32m    100\u001b[0m         \u001b[1;31m# Skip the first update if it is a recovery step.\u001b[0m\u001b[1;33m\u001b[0m\u001b[1;33m\u001b[0m\u001b[1;33m\u001b[0m\u001b[0m\n\u001b[0;32m    101\u001b[0m         \u001b[1;32mif\u001b[0m \u001b[0mversion\u001b[0m \u001b[1;33m%\u001b[0m \u001b[1;36m2\u001b[0m \u001b[1;33m==\u001b[0m \u001b[1;36m0\u001b[0m\u001b[1;33m:\u001b[0m\u001b[1;33m\u001b[0m\u001b[1;33m\u001b[0m\u001b[0m\n\u001b[1;32m--> 102\u001b[1;33m             \u001b[0mbst\u001b[0m\u001b[1;33m.\u001b[0m\u001b[0mupdate\u001b[0m\u001b[1;33m(\u001b[0m\u001b[0mdtrain\u001b[0m\u001b[1;33m,\u001b[0m \u001b[0mi\u001b[0m\u001b[1;33m,\u001b[0m \u001b[0mobj\u001b[0m\u001b[1;33m)\u001b[0m\u001b[1;33m\u001b[0m\u001b[1;33m\u001b[0m\u001b[0m\n\u001b[0m\u001b[0;32m    103\u001b[0m             \u001b[0mbst\u001b[0m\u001b[1;33m.\u001b[0m\u001b[0msave_rabit_checkpoint\u001b[0m\u001b[1;33m(\u001b[0m\u001b[1;33m)\u001b[0m\u001b[1;33m\u001b[0m\u001b[1;33m\u001b[0m\u001b[0m\n\u001b[0;32m    104\u001b[0m             \u001b[0mversion\u001b[0m \u001b[1;33m+=\u001b[0m \u001b[1;36m1\u001b[0m\u001b[1;33m\u001b[0m\u001b[1;33m\u001b[0m\u001b[0m\n",
      "\u001b[1;32m~\\anaconda3\\lib\\site-packages\\xgboost\\core.py\u001b[0m in \u001b[0;36mupdate\u001b[1;34m(self, dtrain, iteration, fobj)\u001b[0m\n\u001b[0;32m   1280\u001b[0m             _check_call(_LIB.XGBoosterUpdateOneIter(self.handle,\n\u001b[0;32m   1281\u001b[0m                                                     \u001b[0mctypes\u001b[0m\u001b[1;33m.\u001b[0m\u001b[0mc_int\u001b[0m\u001b[1;33m(\u001b[0m\u001b[0miteration\u001b[0m\u001b[1;33m)\u001b[0m\u001b[1;33m,\u001b[0m\u001b[1;33m\u001b[0m\u001b[1;33m\u001b[0m\u001b[0m\n\u001b[1;32m-> 1282\u001b[1;33m                                                     dtrain.handle))\n\u001b[0m\u001b[0;32m   1283\u001b[0m         \u001b[1;32melse\u001b[0m\u001b[1;33m:\u001b[0m\u001b[1;33m\u001b[0m\u001b[1;33m\u001b[0m\u001b[0m\n\u001b[0;32m   1284\u001b[0m             \u001b[0mpred\u001b[0m \u001b[1;33m=\u001b[0m \u001b[0mself\u001b[0m\u001b[1;33m.\u001b[0m\u001b[0mpredict\u001b[0m\u001b[1;33m(\u001b[0m\u001b[0mdtrain\u001b[0m\u001b[1;33m,\u001b[0m \u001b[0moutput_margin\u001b[0m\u001b[1;33m=\u001b[0m\u001b[1;32mTrue\u001b[0m\u001b[1;33m,\u001b[0m \u001b[0mtraining\u001b[0m\u001b[1;33m=\u001b[0m\u001b[1;32mTrue\u001b[0m\u001b[1;33m)\u001b[0m\u001b[1;33m\u001b[0m\u001b[1;33m\u001b[0m\u001b[0m\n",
      "\u001b[1;32m~\\anaconda3\\lib\\site-packages\\xgboost\\core.py\u001b[0m in \u001b[0;36m_check_call\u001b[1;34m(ret)\u001b[0m\n\u001b[0;32m    187\u001b[0m     \"\"\"\n\u001b[0;32m    188\u001b[0m     \u001b[1;32mif\u001b[0m \u001b[0mret\u001b[0m \u001b[1;33m!=\u001b[0m \u001b[1;36m0\u001b[0m\u001b[1;33m:\u001b[0m\u001b[1;33m\u001b[0m\u001b[1;33m\u001b[0m\u001b[0m\n\u001b[1;32m--> 189\u001b[1;33m         \u001b[1;32mraise\u001b[0m \u001b[0mXGBoostError\u001b[0m\u001b[1;33m(\u001b[0m\u001b[0mpy_str\u001b[0m\u001b[1;33m(\u001b[0m\u001b[0m_LIB\u001b[0m\u001b[1;33m.\u001b[0m\u001b[0mXGBGetLastError\u001b[0m\u001b[1;33m(\u001b[0m\u001b[1;33m)\u001b[0m\u001b[1;33m)\u001b[0m\u001b[1;33m)\u001b[0m\u001b[1;33m\u001b[0m\u001b[1;33m\u001b[0m\u001b[0m\n\u001b[0m\u001b[0;32m    190\u001b[0m \u001b[1;33m\u001b[0m\u001b[0m\n\u001b[0;32m    191\u001b[0m \u001b[1;33m\u001b[0m\u001b[0m\n",
      "\u001b[1;31mXGBoostError\u001b[0m: [13:00:11] C:\\Users\\Administrator\\workspace\\xgboost-win64_release_1.3.0\\src\\metric\\metric.cc:49: Unknown metric function MAE"
     ]
    }
   ],
   "source": [
    "import xgboost as xgb\n",
    "\n",
    "xgb_model = xgb.XGBRegressor(n_estimators=100)\n",
    "xgb_model.fit(X_train, y_train,\n",
    "        eval_set=[(X_train, y_train), (X_test, y_test)],\n",
    "        eval_metric = 'MAE',\n",
    "        early_stopping_rounds=50,\n",
    "       verbose=False) \n",
    "\n",
    "pred = xgb_model.predict(X_test)"
   ]
  },
  {
   "cell_type": "code",
   "execution_count": null,
   "metadata": {
    "execution": {
     "iopub.execute_input": "2021-04-12T04:26:57.240256Z",
     "iopub.status.busy": "2021-04-12T04:26:57.239990Z",
     "iopub.status.idle": "2021-04-12T04:26:57.269333Z",
     "shell.execute_reply": "2021-04-12T04:26:57.268204Z",
     "shell.execute_reply.started": "2021-04-12T04:26:57.240227Z"
    }
   },
   "outputs": [],
   "source": [
    "ts_results = pd.DataFrame({'Predicted': pred, 'Observed': y_test['Temperature']})\n",
    "ts_results['MAE'] = np.sqrt((ts_results['Predicted']-ts_results['Observed'])**2)\n",
    "ts_results['MAE'].mean()"
   ]
  },
  {
   "cell_type": "code",
   "execution_count": null,
   "metadata": {
    "execution": {
     "iopub.execute_input": "2021-04-12T04:26:58.140753Z",
     "iopub.status.busy": "2021-04-12T04:26:58.140409Z",
     "iopub.status.idle": "2021-04-12T04:26:58.389564Z",
     "shell.execute_reply": "2021-04-12T04:26:58.388823Z",
     "shell.execute_reply.started": "2021-04-12T04:26:58.140706Z"
    }
   },
   "outputs": [],
   "source": [
    "#plot real against predicted values\n",
    "ax = weather_df['Temperature'].plot(label='observed')\n",
    "ts_results['Predicted'].plot(ax=ax, label='One-step ahead Forecast', alpha=.7, figsize=(10, 5))\n",
    "\n",
    "ax.set_xlabel('Date')\n",
    "ax.set_ylabel('Temperature')\n",
    "plt.legend()\n",
    "plt.show()"
   ]
  },
  {
   "cell_type": "code",
   "execution_count": null,
   "metadata": {
    "execution": {
     "iopub.status.busy": "2021-04-12T04:22:58.309999Z",
     "iopub.status.idle": "2021-04-12T04:22:58.310477Z",
     "shell.execute_reply": "2021-04-12T04:22:58.310235Z"
    }
   },
   "outputs": [],
   "source": [
    "plt.figure(figsize=(10,5))\n",
    "xgb.plot_importance(xgb_model, ax=plt.gca())"
   ]
  },
  {
   "cell_type": "code",
   "execution_count": null,
   "metadata": {
    "execution": {
     "iopub.status.busy": "2021-04-12T04:22:58.312032Z",
     "iopub.status.idle": "2021-04-12T04:22:58.312591Z",
     "shell.execute_reply": "2021-04-12T04:22:58.312378Z"
    }
   },
   "outputs": [],
   "source": [
    "explainer = shap.Explainer(xgb_model)\n",
    "shap_values = explainer.shap_values(X_train)\n",
    "shap.summary_plot(shap_values, X_train)"
   ]
  },
  {
   "cell_type": "markdown",
   "metadata": {},
   "source": [
    "## Drop some features and run again\n",
    "\n",
    "Seems like nothing much changed from the full set, which makes sense since XGB is pretty good at evaluating which predictors are important or not. However, the XGBoost with only the temperature variable still performs slightly better, possibly because the signal is clearer."
   ]
  },
  {
   "cell_type": "code",
   "execution_count": 42,
   "metadata": {
    "execution": {
     "iopub.status.busy": "2021-04-12T04:22:58.320989Z",
     "iopub.status.idle": "2021-04-12T04:22:58.321411Z",
     "shell.execute_reply": "2021-04-12T04:22:58.321206Z"
    }
   },
   "outputs": [
    {
     "data": {
      "text/html": [
       "<div>\n",
       "<style scoped>\n",
       "    .dataframe tbody tr th:only-of-type {\n",
       "        vertical-align: middle;\n",
       "    }\n",
       "\n",
       "    .dataframe tbody tr th {\n",
       "        vertical-align: top;\n",
       "    }\n",
       "\n",
       "    .dataframe thead th {\n",
       "        text-align: right;\n",
       "    }\n",
       "</style>\n",
       "<table border=\"1\" class=\"dataframe\">\n",
       "  <thead>\n",
       "    <tr style=\"text-align: right;\">\n",
       "      <th></th>\n",
       "      <th>Temperature</th>\n",
       "      <th>month</th>\n",
       "      <th>year</th>\n",
       "      <th>Temp_lag1</th>\n",
       "      <th>Temp_lag2</th>\n",
       "      <th>Temp_lag12</th>\n",
       "      <th>Temp_lag24</th>\n",
       "      <th>Humidity_lag1</th>\n",
       "      <th>Humidity_lag2</th>\n",
       "      <th>Humidity_lag12</th>\n",
       "      <th>Humidity_lag24</th>\n",
       "      <th>Wind_Direction_lag1</th>\n",
       "      <th>Pressure_lag1</th>\n",
       "      <th>Wind_Speed_lag1</th>\n",
       "      <th>intensity_lag1</th>\n",
       "      <th>avg_temp</th>\n",
       "    </tr>\n",
       "    <tr>\n",
       "      <th>datetime</th>\n",
       "      <th></th>\n",
       "      <th></th>\n",
       "      <th></th>\n",
       "      <th></th>\n",
       "      <th></th>\n",
       "      <th></th>\n",
       "      <th></th>\n",
       "      <th></th>\n",
       "      <th></th>\n",
       "      <th></th>\n",
       "      <th></th>\n",
       "      <th></th>\n",
       "      <th></th>\n",
       "      <th></th>\n",
       "      <th></th>\n",
       "      <th></th>\n",
       "    </tr>\n",
       "  </thead>\n",
       "  <tbody>\n",
       "    <tr>\n",
       "      <th>2012-10-25</th>\n",
       "      <td>5.640833</td>\n",
       "      <td>10</td>\n",
       "      <td>2012</td>\n",
       "      <td>7.940208</td>\n",
       "      <td>10.244167</td>\n",
       "      <td>6.362917</td>\n",
       "      <td>12.737980</td>\n",
       "      <td>76.875000</td>\n",
       "      <td>68.750000</td>\n",
       "      <td>67.163461</td>\n",
       "      <td>75.727273</td>\n",
       "      <td>1019.458333</td>\n",
       "      <td>188.125000</td>\n",
       "      <td>1.500000</td>\n",
       "      <td>1.208333</td>\n",
       "      <td>9</td>\n",
       "    </tr>\n",
       "    <tr>\n",
       "      <th>2012-10-26</th>\n",
       "      <td>7.557917</td>\n",
       "      <td>10</td>\n",
       "      <td>2012</td>\n",
       "      <td>5.640833</td>\n",
       "      <td>7.940208</td>\n",
       "      <td>3.591667</td>\n",
       "      <td>13.787931</td>\n",
       "      <td>61.893590</td>\n",
       "      <td>76.875000</td>\n",
       "      <td>69.396153</td>\n",
       "      <td>50.287179</td>\n",
       "      <td>1022.791667</td>\n",
       "      <td>37.500000</td>\n",
       "      <td>2.333333</td>\n",
       "      <td>1.208333</td>\n",
       "      <td>9</td>\n",
       "    </tr>\n",
       "    <tr>\n",
       "      <th>2012-10-27</th>\n",
       "      <td>11.835000</td>\n",
       "      <td>10</td>\n",
       "      <td>2012</td>\n",
       "      <td>7.557917</td>\n",
       "      <td>5.640833</td>\n",
       "      <td>5.983750</td>\n",
       "      <td>14.224583</td>\n",
       "      <td>64.472436</td>\n",
       "      <td>61.893590</td>\n",
       "      <td>73.532692</td>\n",
       "      <td>78.752564</td>\n",
       "      <td>1020.998945</td>\n",
       "      <td>69.750000</td>\n",
       "      <td>2.708333</td>\n",
       "      <td>1.416667</td>\n",
       "      <td>9</td>\n",
       "    </tr>\n",
       "    <tr>\n",
       "      <th>2012-10-28</th>\n",
       "      <td>12.535000</td>\n",
       "      <td>10</td>\n",
       "      <td>2012</td>\n",
       "      <td>11.835000</td>\n",
       "      <td>7.557917</td>\n",
       "      <td>11.929583</td>\n",
       "      <td>13.710833</td>\n",
       "      <td>72.378846</td>\n",
       "      <td>64.472436</td>\n",
       "      <td>79.169230</td>\n",
       "      <td>83.305769</td>\n",
       "      <td>1016.639540</td>\n",
       "      <td>122.416667</td>\n",
       "      <td>0.625000</td>\n",
       "      <td>0.083333</td>\n",
       "      <td>9</td>\n",
       "    </tr>\n",
       "    <tr>\n",
       "      <th>2012-10-29</th>\n",
       "      <td>11.157500</td>\n",
       "      <td>10</td>\n",
       "      <td>2012</td>\n",
       "      <td>12.535000</td>\n",
       "      <td>11.835000</td>\n",
       "      <td>8.533333</td>\n",
       "      <td>14.385208</td>\n",
       "      <td>75.848717</td>\n",
       "      <td>72.378846</td>\n",
       "      <td>71.348717</td>\n",
       "      <td>79.258333</td>\n",
       "      <td>1016.753088</td>\n",
       "      <td>118.291667</td>\n",
       "      <td>1.041667</td>\n",
       "      <td>0.750000</td>\n",
       "      <td>9</td>\n",
       "    </tr>\n",
       "  </tbody>\n",
       "</table>\n",
       "</div>"
      ],
      "text/plain": [
       "            Temperature  month  year  Temp_lag1  Temp_lag2  Temp_lag12  \\\n",
       "datetime                                                                 \n",
       "2012-10-25     5.640833     10  2012   7.940208  10.244167    6.362917   \n",
       "2012-10-26     7.557917     10  2012   5.640833   7.940208    3.591667   \n",
       "2012-10-27    11.835000     10  2012   7.557917   5.640833    5.983750   \n",
       "2012-10-28    12.535000     10  2012  11.835000   7.557917   11.929583   \n",
       "2012-10-29    11.157500     10  2012  12.535000  11.835000    8.533333   \n",
       "\n",
       "            Temp_lag24  Humidity_lag1  Humidity_lag2  Humidity_lag12  \\\n",
       "datetime                                                               \n",
       "2012-10-25   12.737980      76.875000      68.750000       67.163461   \n",
       "2012-10-26   13.787931      61.893590      76.875000       69.396153   \n",
       "2012-10-27   14.224583      64.472436      61.893590       73.532692   \n",
       "2012-10-28   13.710833      72.378846      64.472436       79.169230   \n",
       "2012-10-29   14.385208      75.848717      72.378846       71.348717   \n",
       "\n",
       "            Humidity_lag24  Wind_Direction_lag1  Pressure_lag1  \\\n",
       "datetime                                                         \n",
       "2012-10-25       75.727273          1019.458333     188.125000   \n",
       "2012-10-26       50.287179          1022.791667      37.500000   \n",
       "2012-10-27       78.752564          1020.998945      69.750000   \n",
       "2012-10-28       83.305769          1016.639540     122.416667   \n",
       "2012-10-29       79.258333          1016.753088     118.291667   \n",
       "\n",
       "            Wind_Speed_lag1  intensity_lag1  avg_temp  \n",
       "datetime                                               \n",
       "2012-10-25         1.500000        1.208333         9  \n",
       "2012-10-26         2.333333        1.208333         9  \n",
       "2012-10-27         2.708333        1.416667         9  \n",
       "2012-10-28         0.625000        0.083333         9  \n",
       "2012-10-29         1.041667        0.750000         9  "
      ]
     },
     "execution_count": 42,
     "metadata": {},
     "output_type": "execute_result"
    }
   ],
   "source": [
    "ml_df2 = ml_df.copy()\n",
    "ml_df2.drop(['other_lag1','fog_lag1','shower_lag1','snow_lag1','thunderstorm_lag1','mist_lag1','rain_lag1','clouds_lag1'], axis = 1, inplace = True)\n",
    "ml_df2.head()"
   ]
  },
  {
   "cell_type": "code",
   "execution_count": 43,
   "metadata": {
    "execution": {
     "iopub.status.busy": "2021-04-12T04:22:58.322631Z",
     "iopub.status.idle": "2021-04-12T04:22:58.323623Z",
     "shell.execute_reply": "2021-04-12T04:22:58.323358Z"
    }
   },
   "outputs": [],
   "source": [
    "y = ml_df2[['Temperature']] #small typo fix here SL for the right df\n",
    "X = ml_df2.drop('Temperature', axis =1) #small typo fix here SL for the right df\n",
    "\n",
    "def train_test_split(data, n_test):\n",
    "    return data[:n_test], data[n_test:]\n",
    "\n",
    "split_len = int(len(ml_df2)*0.75) #small typo fix here SL for the right df\n",
    "\n",
    "X_train, X_test = train_test_split(X, split_len)\n",
    "y_train, y_test = train_test_split(y, split_len)\n",
    "\n",
    "from sklearn.preprocessing import StandardScaler\n",
    "\n",
    "scaler = StandardScaler()\n",
    "X_train_scaled = scaler.fit_transform(X_train)\n",
    "X_train = pd.DataFrame(X_train_scaled)\n",
    "X_train.columns = X.columns\n",
    "\n",
    "X_test_scaled = scaler.transform(X_test)\n",
    "X_test = pd.DataFrame(X_test_scaled)\n",
    "X_test.columns = X.columns"
   ]
  },
  {
   "cell_type": "code",
   "execution_count": 44,
   "metadata": {
    "execution": {
     "iopub.status.busy": "2021-04-12T04:22:58.325903Z",
     "iopub.status.idle": "2021-04-12T04:22:58.326505Z",
     "shell.execute_reply": "2021-04-12T04:22:58.326162Z"
    }
   },
   "outputs": [
    {
     "ename": "XGBoostError",
     "evalue": "[14:09:24] C:\\Users\\Administrator\\workspace\\xgboost-win64_release_1.3.0\\src\\metric\\metric.cc:49: Unknown metric function MAE",
     "output_type": "error",
     "traceback": [
      "\u001b[1;31m---------------------------------------------------------------------------\u001b[0m",
      "\u001b[1;31mXGBoostError\u001b[0m                              Traceback (most recent call last)",
      "\u001b[1;32m<ipython-input-44-f7ce632438bd>\u001b[0m in \u001b[0;36m<module>\u001b[1;34m\u001b[0m\n\u001b[0;32m      6\u001b[0m         \u001b[0meval_metric\u001b[0m \u001b[1;33m=\u001b[0m \u001b[1;34m'MAE'\u001b[0m\u001b[1;33m,\u001b[0m\u001b[1;33m\u001b[0m\u001b[1;33m\u001b[0m\u001b[0m\n\u001b[0;32m      7\u001b[0m         \u001b[0mearly_stopping_rounds\u001b[0m\u001b[1;33m=\u001b[0m\u001b[1;36m50\u001b[0m\u001b[1;33m,\u001b[0m\u001b[1;33m\u001b[0m\u001b[1;33m\u001b[0m\u001b[0m\n\u001b[1;32m----> 8\u001b[1;33m        verbose=False) \n\u001b[0m\u001b[0;32m      9\u001b[0m \u001b[1;33m\u001b[0m\u001b[0m\n\u001b[0;32m     10\u001b[0m \u001b[0mpred\u001b[0m \u001b[1;33m=\u001b[0m \u001b[0mxgb_model\u001b[0m\u001b[1;33m.\u001b[0m\u001b[0mpredict\u001b[0m\u001b[1;33m(\u001b[0m\u001b[0mX_test\u001b[0m\u001b[1;33m)\u001b[0m\u001b[1;33m\u001b[0m\u001b[1;33m\u001b[0m\u001b[0m\n",
      "\u001b[1;32m~\\anaconda3\\lib\\site-packages\\xgboost\\core.py\u001b[0m in \u001b[0;36minner_f\u001b[1;34m(*args, **kwargs)\u001b[0m\n\u001b[0;32m    420\u001b[0m         \u001b[1;32mfor\u001b[0m \u001b[0mk\u001b[0m\u001b[1;33m,\u001b[0m \u001b[0marg\u001b[0m \u001b[1;32min\u001b[0m \u001b[0mzip\u001b[0m\u001b[1;33m(\u001b[0m\u001b[0msig\u001b[0m\u001b[1;33m.\u001b[0m\u001b[0mparameters\u001b[0m\u001b[1;33m,\u001b[0m \u001b[0margs\u001b[0m\u001b[1;33m)\u001b[0m\u001b[1;33m:\u001b[0m\u001b[1;33m\u001b[0m\u001b[1;33m\u001b[0m\u001b[0m\n\u001b[0;32m    421\u001b[0m             \u001b[0mkwargs\u001b[0m\u001b[1;33m[\u001b[0m\u001b[0mk\u001b[0m\u001b[1;33m]\u001b[0m \u001b[1;33m=\u001b[0m \u001b[0marg\u001b[0m\u001b[1;33m\u001b[0m\u001b[1;33m\u001b[0m\u001b[0m\n\u001b[1;32m--> 422\u001b[1;33m         \u001b[1;32mreturn\u001b[0m \u001b[0mf\u001b[0m\u001b[1;33m(\u001b[0m\u001b[1;33m**\u001b[0m\u001b[0mkwargs\u001b[0m\u001b[1;33m)\u001b[0m\u001b[1;33m\u001b[0m\u001b[1;33m\u001b[0m\u001b[0m\n\u001b[0m\u001b[0;32m    423\u001b[0m \u001b[1;33m\u001b[0m\u001b[0m\n\u001b[0;32m    424\u001b[0m     \u001b[1;32mreturn\u001b[0m \u001b[0minner_f\u001b[0m\u001b[1;33m\u001b[0m\u001b[1;33m\u001b[0m\u001b[0m\n",
      "\u001b[1;32m~\\anaconda3\\lib\\site-packages\\xgboost\\sklearn.py\u001b[0m in \u001b[0;36mfit\u001b[1;34m(self, X, y, sample_weight, base_margin, eval_set, eval_metric, early_stopping_rounds, verbose, xgb_model, sample_weight_eval_set, feature_weights, callbacks)\u001b[0m\n\u001b[0;32m    601\u001b[0m                               \u001b[0mobj\u001b[0m\u001b[1;33m=\u001b[0m\u001b[0mobj\u001b[0m\u001b[1;33m,\u001b[0m \u001b[0mfeval\u001b[0m\u001b[1;33m=\u001b[0m\u001b[0mfeval\u001b[0m\u001b[1;33m,\u001b[0m\u001b[1;33m\u001b[0m\u001b[1;33m\u001b[0m\u001b[0m\n\u001b[0;32m    602\u001b[0m                               \u001b[0mverbose_eval\u001b[0m\u001b[1;33m=\u001b[0m\u001b[0mverbose\u001b[0m\u001b[1;33m,\u001b[0m \u001b[0mxgb_model\u001b[0m\u001b[1;33m=\u001b[0m\u001b[0mxgb_model\u001b[0m\u001b[1;33m,\u001b[0m\u001b[1;33m\u001b[0m\u001b[1;33m\u001b[0m\u001b[0m\n\u001b[1;32m--> 603\u001b[1;33m                               callbacks=callbacks)\n\u001b[0m\u001b[0;32m    604\u001b[0m \u001b[1;33m\u001b[0m\u001b[0m\n\u001b[0;32m    605\u001b[0m         \u001b[0mself\u001b[0m\u001b[1;33m.\u001b[0m\u001b[0m_set_evaluation_result\u001b[0m\u001b[1;33m(\u001b[0m\u001b[0mevals_result\u001b[0m\u001b[1;33m)\u001b[0m\u001b[1;33m\u001b[0m\u001b[1;33m\u001b[0m\u001b[0m\n",
      "\u001b[1;32m~\\anaconda3\\lib\\site-packages\\xgboost\\training.py\u001b[0m in \u001b[0;36mtrain\u001b[1;34m(params, dtrain, num_boost_round, evals, obj, feval, maximize, early_stopping_rounds, evals_result, verbose_eval, xgb_model, callbacks)\u001b[0m\n\u001b[0;32m    233\u001b[0m                           \u001b[0mevals_result\u001b[0m\u001b[1;33m=\u001b[0m\u001b[0mevals_result\u001b[0m\u001b[1;33m,\u001b[0m\u001b[1;33m\u001b[0m\u001b[1;33m\u001b[0m\u001b[0m\n\u001b[0;32m    234\u001b[0m                           \u001b[0mmaximize\u001b[0m\u001b[1;33m=\u001b[0m\u001b[0mmaximize\u001b[0m\u001b[1;33m,\u001b[0m\u001b[1;33m\u001b[0m\u001b[1;33m\u001b[0m\u001b[0m\n\u001b[1;32m--> 235\u001b[1;33m                           early_stopping_rounds=early_stopping_rounds)\n\u001b[0m\u001b[0;32m    236\u001b[0m     \u001b[1;32mreturn\u001b[0m \u001b[0mbst\u001b[0m\u001b[1;33m\u001b[0m\u001b[1;33m\u001b[0m\u001b[0m\n\u001b[0;32m    237\u001b[0m \u001b[1;33m\u001b[0m\u001b[0m\n",
      "\u001b[1;32m~\\anaconda3\\lib\\site-packages\\xgboost\\training.py\u001b[0m in \u001b[0;36m_train_internal\u001b[1;34m(params, dtrain, num_boost_round, evals, obj, feval, xgb_model, callbacks, evals_result, maximize, verbose_eval, early_stopping_rounds)\u001b[0m\n\u001b[0;32m    100\u001b[0m         \u001b[1;31m# Skip the first update if it is a recovery step.\u001b[0m\u001b[1;33m\u001b[0m\u001b[1;33m\u001b[0m\u001b[1;33m\u001b[0m\u001b[0m\n\u001b[0;32m    101\u001b[0m         \u001b[1;32mif\u001b[0m \u001b[0mversion\u001b[0m \u001b[1;33m%\u001b[0m \u001b[1;36m2\u001b[0m \u001b[1;33m==\u001b[0m \u001b[1;36m0\u001b[0m\u001b[1;33m:\u001b[0m\u001b[1;33m\u001b[0m\u001b[1;33m\u001b[0m\u001b[0m\n\u001b[1;32m--> 102\u001b[1;33m             \u001b[0mbst\u001b[0m\u001b[1;33m.\u001b[0m\u001b[0mupdate\u001b[0m\u001b[1;33m(\u001b[0m\u001b[0mdtrain\u001b[0m\u001b[1;33m,\u001b[0m \u001b[0mi\u001b[0m\u001b[1;33m,\u001b[0m \u001b[0mobj\u001b[0m\u001b[1;33m)\u001b[0m\u001b[1;33m\u001b[0m\u001b[1;33m\u001b[0m\u001b[0m\n\u001b[0m\u001b[0;32m    103\u001b[0m             \u001b[0mbst\u001b[0m\u001b[1;33m.\u001b[0m\u001b[0msave_rabit_checkpoint\u001b[0m\u001b[1;33m(\u001b[0m\u001b[1;33m)\u001b[0m\u001b[1;33m\u001b[0m\u001b[1;33m\u001b[0m\u001b[0m\n\u001b[0;32m    104\u001b[0m             \u001b[0mversion\u001b[0m \u001b[1;33m+=\u001b[0m \u001b[1;36m1\u001b[0m\u001b[1;33m\u001b[0m\u001b[1;33m\u001b[0m\u001b[0m\n",
      "\u001b[1;32m~\\anaconda3\\lib\\site-packages\\xgboost\\core.py\u001b[0m in \u001b[0;36mupdate\u001b[1;34m(self, dtrain, iteration, fobj)\u001b[0m\n\u001b[0;32m   1280\u001b[0m             _check_call(_LIB.XGBoosterUpdateOneIter(self.handle,\n\u001b[0;32m   1281\u001b[0m                                                     \u001b[0mctypes\u001b[0m\u001b[1;33m.\u001b[0m\u001b[0mc_int\u001b[0m\u001b[1;33m(\u001b[0m\u001b[0miteration\u001b[0m\u001b[1;33m)\u001b[0m\u001b[1;33m,\u001b[0m\u001b[1;33m\u001b[0m\u001b[1;33m\u001b[0m\u001b[0m\n\u001b[1;32m-> 1282\u001b[1;33m                                                     dtrain.handle))\n\u001b[0m\u001b[0;32m   1283\u001b[0m         \u001b[1;32melse\u001b[0m\u001b[1;33m:\u001b[0m\u001b[1;33m\u001b[0m\u001b[1;33m\u001b[0m\u001b[0m\n\u001b[0;32m   1284\u001b[0m             \u001b[0mpred\u001b[0m \u001b[1;33m=\u001b[0m \u001b[0mself\u001b[0m\u001b[1;33m.\u001b[0m\u001b[0mpredict\u001b[0m\u001b[1;33m(\u001b[0m\u001b[0mdtrain\u001b[0m\u001b[1;33m,\u001b[0m \u001b[0moutput_margin\u001b[0m\u001b[1;33m=\u001b[0m\u001b[1;32mTrue\u001b[0m\u001b[1;33m,\u001b[0m \u001b[0mtraining\u001b[0m\u001b[1;33m=\u001b[0m\u001b[1;32mTrue\u001b[0m\u001b[1;33m)\u001b[0m\u001b[1;33m\u001b[0m\u001b[1;33m\u001b[0m\u001b[0m\n",
      "\u001b[1;32m~\\anaconda3\\lib\\site-packages\\xgboost\\core.py\u001b[0m in \u001b[0;36m_check_call\u001b[1;34m(ret)\u001b[0m\n\u001b[0;32m    187\u001b[0m     \"\"\"\n\u001b[0;32m    188\u001b[0m     \u001b[1;32mif\u001b[0m \u001b[0mret\u001b[0m \u001b[1;33m!=\u001b[0m \u001b[1;36m0\u001b[0m\u001b[1;33m:\u001b[0m\u001b[1;33m\u001b[0m\u001b[1;33m\u001b[0m\u001b[0m\n\u001b[1;32m--> 189\u001b[1;33m         \u001b[1;32mraise\u001b[0m \u001b[0mXGBoostError\u001b[0m\u001b[1;33m(\u001b[0m\u001b[0mpy_str\u001b[0m\u001b[1;33m(\u001b[0m\u001b[0m_LIB\u001b[0m\u001b[1;33m.\u001b[0m\u001b[0mXGBGetLastError\u001b[0m\u001b[1;33m(\u001b[0m\u001b[1;33m)\u001b[0m\u001b[1;33m)\u001b[0m\u001b[1;33m)\u001b[0m\u001b[1;33m\u001b[0m\u001b[1;33m\u001b[0m\u001b[0m\n\u001b[0m\u001b[0;32m    190\u001b[0m \u001b[1;33m\u001b[0m\u001b[0m\n\u001b[0;32m    191\u001b[0m \u001b[1;33m\u001b[0m\u001b[0m\n",
      "\u001b[1;31mXGBoostError\u001b[0m: [14:09:24] C:\\Users\\Administrator\\workspace\\xgboost-win64_release_1.3.0\\src\\metric\\metric.cc:49: Unknown metric function MAE"
     ]
    }
   ],
   "source": [
    "import xgboost as xgb\n",
    "\n",
    "xgb_model = xgb.XGBRegressor(n_estimators=1000)\n",
    "xgb_model.fit(X_train, y_train,\n",
    "        eval_set=[(X_train, y_train), (X_test, y_test)],\n",
    "        eval_metric = 'MAE',\n",
    "        early_stopping_rounds=50,\n",
    "       verbose=False) \n",
    "\n",
    "pred = xgb_model.predict(X_test)"
   ]
  },
  {
   "cell_type": "code",
   "execution_count": null,
   "metadata": {
    "execution": {
     "iopub.status.busy": "2021-04-12T04:22:58.329567Z",
     "iopub.status.idle": "2021-04-12T04:22:58.330122Z",
     "shell.execute_reply": "2021-04-12T04:22:58.329886Z"
    }
   },
   "outputs": [],
   "source": [
    "ts_results = pd.DataFrame({'Predicted': pred, 'Observed': y_test['Temperature']})\n",
    "ts_results['MAE'] = np.sqrt((ts_results['Predicted']-ts_results['Observed'])**2)\n",
    "ts_results['MAE'].mean()"
   ]
  },
  {
   "cell_type": "code",
   "execution_count": null,
   "metadata": {
    "execution": {
     "iopub.status.busy": "2021-04-12T04:22:58.332634Z",
     "iopub.status.idle": "2021-04-12T04:22:58.333381Z",
     "shell.execute_reply": "2021-04-12T04:22:58.333092Z"
    }
   },
   "outputs": [],
   "source": [
    "explainer = shap.Explainer(xgb_model)\n",
    "shap_values = explainer.shap_values(X_train)\n",
    "shap.summary_plot(shap_values, X_train)"
   ]
  },
  {
   "cell_type": "markdown",
   "metadata": {},
   "source": [
    "## Hyperparameter Tuning \n",
    "\n",
    "We perform Bayesian optimization for finding the best hyperparameters using HYPEROPT, which searches through the hyperparameter space of values and finds the best possible values that minimizes the loss function."
   ]
  },
  {
   "cell_type": "code",
   "execution_count": null,
   "metadata": {
    "execution": {
     "iopub.status.busy": "2021-04-12T04:22:58.335627Z",
     "iopub.status.idle": "2021-04-12T04:22:58.336250Z",
     "shell.execute_reply": "2021-04-12T04:22:58.336023Z"
    }
   },
   "outputs": [],
   "source": [
    "from xgboost.sklearn import XGBClassifier\n",
    "from sklearn.model_selection import cross_validate, GridSearchCV\n",
    "from sklearn import metrics"
   ]
  },
  {
   "cell_type": "code",
   "execution_count": null,
   "metadata": {
    "execution": {
     "iopub.status.busy": "2021-04-12T04:22:58.337664Z",
     "iopub.status.idle": "2021-04-12T04:22:58.338321Z",
     "shell.execute_reply": "2021-04-12T04:22:58.338073Z"
    }
   },
   "outputs": [],
   "source": [
    "# import packages for hyperparameters tuning\n",
    "from hyperopt import STATUS_OK, Trials, fmin, hp, tpe\n",
    "\n",
    "space={'max_depth': hp.quniform(\"max_depth\", 3, 18, 1),\n",
    "        'gamma': hp.uniform ('gamma', 1,9),\n",
    "        'reg_alpha' : hp.quniform('reg_alpha', 40,180,1),\n",
    "        'reg_lambda' : hp.uniform('reg_lambda', 0,1),\n",
    "        'colsample_bytree' : hp.uniform('colsample_bytree', 0.5,1),\n",
    "        'min_child_weight' : hp.quniform('min_child_weight', 0, 10, 1),\n",
    "        'n_estimators': 180,\n",
    "        'seed': 0\n",
    "    }"
   ]
  },
  {
   "cell_type": "code",
   "execution_count": null,
   "metadata": {
    "execution": {
     "iopub.status.busy": "2021-04-12T04:22:58.342248Z",
     "iopub.status.idle": "2021-04-12T04:22:58.342929Z",
     "shell.execute_reply": "2021-04-12T04:22:58.342508Z"
    }
   },
   "outputs": [],
   "source": [
    "def tune_model(space): \n",
    "    xgb_model = xgb.XGBRegressor(n_estimators =space['n_estimators'], \n",
    "                                 max_depth = int(space['max_depth']), \n",
    "                                 gamma = space['gamma'],\n",
    "                                 reg_alpha = int(space['reg_alpha']),\n",
    "                                 min_child_weight=int(space['min_child_weight']),\n",
    "                                colsample_bytree=int(space['colsample_bytree']))\n",
    "        \n",
    "    xgb_model.fit(X_train, y_train,\n",
    "            eval_set=[(X_train, y_train), (X_test, y_test)],\n",
    "            eval_metric = 'MAE',\n",
    "            early_stopping_rounds=50,\n",
    "            verbose=False) \n",
    "\n",
    "    pred = xgb_model.predict(X_test)\n",
    "    #pred = pred.reshape(len(pred),1)\n",
    "    MSE = metrics.mean_squared_error(y_test, pred)\n",
    "    print('MAE', MAE)\n",
    "    return {'loss': MAE, 'status': STATUS_OK}"
   ]
  },
  {
   "cell_type": "code",
   "execution_count": null,
   "metadata": {
    "execution": {
     "iopub.status.busy": "2021-04-12T04:22:58.344689Z",
     "iopub.status.idle": "2021-04-12T04:22:58.346771Z",
     "shell.execute_reply": "2021-04-12T04:22:58.346580Z"
    }
   },
   "outputs": [],
   "source": [
    "trials = Trials()\n",
    "\n",
    "best_hyperparams = fmin(fn = tune_model,\n",
    "                        space = space,\n",
    "                        algo = tpe.suggest,\n",
    "                        max_evals = 100,\n",
    "                        trials = trials)"
   ]
  },
  {
   "cell_type": "code",
   "execution_count": null,
   "metadata": {
    "execution": {
     "iopub.status.busy": "2021-04-12T04:22:58.348240Z",
     "iopub.status.idle": "2021-04-12T04:22:58.348961Z",
     "shell.execute_reply": "2021-04-12T04:22:58.348523Z"
    }
   },
   "outputs": [],
   "source": [
    "print(\"The best hyperparameters are : \",\"\\n\")\n",
    "print(best_hyperparams)"
   ]
  },
  {
   "cell_type": "code",
   "execution_count": null,
   "metadata": {
    "execution": {
     "iopub.status.busy": "2021-04-12T04:22:58.353051Z",
     "iopub.status.idle": "2021-04-12T04:22:58.353533Z",
     "shell.execute_reply": "2021-04-12T04:22:58.353270Z"
    }
   },
   "outputs": [],
   "source": [
    "xgb_model = xgb.XGBRegressor(n_estimators=1000,\n",
    "                             colsample_bytree = 0.6013,\n",
    "                             gamma = 2.8156,\n",
    "                             max_depth = 18,\n",
    "                             min_child_weight = 3.0,\n",
    "                             reg_alpha = 107.0,\n",
    "                             reg_lambda = 0.514)\n",
    "\n",
    "xgb_model.fit(X_train, y_train,\n",
    "        eval_set=[(X_train, y_train), (X_test, y_test)],\n",
    "        eval_metric = 'MAE',\n",
    "        early_stopping_rounds=50,\n",
    "       verbose=False) \n",
    "\n",
    "pred = xgb_model.predict(X_test)"
   ]
  },
  {
   "cell_type": "code",
   "execution_count": null,
   "metadata": {
    "execution": {
     "iopub.status.busy": "2021-04-12T04:22:58.355811Z",
     "iopub.status.idle": "2021-04-12T04:22:58.356342Z",
     "shell.execute_reply": "2021-04-12T04:22:58.356113Z"
    }
   },
   "outputs": [],
   "source": [
    "ts_results = pd.DataFrame({'Predicted': pred, 'Observed': y_test['Temperature']})\n",
    "ts_results['MAE'] = np.sqrt((ts_results['Predicted']-ts_results['Observed'])**2)\n",
    "ts_results['MAE'].mean()"
   ]
  },
  {
   "cell_type": "markdown",
   "metadata": {},
   "source": [
    "## Hyperparameter Tuning on Base Model"
   ]
  },
  {
   "cell_type": "code",
   "execution_count": null,
   "metadata": {
    "execution": {
     "iopub.status.busy": "2021-04-12T04:22:58.358162Z",
     "iopub.status.idle": "2021-04-12T04:22:58.358641Z",
     "shell.execute_reply": "2021-04-12T04:22:58.358397Z"
    }
   },
   "outputs": [],
   "source": [
    "X_train = X_train[['month','year','Temp_lag1','Temp_lag2','Temp_lag12','Temp_lag24']]\n",
    "X_test = X_test[['month','year','Temp_lag1','Temp_lag2','Temp_lag12','Temp_lag24']]"
   ]
  },
  {
   "cell_type": "code",
   "execution_count": null,
   "metadata": {
    "execution": {
     "iopub.status.busy": "2021-04-12T04:22:58.360488Z",
     "iopub.status.idle": "2021-04-12T04:22:58.362102Z",
     "shell.execute_reply": "2021-04-12T04:22:58.361733Z"
    }
   },
   "outputs": [],
   "source": [
    "trials = Trials()\n",
    "\n",
    "best_hyperparams = fmin(fn = tune_model,\n",
    "                        space = space,\n",
    "                        algo = tpe.suggest,\n",
    "                        max_evals = 100,\n",
    "                        trials = trials)"
   ]
  },
  {
   "cell_type": "code",
   "execution_count": null,
   "metadata": {
    "execution": {
     "iopub.status.busy": "2021-04-12T04:22:58.364495Z",
     "iopub.status.idle": "2021-04-12T04:22:58.364942Z",
     "shell.execute_reply": "2021-04-12T04:22:58.364759Z"
    }
   },
   "outputs": [],
   "source": [
    "print(\"The best hyperparameters are : \",\"\\n\")\n",
    "print(best_hyperparams)"
   ]
  },
  {
   "cell_type": "code",
   "execution_count": null,
   "metadata": {
    "execution": {
     "iopub.status.busy": "2021-04-12T04:22:58.366866Z",
     "iopub.status.idle": "2021-04-12T04:22:58.367576Z",
     "shell.execute_reply": "2021-04-12T04:22:58.367331Z"
    }
   },
   "outputs": [],
   "source": [
    "xgb_model = xgb.XGBRegressor(n_estimators=1000,\n",
    "                             colsample_bytree = 0.848,\n",
    "                             gamma = 2.506,\n",
    "                             max_depth = 8,\n",
    "                             min_child_weight = 6.0,\n",
    "                             reg_alpha = 93.0,\n",
    "                             reg_lambda = 0.334)\n",
    "\n",
    "xgb_model.fit(X_train, y_train,\n",
    "        eval_set=[(X_train, y_train), (X_test, y_test)],\n",
    "        eval_metric = 'MAE',\n",
    "        early_stopping_rounds=50,\n",
    "       verbose=False) \n",
    "\n",
    "pred = xgb_model.predict(X_test)"
   ]
  },
  {
   "cell_type": "code",
   "execution_count": null,
   "metadata": {
    "execution": {
     "iopub.status.busy": "2021-04-12T04:22:58.369232Z",
     "iopub.status.idle": "2021-04-12T04:22:58.370011Z",
     "shell.execute_reply": "2021-04-12T04:22:58.369605Z"
    }
   },
   "outputs": [],
   "source": [
    "ts_results = pd.DataFrame({'Predicted': pred, 'Observed': y_test['Temperature']})\n",
    "ts_results['MAE'] = abs(ts_results['Predicted']-ts_results['Observed'])\n",
    "ts_results['MAE'].mean()"
   ]
  },
  {
   "cell_type": "markdown",
   "metadata": {},
   "source": [
    "We see above that hyperparameter tuning has minimal effect on the model. There are two possible explanations: the first being that the model's existing performance is already quite high MAE = ~2.4-2.7; the second being that the features used to predict the temperature are much more important than the hyperparameters themselves.\n",
    "\n",
    "For instance, we see that with hyperparameter tuning, the base model only improves from 2.77 to 2.7 MAE while the model with the whole set of features + recursive feature selection hardly changes from 2.47 to 2.46 MAE -- the difference is negligible."
   ]
  },
  {
   "cell_type": "code",
   "execution_count": null,
   "metadata": {},
   "outputs": [],
   "source": []
  }
 ],
 "metadata": {
  "kernelspec": {
   "display_name": "Python 3",
   "language": "python",
   "name": "python3"
  },
  "language_info": {
   "codemirror_mode": {
    "name": "ipython",
    "version": 3
   },
   "file_extension": ".py",
   "mimetype": "text/x-python",
   "name": "python",
   "nbconvert_exporter": "python",
   "pygments_lexer": "ipython3",
   "version": "3.7.6"
  },
  "toc": {
   "base_numbering": 1,
   "nav_menu": {},
   "number_sections": true,
   "sideBar": true,
   "skip_h1_title": false,
   "title_cell": "Table of Contents",
   "title_sidebar": "Contents",
   "toc_cell": false,
   "toc_position": {},
   "toc_section_display": true,
   "toc_window_display": true
  }
 },
 "nbformat": 4,
 "nbformat_minor": 4
}
